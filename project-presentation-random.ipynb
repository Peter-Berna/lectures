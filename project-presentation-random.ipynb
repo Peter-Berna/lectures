{
 "cells": [
  {
   "cell_type": "code",
   "execution_count": null,
   "id": "e1a6f9e6",
   "metadata": {},
   "outputs": [],
   "source": [
    "import random\n",
    "import time"
   ]
  },
  {
   "cell_type": "code",
   "execution_count": null,
   "id": "fad19bdb",
   "metadata": {},
   "outputs": [],
   "source": [
    "students = [\"Ameri\", \"Hassan\", \"Peter\", \"Sam\", \"Nico\", \"Viktor\", \"Juliana\", \"Gaspar\", \"Dani\", \"Venice\", \"Edgard\", \"Seid\"]"
   ]
  },
  {
   "cell_type": "code",
   "execution_count": null,
   "id": "fa9577dd",
   "metadata": {},
   "outputs": [],
   "source": [
    "def choose_students (people):\n",
    "    for i in range(3):\n",
    "        time.sleep(2)\n",
    "        a = random.choice(people)\n",
    "        print(f\"Today {a} will be presenting their project 🕺\")\n",
    "        people.remove(a)\n",
    "\n",
    "choose_students (students)"
   ]
  }
 ],
 "metadata": {
  "kernelspec": {
   "display_name": "Python 3 (ipykernel)",
   "language": "python",
   "name": "python3"
  },
  "language_info": {
   "codemirror_mode": {
    "name": "ipython",
    "version": 3
   },
   "file_extension": ".py",
   "mimetype": "text/x-python",
   "name": "python",
   "nbconvert_exporter": "python",
   "pygments_lexer": "ipython3",
   "version": "3.9.12"
  },
  "nbTranslate": {
   "displayLangs": [
    "en",
    "es"
   ],
   "hotkey": "alt-a",
   "langInMainMenu": true,
   "sourceLang": "es",
   "targetLang": "en",
   "useGoogleTranslate": true
  },
  "toc": {
   "base_numbering": 1,
   "nav_menu": {},
   "number_sections": true,
   "sideBar": true,
   "skip_h1_title": false,
   "title_cell": "Table of Contents",
   "title_sidebar": "Contents",
   "toc_cell": false,
   "toc_position": {},
   "toc_section_display": true,
   "toc_window_display": false
  }
 },
 "nbformat": 4,
 "nbformat_minor": 5
}
