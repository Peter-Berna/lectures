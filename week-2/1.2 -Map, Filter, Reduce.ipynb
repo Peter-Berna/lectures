{
 "cells": [
  {
   "cell_type": "markdown",
   "id": "bottom-commerce",
   "metadata": {},
   "source": [
    "# Map, Filter, Reduce"
   ]
  },
  {
   "cell_type": "markdown",
   "id": "rising-buyer",
   "metadata": {
    "toc": true
   },
   "source": [
    "<h1>Table of Contents<span class=\"tocSkip\"></span></h1>\n",
    "<div class=\"toc\"><ul class=\"toc-item\"><li><ul class=\"toc-item\"><li><span><a href=\"#Each-student-is-randomly-assigned-a-topic\" data-toc-modified-id=\"Each-student-is-randomly-assigned-a-topic-0.1\"><span class=\"toc-item-num\">0.1&nbsp;&nbsp;</span>Each student is randomly assigned a topic</a></span></li></ul></li><li><span><a href=\"#Let's-start\" data-toc-modified-id=\"Let's-start-1\"><span class=\"toc-item-num\">1&nbsp;&nbsp;</span>Let's start</a></span><ul class=\"toc-item\"><li><span><a href=\"#Create-groups-with-other-people-who-have-studied-the-same-function\" data-toc-modified-id=\"Create-groups-with-other-people-who-have-studied-the-same-function-1.1\"><span class=\"toc-item-num\">1.1&nbsp;&nbsp;</span>Create groups with other people who have studied the same function</a></span></li></ul></li><li><span><a href=\"#Map,-Filter,-Reduce\" data-toc-modified-id=\"Map,-Filter,-Reduce-2\"><span class=\"toc-item-num\">2&nbsp;&nbsp;</span>Map, Filter, Reduce</a></span><ul class=\"toc-item\"><li><span><a href=\"#Map\" data-toc-modified-id=\"Map-2.1\"><span class=\"toc-item-num\">2.1&nbsp;&nbsp;</span>Map</a></span><ul class=\"toc-item\"><li><span><a href=\"#First-we-do-it-with-functions\" data-toc-modified-id=\"First-we-do-it-with-functions-2.1.1\"><span class=\"toc-item-num\">2.1.1&nbsp;&nbsp;</span>First we do it with functions</a></span></li><li><span><a href=\"#Extra:-Do-it-with-lambda!\" data-toc-modified-id=\"Extra:-Do-it-with-lambda!-2.1.2\"><span class=\"toc-item-num\">2.1.2&nbsp;&nbsp;</span>Extra: Do it with lambda!</a></span></li></ul></li><li><span><a href=\"#Filter\" data-toc-modified-id=\"Filter-2.2\"><span class=\"toc-item-num\">2.2&nbsp;&nbsp;</span>Filter</a></span><ul class=\"toc-item\"><li><span><a href=\"#First-we-do-it-with-functions\" data-toc-modified-id=\"First-we-do-it-with-functions-2.2.1\"><span class=\"toc-item-num\">2.2.1&nbsp;&nbsp;</span>First we do it with functions</a></span></li><li><span><a href=\"#Extra:-Do-it-with-lambda!\" data-toc-modified-id=\"Extra:-Do-it-with-lambda!-2.2.2\"><span class=\"toc-item-num\">2.2.2&nbsp;&nbsp;</span>Extra: Do it with lambda!</a></span></li></ul></li><li><span><a href=\"#Reduce\" data-toc-modified-id=\"Reduce-2.3\"><span class=\"toc-item-num\">2.3&nbsp;&nbsp;</span>Reduce</a></span><ul class=\"toc-item\"><li><span><a href=\"#What-happened?\" data-toc-modified-id=\"What-happened?-2.3.1\"><span class=\"toc-item-num\">2.3.1&nbsp;&nbsp;</span>What happened?</a></span></li></ul></li><li><span><a href=\"#First-we-do-it-with-functions\" data-toc-modified-id=\"First-we-do-it-with-functions-2.4\"><span class=\"toc-item-num\">2.4&nbsp;&nbsp;</span>First we do it with functions</a></span></li><li><span><a href=\"#Bonus:-Do-it-with-lambda!\" data-toc-modified-id=\"Bonus:-Do-it-with-lambda!-2.5\"><span class=\"toc-item-num\">2.5&nbsp;&nbsp;</span>Bonus: Do it with lambda!</a></span></li></ul></li><li><span><a href=\"#Summary\" data-toc-modified-id=\"Summary-3\"><span class=\"toc-item-num\">3&nbsp;&nbsp;</span>Summary</a></span></li><li><span><a href=\"#Further-materials\" data-toc-modified-id=\"Further-materials-4\"><span class=\"toc-item-num\">4&nbsp;&nbsp;</span>Further materials</a></span></li></ul></div>"
   ]
  },
  {
   "cell_type": "markdown",
   "id": "07c5496e",
   "metadata": {
    "lang": "en"
   },
   "source": [
    "### Each student is randomly assigned a topic"
   ]
  },
  {
   "cell_type": "code",
   "execution_count": 56,
   "id": "blessed-scale",
   "metadata": {},
   "outputs": [],
   "source": [
    "students = [\n",
    "    \"Daniel\",\n",
    "    \"Edgar\",\n",
    "    \"Gaspar\",\n",
    "    \"Hassan\", \n",
    "    \"Juliana\",\n",
    "    \"Mohammed S.\",\n",
    "    \"Ameri\",\n",
    "    \"Nicolás\",\n",
    "    \"Peter\",\n",
    "    \"Samuel\",\n",
    "    \"Venice\",\n",
    "    \"Viktoras\"\n",
    "]"
   ]
  },
  {
   "cell_type": "code",
   "execution_count": 57,
   "id": "ad7c296b",
   "metadata": {},
   "outputs": [
    {
     "data": {
      "text/plain": [
       "['map',\n",
       " 'map',\n",
       " 'map',\n",
       " 'map',\n",
       " 'filter',\n",
       " 'filter',\n",
       " 'filter',\n",
       " 'filter',\n",
       " 'reduce',\n",
       " 'reduce',\n",
       " 'reduce',\n",
       " 'reduce']"
      ]
     },
     "execution_count": 57,
     "metadata": {},
     "output_type": "execute_result"
    }
   ],
   "source": [
    "topics = [\"map\"] * 4 + [\"filter\"] * 4 + [\"reduce\"] * 4\n",
    "topics"
   ]
  },
  {
   "cell_type": "code",
   "execution_count": 64,
   "id": "224d7d5b",
   "metadata": {},
   "outputs": [],
   "source": [
    "import random\n",
    "random.shuffle(students)\n",
    "random.shuffle(topics)"
   ]
  },
  {
   "cell_type": "code",
   "execution_count": 66,
   "id": "eac96f67",
   "metadata": {},
   "outputs": [
    {
     "data": {
      "text/plain": [
       "['reduce',\n",
       " 'map',\n",
       " 'filter',\n",
       " 'reduce',\n",
       " 'filter',\n",
       " 'filter',\n",
       " 'map',\n",
       " 'map',\n",
       " 'map',\n",
       " 'reduce',\n",
       " 'filter',\n",
       " 'reduce']"
      ]
     },
     "execution_count": 66,
     "metadata": {},
     "output_type": "execute_result"
    }
   ],
   "source": [
    "students\n",
    "topics"
   ]
  },
  {
   "cell_type": "code",
   "execution_count": 67,
   "id": "633ee10d",
   "metadata": {},
   "outputs": [
    {
     "data": {
      "text/plain": [
       "[('Hassan', 'reduce'),\n",
       " ('Gaspar', 'map'),\n",
       " ('Juliana', 'filter'),\n",
       " ('Edgar', 'reduce'),\n",
       " ('Venice', 'filter'),\n",
       " ('Nicolás', 'filter'),\n",
       " ('Ameri', 'map'),\n",
       " ('Peter', 'map'),\n",
       " ('Daniel', 'map'),\n",
       " ('Viktoras', 'reduce'),\n",
       " ('Samuel', 'filter'),\n",
       " ('Mohammed S.', 'reduce')]"
      ]
     },
     "execution_count": 67,
     "metadata": {},
     "output_type": "execute_result"
    }
   ],
   "source": [
    "alltogether = list(zip(students, topics))\n",
    "alltogether"
   ]
  },
  {
   "cell_type": "markdown",
   "id": "67ba83fd",
   "metadata": {
    "lang": "en"
   },
   "source": [
    "## Let's start"
   ]
  },
  {
   "cell_type": "markdown",
   "id": "2044e738",
   "metadata": {
    "lang": "en"
   },
   "source": [
    "You have 10 minutes to explore and understand the role you have been assigned on your own. You may find these links useful:\n",
    "\n",
    "- [link 1](https://medium.com/swlh/higher-order-functions-in-python-map-filter-and-reduce-34299fee1b21)\n",
    "- [link 2](https://www.learnpython.org/en/Map,_Filter,_Reduce)\n",
    "- [link 3](https://stackabuse.com/map-filter-and-reduce-in-python-with-examples)"
   ]
  },
  {
   "cell_type": "markdown",
   "id": "1494059b",
   "metadata": {},
   "source": [
    "### Create groups with other people who have studied the same function"
   ]
  },
  {
   "cell_type": "markdown",
   "id": "closing-referral",
   "metadata": {},
   "source": [
    "![otrogif](https://media.giphy.com/media/UatRnEUNX8iCQ/giphy.gif)"
   ]
  },
  {
   "cell_type": "markdown",
   "id": "ad055efd",
   "metadata": {
    "lang": "en"
   },
   "source": [
    "In this part of the game you are assigned to a group in which you are the expert in your role.\n",
    "Each group member has 5 minutes to explain their role to the other team members."
   ]
  },
  {
   "cell_type": "code",
   "execution_count": 75,
   "id": "editorial-gender",
   "metadata": {},
   "outputs": [],
   "source": [
    "map_experts = list(filter(lambda x: x[1] == \"map\", alltogether))\n",
    "filter_experts = list(filter(lambda x: x[1] == \"filter\", alltogether))\n",
    "reduce_experts = list(filter(lambda x: x[1] == \"reduce\", alltogether))"
   ]
  },
  {
   "cell_type": "code",
   "execution_count": 77,
   "id": "bf692b56",
   "metadata": {},
   "outputs": [
    {
     "name": "stdout",
     "output_type": "stream",
     "text": [
      "Group 1: [('Gaspar', 'map'), ('Juliana', 'filter'), ('Hassan', 'reduce')]\n",
      "Group 2: [('Ameri', 'map'), ('Venice', 'filter'), ('Edgar', 'reduce')]\n",
      "Group 3: [('Peter', 'map'), ('Nicolás', 'filter'), ('Viktoras', 'reduce')]\n",
      "Group 4: [('Daniel', 'map'), ('Samuel', 'filter'), ('Mohammed S.', 'reduce')]\n"
     ]
    }
   ],
   "source": [
    "counter = 1\n",
    "for everyone in zip(map_experts, filter_experts, reduce_experts):\n",
    "    print(f\"Group {counter}: {[[i][0] for i in everyone]}\")\n",
    "    counter +=1 "
   ]
  },
  {
   "cell_type": "markdown",
   "id": "8fd5c1b9",
   "metadata": {
    "lang": "en"
   },
   "source": [
    "## Map, Filter, Reduce"
   ]
  },
  {
   "cell_type": "markdown",
   "id": "55e1da7a",
   "metadata": {
    "lang": "en"
   },
   "source": [
    "There are three functions that will come in very handy when working with iterators. These functions facilitate certain basic and common operations on iterable collections of data, such as removing elements that do not meet a certain condition, calculating a result from the contained data, or applying a transformation to each element. Let's see them with examples of use:"
   ]
  },
  {
   "cell_type": "markdown",
   "id": "distinct-translator",
   "metadata": {},
   "source": [
    "### Map"
   ]
  },
  {
   "cell_type": "markdown",
   "id": "3bbb0048",
   "metadata": {
    "lang": "en"
   },
   "source": [
    "The map() function takes a function and a list and applies that function to each element in that list, producing a new list.\n",
    "```python\n",
    "map(function_to_apply, list_of_inputs)\n",
    "```"
   ]
  },
  {
   "cell_type": "code",
   "execution_count": 118,
   "id": "a3414219",
   "metadata": {},
   "outputs": [],
   "source": [
    "def square (n):\n",
    "    #print(n ** 2)\n",
    "    return n ** 2"
   ]
  },
  {
   "cell_type": "code",
   "execution_count": 115,
   "id": "707153d5",
   "metadata": {},
   "outputs": [],
   "source": [
    "nums = [1, 2, 3, 4, 5, 6]"
   ]
  },
  {
   "cell_type": "code",
   "execution_count": 116,
   "id": "547b3af0",
   "metadata": {},
   "outputs": [
    {
     "name": "stdout",
     "output_type": "stream",
     "text": [
      "1\n",
      "4\n",
      "9\n",
      "16\n",
      "25\n",
      "36\n"
     ]
    }
   ],
   "source": [
    "for i in nums:\n",
    "    square(i)"
   ]
  },
  {
   "cell_type": "code",
   "execution_count": 119,
   "id": "c4ca16e1",
   "metadata": {},
   "outputs": [
    {
     "data": {
      "text/plain": [
       "[1, 4, 9, 16, 25, 36]"
      ]
     },
     "execution_count": 119,
     "metadata": {},
     "output_type": "execute_result"
    }
   ],
   "source": [
    "list(map(square, nums))"
   ]
  },
  {
   "cell_type": "code",
   "execution_count": 120,
   "id": "6b46b74d",
   "metadata": {},
   "outputs": [
    {
     "data": {
      "text/plain": [
       "[1, 4, 9, 16, 25, 36]"
      ]
     },
     "execution_count": 120,
     "metadata": {},
     "output_type": "execute_result"
    }
   ],
   "source": [
    "[square(x) for x in nums]"
   ]
  },
  {
   "cell_type": "code",
   "execution_count": 121,
   "id": "73187a27",
   "metadata": {},
   "outputs": [
    {
     "data": {
      "text/plain": [
       "[1, 4, 9, 16, 25, 36]"
      ]
     },
     "execution_count": 121,
     "metadata": {},
     "output_type": "execute_result"
    }
   ],
   "source": [
    "list(map(square, nums))"
   ]
  },
  {
   "cell_type": "markdown",
   "id": "848ef234",
   "metadata": {
    "lang": "en"
   },
   "source": [
    "#### First we do it with functions"
   ]
  },
  {
   "cell_type": "code",
   "execution_count": 122,
   "id": "c2d055e5",
   "metadata": {},
   "outputs": [],
   "source": [
    "names = [\"Pau\", \"Clara\", \"Albert\"]\n",
    "\n",
    "def greets (n):\n",
    "    return f\"Hello my name is {n}\""
   ]
  },
  {
   "cell_type": "code",
   "execution_count": 123,
   "id": "d2ce868c",
   "metadata": {},
   "outputs": [
    {
     "data": {
      "text/plain": [
       "['Hello my name is Pau', 'Hello my name is Clara', 'Hello my name is Albert']"
      ]
     },
     "execution_count": 123,
     "metadata": {},
     "output_type": "execute_result"
    }
   ],
   "source": [
    "list(map(greets, names))"
   ]
  },
  {
   "cell_type": "code",
   "execution_count": 124,
   "id": "0244feb7",
   "metadata": {},
   "outputs": [
    {
     "data": {
      "text/plain": [
       "<map at 0x7fbf43e82c40>"
      ]
     },
     "execution_count": 124,
     "metadata": {},
     "output_type": "execute_result"
    }
   ],
   "source": [
    "#Q: why do we need to turn it into a list? -> memory wise it's more efficient for python\n",
    "\n",
    "map(greets, names)"
   ]
  },
  {
   "cell_type": "markdown",
   "id": "209cfe9b",
   "metadata": {
    "lang": "en"
   },
   "source": [
    "The map function returns an iterator, so we have to use `list(map_iterator)`"
   ]
  },
  {
   "cell_type": "code",
   "execution_count": 125,
   "id": "c438a51a",
   "metadata": {
    "scrolled": true
   },
   "outputs": [
    {
     "data": {
      "text/plain": [
       "['Hello my name is Pau', 'Hello my name is Clara', 'Hello my name is Albert']"
      ]
     },
     "execution_count": 125,
     "metadata": {},
     "output_type": "execute_result"
    }
   ],
   "source": [
    "list(map(greets, names))"
   ]
  },
  {
   "cell_type": "markdown",
   "id": "7ac78fc9",
   "metadata": {
    "lang": "en"
   },
   "source": [
    "#### Extra: Do it with lambda!"
   ]
  },
  {
   "cell_type": "code",
   "execution_count": 1,
   "id": "noticed-greek",
   "metadata": {},
   "outputs": [
    {
     "data": {
      "text/plain": [
       "[2, 4, 6]"
      ]
     },
     "execution_count": 1,
     "metadata": {},
     "output_type": "execute_result"
    }
   ],
   "source": [
    "nums = [1, 2, 3]\n",
    "\n",
    "list(map(lambda x: x * 2, nums))"
   ]
  },
  {
   "cell_type": "markdown",
   "id": "connected-found",
   "metadata": {},
   "source": [
    "### Filter"
   ]
  },
  {
   "cell_type": "markdown",
   "id": "b0fd2478",
   "metadata": {
    "lang": "en"
   },
   "source": [
    "The filter() function filters a list of items for which a function returns True.\n",
    "```python\n",
    "filter(a_function, a_list)\n",
    "```"
   ]
  },
  {
   "cell_type": "markdown",
   "id": "3ac537c7",
   "metadata": {
    "lang": "en"
   },
   "source": [
    "Imagine you want to filter a list of numbers to get only even values."
   ]
  },
  {
   "cell_type": "code",
   "execution_count": 3,
   "id": "fatal-brake",
   "metadata": {},
   "outputs": [
    {
     "data": {
      "text/plain": [
       "[1, 2, 3, 4, 5, 6, 7, 8, 9, 10]"
      ]
     },
     "execution_count": 3,
     "metadata": {},
     "output_type": "execute_result"
    }
   ],
   "source": [
    "all_number = [i for i in range(1, 11)]\n",
    "all_number"
   ]
  },
  {
   "cell_type": "markdown",
   "id": "1df16233",
   "metadata": {
    "lang": "en"
   },
   "source": [
    "#### First we do it with functions"
   ]
  },
  {
   "cell_type": "code",
   "execution_count": 19,
   "id": "proved-anniversary",
   "metadata": {},
   "outputs": [],
   "source": [
    "def even (number):\n",
    "    if number % 2 == 0: # if it's even\n",
    "        return True"
   ]
  },
  {
   "cell_type": "code",
   "execution_count": 21,
   "id": "89d2405a",
   "metadata": {},
   "outputs": [
    {
     "data": {
      "text/plain": [
       "[2, 4, 6, 8, 10]"
      ]
     },
     "execution_count": 21,
     "metadata": {},
     "output_type": "execute_result"
    }
   ],
   "source": [
    "new_even = []\n",
    "for num in all_number:\n",
    "    if num % 2 == 0:\n",
    "        new_even.append(num)\n",
    "new_even"
   ]
  },
  {
   "cell_type": "code",
   "execution_count": 22,
   "id": "42b7e6e1",
   "metadata": {},
   "outputs": [
    {
     "data": {
      "text/plain": [
       "[2, 4, 6, 8, 10]"
      ]
     },
     "execution_count": 22,
     "metadata": {},
     "output_type": "execute_result"
    }
   ],
   "source": [
    "list(filter(even, all_number))"
   ]
  },
  {
   "cell_type": "markdown",
   "id": "24d5f21b",
   "metadata": {
    "lang": "en"
   },
   "source": [
    "Imagine that you want to filter a list and keep only the groups that start with the letter R"
   ]
  },
  {
   "cell_type": "code",
   "execution_count": 26,
   "id": "f5531415",
   "metadata": {},
   "outputs": [],
   "source": [
    "singers = [\"Rosalia\", \"Bad Bunny\", \"Russian red\"]"
   ]
  },
  {
   "cell_type": "code",
   "execution_count": 25,
   "id": "45cc2f1e",
   "metadata": {},
   "outputs": [
    {
     "data": {
      "text/plain": [
       "['Rosali', 'Russian red']"
      ]
     },
     "execution_count": 25,
     "metadata": {},
     "output_type": "execute_result"
    }
   ],
   "source": [
    "new_list_singers = []\n",
    "for i in singers:\n",
    "    if i.startswith(\"R\"):\n",
    "        new_list_singers.append(i)\n",
    "new_list_singers"
   ]
  },
  {
   "cell_type": "code",
   "execution_count": 30,
   "id": "c52ba7c9",
   "metadata": {},
   "outputs": [],
   "source": [
    "def starts_with_letter(a_string):\n",
    "    return a_string.startswith(\"R\")"
   ]
  },
  {
   "cell_type": "code",
   "execution_count": 32,
   "id": "9b8af5a5",
   "metadata": {},
   "outputs": [
    {
     "data": {
      "text/plain": [
       "False"
      ]
     },
     "execution_count": 32,
     "metadata": {},
     "output_type": "execute_result"
    }
   ],
   "source": [
    "starts_with_letter(\"bad bunny\")"
   ]
  },
  {
   "cell_type": "code",
   "execution_count": 33,
   "id": "7b983092",
   "metadata": {},
   "outputs": [
    {
     "data": {
      "text/plain": [
       "['Rosalia', 'Russian red']"
      ]
     },
     "execution_count": 33,
     "metadata": {},
     "output_type": "execute_result"
    }
   ],
   "source": [
    "list(filter(starts_with_letter, singers))"
   ]
  },
  {
   "cell_type": "markdown",
   "id": "498aae32",
   "metadata": {
    "lang": "en"
   },
   "source": [
    "#### Extra: Do it with lambda!"
   ]
  },
  {
   "cell_type": "code",
   "execution_count": 36,
   "id": "direct-costs",
   "metadata": {},
   "outputs": [
    {
     "data": {
      "text/plain": [
       "['Rosalia', 'Russian red']"
      ]
     },
     "execution_count": 36,
     "metadata": {},
     "output_type": "execute_result"
    }
   ],
   "source": [
    "list(filter(lambda x: x[0] == \"R\", singers))"
   ]
  },
  {
   "cell_type": "code",
   "execution_count": 39,
   "id": "66cbfb04",
   "metadata": {},
   "outputs": [],
   "source": [
    "nums10 = [1, 2, 3, 4]"
   ]
  },
  {
   "cell_type": "code",
   "execution_count": 40,
   "id": "34947348",
   "metadata": {},
   "outputs": [
    {
     "data": {
      "text/plain": [
       "[2, 4]"
      ]
     },
     "execution_count": 40,
     "metadata": {},
     "output_type": "execute_result"
    }
   ],
   "source": [
    "list(filter(lambda x: x%2 == 0, nums10))"
   ]
  },
  {
   "cell_type": "markdown",
   "id": "9b923a35",
   "metadata": {
    "lang": "en"
   },
   "source": [
    "### Reduce"
   ]
  },
  {
   "cell_type": "markdown",
   "id": "5e2eb96a",
   "metadata": {
    "lang": "en"
   },
   "source": [
    "This function is not a built-in function, which means you must first import the functools library for use. The reduce() function cumulatively applies the f() function to the elements of the iterable. The accumulator can be initialized with an optional third argument. The result is the final value of the accumulator.\n",
    "```python\n",
    "reduce(function, iterable[, initial])\n",
    "```"
   ]
  },
  {
   "cell_type": "code",
   "execution_count": 41,
   "id": "brilliant-barrier",
   "metadata": {},
   "outputs": [],
   "source": [
    "from functools import reduce"
   ]
  },
  {
   "cell_type": "markdown",
   "id": "be41def2",
   "metadata": {
    "lang": "en"
   },
   "source": [
    "⚠️ Reduce is a bit more complicated to understand than map() and filter() so let's walk through the following example ⚠️"
   ]
  },
  {
   "cell_type": "code",
   "execution_count": 46,
   "id": "wicked-investigator",
   "metadata": {},
   "outputs": [],
   "source": [
    "def addition (x, y):\n",
    "    print(x + y)\n",
    "    return x + y "
   ]
  },
  {
   "cell_type": "code",
   "execution_count": 47,
   "id": "1235e094",
   "metadata": {},
   "outputs": [
    {
     "name": "stdout",
     "output_type": "stream",
     "text": [
      "5\n"
     ]
    },
    {
     "data": {
      "text/plain": [
       "5"
      ]
     },
     "execution_count": 47,
     "metadata": {},
     "output_type": "execute_result"
    }
   ],
   "source": [
    "addition (2, 3)"
   ]
  },
  {
   "cell_type": "code",
   "execution_count": 62,
   "id": "331176ae",
   "metadata": {},
   "outputs": [
    {
     "data": {
      "text/plain": [
       "[1, 2, 3, 4, 5, 6, 7, 8, 9, 10, 11, 12, 13, 14, 15]"
      ]
     },
     "execution_count": 62,
     "metadata": {},
     "output_type": "execute_result"
    }
   ],
   "source": [
    "numbers_15 = [i for i in range(1, 16)]\n",
    "numbers_15"
   ]
  },
  {
   "cell_type": "code",
   "execution_count": 50,
   "id": "8659ff9e",
   "metadata": {},
   "outputs": [
    {
     "name": "stdout",
     "output_type": "stream",
     "text": [
      "3\n",
      "6\n",
      "10\n",
      "15\n",
      "21\n",
      "28\n",
      "36\n",
      "45\n",
      "55\n",
      "66\n",
      "78\n",
      "91\n",
      "105\n",
      "120\n"
     ]
    },
    {
     "data": {
      "text/plain": [
       "120"
      ]
     },
     "execution_count": 50,
     "metadata": {},
     "output_type": "execute_result"
    }
   ],
   "source": [
    "reduce(addition, numbers_15)"
   ]
  },
  {
   "cell_type": "code",
   "execution_count": 51,
   "id": "0a565e11",
   "metadata": {},
   "outputs": [
    {
     "data": {
      "text/plain": [
       "16"
      ]
     },
     "execution_count": 51,
     "metadata": {},
     "output_type": "execute_result"
    }
   ],
   "source": [
    "list_20 = [2, 4, 7, 3]\n",
    "def adds (a, b):\n",
    "    return a + b\n",
    "\n",
    "reduce(adds, list_20)"
   ]
  },
  {
   "cell_type": "markdown",
   "id": "9bcc559e",
   "metadata": {
    "lang": "en"
   },
   "source": [
    "#### What happened?\n",
    "- We start with a list [2, 4, 7, 3] and pass the function add (x, y) to reduce ( ) along with this list, without an initial value\n",
    "\n",
    "- reduce() calls add(2, 4), and add() returns 6\n",
    "\n",
    "- reduce() calls sum(6, 7) (result of the previous call to sum() and the next element in the list as parameters), and sum() returns 13\n",
    "\n",
    "- reduce() calls sum(13, 3), and sum() returns 16\n",
    "\n",
    "Since there are no more elements left in the sequence, reduce() returns 16"
   ]
  },
  {
   "cell_type": "markdown",
   "id": "04ecdfe8",
   "metadata": {
    "lang": "en"
   },
   "source": [
    "Factorial:\n",
    "Amount that results from the multiplication of a certain natural number by all the natural numbers that precede it, excluding zero; is represented by n!"
   ]
  },
  {
   "cell_type": "markdown",
   "id": "0334080d",
   "metadata": {
    "lang": "en"
   },
   "source": [
    "### First we do it with functions"
   ]
  },
  {
   "cell_type": "code",
   "execution_count": 94,
   "id": "electrical-knitting",
   "metadata": {},
   "outputs": [],
   "source": [
    "def factorial (n):\n",
    "    temp = 1\n",
    "    for i in range (n):\n",
    "        temp *= i+1\n",
    "    return temp"
   ]
  },
  {
   "cell_type": "code",
   "execution_count": 95,
   "id": "proof-hundred",
   "metadata": {},
   "outputs": [
    {
     "data": {
      "text/plain": [
       "6"
      ]
     },
     "execution_count": 95,
     "metadata": {},
     "output_type": "execute_result"
    }
   ],
   "source": [
    "factorial(3)"
   ]
  },
  {
   "cell_type": "code",
   "execution_count": 87,
   "id": "6a2f0bb2",
   "metadata": {
    "scrolled": true
   },
   "outputs": [
    {
     "data": {
      "text/plain": [
       "6"
      ]
     },
     "execution_count": 87,
     "metadata": {},
     "output_type": "execute_result"
    }
   ],
   "source": [
    "def product (a, b):\n",
    "    return a * b\n",
    "\n",
    "numbers3 = [1, 2, 3]\n",
    "\n",
    "reduce(product, numbers3)"
   ]
  },
  {
   "cell_type": "code",
   "execution_count": 97,
   "id": "4b74d2a7",
   "metadata": {},
   "outputs": [],
   "source": [
    "# I can set an initial value"
   ]
  },
  {
   "cell_type": "code",
   "execution_count": 98,
   "id": "4dbf2c5b",
   "metadata": {},
   "outputs": [
    {
     "data": {
      "text/plain": [
       "'I can set an initial value as a param: abcd'"
      ]
     },
     "execution_count": 98,
     "metadata": {},
     "output_type": "execute_result"
    }
   ],
   "source": [
    "a_list_of_strings = [\"a\", \"b\", \"c\", \"d\"]\n",
    "\n",
    "def adds (a, b):\n",
    "    return a + b\n",
    "\n",
    "reduce(adds, a_list_of_strings, \"I can set an initial value as a param: \")"
   ]
  },
  {
   "cell_type": "markdown",
   "id": "d678c6ca",
   "metadata": {
    "lang": "en"
   },
   "source": [
    "### Bonus: Do it with lambda!"
   ]
  },
  {
   "cell_type": "code",
   "execution_count": 81,
   "id": "random-spring",
   "metadata": {},
   "outputs": [
    {
     "data": {
      "text/plain": [
       "87178291200"
      ]
     },
     "execution_count": 81,
     "metadata": {},
     "output_type": "execute_result"
    }
   ],
   "source": [
    "n = 15\n",
    "reduce(lambda x, y: x * y, range(1, 15))"
   ]
  },
  {
   "cell_type": "markdown",
   "id": "69ae8c39",
   "metadata": {
    "lang": "en"
   },
   "source": [
    "## Summary"
   ]
  },
  {
   "cell_type": "markdown",
   "id": "0d3b60db",
   "metadata": {},
   "source": [
    "- `filter` will return values that meet a condition\n",
    "- For filter: I need to pass a fuction that returns a boolean\n",
    "- function + iterable: function can be user-defined, lambda\n",
    "- `reduce` returns one value\n",
    "- `map` & `filter`: returns object (iterator) that we'll need to cast\n",
    "- `reduce` you need to import\n",
    "- All three functions iterate: they can substitute for loops\n",
    "- More efficient, more readable, quicker to code\n",
    "- You can use lambda with the three of them\n"
   ]
  },
  {
   "cell_type": "markdown",
   "id": "jewish-configuration",
   "metadata": {},
   "source": [
    "## Further materials\n",
    "http://web.mit.edu/6.005/www/sp16/classes/25-map-filter-reduce/    \n"
   ]
  }
 ],
 "metadata": {
  "kernelspec": {
   "display_name": "Python 3 (ipykernel)",
   "language": "python",
   "name": "python3"
  },
  "language_info": {
   "codemirror_mode": {
    "name": "ipython",
    "version": 3
   },
   "file_extension": ".py",
   "mimetype": "text/x-python",
   "name": "python",
   "nbconvert_exporter": "python",
   "pygments_lexer": "ipython3",
   "version": "3.9.12"
  },
  "nbTranslate": {
   "displayLangs": [
    "en",
    "es"
   ],
   "hotkey": "alt-a",
   "langInMainMenu": true,
   "sourceLang": "es",
   "targetLang": "en",
   "useGoogleTranslate": true
  },
  "toc": {
   "base_numbering": 1,
   "nav_menu": {},
   "number_sections": true,
   "sideBar": true,
   "skip_h1_title": true,
   "title_cell": "Table of Contents",
   "title_sidebar": "Contents",
   "toc_cell": true,
   "toc_position": {
    "height": "calc(100% - 180px)",
    "left": "10px",
    "top": "150px",
    "width": "266px"
   },
   "toc_section_display": true,
   "toc_window_display": true
  }
 },
 "nbformat": 4,
 "nbformat_minor": 5
}
