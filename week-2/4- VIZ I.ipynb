{
 "cells": [
  {
   "cell_type": "markdown",
   "id": "72c99a37",
   "metadata": {
    "lang": "en"
   },
   "source": [
    "# Visualization"
   ]
  },
  {
   "cell_type": "markdown",
   "id": "inside-estonia",
   "metadata": {},
   "source": [
    "![elgif](https://media.giphy.com/media/3og0IExSrnfW2kUaaI/giphy.gif)"
   ]
  },
  {
   "cell_type": "markdown",
   "id": "c5eef447",
   "metadata": {
    "lang": "en"
   },
   "source": [
    "## Motivation\n",
    "\n",
    "In Python we can make visualizations of all kinds. In this class we will see some tools that will allow us to create graphs. Some psychedelic examples...:\n",
    "\n",
    "\n",
    "![squares](../images/cuadrados.png)\n",
    "\n",
    "\n",
    "![julia](../images/julia.png)\n",
    "\n",
    "\n",
    "![mandelbrot](../images/mandelbrot.png)\n",
    "\n",
    "\n",
    "But... **WAIT**\n",
    "This is not our goal.\n",
    "\n",
    "Actually, our objectives are two, firstly to visualize the data to carry out an exploratory analysis of the data, EDA for the acronym in English. We need to correctly describe the data and visualization is a great tool for this. \n",
    "\n",
    "**Matplotlib/Pylab - Seaborn**"
   ]
  },
  {
   "cell_type": "markdown",
   "id": "ranging-premiere",
   "metadata": {
    "toc": true
   },
   "source": [
    "<h1>Table of Contents<span class=\"tocSkip\"></span></h1>\n",
    "<div class=\"toc\"><ul class=\"toc-item\"><li><span><a href=\"#Motivation\" data-toc-modified-id=\"Motivation-1\"><span class=\"toc-item-num\">1&nbsp;&nbsp;</span>Motivation</a></span></li><li><span><a href=\"#We-import-libraries\" data-toc-modified-id=\"We-import-libraries-2\"><span class=\"toc-item-num\">2&nbsp;&nbsp;</span>We import libraries</a></span></li><li><span><a href=\"#We-load-data\" data-toc-modified-id=\"We-load-data-3\"><span class=\"toc-item-num\">3&nbsp;&nbsp;</span>We load data</a></span></li><li><span><a href=\"#Display-Settings\" data-toc-modified-id=\"Display-Settings-4\"><span class=\"toc-item-num\">4&nbsp;&nbsp;</span>Display Settings</a></span></li><li><span><a href=\"#Bar-Charts\" data-toc-modified-id=\"Bar-Charts-5\"><span class=\"toc-item-num\">5&nbsp;&nbsp;</span>Bar Charts</a></span><ul class=\"toc-item\"><li><span><a href=\"#Seaborn-Countplot\" data-toc-modified-id=\"Seaborn-Countplot-5.1\"><span class=\"toc-item-num\">5.1&nbsp;&nbsp;</span>Seaborn Countplot</a></span></li><li><span><a href=\"#Seaborn-BarPlot\" data-toc-modified-id=\"Seaborn-BarPlot-5.2\"><span class=\"toc-item-num\">5.2&nbsp;&nbsp;</span>Seaborn BarPlot</a></span></li><li><span><a href=\"#matplotlib\" data-toc-modified-id=\"matplotlib-5.3\"><span class=\"toc-item-num\">5.3&nbsp;&nbsp;</span>matplotlib</a></span></li></ul></li><li><span><a href=\"#Charts-with-more-than-one-bar,-grouping-variables\" data-toc-modified-id=\"Charts-with-more-than-one-bar,-grouping-variables-6\"><span class=\"toc-item-num\">6&nbsp;&nbsp;</span>Charts with more than one bar, grouping variables</a></span><ul class=\"toc-item\"><li><span><a href=\"#Seaborn\" data-toc-modified-id=\"Seaborn-6.1\"><span class=\"toc-item-num\">6.1&nbsp;&nbsp;</span>Seaborn</a></span></li><li><span><a href=\"#Matplotlib\" data-toc-modified-id=\"Matplotlib-6.2\"><span class=\"toc-item-num\">6.2&nbsp;&nbsp;</span>Matplotlib</a></span></li></ul></li><li><span><a href=\"#Histograms\" data-toc-modified-id=\"Histograms-7\"><span class=\"toc-item-num\">7&nbsp;&nbsp;</span>Histograms</a></span><ul class=\"toc-item\"><li><span><a href=\"#Seaborn\" data-toc-modified-id=\"Seaborn-7.1\"><span class=\"toc-item-num\">7.1&nbsp;&nbsp;</span>Seaborn</a></span></li><li><span><a href=\"#Matplotlib\" data-toc-modified-id=\"Matplotlib-7.2\"><span class=\"toc-item-num\">7.2&nbsp;&nbsp;</span>Matplotlib</a></span></li></ul></li><li><span><a href=\"#More-Variables---Stacked-Hist\" data-toc-modified-id=\"More-Variables---Stacked-Hist-8\"><span class=\"toc-item-num\">8&nbsp;&nbsp;</span>More Variables - Stacked Hist</a></span><ul class=\"toc-item\"><li><span><a href=\"#Seaborn\" data-toc-modified-id=\"Seaborn-8.1\"><span class=\"toc-item-num\">8.1&nbsp;&nbsp;</span>Seaborn</a></span></li></ul></li><li><span><a href=\"#More-Variables-/-Combo-Bars\" data-toc-modified-id=\"More-Variables-/-Combo-Bars-9\"><span class=\"toc-item-num\">9&nbsp;&nbsp;</span>More Variables / Combo Bars</a></span></li><li><span><a href=\"#Add-KDE-to-the-histplot\" data-toc-modified-id=\"Add-KDE-to-the-histplot-10\"><span class=\"toc-item-num\">10&nbsp;&nbsp;</span>Add KDE to the histplot</a></span></li><li><span><a href=\"#KDE-plot\" data-toc-modified-id=\"KDE-plot-11\"><span class=\"toc-item-num\">11&nbsp;&nbsp;</span>KDE plot</a></span><ul class=\"toc-item\"><li><ul class=\"toc-item\"><li><span><a href=\"#With-more-variables\" data-toc-modified-id=\"With-more-variables-11.0.1\"><span class=\"toc-item-num\">11.0.1&nbsp;&nbsp;</span>With more variables</a></span></li></ul></li></ul></li><li><span><a href=\"#scatterplot\" data-toc-modified-id=\"scatterplot-12\"><span class=\"toc-item-num\">12&nbsp;&nbsp;</span>scatterplot</a></span><ul class=\"toc-item\"><li><span><a href=\"#Seaborn\" data-toc-modified-id=\"Seaborn-12.1\"><span class=\"toc-item-num\">12.1&nbsp;&nbsp;</span>Seaborn</a></span></li><li><span><a href=\"#Matplotlib\" data-toc-modified-id=\"Matplotlib-12.2\"><span class=\"toc-item-num\">12.2&nbsp;&nbsp;</span>Matplotlib</a></span></li><li><span><a href=\"#More-categories\" data-toc-modified-id=\"More-categories-12.3\"><span class=\"toc-item-num\">12.3&nbsp;&nbsp;</span>More categories</a></span></li><li><span><a href=\"#With-categorical-variables\" data-toc-modified-id=\"With-categorical-variables-12.4\"><span class=\"toc-item-num\">12.4&nbsp;&nbsp;</span>With categorical variables</a></span></li><li><span><a href=\"#swarmplot\" data-toc-modified-id=\"swarmplot-12.5\"><span class=\"toc-item-num\">12.5&nbsp;&nbsp;</span>swarmplot</a></span></li></ul></li><li><span><a href=\"#Jointplot\" data-toc-modified-id=\"Jointplot-13\"><span class=\"toc-item-num\">13&nbsp;&nbsp;</span>Jointplot</a></span><ul class=\"toc-item\"><li><span><a href=\"#Can-you-do-a-Jointplot-with-matplotlib?\" data-toc-modified-id=\"Can-you-do-a-Jointplot-with-matplotlib?-13.1\"><span class=\"toc-item-num\">13.1&nbsp;&nbsp;</span>Can you do a Jointplot with matplotlib?</a></span></li></ul></li><li><span><a href=\"#pairplot\" data-toc-modified-id=\"pairplot-14\"><span class=\"toc-item-num\">14&nbsp;&nbsp;</span>pairplot</a></span></li><li><span><a href=\"#LinePlot\" data-toc-modified-id=\"LinePlot-15\"><span class=\"toc-item-num\">15&nbsp;&nbsp;</span>LinePlot</a></span></li><li><span><a href=\"#Correlation-Matrix\" data-toc-modified-id=\"Correlation-Matrix-16\"><span class=\"toc-item-num\">16&nbsp;&nbsp;</span>Correlation Matrix</a></span></li><li><span><a href=\"#Boxplot\" data-toc-modified-id=\"Boxplot-17\"><span class=\"toc-item-num\">17&nbsp;&nbsp;</span>Boxplot</a></span></li><li><span><a href=\"#ViolinPlot\" data-toc-modified-id=\"ViolinPlot-18\"><span class=\"toc-item-num\">18&nbsp;&nbsp;</span>ViolinPlot</a></span></li><li><span><a href=\"#Pie-plot-👀\" data-toc-modified-id=\"Pie-plot-👀-19\"><span class=\"toc-item-num\">19&nbsp;&nbsp;</span>Pie plot 👀</a></span></li><li><span><a href=\"#Subplots\" data-toc-modified-id=\"Subplots-20\"><span class=\"toc-item-num\">20&nbsp;&nbsp;</span>Subplots</a></span></li><li><span><a href=\"#Save-Plots\" data-toc-modified-id=\"Save-Plots-21\"><span class=\"toc-item-num\">21&nbsp;&nbsp;</span>Save Plots</a></span></li></ul></div>"
   ]
  },
  {
   "cell_type": "markdown",
   "id": "aad8edf7",
   "metadata": {
    "lang": "en"
   },
   "source": [
    "## We import libraries"
   ]
  },
  {
   "cell_type": "code",
   "execution_count": null,
   "id": "handmade-czech",
   "metadata": {},
   "outputs": [],
   "source": [
    "import seaborn as sns\n",
    "import matplotlib.pyplot as plt\n",
    "import pandas as pd"
   ]
  },
  {
   "cell_type": "markdown",
   "id": "543ce03b",
   "metadata": {
    "lang": "en"
   },
   "source": [
    "## We load data"
   ]
  },
  {
   "cell_type": "code",
   "execution_count": null,
   "id": "baking-saturday",
   "metadata": {},
   "outputs": [],
   "source": [
    "penguins = sns.load_dataset(\"penguins\")\n",
    "tips = sns.load_dataset(\"tips\")\n",
    "titanic = pd.read_csv('../datasets/titanic.csv')\n",
    "titanic2=sns.load_dataset(\"titanic\")\n",
    "vuelos = sns.load_dataset(\"flights\")"
   ]
  },
  {
   "cell_type": "code",
   "execution_count": null,
   "id": "descending-algorithm",
   "metadata": {},
   "outputs": [],
   "source": [
    "penguins.head()"
   ]
  },
  {
   "cell_type": "markdown",
   "id": "9a60ef1d",
   "metadata": {
    "lang": "en"
   },
   "source": [
    "## Display Settings"
   ]
  },
  {
   "cell_type": "code",
   "execution_count": null,
   "id": "motivated-october",
   "metadata": {},
   "outputs": [],
   "source": [
    "# Matplotlib inline to visualize Matplotlib graphs\n",
    "%matplotlib inline\n",
    "%config Inlinebackend.figure_format= 'retina'"
   ]
  },
  {
   "cell_type": "code",
   "execution_count": null,
   "id": "threaded-dispute",
   "metadata": {},
   "outputs": [],
   "source": [
    "# Configuration to set so that all the Seaborn figs come out with this size\n",
    "sns.set_context(\"poster\")\n",
    "sns.set(rc={\"figure.figsize\": (12.,6.)})\n",
    "sns.set_style(\"whitegrid\")"
   ]
  },
  {
   "cell_type": "markdown",
   "id": "22291eac",
   "metadata": {
    "lang": "en"
   },
   "source": [
    "## Bar Charts\n",
    "Show the counts of the observations in each categorical cell using bars.\n",
    "This is basically a groupby 'species' .count()"
   ]
  },
  {
   "cell_type": "code",
   "execution_count": null,
   "id": "flying-overhead",
   "metadata": {},
   "outputs": [],
   "source": [
    "penguins.sample(5)"
   ]
  },
  {
   "cell_type": "code",
   "execution_count": null,
   "id": "rotary-posting",
   "metadata": {},
   "outputs": [],
   "source": [
    "penguins.groupby(\"species\").count()"
   ]
  },
  {
   "cell_type": "markdown",
   "id": "aff1475d",
   "metadata": {
    "lang": "en"
   },
   "source": [
    "### Seaborn Countplot\n",
    "Basic bar chart, where we count the number of items in each species of penguin"
   ]
  },
  {
   "cell_type": "code",
   "execution_count": null,
   "id": "unusual-jonathan",
   "metadata": {},
   "outputs": [],
   "source": [
    "sns.countplot(x=penguins.species)"
   ]
  },
  {
   "cell_type": "markdown",
   "id": "ee41651a",
   "metadata": {
    "lang": "en"
   },
   "source": [
    "We can change the colors of the graphs using the argument `palette = \"color code\"`\n",
    "Check seaborn palettes --> [Here](https://seaborn.pydata.org/tutorial/color_palettes.html)"
   ]
  },
  {
   "cell_type": "code",
   "execution_count": null,
   "id": "patent-employer",
   "metadata": {},
   "outputs": [],
   "source": [
    "sns.countplot(x=\"species\", data=penguins, palette=\"magma\");"
   ]
  },
  {
   "cell_type": "markdown",
   "id": "18ebb7f6",
   "metadata": {
    "lang": "en"
   },
   "source": [
    "### Seaborn BarPlot"
   ]
  },
  {
   "cell_type": "markdown",
   "id": "dc4a5345",
   "metadata": {
    "lang": "en"
   },
   "source": [
    "Not to be confused with the countplot, the seaborn barplot plots an estimate of the central tendency of a numerical variable with the height of each rectangle and provides some indication of the uncertainty around that estimate using error bars.\n",
    "`ci=\"sd\"` to change the confidence interval to the standard deviation"
   ]
  },
  {
   "cell_type": "code",
   "execution_count": null,
   "id": "north-victorian",
   "metadata": {},
   "outputs": [],
   "source": [
    "vuelos.head()"
   ]
  },
  {
   "cell_type": "code",
   "execution_count": null,
   "id": "83c130ea",
   "metadata": {},
   "outputs": [],
   "source": [
    "vuelos.groupby(\"year\")[\"passengers\"].sum()"
   ]
  },
  {
   "cell_type": "code",
   "execution_count": null,
   "id": "brutal-interpretation",
   "metadata": {},
   "outputs": [],
   "source": [
    "barplot = sns.barplot(x=\"year\", y=\"passengers\", data=vuelos, ci=\"sd\")"
   ]
  },
  {
   "cell_type": "markdown",
   "id": "0fd77645",
   "metadata": {
    "lang": "en"
   },
   "source": [
    "Take a look at the seaborn barplot --> https://seaborn.pydata.org/generated/seaborn.barplot.html"
   ]
  },
  {
   "cell_type": "markdown",
   "id": "d9b18c3d",
   "metadata": {
    "lang": "en"
   },
   "source": [
    "When to use one or the other? We can really do the same with both, Matplotlib is tremendously powerful and Seaborn is built on Matplotlib but is syntactically simpler and visually a bit more modern.\n"
   ]
  },
  {
   "cell_type": "markdown",
   "id": "0f8139dc",
   "metadata": {
    "lang": "en"
   },
   "source": [
    "### matplotlib\n",
    "The same countplot we have done in seaborn is called \"bar plot\" in matplotlib. It is a bar graph.\n",
    "Just have the dataframe grouped and add `.plot`"
   ]
  },
  {
   "cell_type": "code",
   "execution_count": null,
   "id": "2e1cc23f",
   "metadata": {},
   "outputs": [],
   "source": [
    "penguins[\"species\"].value_counts()"
   ]
  },
  {
   "cell_type": "code",
   "execution_count": null,
   "id": "numeric-narrative",
   "metadata": {},
   "outputs": [],
   "source": [
    "penguins[\"species\"].value_counts().plot(kind=\"bar\", figsize=(12,6), title=\"# of penguins by species\")\n",
    "plt.xticks(rotation=45);"
   ]
  },
  {
   "cell_type": "markdown",
   "id": "a7320fdd",
   "metadata": {
    "lang": "en"
   },
   "source": [
    "## Charts with more than one bar, grouping variables\n",
    "We can create clustered bar charts and thus add an extra dimension to the chart by using the hue parameter, which causes each bar to be multiplied by the number of distinct values ​​of the variable indicated by this argument."
   ]
  },
  {
   "cell_type": "markdown",
   "id": "50c93b10",
   "metadata": {},
   "source": [
    "### Seaborn"
   ]
  },
  {
   "cell_type": "code",
   "execution_count": null,
   "id": "signal-guitar",
   "metadata": {},
   "outputs": [],
   "source": [
    "sns.countplot(x=\"species\", hue=\"sex\", data = penguins)"
   ]
  },
  {
   "cell_type": "code",
   "execution_count": null,
   "id": "hungarian-stretch",
   "metadata": {},
   "outputs": [],
   "source": [
    "sns.countplot(x=penguins.species, hue=penguins.sex) #Same function, different syntax"
   ]
  },
  {
   "cell_type": "markdown",
   "id": "b208193c",
   "metadata": {
    "lang": "en"
   },
   "source": [
    "The same graph but horizontal 🙃"
   ]
  },
  {
   "cell_type": "code",
   "execution_count": null,
   "id": "decimal-strategy",
   "metadata": {},
   "outputs": [],
   "source": [
    "sns.countplot(y=penguins.species, hue=penguins.sex)"
   ]
  },
  {
   "cell_type": "markdown",
   "id": "c8728e73",
   "metadata": {
    "lang": "en"
   },
   "source": [
    "We add another variable that has more categories, in seaborn the bars are colored by themselves 🌈"
   ]
  },
  {
   "cell_type": "code",
   "execution_count": null,
   "id": "ae0f5937",
   "metadata": {},
   "outputs": [],
   "source": [
    "titanic.head()"
   ]
  },
  {
   "cell_type": "code",
   "execution_count": null,
   "id": "veterinary-nelson",
   "metadata": {},
   "outputs": [],
   "source": [
    "sns.countplot(data=titanic, x=\"Sex\", hue=\"Pclass\")"
   ]
  },
  {
   "cell_type": "markdown",
   "id": "c36e0a4e",
   "metadata": {},
   "source": [
    "### Matplotlib"
   ]
  },
  {
   "cell_type": "markdown",
   "id": "3d928d9d",
   "metadata": {
    "lang": "en"
   },
   "source": [
    "We are going to try, in parts, to get the same graph that we have above, in which we count the penguins by species and sex.\n",
    "\n",
    "First we have to group the data:"
   ]
  },
  {
   "cell_type": "code",
   "execution_count": null,
   "id": "e194aae0",
   "metadata": {},
   "outputs": [],
   "source": [
    "penguins.groupby([\"species\", \"sex\"])[\"sex\"].count().plot(kind=\"bar\")"
   ]
  },
  {
   "cell_type": "markdown",
   "id": "d915054f",
   "metadata": {
    "lang": "en"
   },
   "source": [
    "Ok, nothing happens, we add the color parameter.\n",
    "List of colors in matplotlib --> https://matplotlib.org/stable/gallery/color/named_colors.html"
   ]
  },
  {
   "cell_type": "code",
   "execution_count": null,
   "id": "substantial-joseph",
   "metadata": {},
   "outputs": [],
   "source": [
    "penguins.groupby([\"species\", \"sex\"])[\"sex\"].count().plot(kind=\"bar\", color=[\"slategray\",\"coral\"]);"
   ]
  },
  {
   "cell_type": "markdown",
   "id": "b6e0c4ad",
   "metadata": {
    "lang": "en"
   },
   "source": [
    "Please bars, can you get together? Ok, we have to do a ... [unstack()](https://pandas.pydata.org/docs/reference/api/pandas.DataFrame.unstack.html) with the indexes, since we have [multiindex]( https://pandas.pydata.org/pandas-docs/stable/user_guide/advanced.html)"
   ]
  },
  {
   "cell_type": "code",
   "execution_count": null,
   "id": "under-africa",
   "metadata": {},
   "outputs": [],
   "source": [
    "hola = pd.DataFrame(penguins.groupby([\"species\", \"sex\"])[\"sex\"].count())\n",
    "hola.head()"
   ]
  },
  {
   "cell_type": "code",
   "execution_count": null,
   "id": "adverse-internet",
   "metadata": {
    "scrolled": true
   },
   "outputs": [],
   "source": [
    "hola.plot(kind=\"bar\")"
   ]
  },
  {
   "cell_type": "markdown",
   "id": "aeb54924",
   "metadata": {},
   "source": [
    "![stack and unstack](https://miro.medium.com/max/1400/1*DYDOif_qBEgtWfFKUDSf0Q.png)"
   ]
  },
  {
   "cell_type": "code",
   "execution_count": null,
   "id": "reasonable-carrier",
   "metadata": {},
   "outputs": [],
   "source": [
    "hola2 = pd.DataFrame(penguins.groupby([\"species\", \"sex\"])[\"sex\"].count()).unstack()\n",
    "hola2.head()"
   ]
  },
  {
   "cell_type": "code",
   "execution_count": null,
   "id": "advised-pakistan",
   "metadata": {},
   "outputs": [],
   "source": [
    "hola2.plot(kind=\"bar\");\n",
    "plt.show()"
   ]
  },
  {
   "cell_type": "code",
   "execution_count": null,
   "id": "bigger-accused",
   "metadata": {},
   "outputs": [],
   "source": [
    "save = penguins.groupby([\"species\", \"sex\"])[\"sex\"].count().unstack().plot(kind=\"bar\")\n",
    "plt.show()"
   ]
  },
  {
   "cell_type": "markdown",
   "id": "4f74260f",
   "metadata": {
    "lang": "en"
   },
   "source": [
    "We turn it upside down"
   ]
  },
  {
   "cell_type": "code",
   "execution_count": null,
   "id": "criminal-highway",
   "metadata": {},
   "outputs": [],
   "source": [
    "save = penguins.groupby([\"species\", \"sex\"])[\"sex\"].count().unstack().plot(kind=\"barh\")\n",
    "plt.show()"
   ]
  },
  {
   "cell_type": "code",
   "execution_count": null,
   "id": "prescribed-paste",
   "metadata": {},
   "outputs": [],
   "source": [
    "dat = titanic.groupby([\"Sex\", \"Pclass\"]).agg({\"Pclass\": \"count\"}).unstack()\n",
    "dat"
   ]
  },
  {
   "cell_type": "code",
   "execution_count": null,
   "id": "impressive-judgment",
   "metadata": {},
   "outputs": [],
   "source": [
    "dat.plot(kind=\"bar\")"
   ]
  },
  {
   "cell_type": "markdown",
   "id": "208d1290",
   "metadata": {
    "lang": "en"
   },
   "source": [
    "The code we need to write to make a plot similar to the seaborn clustered bar plot in matplotlib is slightly more complicated. We have to group and have the species as index, then we can have more variables with a count, or with the mean, and we can graph it correctly."
   ]
  },
  {
   "cell_type": "code",
   "execution_count": null,
   "id": "wrong-objective",
   "metadata": {},
   "outputs": [],
   "source": [
    "penguins.head()"
   ]
  },
  {
   "cell_type": "markdown",
   "id": "eca42775",
   "metadata": {
    "lang": "en"
   },
   "source": [
    "I leave you a reminder of the .agg with its [documentation](https://pandas.pydata.org/docs/reference/api/pandas.DataFrame.agg.html)"
   ]
  },
  {
   "cell_type": "code",
   "execution_count": null,
   "id": "combined-details",
   "metadata": {},
   "outputs": [],
   "source": [
    "flaps = penguins.groupby(\"species\").agg({\"bill_length_mm\": \"mean\",\"bill_depth_mm\": \"mean\", \"flipper_length_mm\": \"mean\" })"
   ]
  },
  {
   "cell_type": "code",
   "execution_count": null,
   "id": "lasting-pharmacy",
   "metadata": {},
   "outputs": [],
   "source": [
    "flaps.head()"
   ]
  },
  {
   "cell_type": "code",
   "execution_count": null,
   "id": "published-albany",
   "metadata": {},
   "outputs": [],
   "source": [
    "flaps.plot(kind=\"bar\")"
   ]
  },
  {
   "cell_type": "markdown",
   "id": "39b887c8",
   "metadata": {
    "lang": "en"
   },
   "source": [
    "## Histograms\n",
    "Histograms resemble vertical bar charts. However, histograms represent the underlying frequency of a discrete or continuous data set that is measured on an interval scale. This representation makes it easy to visualize the underlying distribution of the data set and to inspect other properties, such as skewness and kurtosis (a measure that determines how concentrated values ​​are in the central region of the distribution)."
   ]
  },
  {
   "cell_type": "markdown",
   "id": "private-procurement",
   "metadata": {},
   "source": [
    "![assymetry](https://d2mk45aasx86xg.cloudfront.net/image1_11zon_4542aedc45.webp)"
   ]
  },
  {
   "cell_type": "markdown",
   "id": "d90f39b6",
   "metadata": {},
   "source": [
    "### Seaborn"
   ]
  },
  {
   "cell_type": "code",
   "execution_count": null,
   "id": "fc0d1d3d",
   "metadata": {},
   "outputs": [],
   "source": [
    "sns.histplot(x=titanic.Age)"
   ]
  },
  {
   "cell_type": "code",
   "execution_count": null,
   "id": "chubby-championship",
   "metadata": {},
   "outputs": [],
   "source": [
    "titanic.Age.min()"
   ]
  },
  {
   "cell_type": "code",
   "execution_count": null,
   "id": "overhead-collar",
   "metadata": {},
   "outputs": [],
   "source": [
    "# Histplots ignore NaN\n",
    "titanic.isna().sum()"
   ]
  },
  {
   "cell_type": "code",
   "execution_count": null,
   "id": "living-colors",
   "metadata": {},
   "outputs": [],
   "source": [
    "titanic.Age.fillna(0, inplace= True)"
   ]
  },
  {
   "cell_type": "markdown",
   "id": "e9ffe896",
   "metadata": {
    "lang": "en"
   },
   "source": [
    "We have manipulated the data by padding the NaNs with 0 and we have changed the distribution of the data"
   ]
  },
  {
   "cell_type": "code",
   "execution_count": null,
   "id": "ready-martin",
   "metadata": {},
   "outputs": [],
   "source": [
    "sns.histplot(x=titanic.Age)"
   ]
  },
  {
   "cell_type": "markdown",
   "id": "fc6d896e",
   "metadata": {
    "lang": "en"
   },
   "source": [
    "We can manually specify the number of `boxes`."
   ]
  },
  {
   "cell_type": "code",
   "execution_count": null,
   "id": "patient-spyware",
   "metadata": {},
   "outputs": [],
   "source": [
    "sns.histplot(x=titanic.Age, bins=30)"
   ]
  },
  {
   "cell_type": "markdown",
   "id": "a2c9701b",
   "metadata": {
    "lang": "en"
   },
   "source": [
    "We can choose if we fill it or not..."
   ]
  },
  {
   "cell_type": "code",
   "execution_count": null,
   "id": "bulgarian-jacket",
   "metadata": {},
   "outputs": [],
   "source": [
    "sns.histplot(x=titanic.Age, bins=30, fill=None);"
   ]
  },
  {
   "cell_type": "code",
   "execution_count": null,
   "id": "welsh-vintage",
   "metadata": {},
   "outputs": [],
   "source": [
    "sns.histplot(x=titanic.Age, bins=30, fill=None, kde=True);"
   ]
  },
  {
   "cell_type": "markdown",
   "id": "5fe9a307",
   "metadata": {
    "lang": "en"
   },
   "source": [
    "We can ask for an approximation of the distribution / kernel density estimation"
   ]
  },
  {
   "cell_type": "code",
   "execution_count": null,
   "id": "7fc60df0",
   "metadata": {},
   "outputs": [],
   "source": [
    "sns.histplot(x=titanic.Age, kde=True);"
   ]
  },
  {
   "cell_type": "markdown",
   "id": "ea29b1a5",
   "metadata": {},
   "source": [
    "### Matplotlib"
   ]
  },
  {
   "cell_type": "markdown",
   "id": "combined-specialist",
   "metadata": {},
   "source": [
    "https://htmlcolorcodes.com"
   ]
  },
  {
   "cell_type": "code",
   "execution_count": null,
   "id": "floppy-vitamin",
   "metadata": {},
   "outputs": [],
   "source": [
    "titanic.Age.plot.hist(bins=30, color=\"#fd7e14\",rwidth=0.90 )"
   ]
  },
  {
   "cell_type": "code",
   "execution_count": null,
   "id": "enormous-omega",
   "metadata": {},
   "outputs": [],
   "source": [
    "titanic.Age.plot.hist(bins=30, color=\"#fd7e14\",rwidth=0.90, histtype=\"step\")"
   ]
  },
  {
   "cell_type": "markdown",
   "id": "83e0af20",
   "metadata": {
    "lang": "en"
   },
   "source": [
    "## More Variables - Stacked Hist"
   ]
  },
  {
   "cell_type": "markdown",
   "id": "16671acc",
   "metadata": {},
   "source": [
    "### Seaborn"
   ]
  },
  {
   "cell_type": "code",
   "execution_count": null,
   "id": "225fe610",
   "metadata": {},
   "outputs": [],
   "source": [
    "sns.histplot(data=titanic, x=\"Age\", hue=\"Survived\", multiple=\"stack\")"
   ]
  },
  {
   "cell_type": "code",
   "execution_count": null,
   "id": "b03c5ba9",
   "metadata": {},
   "outputs": [],
   "source": [
    "sns.histplot(data=titanic, x= \"Age\", hue=\"Pclass\", multiple=\"stack\")"
   ]
  },
  {
   "cell_type": "code",
   "execution_count": null,
   "id": "daily-warrior",
   "metadata": {},
   "outputs": [],
   "source": [
    "sns.histplot(data=penguins, x=\"flipper_length_mm\", hue=\"species\")"
   ]
  },
  {
   "cell_type": "code",
   "execution_count": null,
   "id": "logical-burner",
   "metadata": {},
   "outputs": [],
   "source": [
    "sns.histplot(data=penguins, x=\"flipper_length_mm\", hue=\"species\", multiple=\"stack\")"
   ]
  },
  {
   "cell_type": "markdown",
   "id": "5453feee",
   "metadata": {
    "lang": "en"
   },
   "source": [
    "Not only can I condition a histplot (that is, show me the data with a condition in the dataframe), but also, instead of choosing all the categories in the hue, I can choose only the ones I want."
   ]
  },
  {
   "cell_type": "code",
   "execution_count": null,
   "id": "359835cb",
   "metadata": {},
   "outputs": [],
   "source": [
    "sns.histplot(palette=\"mako\", x=penguins[penguins.flipper_length_mm > 170].flipper_length_mm, hue=penguins[(penguins.species==\"Adelie\")|(penguins.species==\"Chinstrap\")].species)"
   ]
  },
  {
   "cell_type": "markdown",
   "id": "b6764fa8",
   "metadata": {
    "lang": "en"
   },
   "source": [
    "I can filter the data before, in pandas, because it is more comfortable, and pass it filtered to seaborn"
   ]
  },
  {
   "cell_type": "code",
   "execution_count": null,
   "id": "a5ec5547",
   "metadata": {},
   "outputs": [],
   "source": [
    "datos = penguins[((penguins.species==\"Chinstrap\")| (penguins.species==\"Adelie\")) & (penguins.flipper_length_mm > 170)]\n",
    "datos.head()"
   ]
  },
  {
   "cell_type": "code",
   "execution_count": null,
   "id": "arbitrary-agreement",
   "metadata": {},
   "outputs": [],
   "source": [
    "sns.histplot(palette=\"mako\", x=datos.flipper_length_mm, hue=datos.species)"
   ]
  },
  {
   "cell_type": "markdown",
   "id": "04511dce",
   "metadata": {
    "lang": "en"
   },
   "source": [
    "Documentation of histograms --> https://seaborn.pydata.org/generated/seaborn.histplot.html"
   ]
  },
  {
   "cell_type": "code",
   "execution_count": null,
   "id": "sudden-point",
   "metadata": {},
   "outputs": [],
   "source": [
    "fig, axs = plt.subplots(nrows=1, ncols=3, figsize=(20,15))\n",
    "sns.histplot(data=penguins, x=\"flipper_length_mm\", hue=\"species\", ax=axs[0])\n",
    "sns.histplot(data=penguins, x=\"flipper_length_mm\", hue=\"species\", multiple=\"stack\", ax=axs[1])\n",
    "sns.histplot(palette=\"mako\", x=datos.flipper_length_mm, hue=datos.species, ax=axs[2])"
   ]
  },
  {
   "cell_type": "markdown",
   "id": "508b29a8",
   "metadata": {
    "lang": "en"
   },
   "source": [
    "## More Variables / Combo Bars\n",
    "It makes sense when we have categorical variables"
   ]
  },
  {
   "cell_type": "code",
   "execution_count": null,
   "id": "275dc442",
   "metadata": {},
   "outputs": [],
   "source": [
    "def change_01 (x):\n",
    "    if x == 1:\n",
    "        return \"lived\"\n",
    "    else:\n",
    "        return \"died\""
   ]
  },
  {
   "cell_type": "code",
   "execution_count": null,
   "id": "a5ea6ea5",
   "metadata": {},
   "outputs": [],
   "source": [
    "titanic[\"new\"] = titanic.Survived.apply(change_01)"
   ]
  },
  {
   "cell_type": "code",
   "execution_count": null,
   "id": "627502ec",
   "metadata": {},
   "outputs": [],
   "source": [
    "titanic.sample()"
   ]
  },
  {
   "cell_type": "code",
   "execution_count": null,
   "id": "196cccee",
   "metadata": {},
   "outputs": [],
   "source": [
    "sns.histplot(data=titanic, x=\"Age\", hue=\"new\", multiple=\"dodge\", bins=50)"
   ]
  },
  {
   "cell_type": "markdown",
   "id": "ba3a2310",
   "metadata": {
    "lang": "en"
   },
   "source": [
    "## Add KDE to the histplot\n",
    "The lines that we are going to add are from the matplotlib library, but... the good thing is that we can combine both libraries"
   ]
  },
  {
   "cell_type": "code",
   "execution_count": null,
   "id": "352a911c",
   "metadata": {},
   "outputs": [],
   "source": [
    "graf = sns.histplot(x=titanic.Age, kde=True) # Saving the graph as a variable\n",
    "\n",
    "graf.axvline(x=titanic.Age.mean(), c=\"red\", label=\"mean\")\n",
    "graf.axvline(x=titanic.Age.median(), c=\"green\", label=\"median\")\n",
    "graf.axvline(x=titanic.Age.max(), c=\"blue\", label=\"max\") #X axis\n",
    "\n",
    "graf.axhline(y=60, c=\"black\", label=\"Horizontal\") #Y axis\n",
    "plt.legend();"
   ]
  },
  {
   "cell_type": "code",
   "execution_count": null,
   "id": "dominant-asian",
   "metadata": {},
   "outputs": [],
   "source": [
    "# There's a NaN on the column, but is omitted when doing the mean calculation\n",
    "print(titanic.Age.isna().sum())\n",
    "print(titanic.Age.mean())"
   ]
  },
  {
   "cell_type": "markdown",
   "id": "4f96ec30",
   "metadata": {
    "lang": "en"
   },
   "source": [
    "## KDE plot\n",
    "This function allows much more control over the resulting plot than the seaborn.distplot function. If we pass as the first argument the set of y values ​​calculated in the previous section, we get exactly the same graph."
   ]
  },
  {
   "cell_type": "code",
   "execution_count": null,
   "id": "fatty-sound",
   "metadata": {},
   "outputs": [],
   "source": [
    "sns.kdeplot(x=titanic.Age)"
   ]
  },
  {
   "cell_type": "markdown",
   "id": "e9bbdcc6",
   "metadata": {
    "lang": "en"
   },
   "source": [
    "#### With more variables\n"
   ]
  },
  {
   "cell_type": "code",
   "execution_count": null,
   "id": "fitted-invasion",
   "metadata": {},
   "outputs": [],
   "source": [
    "sns.kdeplot(x=titanic.Age, hue=titanic.Pclass);"
   ]
  },
  {
   "cell_type": "code",
   "execution_count": null,
   "id": "operational-notification",
   "metadata": {},
   "outputs": [],
   "source": [
    "sns.kdeplot(x=titanic.Age, hue=titanic.Pclass, fill=True);"
   ]
  },
  {
   "cell_type": "markdown",
   "id": "fdd009d2",
   "metadata": {
    "lang": "en"
   },
   "source": [
    "## scatterplot\n",
    "A scatterplot uses points to represent the values ​​of two different numerical variables. The position of each point on the horizontal and vertical axes indicates the values ​​of an individual data point. Scatter plots are used to look at relationships between variables."
   ]
  },
  {
   "cell_type": "code",
   "execution_count": null,
   "id": "941ddae9",
   "metadata": {},
   "outputs": [],
   "source": [
    "penguins.corr()"
   ]
  },
  {
   "cell_type": "markdown",
   "id": "pressed-mainstream",
   "metadata": {},
   "source": [
    "### Seaborn"
   ]
  },
  {
   "cell_type": "code",
   "execution_count": null,
   "id": "d7b4db4e",
   "metadata": {},
   "outputs": [],
   "source": [
    "sns.scatterplot(x=\"body_mass_g\", y=\"flipper_length_mm\", data=penguins);"
   ]
  },
  {
   "cell_type": "markdown",
   "id": "heard-processing",
   "metadata": {},
   "source": [
    "### Matplotlib"
   ]
  },
  {
   "cell_type": "code",
   "execution_count": null,
   "id": "herbal-present",
   "metadata": {},
   "outputs": [],
   "source": [
    "plt.scatter(x=penguins.body_mass_g, y=penguins.flipper_length_mm);"
   ]
  },
  {
   "cell_type": "code",
   "execution_count": null,
   "id": "violent-heaven",
   "metadata": {},
   "outputs": [],
   "source": [
    "plt.scatter(x=penguins[\"body_mass_g\"], y=penguins[\"flipper_length_mm\"]);"
   ]
  },
  {
   "cell_type": "markdown",
   "id": "stable-resolution",
   "metadata": {},
   "source": [
    "### More categories"
   ]
  },
  {
   "cell_type": "code",
   "execution_count": null,
   "id": "0421cc43",
   "metadata": {},
   "outputs": [],
   "source": [
    "sns.scatterplot(x=\"body_mass_g\", y=\"flipper_length_mm\", hue=\"species\",data=penguins);"
   ]
  },
  {
   "cell_type": "markdown",
   "id": "8cb3996f",
   "metadata": {
    "lang": "en"
   },
   "source": [
    "We can make the size of the dotsdepend on a numeric variable"
   ]
  },
  {
   "cell_type": "code",
   "execution_count": null,
   "id": "f6fb2296",
   "metadata": {},
   "outputs": [],
   "source": [
    "sns.scatterplot(x=\"body_mass_g\", y=\"flipper_length_mm\", hue=\"species\",data=penguins, size=\"flipper_length_mm\");"
   ]
  },
  {
   "cell_type": "code",
   "execution_count": null,
   "id": "instructional-ferry",
   "metadata": {},
   "outputs": [],
   "source": [
    "sns.scatterplot(x=\"body_mass_g\", y=\"flipper_length_mm\", hue=\"species\",data=penguins, size=\"bill_length_mm\");"
   ]
  },
  {
   "cell_type": "code",
   "execution_count": null,
   "id": "conscious-swedish",
   "metadata": {},
   "outputs": [],
   "source": [
    "sns.scatterplot(x=\"body_mass_g\", y=\"flipper_length_mm\", hue=\"species\",data=penguins, size=\"bill_length_mm\", sizes=(20,200), alpha=0.5);"
   ]
  },
  {
   "cell_type": "code",
   "execution_count": null,
   "id": "interim-crown",
   "metadata": {},
   "outputs": [],
   "source": [
    "penguins.head()"
   ]
  },
  {
   "cell_type": "code",
   "execution_count": null,
   "id": "expected-pleasure",
   "metadata": {},
   "outputs": [],
   "source": [
    "sns.scatterplot(x=\"body_mass_g\", y=\"flipper_length_mm\", hue=\"species\",data=penguins, size=\"bill_length_mm\", style=\"island\");"
   ]
  },
  {
   "cell_type": "code",
   "execution_count": null,
   "id": "terminal-nightlife",
   "metadata": {},
   "outputs": [],
   "source": [
    "sns.scatterplot(x=\"body_mass_g\", y=\"flipper_length_mm\", hue=\"species\",data=penguins, size=\"bill_length_mm\");"
   ]
  },
  {
   "cell_type": "markdown",
   "id": "88f57286",
   "metadata": {
    "lang": "en"
   },
   "source": [
    "### With categorical variables"
   ]
  },
  {
   "cell_type": "code",
   "execution_count": null,
   "id": "4078bf55",
   "metadata": {},
   "outputs": [],
   "source": [
    "sns.scatterplot(data=penguins, x=\"species\", y=\"body_mass_g\")"
   ]
  },
  {
   "cell_type": "markdown",
   "id": "d8cc24a6",
   "metadata": {
    "lang": "en"
   },
   "source": [
    "The default representation of data in catplot() uses a scatter plot. There are actually two different categorical scatterplots in seaborn. They take different approaches to solve the main challenge of representing categorical data with a scatter plot, which is that all the points that belong to a category fall in the same position along the axis corresponding to the categorical variable."
   ]
  },
  {
   "cell_type": "code",
   "execution_count": null,
   "id": "7c5ab299",
   "metadata": {},
   "outputs": [],
   "source": [
    "sns.catplot(data=penguins, x=\"species\", y=\"body_mass_g\");"
   ]
  },
  {
   "cell_type": "code",
   "execution_count": null,
   "id": "50323e2b",
   "metadata": {},
   "outputs": [],
   "source": [
    "sns.catplot(data=penguins, x=\"species\", y=\"body_mass_g\", jitter=False)"
   ]
  },
  {
   "cell_type": "code",
   "execution_count": null,
   "id": "11025862",
   "metadata": {},
   "outputs": [],
   "source": [
    "sns.catplot(data=penguins, x=\"species\", y=\"body_mass_g\",hue=\"sex\", jitter=True);"
   ]
  },
  {
   "cell_type": "code",
   "execution_count": null,
   "id": "photographic-johns",
   "metadata": {},
   "outputs": [],
   "source": [
    "sns.catplot(data=penguins, x=\"species\", y=\"body_mass_g\",hue=\"sex\");"
   ]
  },
  {
   "cell_type": "markdown",
   "id": "64024789",
   "metadata": {
    "lang": "en"
   },
   "source": [
    "### swarmplot\n",
    "Draws a categorical scatter plot with non-overlapping points."
   ]
  },
  {
   "cell_type": "code",
   "execution_count": null,
   "id": "5a8eedaa",
   "metadata": {},
   "outputs": [],
   "source": [
    "sns.swarmplot(data=penguins, x=\"body_mass_g\", y=\"sex\", hue=\"species\");"
   ]
  },
  {
   "cell_type": "code",
   "execution_count": null,
   "id": "abandoned-utility",
   "metadata": {},
   "outputs": [],
   "source": [
    "sns.swarmplot(data=penguins, x=\"body_mass_g\", y=\"species\", hue=\"sex\");"
   ]
  },
  {
   "cell_type": "markdown",
   "id": "7fd735fd",
   "metadata": {
    "lang": "en"
   },
   "source": [
    "## Jointplot\n",
    "Draw a two-variable graph with bivariate and univariate graphs. It is similar to a scatterplot but adds the individual histograms of both variables"
   ]
  },
  {
   "cell_type": "code",
   "execution_count": null,
   "id": "russian-bones",
   "metadata": {},
   "outputs": [],
   "source": [
    "penguins.head()"
   ]
  },
  {
   "cell_type": "code",
   "execution_count": null,
   "id": "c6d50352",
   "metadata": {},
   "outputs": [],
   "source": [
    "sns.jointplot(data=penguins, x= \"bill_depth_mm\", y= \"flipper_length_mm\")"
   ]
  },
  {
   "cell_type": "markdown",
   "id": "60bb0872",
   "metadata": {
    "lang": "en"
   },
   "source": [
    "Assigning a `hue` variable will add conditional colors to the scatterplot and draw separate density curves (using kdeplot()) on the marginal axes"
   ]
  },
  {
   "cell_type": "code",
   "execution_count": null,
   "id": "casual-organizer",
   "metadata": {},
   "outputs": [],
   "source": [
    "sns.jointplot(data=penguins, x= \"bill_depth_mm\", y= \"flipper_length_mm\", hue=\"species\")"
   ]
  },
  {
   "cell_type": "code",
   "execution_count": null,
   "id": "electoral-swing",
   "metadata": {},
   "outputs": [],
   "source": [
    "sns.jointplot(data=penguins, x= \"body_mass_g\", y= \"flipper_length_mm\", hue=\"species\")"
   ]
  },
  {
   "cell_type": "markdown",
   "id": "49b9e017",
   "metadata": {
    "lang": "en"
   },
   "source": [
    "### Can you do a Jointplot with matplotlib?\n",
    "Yes, but you have to set the figures and do it independently... here's a [tutorial](https://stackabuse.com/matplotlib-scatter-plot-with-distribution-plots-histograms-jointplot/)"
   ]
  },
  {
   "cell_type": "markdown",
   "id": "294bb12d",
   "metadata": {
    "lang": "en"
   },
   "source": [
    "## pairplot\n",
    "We plot relations between the variables"
   ]
  },
  {
   "cell_type": "code",
   "execution_count": null,
   "id": "a7c2d2d8",
   "metadata": {
    "lang": "es"
   },
   "outputs": [],
   "source": [
    "# Here we use hue with the species because the dataset is classified like this"
   ]
  },
  {
   "cell_type": "code",
   "execution_count": null,
   "id": "hearing-royalty",
   "metadata": {},
   "outputs": [],
   "source": [
    "sns.pairplot(penguins)"
   ]
  },
  {
   "cell_type": "code",
   "execution_count": null,
   "id": "female-petersburg",
   "metadata": {},
   "outputs": [],
   "source": [
    "sns.pairplot(penguins, hue=\"species\")"
   ]
  },
  {
   "cell_type": "code",
   "execution_count": null,
   "id": "terminal-tribune",
   "metadata": {},
   "outputs": [],
   "source": [
    "iris = sns.load_dataset(\"iris\")\n",
    "iris.head()"
   ]
  },
  {
   "cell_type": "code",
   "execution_count": null,
   "id": "professional-execution",
   "metadata": {},
   "outputs": [],
   "source": [
    "sns.pairplot(iris,hue=\"species\")"
   ]
  },
  {
   "cell_type": "markdown",
   "id": "alternative-wellington",
   "metadata": {},
   "source": [
    "## LinePlot"
   ]
  },
  {
   "cell_type": "code",
   "execution_count": null,
   "id": "photographic-guyana",
   "metadata": {},
   "outputs": [],
   "source": [
    "vuelos.head()"
   ]
  },
  {
   "cell_type": "code",
   "execution_count": null,
   "id": "quality-festival",
   "metadata": {},
   "outputs": [],
   "source": [
    "abril = vuelos[vuelos.month==\"Apr\"]"
   ]
  },
  {
   "cell_type": "code",
   "execution_count": null,
   "id": "infectious-hanging",
   "metadata": {},
   "outputs": [],
   "source": [
    "abril.head()"
   ]
  },
  {
   "cell_type": "code",
   "execution_count": null,
   "id": "stock-orbit",
   "metadata": {},
   "outputs": [],
   "source": [
    "sns.lineplot(data=abril, x=\"year\", y=\"passengers\")"
   ]
  },
  {
   "cell_type": "code",
   "execution_count": null,
   "id": "governmental-interpretation",
   "metadata": {},
   "outputs": [],
   "source": [
    "sns.lineplot(data=vuelos, x=\"year\", y=\"passengers\", hue=\"month\")"
   ]
  },
  {
   "cell_type": "markdown",
   "id": "87598c92",
   "metadata": {
    "lang": "en"
   },
   "source": [
    "## Correlation Matrix\n",
    "The correlation matrix is ​​an important data analysis metric that is calculated to summarize the data in order to understand the relationship between the various variables and make decisions accordingly."
   ]
  },
  {
   "cell_type": "code",
   "execution_count": null,
   "id": "macro-remove",
   "metadata": {},
   "outputs": [],
   "source": [
    "corr = titanic.corr()\n",
    "corr"
   ]
  },
  {
   "cell_type": "code",
   "execution_count": null,
   "id": "fresh-classics",
   "metadata": {},
   "outputs": [],
   "source": [
    "corr2 = penguins.corr()\n",
    "corr2"
   ]
  },
  {
   "cell_type": "code",
   "execution_count": null,
   "id": "detected-copying",
   "metadata": {},
   "outputs": [],
   "source": [
    "import numpy as np"
   ]
  },
  {
   "cell_type": "markdown",
   "id": "ranking-trade",
   "metadata": {},
   "source": [
    "[np triu doc ](https://numpy.org/doc/stable/reference/generated/numpy.triu.html)       \n",
    "[np ones_like doc](https://numpy.org/doc/stable/reference/generated/numpy.ones_like.html)"
   ]
  },
  {
   "cell_type": "markdown",
   "id": "2bc883d7",
   "metadata": {
    "lang": "en"
   },
   "source": [
    "Titanic heat map"
   ]
  },
  {
   "cell_type": "code",
   "execution_count": null,
   "id": "apart-drain",
   "metadata": {},
   "outputs": [],
   "source": [
    "mask = np.triu(np.ones_like(corr, dtype=bool)) \n",
    "color_map = sns.diverging_palette(0, 10, as_cmap=True)\n",
    "sns.heatmap(corr,  \n",
    "            mask = mask,\n",
    "            cmap=color_map,\n",
    "            square=True, \n",
    "            linewidth=0.5, \n",
    "            vmax=1,\n",
    "            cbar_kws={\"shrink\": .5}\n",
    ");"
   ]
  },
  {
   "cell_type": "markdown",
   "id": "b3b6e655",
   "metadata": {
    "lang": "en"
   },
   "source": [
    "Penguins heatmap"
   ]
  },
  {
   "cell_type": "code",
   "execution_count": null,
   "id": "restricted-germany",
   "metadata": {},
   "outputs": [],
   "source": [
    "mask = np.triu(np.ones_like(corr2, dtype=bool))\n",
    "color_map = sns.diverging_palette(0, 10, as_cmap=True)\n",
    "sns.heatmap(corr2,  \n",
    "            mask = mask,\n",
    "            cmap=\"viridis\",\n",
    "            square=True, \n",
    "            linewidth=0.5,\n",
    "            vmax=1,\n",
    "            cbar_kws={\"shrink\": .5}\n",
    ");"
   ]
  },
  {
   "cell_type": "markdown",
   "id": "20877bba",
   "metadata": {
    "lang": "en"
   },
   "source": [
    "## Boxplot\n",
    "This type of chart displays the three quartile values ​​of the distribution along with the extreme values. The lines are extended to points that are within 1.5 IQRs of the lower and upper quartile, and then observations that fall outside this range are displayed independently. This means that each value in the boxplot corresponds to an actual observation in the data."
   ]
  },
  {
   "cell_type": "markdown",
   "id": "72616963",
   "metadata": {
    "lang": "en"
   },
   "source": [
    "The lines:\n",
    " - The one in the middle: the median\n",
    " - The one in the middle to the left: Q1: percentile 25%\n",
    " - Mean on the right: Q3: percentile 75%\n",
    " \n",
    " - Left: Q1 - 1.5 IQR\n",
    " - Right: Q3 + 1.5 IQR"
   ]
  },
  {
   "cell_type": "markdown",
   "id": "8f41af0b",
   "metadata": {
    "lang": "en"
   },
   "source": [
    "+ First quartile: 25% of the values ​​are less than or equal to this value (point 2 in the graph above).\n",
    "+ Median or Second Quartile: Divides the distribution into two equal parts. So that 50% of the values ​​are less than or equal to this value (point 3 in the following graph).\n",
    "+ Third quartile: 75% of the values ​​are less than or equal to this value (point 4 in the graph below).\n",
    "Interquartile Range (IQR): Difference between the value of the third quartile and the first quartile."
   ]
  },
  {
   "cell_type": "markdown",
   "id": "5c0ae5fa",
   "metadata": {},
   "source": [
    "![boxplots](https://www.simplypsychology.org/box-whisker-plot.jpg)"
   ]
  },
  {
   "cell_type": "code",
   "execution_count": null,
   "id": "b60de83e",
   "metadata": {
    "scrolled": true
   },
   "outputs": [],
   "source": [
    "sns.boxplot(x=\"Age\", data=titanic)"
   ]
  },
  {
   "cell_type": "code",
   "execution_count": null,
   "id": "5a03353e",
   "metadata": {},
   "outputs": [],
   "source": [
    "titanic.Age.max()"
   ]
  },
  {
   "cell_type": "code",
   "execution_count": null,
   "id": "d43ed5eb",
   "metadata": {},
   "outputs": [],
   "source": [
    "titanic.Age.dropna().quantile(.50)"
   ]
  },
  {
   "cell_type": "code",
   "execution_count": null,
   "id": "24b05e24",
   "metadata": {},
   "outputs": [],
   "source": [
    "titanic.Age.dropna().quantile(.25)"
   ]
  },
  {
   "cell_type": "code",
   "execution_count": null,
   "id": "5a50d6c0",
   "metadata": {},
   "outputs": [],
   "source": [
    "titanic.Age.dropna().quantile(.75)"
   ]
  },
  {
   "cell_type": "code",
   "execution_count": null,
   "id": "expanded-balance",
   "metadata": {},
   "outputs": [],
   "source": [
    "titanic.Age.median()"
   ]
  },
  {
   "cell_type": "code",
   "execution_count": null,
   "id": "856743ae",
   "metadata": {},
   "outputs": [],
   "source": [
    "sns.boxplot(x=\"Pclass\", y=\"Age\", data=titanic)"
   ]
  },
  {
   "cell_type": "markdown",
   "id": "4aaf0ccb",
   "metadata": {
    "lang": "en"
   },
   "source": [
    "## ViolinPlot\n",
    "A violin chart is a method of representing numerical data. It is similar to a box plot, with the addition of a rotated kernel density plot on each side"
   ]
  },
  {
   "cell_type": "code",
   "execution_count": null,
   "id": "b0d54d9d",
   "metadata": {},
   "outputs": [],
   "source": [
    "violin = sns.violinplot(x=titanic.Age)\n",
    "violin.axvline(x=titanic.Age.median(), c=\"red\", label=\"median\")\n",
    "plt.legend()"
   ]
  },
  {
   "cell_type": "code",
   "execution_count": null,
   "id": "4474840d",
   "metadata": {},
   "outputs": [],
   "source": [
    "sns.violinplot(x=penguins.bill_length_mm, y=penguins.species);"
   ]
  },
  {
   "cell_type": "markdown",
   "id": "cdeaaeb6",
   "metadata": {
    "lang": "en"
   },
   "source": [
    "## Pie plot 👀\n",
    "- ⚠️ DOES NOT display quantitative data very effectively.\n",
    "- ⚠️ Small portions, for example 2% of the total, run the risk of being invisible on the Chart.\n",
    "- ⚠️ People find it very difficult to compare areas and angles with each other, especially when they present similar values."
   ]
  },
  {
   "cell_type": "code",
   "execution_count": null,
   "id": "returning-energy",
   "metadata": {},
   "outputs": [],
   "source": [
    "datos = penguins[\"species\"].value_counts()\n",
    "datos"
   ]
  },
  {
   "cell_type": "code",
   "execution_count": null,
   "id": "changing-anchor",
   "metadata": {},
   "outputs": [],
   "source": [
    "datos.plot.pie(autopct=\"%.1f%%\")"
   ]
  },
  {
   "cell_type": "markdown",
   "id": "cedde1fa",
   "metadata": {
    "lang": "en"
   },
   "source": [
    "## Subplots\n",
    "Used to paint several graphics in the same \"image\""
   ]
  },
  {
   "cell_type": "code",
   "execution_count": null,
   "id": "9dd2b673",
   "metadata": {
    "lang": "es"
   },
   "outputs": [],
   "source": [
    "# We create a figure and axes, where we will later access them in the form of coordinates [row,column]\n",
    "\n",
    "fig, ax = plt.subplots(nrows=2, ncols=3, figsize=(15,10))"
   ]
  },
  {
   "cell_type": "code",
   "execution_count": null,
   "id": "infrared-influence",
   "metadata": {},
   "outputs": [],
   "source": [
    "import warnings\n",
    "warnings.filterwarnings(\"ignore\")"
   ]
  },
  {
   "cell_type": "code",
   "execution_count": null,
   "id": "lonely-playing",
   "metadata": {},
   "outputs": [],
   "source": [
    "fig, axs = plt.subplots(nrows=2, ncols=3, figsize=(20,15))\n",
    "\n",
    "penguins.groupby([\"species\",\"sex\"])[\"sex\"].count().unstack().plot(kind=\"barh\", ax=axs[0,0])\n",
    "sns.violinplot(x =penguins.bill_length_mm, y=penguins.species,ax=axs[0,1])\n",
    "sns.histplot(data=penguins, x=\"flipper_length_mm\", hue=\"species\", multiple=\"stack\", ax=axs[0,2])\n",
    "sns.swarmplot(data=penguins, x=\"body_mass_g\", y=\"sex\", hue=\"species\", ax=axs[1,0])\n",
    "datos.plot.pie(autopct=\"%.1f%%\",ax=axs[1,1])\n",
    "sns.countplot(x=penguins.sex, ax=axs[1, 2])"
   ]
  },
  {
   "cell_type": "markdown",
   "id": "a0c29a9c",
   "metadata": {
    "lang": "en"
   },
   "source": [
    "## Save Plots"
   ]
  },
  {
   "cell_type": "code",
   "execution_count": null,
   "id": "expected-audio",
   "metadata": {},
   "outputs": [],
   "source": [
    "scatter = sns.scatterplot(x=\"body_mass_g\", y=\"flipper_length_mm\", data=penguins, hue=\"species\");\n",
    "scatter.figure.savefig(\"../images/scatter.jpg\", dpi=1000)"
   ]
  },
  {
   "cell_type": "code",
   "execution_count": null,
   "id": "positive-intro",
   "metadata": {},
   "outputs": [],
   "source": [
    "graf = sns.histplot(x=titanic.Age, kde=True)\n",
    "graf.axvline(x=titanic.Age.dropna().mean(), c=\"red\", label=\"mean\")\n",
    "graf.axvline(x=titanic.Age.dropna().median(), c=\"green\", label=\"median\")\n",
    "plt.legend()\n",
    "graf.figure.savefig(\"../images/gráfico.png\", dpi=1000)"
   ]
  }
 ],
 "metadata": {
  "kernelspec": {
   "display_name": "Python 3 (ipykernel)",
   "language": "python",
   "name": "python3"
  },
  "language_info": {
   "codemirror_mode": {
    "name": "ipython",
    "version": 3
   },
   "file_extension": ".py",
   "mimetype": "text/x-python",
   "name": "python",
   "nbconvert_exporter": "python",
   "pygments_lexer": "ipython3",
   "version": "3.9.12"
  },
  "nbTranslate": {
   "displayLangs": [
    "en",
    "es"
   ],
   "hotkey": "alt-a",
   "langInMainMenu": true,
   "sourceLang": "es",
   "targetLang": "en",
   "useGoogleTranslate": true
  },
  "toc": {
   "base_numbering": 1,
   "nav_menu": {},
   "number_sections": true,
   "sideBar": true,
   "skip_h1_title": true,
   "title_cell": "Table of Contents",
   "title_sidebar": "Contents",
   "toc_cell": true,
   "toc_position": {
    "height": "calc(100% - 180px)",
    "left": "10px",
    "top": "150px",
    "width": "247px"
   },
   "toc_section_display": true,
   "toc_window_display": true
  }
 },
 "nbformat": 4,
 "nbformat_minor": 5
}
