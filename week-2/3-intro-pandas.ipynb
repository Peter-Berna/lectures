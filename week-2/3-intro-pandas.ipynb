{
 "cells": [
  {
   "cell_type": "markdown",
   "id": "adaptive-irrigation",
   "metadata": {
    "toc": true
   },
   "source": [
    "<h1>Table of Contents<span class=\"tocSkip\"></span></h1>\n",
    "<div class=\"toc\"><ul class=\"toc-item\"><li><span><a href=\"#Introduction\" data-toc-modified-id=\"Introduction-1\"><span class=\"toc-item-num\">1&nbsp;&nbsp;</span>Introduction</a></span></li><li><span><a href=\"#Installation\" data-toc-modified-id=\"Installation-2\"><span class=\"toc-item-num\">2&nbsp;&nbsp;</span>Installation</a></span></li><li><span><a href=\"#Introduction-to-pandas-data-structures\" data-toc-modified-id=\"Introduction-to-pandas-data-structures-3\"><span class=\"toc-item-num\">3&nbsp;&nbsp;</span>Introduction to pandas data structures</a></span><ul class=\"toc-item\"><li><span><a href=\"#Series\" data-toc-modified-id=\"Series-3.1\"><span class=\"toc-item-num\">3.1&nbsp;&nbsp;</span>Series</a></span></li><li><span><a href=\"#Find-NaN-values\" data-toc-modified-id=\"Find-NaN-values-3.2\"><span class=\"toc-item-num\">3.2&nbsp;&nbsp;</span>Find NaN values</a></span></li></ul></li><li><span><a href=\"#Read/write-data\" data-toc-modified-id=\"Read/write-data-4\"><span class=\"toc-item-num\">4&nbsp;&nbsp;</span>Read/write data</a></span><ul class=\"toc-item\"><li><span><a href=\"#We-load-data-in-CSV-format\" data-toc-modified-id=\"We-load-data-in-CSV-format-4.1\"><span class=\"toc-item-num\">4.1&nbsp;&nbsp;</span>We load data in CSV format</a></span></li><li><span><a href=\"#We-load-data-in-xlsx-format\" data-toc-modified-id=\"We-load-data-in-xlsx-format-4.2\"><span class=\"toc-item-num\">4.2&nbsp;&nbsp;</span>We load data in xlsx format</a></span></li><li><span><a href=\"#We-display-the-first-rows\" data-toc-modified-id=\"We-display-the-first-rows-4.3\"><span class=\"toc-item-num\">4.3&nbsp;&nbsp;</span>We display the first rows</a></span></li><li><span><a href=\"#We-display-the-last-rows\" data-toc-modified-id=\"We-display-the-last-rows-4.4\"><span class=\"toc-item-num\">4.4&nbsp;&nbsp;</span>We display the last rows</a></span></li><li><span><a href=\"#Visualize-a-random-sample\" data-toc-modified-id=\"Visualize-a-random-sample-4.5\"><span class=\"toc-item-num\">4.5&nbsp;&nbsp;</span>Visualize a random sample</a></span></li></ul></li><li><span><a href=\"#Exploratory-analysis-of-a-dataframe\" data-toc-modified-id=\"Exploratory-analysis-of-a-dataframe-5\"><span class=\"toc-item-num\">5&nbsp;&nbsp;</span>Exploratory analysis of a dataframe</a></span></li><li><span><a href=\"#Basic-operations-with-dataframes\" data-toc-modified-id=\"Basic-operations-with-dataframes-6\"><span class=\"toc-item-num\">6&nbsp;&nbsp;</span>Basic operations with dataframes</a></span><ul class=\"toc-item\"><li><span><a href=\"#We-select-a-column\" data-toc-modified-id=\"We-select-a-column-6.1\"><span class=\"toc-item-num\">6.1&nbsp;&nbsp;</span>We select a column</a></span></li><li><span><a href=\"#We-select-several-columns\" data-toc-modified-id=\"We-select-several-columns-6.2\"><span class=\"toc-item-num\">6.2&nbsp;&nbsp;</span>We select several columns</a></span></li><li><span><a href=\"#Get-the-unique-values-​​of-a-column-(ie-a-Series)\" data-toc-modified-id=\"Get-the-unique-values-​​of-a-column-(ie-a-Series)-6.3\"><span class=\"toc-item-num\">6.3&nbsp;&nbsp;</span>Get the unique values ​​of a column (ie a Series)</a></span></li><li><span><a href=\"#Change-the-data-type-of-a-column\" data-toc-modified-id=\"Change-the-data-type-of-a-column-6.4\"><span class=\"toc-item-num\">6.4&nbsp;&nbsp;</span>Change the data type of a column</a></span></li><li><span><a href=\"#We-filter-the-data-by-the-value-of-the-columns\" data-toc-modified-id=\"We-filter-the-data-by-the-value-of-the-columns-6.5\"><span class=\"toc-item-num\">6.5&nbsp;&nbsp;</span>We filter the data by the value of the columns</a></span></li><li><span><a href=\"#Copy-a-dataframe-and-rename-columns\" data-toc-modified-id=\"Copy-a-dataframe-and-rename-columns-6.6\"><span class=\"toc-item-num\">6.6&nbsp;&nbsp;</span>Copy a dataframe and rename columns</a></span><ul class=\"toc-item\"><li><span><a href=\"#Rename-columns\" data-toc-modified-id=\"Rename-columns-6.6.1\"><span class=\"toc-item-num\">6.6.1&nbsp;&nbsp;</span>Rename columns</a></span></li><li><span><a href=\"#We-can-rename-the-columns-by-crushing-the-instance-attribute...-does-this-ring-a-bell?\" data-toc-modified-id=\"We-can-rename-the-columns-by-crushing-the-instance-attribute...-does-this-ring-a-bell?-6.6.2\"><span class=\"toc-item-num\">6.6.2&nbsp;&nbsp;</span>We can rename the columns by crushing the instance attribute... does this ring a bell?</a></span></li></ul></li><li><span><a href=\"#delete-columns\" data-toc-modified-id=\"delete-columns-6.7\"><span class=\"toc-item-num\">6.7&nbsp;&nbsp;</span>delete columns</a></span></li><li><span><a href=\"#delete-rows\" data-toc-modified-id=\"delete-rows-6.8\"><span class=\"toc-item-num\">6.8&nbsp;&nbsp;</span>delete rows</a></span></li><li><span><a href=\"#Reset_index-and-set_index\" data-toc-modified-id=\"Reset_index-and-set_index-6.9\"><span class=\"toc-item-num\">6.9&nbsp;&nbsp;</span>Reset_index and set_index</a></span><ul class=\"toc-item\"><li><span><a href=\"#SET_INDEX\" data-toc-modified-id=\"SET_INDEX-6.9.1\"><span class=\"toc-item-num\">6.9.1&nbsp;&nbsp;</span>SET_INDEX</a></span></li></ul></li><li><span><a href=\"#Operations-between-columns\" data-toc-modified-id=\"Operations-between-columns-6.10\"><span class=\"toc-item-num\">6.10&nbsp;&nbsp;</span>Operations between columns</a></span></li></ul></li><li><span><a href=\"#Apply-!\" data-toc-modified-id=\"Apply-!-7\"><span class=\"toc-item-num\">7&nbsp;&nbsp;</span>Apply !</a></span><ul class=\"toc-item\"><li><ul class=\"toc-item\"><li><span><a href=\"#Passing-a-map-or-an-apply\" data-toc-modified-id=\"Passing-a-map-or-an-apply-7.0.1\"><span class=\"toc-item-num\">7.0.1&nbsp;&nbsp;</span>Passing a map or an apply</a></span></li><li><span><a href=\"#Receive:\" data-toc-modified-id=\"Receive:-7.0.2\"><span class=\"toc-item-num\">7.0.2&nbsp;&nbsp;</span>Receive:</a></span></li></ul></li></ul></li><li><span><a href=\"#Df-.loc-&amp;-.iloc\" data-toc-modified-id=\"Df-.loc-&amp;-.iloc-8\"><span class=\"toc-item-num\">8&nbsp;&nbsp;</span>Df .loc &amp; .iloc</a></span><ul class=\"toc-item\"><li><span><a href=\"#Select-rows-and-columns-in-Pandas-by-position-with-iloc\" data-toc-modified-id=\"Select-rows-and-columns-in-Pandas-by-position-with-iloc-8.1\"><span class=\"toc-item-num\">8.1&nbsp;&nbsp;</span>Select rows and columns in Pandas by position with iloc</a></span></li><li><span><a href=\"#Select-rows-and-columns-in-Pandas-based-on-labels-with-loc\" data-toc-modified-id=\"Select-rows-and-columns-in-Pandas-based-on-labels-with-loc-8.2\"><span class=\"toc-item-num\">8.2&nbsp;&nbsp;</span>Select rows and columns in Pandas based on labels with loc</a></span><ul class=\"toc-item\"><li><span><a href=\"#Based-on-label\" data-toc-modified-id=\"Based-on-label-8.2.1\"><span class=\"toc-item-num\">8.2.1&nbsp;&nbsp;</span>Based on label</a></span></li></ul></li></ul></li><li><span><a href=\"#Order-a-dataframe\" data-toc-modified-id=\"Order-a-dataframe-9\"><span class=\"toc-item-num\">9&nbsp;&nbsp;</span>Order a dataframe</a></span><ul class=\"toc-item\"><li><span><a href=\"#Look-for-null-values\" data-toc-modified-id=\"Look-for-null-values-9.1\"><span class=\"toc-item-num\">9.1&nbsp;&nbsp;</span>Look for null values</a></span><ul class=\"toc-item\"><li><span><a href=\"#It-is-null?\" data-toc-modified-id=\"It-is-null?-9.1.1\"><span class=\"toc-item-num\">9.1.1&nbsp;&nbsp;</span>It is null?</a></span></li><li><span><a href=\"#Is-NOT-null?\" data-toc-modified-id=\"Is-NOT-null?-9.1.2\"><span class=\"toc-item-num\">9.1.2&nbsp;&nbsp;</span>Is NOT null?</a></span></li><li><span><a href=\"#Sum-the-null-values-​​of-each-column\" data-toc-modified-id=\"Sum-the-null-values-​​of-each-column-9.1.3\"><span class=\"toc-item-num\">9.1.3&nbsp;&nbsp;</span>Sum the null values ​​of each column</a></span></li></ul></li><li><span><a href=\"#delete-null-values\" data-toc-modified-id=\"delete-null-values-9.2\"><span class=\"toc-item-num\">9.2&nbsp;&nbsp;</span>delete null values</a></span></li><li><span><a href=\"#How-to-fill-in-the-missing-data\" data-toc-modified-id=\"How-to-fill-in-the-missing-data-9.3\"><span class=\"toc-item-num\">9.3&nbsp;&nbsp;</span>How to fill in the missing data</a></span><ul class=\"toc-item\"><li><ul class=\"toc-item\"><li><span><a href=\"#CATEGORIES-IN-DATAFRAME:-DOCUMENTATION\" data-toc-modified-id=\"CATEGORIES-IN-DATAFRAME:-DOCUMENTATION-9.3.0.1\"><span class=\"toc-item-num\">9.3.0.1&nbsp;&nbsp;</span>CATEGORIES IN DATAFRAME: DOCUMENTATION</a></span></li></ul></li></ul></li></ul></li><li><span><a href=\"#We-delete-the-duplicates\" data-toc-modified-id=\"We-delete-the-duplicates-10\"><span class=\"toc-item-num\">10&nbsp;&nbsp;</span>We delete the duplicates</a></span></li><li><span><a href=\"#Data-aggregation\" data-toc-modified-id=\"Data-aggregation-11\"><span class=\"toc-item-num\">11&nbsp;&nbsp;</span>Data aggregation</a></span><ul class=\"toc-item\"><li><span><a href=\"#GroupBy-&amp;-pivot_table\" data-toc-modified-id=\"GroupBy-&amp;-pivot_table-11.1\"><span class=\"toc-item-num\">11.1&nbsp;&nbsp;</span>GroupBy &amp; pivot_table</a></span></li><li><span><a href=\"#Union-of-Dataframes\" data-toc-modified-id=\"Union-of-Dataframes-11.2\"><span class=\"toc-item-num\">11.2&nbsp;&nbsp;</span>Union of Dataframes</a></span></li><li><span><a href=\"#Concat\" data-toc-modified-id=\"Concat-11.3\"><span class=\"toc-item-num\">11.3&nbsp;&nbsp;</span>Concat</a></span><ul class=\"toc-item\"><li><span><a href=\"#Concatenating-on-axis-0-(rows)\" data-toc-modified-id=\"Concatenating-on-axis-0-(rows)-11.3.1\"><span class=\"toc-item-num\">11.3.1&nbsp;&nbsp;</span>Concatenating on axis 0 (rows)</a></span></li><li><span><a href=\"#Concatenating-on-axis-1-(columns)\" data-toc-modified-id=\"Concatenating-on-axis-1-(columns)-11.3.2\"><span class=\"toc-item-num\">11.3.2&nbsp;&nbsp;</span>Concatenating on axis 1 (columns)</a></span></li></ul></li><li><span><a href=\"#Merge\" data-toc-modified-id=\"Merge-11.4\"><span class=\"toc-item-num\">11.4&nbsp;&nbsp;</span>Merge</a></span><ul class=\"toc-item\"><li><span><a href=\"#LEFT-Merge\" data-toc-modified-id=\"LEFT-Merge-11.4.1\"><span class=\"toc-item-num\">11.4.1&nbsp;&nbsp;</span>LEFT Merge</a></span></li><li><span><a href=\"#RIGHT-Merge\" data-toc-modified-id=\"RIGHT-Merge-11.4.2\"><span class=\"toc-item-num\">11.4.2&nbsp;&nbsp;</span>RIGHT Merge</a></span></li><li><span><a href=\"#INNER-Merge\" data-toc-modified-id=\"INNER-Merge-11.4.3\"><span class=\"toc-item-num\">11.4.3&nbsp;&nbsp;</span>INNER Merge</a></span></li><li><span><a href=\"#OUTER-Merge\" data-toc-modified-id=\"OUTER-Merge-11.4.4\"><span class=\"toc-item-num\">11.4.4&nbsp;&nbsp;</span>OUTER Merge</a></span></li></ul></li><li><span><a href=\"#Join\" data-toc-modified-id=\"Join-11.5\"><span class=\"toc-item-num\">11.5&nbsp;&nbsp;</span>Join</a></span></li><li><span><a href=\"#Differences-between-join-&amp;-merge\" data-toc-modified-id=\"Differences-between-join-&amp;-merge-11.6\"><span class=\"toc-item-num\">11.6&nbsp;&nbsp;</span>Differences between join &amp; merge</a></span></li></ul></li><li><span><a href=\"#Export-data\" data-toc-modified-id=\"Export-data-12\"><span class=\"toc-item-num\">12&nbsp;&nbsp;</span>Export data</a></span></li><li><span><a href=\"#Pandas-usual-methods\" data-toc-modified-id=\"Pandas-usual-methods-13\"><span class=\"toc-item-num\">13&nbsp;&nbsp;</span>Pandas usual methods</a></span></li><li><span><a href=\"#Mega-recap\" data-toc-modified-id=\"Mega-recap-14\"><span class=\"toc-item-num\">14&nbsp;&nbsp;</span>Mega-recap</a></span><ul class=\"toc-item\"><li><ul class=\"toc-item\"><li><span><a href=\"#BASIC-CONCEPTS\" data-toc-modified-id=\"BASIC-CONCEPTS-14.0.1\"><span class=\"toc-item-num\">14.0.1&nbsp;&nbsp;</span>BASIC CONCEPTS</a></span></li><li><span><a href=\"#VISUALIZE-I:-EXPLORE-DATASET\" data-toc-modified-id=\"VISUALIZE-I:-EXPLORE-DATASET-14.0.2\"><span class=\"toc-item-num\">14.0.2&nbsp;&nbsp;</span>VISUALIZE I: EXPLORE DATASET</a></span></li><li><span><a href=\"#CHANGING-THE-DATASET\" data-toc-modified-id=\"CHANGING-THE-DATASET-14.0.3\"><span class=\"toc-item-num\">14.0.3&nbsp;&nbsp;</span>CHANGING THE DATASET</a></span></li><li><span><a href=\"#HANDLING-MISSING-VALUES-&amp;-DUPLICATES\" data-toc-modified-id=\"HANDLING-MISSING-VALUES-&amp;-DUPLICATES-14.0.4\"><span class=\"toc-item-num\">14.0.4&nbsp;&nbsp;</span>HANDLING MISSING VALUES &amp; DUPLICATES</a></span></li><li><span><a href=\"#VISUALIZE-II:-SELECTING-&amp;-ORDERING\" data-toc-modified-id=\"VISUALIZE-II:-SELECTING-&amp;-ORDERING-14.0.5\"><span class=\"toc-item-num\">14.0.5&nbsp;&nbsp;</span>VISUALIZE II: SELECTING &amp; ORDERING</a></span></li><li><span><a href=\"#VISUALIZE-III:-GROUPBY,-AGGREGATIONS\" data-toc-modified-id=\"VISUALIZE-III:-GROUPBY,-AGGREGATIONS-14.0.6\"><span class=\"toc-item-num\">14.0.6&nbsp;&nbsp;</span>VISUALIZE III: GROUPBY, AGGREGATIONS</a></span></li><li><span><a href=\"#AUGMENTING-DATA:-CONCAT,-MERGE-&amp;-JOIN\" data-toc-modified-id=\"AUGMENTING-DATA:-CONCAT,-MERGE-&amp;-JOIN-14.0.7\"><span class=\"toc-item-num\">14.0.7&nbsp;&nbsp;</span>AUGMENTING DATA: CONCAT, MERGE &amp; JOIN</a></span></li></ul></li></ul></li><li><span><a href=\"#Further-materials\" data-toc-modified-id=\"Further-materials-15\"><span class=\"toc-item-num\">15&nbsp;&nbsp;</span>Further materials</a></span></li></ul></div>"
   ]
  },
  {
   "cell_type": "markdown",
   "id": "anonymous-academy",
   "metadata": {},
   "source": [
    "# Pandas"
   ]
  },
  {
   "cell_type": "markdown",
   "id": "residential-needle",
   "metadata": {},
   "source": [
    "![pandas](https://media.giphy.com/media/nVsLCrW5iHf6E/giphy.gif)"
   ]
  },
  {
   "cell_type": "markdown",
   "id": "751721df",
   "metadata": {
    "lang": "en"
   },
   "source": [
    "## Introduction\n",
    "Pandas is undoubtedly the most widely used library in the Python ecosystem for data manipulation and analysis. It's fast, powerful, flexible, easy to use and open source.\n",
    "\n",
    "\n",
    "Among its main features:\n",
    "\n",
    "- A fast and efficient **DataFrame** object for data manipulation with built-in indexing* \n",
    "\n",
    "- **Reading and writing** of data in many formats: Microsoft Excel, CSV, SQL databases, etc;\n",
    "\n",
    "- Integrated and efficient methods for all types of data manipulation: missing data, subset, union, merge, etc;\n",
    "\n",
    "- Ease of working with temporary data (in fact, Pandas is named after \"PANnel DAta\")\n",
    "\n",
    "- Good **integration with other data analysis or Machine learning libraries**: scikit-learn, scipy, seaborn, plotly, etc;\n",
    "\n",
    "- It is **widely used** in both the private and academic sectors\n",
    "\n",
    "\n",
    "Pandas provides high-level data structures and functions designed to make working with structured or tabular data fast, easy, and expressive. Since its introduction in 2010, it has helped make Python a powerful and productive data analysis environment. The main pandas objects that will be used in this book are the DataFrame, a column-oriented tabular data structure with row and column labels, and the Series, a labeled one-dimensional array object.\n",
    "\n",
    "Pandas combines the high performance ideas of NumPy with the flexible data manipulation capabilities of spreadsheets and relational databases (such as SQL). It provides sophisticated indexing functionality to make it easy to reshape, slice and dice, perform aggregations, and select subsets of data."
   ]
  },
  {
   "cell_type": "markdown",
   "id": "hourly-nutrition",
   "metadata": {},
   "source": [
    "![image](https://thumbor.forbes.com/thumbor/960x0/https%3A%2F%2Fblogs-images.forbes.com%2Fgilpress%2Ffiles%2F2016%2F03%2FTime-1200x511.jpg)\n",
    "\n",
    "\n",
    "\n",
    "Source: [Forbes](https://www.forbes.com/sites/gilpress/2016/03/23/data-preparation-most-time-consuming-least-enjoyable-data-science-task-survey-says/#1ba071616f63)"
   ]
  },
  {
   "cell_type": "markdown",
   "id": "b6680d33",
   "metadata": {
    "lang": "en"
   },
   "source": [
    "## Installation"
   ]
  },
  {
   "cell_type": "markdown",
   "id": "58d0e351",
   "metadata": {
    "lang": "en"
   },
   "source": [
    "The first thing you should do will always be\n",
    "`pip install pandas`, `conda install pandas`"
   ]
  },
  {
   "cell_type": "code",
   "execution_count": null,
   "id": "psychological-theorem",
   "metadata": {},
   "outputs": [],
   "source": [
    "import pandas as pd"
   ]
  },
  {
   "cell_type": "markdown",
   "id": "960d4f4b",
   "metadata": {
    "lang": "en"
   },
   "source": [
    "## Introduction to pandas data structures\n",
    "To get started with pandas, you'll need to get comfortable with its two working data structures: Series and DataFrame. Although they are not a universal solution to all problems, they provide a solid and easy-to-use foundation for most applications."
   ]
  },
  {
   "cell_type": "markdown",
   "id": "d636439c",
   "metadata": {
    "lang": "en"
   },
   "source": [
    "### Series\n",
    "A Serie is a one-dimensional array object containing a sequence of values ​​(of NumPy-like types) and an associated array of data labels, called its index. The simplest Series is formed from a single array of data:"
   ]
  },
  {
   "cell_type": "code",
   "execution_count": null,
   "id": "b9abae3b",
   "metadata": {},
   "outputs": [],
   "source": [
    "import pandas as pd"
   ]
  },
  {
   "cell_type": "code",
   "execution_count": null,
   "id": "beautiful-stylus",
   "metadata": {},
   "outputs": [],
   "source": [
    "my_serie = pd.Series([1, 2, 3, \"a string\", 4, 5])"
   ]
  },
  {
   "cell_type": "code",
   "execution_count": null,
   "id": "54db7547",
   "metadata": {
    "scrolled": true
   },
   "outputs": [],
   "source": [
    "my_serie"
   ]
  },
  {
   "cell_type": "code",
   "execution_count": null,
   "id": "7a31f713",
   "metadata": {},
   "outputs": [],
   "source": [
    "type(my_serie)"
   ]
  },
  {
   "cell_type": "code",
   "execution_count": null,
   "id": "81c60f4b",
   "metadata": {
    "scrolled": true
   },
   "outputs": [],
   "source": [
    "list(my_serie.values)"
   ]
  },
  {
   "cell_type": "code",
   "execution_count": null,
   "id": "92a0a1c0",
   "metadata": {},
   "outputs": [],
   "source": [
    "list(my_serie.index)"
   ]
  },
  {
   "cell_type": "markdown",
   "id": "a8006ecb",
   "metadata": {
    "lang": "en"
   },
   "source": [
    "The string representation of a Series displayed interactively shows the index on the left and the values ​​on the right. Since we didn't specify an index for the data, a default one consisting of the integers 0 to N - 1 (where N is the length of the data) is created. You can get the array representation and the index object of the Series through its values ​​and index attributes, respectively:"
   ]
  },
  {
   "cell_type": "markdown",
   "id": "24f739f4",
   "metadata": {
    "lang": "en"
   },
   "source": [
    "Another way to think of a Series is as a fixed-length ordered dict, since it is a mapping of index values ​​to data values. It can be used in many contexts where a dictionary could be used.\n",
    "If you have data contained in a Python dict, you can create a Series from it by passing the dict:"
   ]
  },
  {
   "cell_type": "code",
   "execution_count": null,
   "id": "incorrect-washington",
   "metadata": {},
   "outputs": [],
   "source": [
    "somedata = {\n",
    "    \"Ohio\": 3000,\n",
    "    \"Texas\": 3030,\n",
    "    \"Oregon\":34343,\n",
    "    \"Utah\":4949,\n",
    "    \"Something else\": 223\n",
    "}"
   ]
  },
  {
   "cell_type": "code",
   "execution_count": null,
   "id": "39f994b1",
   "metadata": {},
   "outputs": [],
   "source": [
    "somedata_series = pd.Series(somedata)"
   ]
  },
  {
   "cell_type": "code",
   "execution_count": null,
   "id": "b0a5090f",
   "metadata": {},
   "outputs": [],
   "source": [
    "somedata_series"
   ]
  },
  {
   "cell_type": "code",
   "execution_count": null,
   "id": "9e2ee3dc",
   "metadata": {},
   "outputs": [],
   "source": [
    "somedata_series.index"
   ]
  },
  {
   "cell_type": "markdown",
   "id": "eb3ede87",
   "metadata": {
    "lang": "en"
   },
   "source": [
    "When only one dict is passed, the resulting String index will have the keys of the dict in order. You can override this by passing the keys of the dict in the order you want them to appear in the resulting String:"
   ]
  },
  {
   "cell_type": "code",
   "execution_count": null,
   "id": "convenient-encyclopedia",
   "metadata": {},
   "outputs": [],
   "source": [
    "states = [\"California\", \"Ohio\", \"Oregon\", \"Texas\"]"
   ]
  },
  {
   "cell_type": "code",
   "execution_count": null,
   "id": "cdaaf3f0",
   "metadata": {},
   "outputs": [],
   "source": [
    "somedata_series = pd.Series(somedata, index=states)\n",
    "somedata_series"
   ]
  },
  {
   "cell_type": "code",
   "execution_count": null,
   "id": "37b74d19",
   "metadata": {},
   "outputs": [],
   "source": [
    "#class Series ():\n",
    "    #def __init__ (self, data, index=None):\n",
    "        #pass"
   ]
  },
  {
   "cell_type": "markdown",
   "id": "73a97ba9",
   "metadata": {
    "lang": "en"
   },
   "source": [
    "Here, the three values ​​found in sdata were placed in the appropriate places, but since no value was found for 'California', it appears as NaN (not a number), which is considered in pandas to mark missing values ​​or NA. Since \"Utah\" was not included in the states, it is excluded from the resulting object."
   ]
  },
  {
   "cell_type": "code",
   "execution_count": null,
   "id": "excited-culture",
   "metadata": {},
   "outputs": [],
   "source": [
    "import numpy as np"
   ]
  },
  {
   "cell_type": "code",
   "execution_count": null,
   "id": "2145cda8",
   "metadata": {},
   "outputs": [],
   "source": [
    "somedata_series[\"Ohio\"]"
   ]
  },
  {
   "cell_type": "code",
   "execution_count": null,
   "id": "da1684b9",
   "metadata": {},
   "outputs": [],
   "source": [
    "type(somedata_series[\"Ohio\"])"
   ]
  },
  {
   "cell_type": "code",
   "execution_count": null,
   "id": "292c5e01",
   "metadata": {},
   "outputs": [],
   "source": [
    "somedata_series[\"California\"]"
   ]
  },
  {
   "cell_type": "code",
   "execution_count": null,
   "id": "84e36923",
   "metadata": {},
   "outputs": [],
   "source": [
    "type(somedata_series[\"California\"])"
   ]
  },
  {
   "cell_type": "code",
   "execution_count": null,
   "id": "045740f5",
   "metadata": {},
   "outputs": [],
   "source": [
    "# Cannot do operation with type float -> is there some NaN in that column/row?"
   ]
  },
  {
   "cell_type": "markdown",
   "id": "8ee7446f",
   "metadata": {
    "lang": "en"
   },
   "source": [
    "### Find NaN values\n",
    "NaN stands for Not A Number and is one of the common ways to represent the missing value in the data. It is a special floating point value and cannot be converted to a type other than float.\n",
    "The NaN value is one of the main problems in data analysis. It is very essential to deal with NaN to get the desired results."
   ]
  },
  {
   "cell_type": "code",
   "execution_count": null,
   "id": "after-healthcare",
   "metadata": {},
   "outputs": [],
   "source": [
    "pd.isnull(somedata_series)"
   ]
  },
  {
   "cell_type": "code",
   "execution_count": null,
   "id": "fe543201",
   "metadata": {},
   "outputs": [],
   "source": [
    "pd.isna(somedata_series)"
   ]
  },
  {
   "cell_type": "code",
   "execution_count": null,
   "id": "9f813eaf",
   "metadata": {},
   "outputs": [],
   "source": [
    "pd.isnull(somedata_series).sum()"
   ]
  },
  {
   "cell_type": "markdown",
   "id": "6686773c",
   "metadata": {
    "lang": "en"
   },
   "source": [
    "## Read/write data\n",
    "\n",
    "Pandas can read and write data from a wide variety of formats. [Read the documentation](https://pandas.pydata.org/pandas-docs/stable/user_guide/io.html)\n",
    "Although one of the most common is from a dict of lists of equal length or NumPy arrays:"
   ]
  },
  {
   "cell_type": "code",
   "execution_count": null,
   "id": "05cb539f",
   "metadata": {},
   "outputs": [],
   "source": [
    "#Be mindful of case sensitivity when instantiating pandas objects\n",
    "df = pd.dataFrame(data)"
   ]
  },
  {
   "cell_type": "code",
   "execution_count": null,
   "id": "ongoing-input",
   "metadata": {},
   "outputs": [],
   "source": [
    "data = {'state': ['Ohio', 'Ohio', 'Ohio', 'Nevada', 'Nevada', 'Nevada'],\n",
    "        'year': [2000, 2001, 2002, 2001, 2002, 2003],\n",
    "        'pop': [1.5, 1.7, None, 2.4, 2.9, np.nan]}"
   ]
  },
  {
   "cell_type": "code",
   "execution_count": null,
   "id": "4e035d09",
   "metadata": {},
   "outputs": [],
   "source": [
    "df = pd.DataFrame(data)\n",
    "df"
   ]
  },
  {
   "cell_type": "code",
   "execution_count": null,
   "id": "61addbbc",
   "metadata": {},
   "outputs": [],
   "source": [
    "display(df)"
   ]
  },
  {
   "cell_type": "markdown",
   "id": "9ef077da",
   "metadata": {
    "lang": "en"
   },
   "source": [
    "If I create a dataframe through a list of dictionaries:\n",
    "- Each dictionary will be a row\n",
    "- The keys will be the names of the columns\n",
    "- They have to have the same structure"
   ]
  },
  {
   "cell_type": "code",
   "execution_count": null,
   "id": "67d86571",
   "metadata": {},
   "outputs": [],
   "source": [
    "pd.DataFrame.from_dict(data, orient=\"Index\")"
   ]
  },
  {
   "cell_type": "markdown",
   "id": "52162b19",
   "metadata": {
    "lang": "en"
   },
   "source": [
    "Since we are using Jupyter Notebook, pandas DataFrame objects will be displayed as a more browser-friendly HTML table."
   ]
  },
  {
   "cell_type": "code",
   "execution_count": null,
   "id": "ca17c19e",
   "metadata": {},
   "outputs": [],
   "source": [
    "data_2 = [\n",
    "    {\"name\":\"clara\",\n",
    "    \"age\": 30},\n",
    "    \n",
    "    {\"name\":\"pau\",\n",
    "    \"age\":19},\n",
    "    \n",
    "    {\"name\":\"albert\",\n",
    "    \"age\":30}\n",
    "]"
   ]
  },
  {
   "cell_type": "code",
   "execution_count": null,
   "id": "201ae61b",
   "metadata": {},
   "outputs": [],
   "source": [
    "pd.DataFrame(data_2)"
   ]
  },
  {
   "cell_type": "markdown",
   "id": "3fbaae69",
   "metadata": {
    "lang": "en"
   },
   "source": [
    "### We load data in CSV format"
   ]
  },
  {
   "cell_type": "code",
   "execution_count": null,
   "id": "bronze-corruption",
   "metadata": {},
   "outputs": [],
   "source": [
    "df = pd.read_csv(\"../datasets/avocado_kaggle.csv\")"
   ]
  },
  {
   "cell_type": "code",
   "execution_count": null,
   "id": "72c8d745",
   "metadata": {
    "scrolled": true
   },
   "outputs": [],
   "source": [
    "df"
   ]
  },
  {
   "cell_type": "code",
   "execution_count": null,
   "id": "12b5f38a",
   "metadata": {
    "scrolled": true
   },
   "outputs": [],
   "source": [
    "df.head(2)"
   ]
  },
  {
   "cell_type": "code",
   "execution_count": null,
   "id": "d56cd3c7",
   "metadata": {},
   "outputs": [],
   "source": [
    "df.tail(3)"
   ]
  },
  {
   "cell_type": "code",
   "execution_count": null,
   "id": "7cfe0d6d",
   "metadata": {
    "scrolled": true
   },
   "outputs": [],
   "source": [
    "new_dataset = df.sample(frac=0.15)\n",
    "new_dataset"
   ]
  },
  {
   "cell_type": "code",
   "execution_count": null,
   "id": "8b4e80ea",
   "metadata": {
    "scrolled": true
   },
   "outputs": [],
   "source": [
    "df.info()"
   ]
  },
  {
   "cell_type": "code",
   "execution_count": null,
   "id": "0c83bb0e",
   "metadata": {},
   "outputs": [],
   "source": [
    "df.loc[3]"
   ]
  },
  {
   "cell_type": "code",
   "execution_count": null,
   "id": "c45a0367",
   "metadata": {
    "scrolled": true
   },
   "outputs": [],
   "source": [
    "df.head(3)"
   ]
  },
  {
   "cell_type": "code",
   "execution_count": null,
   "id": "11f73a09",
   "metadata": {},
   "outputs": [],
   "source": [
    "# Shape returns the number of columns and rows into a tuple\n",
    "# Accessing shape is faster than running the method count, as it's an attribute"
   ]
  },
  {
   "cell_type": "code",
   "execution_count": null,
   "id": "5d4a77c4",
   "metadata": {},
   "outputs": [],
   "source": [
    "df.shape[0]"
   ]
  },
  {
   "cell_type": "code",
   "execution_count": null,
   "id": "21b02fa2",
   "metadata": {},
   "outputs": [],
   "source": [
    "df.count()"
   ]
  },
  {
   "cell_type": "code",
   "execution_count": null,
   "id": "23ab326f",
   "metadata": {},
   "outputs": [],
   "source": [
    "# csv = comma separated values"
   ]
  },
  {
   "cell_type": "markdown",
   "id": "8e789df5",
   "metadata": {
    "lang": "en"
   },
   "source": [
    "### We load data in xlsx format"
   ]
  },
  {
   "cell_type": "code",
   "execution_count": null,
   "id": "b0419ea4",
   "metadata": {},
   "outputs": [],
   "source": [
    "#retail = pd.read_excel(\"../datasets/Online Retail.xlsx\")\n",
    "#retail"
   ]
  },
  {
   "cell_type": "markdown",
   "id": "e7886577",
   "metadata": {
    "lang": "en"
   },
   "source": [
    "### We display the first rows"
   ]
  },
  {
   "cell_type": "code",
   "execution_count": null,
   "id": "requested-memorial",
   "metadata": {},
   "outputs": [],
   "source": [
    "df.head()"
   ]
  },
  {
   "cell_type": "markdown",
   "id": "d5c6520b",
   "metadata": {
    "lang": "en"
   },
   "source": [
    "By default head shows me the first 5 rows, I can see some more or less by passing a number as a parameter"
   ]
  },
  {
   "cell_type": "code",
   "execution_count": null,
   "id": "7598fbfe",
   "metadata": {},
   "outputs": [],
   "source": [
    "df.head(3)"
   ]
  },
  {
   "cell_type": "markdown",
   "id": "387332c9",
   "metadata": {
    "lang": "en"
   },
   "source": [
    "### We display the last rows"
   ]
  },
  {
   "cell_type": "code",
   "execution_count": null,
   "id": "lined-switzerland",
   "metadata": {},
   "outputs": [],
   "source": [
    "df.tail()"
   ]
  },
  {
   "cell_type": "markdown",
   "id": "11134b1f",
   "metadata": {
    "lang": "en"
   },
   "source": [
    "Exactly the same as with .head() we pass a parameter to .tail()"
   ]
  },
  {
   "cell_type": "code",
   "execution_count": null,
   "id": "suited-variation",
   "metadata": {},
   "outputs": [],
   "source": [
    "df.tail(10)"
   ]
  },
  {
   "cell_type": "markdown",
   "id": "aa9ca5cd",
   "metadata": {
    "lang": "en"
   },
   "source": [
    "### Visualize a random sample"
   ]
  },
  {
   "cell_type": "code",
   "execution_count": null,
   "id": "beginning-qatar",
   "metadata": {},
   "outputs": [],
   "source": [
    "df.sample()"
   ]
  },
  {
   "cell_type": "code",
   "execution_count": null,
   "id": "17134e7d",
   "metadata": {},
   "outputs": [],
   "source": [
    "df.sample(2)"
   ]
  },
  {
   "cell_type": "code",
   "execution_count": null,
   "id": "d6fc4524",
   "metadata": {},
   "outputs": [],
   "source": [
    "df.sample(frac=0.1)"
   ]
  },
  {
   "cell_type": "markdown",
   "id": "adf7fbf8",
   "metadata": {
    "lang": "en"
   },
   "source": [
    "## Exploratory analysis of a dataframe"
   ]
  },
  {
   "cell_type": "code",
   "execution_count": null,
   "id": "previous-release",
   "metadata": {
    "scrolled": true
   },
   "outputs": [],
   "source": [
    "df"
   ]
  },
  {
   "cell_type": "code",
   "execution_count": null,
   "id": "20215c97",
   "metadata": {},
   "outputs": [],
   "source": [
    "df.info()"
   ]
  },
  {
   "cell_type": "code",
   "execution_count": null,
   "id": "75438ad7",
   "metadata": {},
   "outputs": [],
   "source": [
    "df.shape"
   ]
  },
  {
   "cell_type": "code",
   "execution_count": null,
   "id": "1ad87e2d",
   "metadata": {
    "scrolled": true
   },
   "outputs": [],
   "source": [
    "df.describe() #statistics"
   ]
  },
  {
   "cell_type": "code",
   "execution_count": null,
   "id": "271d9a79",
   "metadata": {},
   "outputs": [],
   "source": [
    "df.describe(percentiles=[0.10,0.50,0.95]) #statistics defining percentiles"
   ]
  },
  {
   "cell_type": "code",
   "execution_count": null,
   "id": "af6da6c3",
   "metadata": {
    "scrolled": true
   },
   "outputs": [],
   "source": [
    "df.head(1)"
   ]
  },
  {
   "cell_type": "code",
   "execution_count": null,
   "id": "c1e4d218",
   "metadata": {
    "scrolled": true
   },
   "outputs": [],
   "source": [
    "df.sample(frac=0.01)"
   ]
  },
  {
   "cell_type": "code",
   "execution_count": null,
   "id": "db4ff60a",
   "metadata": {},
   "outputs": [],
   "source": [
    "df.columns"
   ]
  },
  {
   "cell_type": "markdown",
   "id": "ac26b6d0",
   "metadata": {
    "lang": "en"
   },
   "source": [
    "## Basic operations with dataframes"
   ]
  },
  {
   "cell_type": "code",
   "execution_count": null,
   "id": "27b3d5d1",
   "metadata": {},
   "outputs": [],
   "source": [
    "df['Total Bags'].max()"
   ]
  },
  {
   "cell_type": "code",
   "execution_count": null,
   "id": "6ee0fee7",
   "metadata": {},
   "outputs": [],
   "source": [
    "df[\"Date\"].min()"
   ]
  },
  {
   "cell_type": "code",
   "execution_count": null,
   "id": "be819484",
   "metadata": {
    "scrolled": true
   },
   "outputs": [],
   "source": [
    "df.AveragePrice.mean()"
   ]
  },
  {
   "cell_type": "code",
   "execution_count": null,
   "id": "8809e905",
   "metadata": {},
   "outputs": [],
   "source": [
    "df.type.value_counts() #type is the name of the column"
   ]
  },
  {
   "cell_type": "code",
   "execution_count": null,
   "id": "8c89b01b",
   "metadata": {},
   "outputs": [],
   "source": [
    "list(df.columns)"
   ]
  },
  {
   "cell_type": "code",
   "execution_count": null,
   "id": "94794478",
   "metadata": {},
   "outputs": [],
   "source": [
    "df[\"type\"].value_counts()"
   ]
  },
  {
   "cell_type": "code",
   "execution_count": null,
   "id": "08d00515",
   "metadata": {},
   "outputs": [],
   "source": [
    "df[\"Total Bags\"].sum()"
   ]
  },
  {
   "cell_type": "markdown",
   "id": "c110b361",
   "metadata": {
    "lang": "en"
   },
   "source": [
    "### We select a column"
   ]
  },
  {
   "cell_type": "code",
   "execution_count": null,
   "id": "harmful-breeding",
   "metadata": {},
   "outputs": [],
   "source": [
    "df.sample()"
   ]
  },
  {
   "cell_type": "code",
   "execution_count": null,
   "id": "a97ea6e8",
   "metadata": {},
   "outputs": [],
   "source": [
    "df[\"columm\"]\n",
    "df.Column"
   ]
  },
  {
   "cell_type": "markdown",
   "id": "0abe5788",
   "metadata": {
    "lang": "en"
   },
   "source": [
    "### We select several columns"
   ]
  },
  {
   "cell_type": "code",
   "execution_count": null,
   "id": "independent-alberta",
   "metadata": {},
   "outputs": [],
   "source": [
    "df[[\"Date\", \"Total Bags\"]].head()"
   ]
  },
  {
   "cell_type": "code",
   "execution_count": null,
   "id": "382320ab",
   "metadata": {},
   "outputs": [],
   "source": [
    "new_list = list(df.columns)[6:]\n",
    "new_list"
   ]
  },
  {
   "cell_type": "code",
   "execution_count": null,
   "id": "fa9fd9ae",
   "metadata": {},
   "outputs": [],
   "source": [
    "new_variable = df[new_list].head()\n",
    "new_variable"
   ]
  },
  {
   "cell_type": "markdown",
   "id": "3bfdd8ef",
   "metadata": {
    "lang": "en"
   },
   "source": [
    "### Get the unique values ​​of a column (ie a Series)"
   ]
  },
  {
   "cell_type": "code",
   "execution_count": null,
   "id": "6385b86f",
   "metadata": {},
   "outputs": [],
   "source": [
    "df[\"region\"].unique()"
   ]
  },
  {
   "cell_type": "markdown",
   "id": "898d8fa0",
   "metadata": {
    "lang": "en"
   },
   "source": [
    "### Change the data type of a column"
   ]
  },
  {
   "cell_type": "code",
   "execution_count": null,
   "id": "51a72e8e",
   "metadata": {},
   "outputs": [],
   "source": [
    "df[\"AveragePrice\"] # The type is float"
   ]
  },
  {
   "cell_type": "code",
   "execution_count": null,
   "id": "three-support",
   "metadata": {},
   "outputs": [],
   "source": [
    "df[\"AveragePrice\"].astype(dtype=\"int8\") #This reduces in size and also \n",
    "df[\"AveragePrice\"] #truncates the decimals\n",
    "\n",
    "# I need to save it, otherwise it won't be changes"
   ]
  },
  {
   "cell_type": "markdown",
   "id": "04cc0a80",
   "metadata": {
    "lang": "en"
   },
   "source": [
    "### We filter the data by the value of the columns"
   ]
  },
  {
   "cell_type": "code",
   "execution_count": null,
   "id": "united-genre",
   "metadata": {
    "scrolled": false
   },
   "outputs": [],
   "source": [
    "df.sample()"
   ]
  },
  {
   "cell_type": "code",
   "execution_count": null,
   "id": "6a537c64",
   "metadata": {
    "scrolled": true
   },
   "outputs": [],
   "source": [
    "df[df[\"region\"] !=\"Boston\"] #Whole DF where condition is met"
   ]
  },
  {
   "cell_type": "code",
   "execution_count": null,
   "id": "545189f6",
   "metadata": {
    "scrolled": true
   },
   "outputs": [],
   "source": [
    "df[(df[\"region\"] ==\"Boston\") & (df.AveragePrice < 1)] #AveragePrice >= 1.10"
   ]
  },
  {
   "cell_type": "code",
   "execution_count": null,
   "id": "2de06572",
   "metadata": {
    "scrolled": true
   },
   "outputs": [],
   "source": [
    "df[(df[\"region\"] ==\"Boston\") & ((df.AveragePrice < 1) | (df[\"Total Bags\"] < 1000))] #AveragePrice >= 1.10"
   ]
  },
  {
   "cell_type": "code",
   "execution_count": null,
   "id": "9fbdea2b",
   "metadata": {},
   "outputs": [],
   "source": [
    "df[((df[\"region\"] ==\"Boston\") | (df[\"region\"] ==\"Albany\")) & (df[\"AveragePrice\"] < 1)]"
   ]
  },
  {
   "cell_type": "markdown",
   "id": "a848ff40",
   "metadata": {
    "lang": "en"
   },
   "source": [
    "### Copy a dataframe and rename columns"
   ]
  },
  {
   "cell_type": "code",
   "execution_count": null,
   "id": "intended-merchandise",
   "metadata": {},
   "outputs": [],
   "source": [
    "my_copy = df.copy()\n",
    "my_copy"
   ]
  },
  {
   "cell_type": "markdown",
   "id": "1c5e1955",
   "metadata": {
    "lang": "en"
   },
   "source": [
    "#### Rename columns\n",
    "To rename columns we need a dictionary"
   ]
  },
  {
   "cell_type": "code",
   "execution_count": null,
   "id": "sweet-pocket",
   "metadata": {},
   "outputs": [],
   "source": [
    "my_columns = list(df.columns)\n",
    "my_columns"
   ]
  },
  {
   "cell_type": "code",
   "execution_count": null,
   "id": "5ceea97d",
   "metadata": {},
   "outputs": [],
   "source": [
    "my_columns_changed = {column: column.lower().strip().replace(\" \", \"_\").replace(\":\",\"\") for column in my_columns}\n",
    "my_columns_changed"
   ]
  },
  {
   "cell_type": "markdown",
   "id": "43d7f8be",
   "metadata": {
    "lang": "en"
   },
   "source": [
    "The rename method allows me to rename only the columns that I want, the ones that are in the dictionary. No need to rename all at once"
   ]
  },
  {
   "cell_type": "code",
   "execution_count": null,
   "id": "naval-ukraine",
   "metadata": {},
   "outputs": [],
   "source": [
    "df.rename(columns = my_columns_changed, inplace=True)\n",
    "df.sample()\n",
    "\n",
    "# inplace=True will make sure that I save those changes without the need to save it \n",
    "# into a new variable"
   ]
  },
  {
   "cell_type": "markdown",
   "id": "e809626d",
   "metadata": {
    "lang": "en"
   },
   "source": [
    "#### We can rename the columns by crushing the instance attribute... does this ring a bell?\n",
    "Requires a list with the same number of columns"
   ]
  },
  {
   "cell_type": "code",
   "execution_count": null,
   "id": "24e42c22",
   "metadata": {},
   "outputs": [],
   "source": [
    "my_columns_2 = [i.upper() for i in my_columns]"
   ]
  },
  {
   "cell_type": "code",
   "execution_count": null,
   "id": "732a1fec",
   "metadata": {},
   "outputs": [],
   "source": [
    "my_columns_2"
   ]
  },
  {
   "cell_type": "code",
   "execution_count": null,
   "id": "engaging-robert",
   "metadata": {},
   "outputs": [],
   "source": [
    "df.columns = my_columns_2"
   ]
  },
  {
   "cell_type": "code",
   "execution_count": null,
   "id": "2c064206",
   "metadata": {},
   "outputs": [],
   "source": [
    "df.columns"
   ]
  },
  {
   "cell_type": "code",
   "execution_count": null,
   "id": "65c557d4",
   "metadata": {},
   "outputs": [],
   "source": [
    "df.sample()"
   ]
  },
  {
   "cell_type": "code",
   "execution_count": null,
   "id": "b9183b66",
   "metadata": {},
   "outputs": [],
   "source": [
    "minor_change = {\n",
    "    \"DATE\":\"dates\"\n",
    "}"
   ]
  },
  {
   "cell_type": "code",
   "execution_count": null,
   "id": "2ea23f48",
   "metadata": {},
   "outputs": [],
   "source": [
    "df.rename(columns=minor_change, inplace=True)\n",
    "df.sample()"
   ]
  },
  {
   "cell_type": "markdown",
   "id": "17be832e",
   "metadata": {
    "lang": "en"
   },
   "source": [
    "### delete columns"
   ]
  },
  {
   "cell_type": "code",
   "execution_count": null,
   "id": "renewable-complexity",
   "metadata": {},
   "outputs": [],
   "source": [
    "df.sample()"
   ]
  },
  {
   "cell_type": "code",
   "execution_count": null,
   "id": "15464795",
   "metadata": {},
   "outputs": [],
   "source": [
    "df.drop([\"4046\", \"4770\"], axis=1, inplace=True) #Inplace = will save those changes\n",
    "#into the version you're working with\n",
    "#It will save you from saving into another variable\n",
    "#Either inplace=True OR save changes into new_df\n",
    "df.sample()"
   ]
  },
  {
   "cell_type": "code",
   "execution_count": null,
   "id": "d4f34d73",
   "metadata": {},
   "outputs": [],
   "source": [
    "new_df = df.drop([\"YEAR\", \"TYPE\"], axis=1) #Inplace = will save those changes\n",
    "new_df.sample()"
   ]
  },
  {
   "cell_type": "code",
   "execution_count": null,
   "id": "fc9f2f07",
   "metadata": {},
   "outputs": [],
   "source": [
    "df.drop([\"4225\"], axis=1) # No inplace & no new_df\n",
    "df.sample()"
   ]
  },
  {
   "cell_type": "code",
   "execution_count": null,
   "id": "b5a95b23",
   "metadata": {},
   "outputs": [],
   "source": [
    "df[[\"AVERAGEPRICE\", \"TOTAL VOLUME\"]]"
   ]
  },
  {
   "cell_type": "markdown",
   "id": "208b16d6",
   "metadata": {
    "lang": "en"
   },
   "source": [
    "### delete rows"
   ]
  },
  {
   "cell_type": "code",
   "execution_count": null,
   "id": "impossible-complaint",
   "metadata": {
    "scrolled": true
   },
   "outputs": [],
   "source": [
    "df.head()"
   ]
  },
  {
   "cell_type": "code",
   "execution_count": null,
   "id": "144bf363",
   "metadata": {},
   "outputs": [],
   "source": [
    "df.drop([6, 7], axis=0, inplace=True)"
   ]
  },
  {
   "cell_type": "code",
   "execution_count": null,
   "id": "0450550f",
   "metadata": {},
   "outputs": [],
   "source": [
    "df.head()"
   ]
  },
  {
   "cell_type": "code",
   "execution_count": null,
   "id": "54bf0b88",
   "metadata": {},
   "outputs": [],
   "source": [
    "#df.to_csv(\"path\")\n",
    "#df.read_csv(\"path\")"
   ]
  },
  {
   "cell_type": "markdown",
   "id": "017482de",
   "metadata": {
    "lang": "en"
   },
   "source": [
    "Rows can also be deleted. Note that the indexes are not reset. The index is associated with the row, not the order.\n",
    "Can the index be restarted? Correct"
   ]
  },
  {
   "cell_type": "markdown",
   "id": "e86b9901",
   "metadata": {
    "lang": "en"
   },
   "source": [
    "### Reset_index and set_index"
   ]
  },
  {
   "cell_type": "markdown",
   "id": "92a5ca1d",
   "metadata": {
    "lang": "en"
   },
   "source": [
    "We read the [documentation](https://pandas.pydata.org/pandas-docs/stable/reference/api/pandas.DataFrame.reset_index.html) to understand some parameters"
   ]
  },
  {
   "cell_type": "markdown",
   "id": "invalid-holly",
   "metadata": {},
   "source": [
    "#### SET_INDEX"
   ]
  },
  {
   "cell_type": "code",
   "execution_count": null,
   "id": "happy-record",
   "metadata": {
    "scrolled": true
   },
   "outputs": [],
   "source": [
    "df.head(5)"
   ]
  },
  {
   "cell_type": "code",
   "execution_count": null,
   "id": "bf616ac5",
   "metadata": {
    "scrolled": true
   },
   "outputs": [],
   "source": [
    "df.reset_index(inplace=True, drop=True) #drop=True will prevent the index to be appended into the DF\n",
    "df.head(5)"
   ]
  },
  {
   "cell_type": "code",
   "execution_count": null,
   "id": "00d2960f",
   "metadata": {},
   "outputs": [],
   "source": [
    "df.drop([\"index\"], axis=1, inplace=True) #this works\n",
    "df.sample()"
   ]
  },
  {
   "cell_type": "code",
   "execution_count": null,
   "id": "cffd8bdd",
   "metadata": {},
   "outputs": [],
   "source": [
    "df.sample()"
   ]
  },
  {
   "cell_type": "code",
   "execution_count": null,
   "id": "e7e3598a",
   "metadata": {},
   "outputs": [],
   "source": [
    "df_dates = df.set_index(\"dates\")\n",
    "df_dates"
   ]
  },
  {
   "cell_type": "markdown",
   "id": "d41774c2",
   "metadata": {
    "lang": "en"
   },
   "source": [
    "What can we use to have the date as an index?\n",
    "We will see it later, to analyze temporary series"
   ]
  },
  {
   "cell_type": "code",
   "execution_count": null,
   "id": "e6468f2b",
   "metadata": {},
   "outputs": [],
   "source": [
    "import seaborn as sns\n",
    "sns.set_context(\"poster\")\n",
    "sns.set(rc={'figure.figsize': (20.,6.)})\n",
    "sns.set_style('whitegrid')"
   ]
  },
  {
   "cell_type": "code",
   "execution_count": null,
   "id": "615a444f",
   "metadata": {},
   "outputs": [],
   "source": [
    "df_dates.sample()"
   ]
  },
  {
   "cell_type": "code",
   "execution_count": null,
   "id": "f8e941f4",
   "metadata": {},
   "outputs": [],
   "source": [
    "sns.lineplot(data=df_dates, x=df_dates.index, y=df[\"AVERAGEPRICE\"])"
   ]
  },
  {
   "cell_type": "markdown",
   "id": "9776cc6d",
   "metadata": {
    "lang": "en"
   },
   "source": [
    "### Operations between columns"
   ]
  },
  {
   "cell_type": "code",
   "execution_count": null,
   "id": "ready-current",
   "metadata": {},
   "outputs": [],
   "source": [
    "df.sample()"
   ]
  },
  {
   "cell_type": "code",
   "execution_count": null,
   "id": "68acff66",
   "metadata": {},
   "outputs": [],
   "source": [
    "#I can create new columns just by assigning a name\n",
    "df[\"small_large\"] = df[\"SMALL BAGS\"] * df[\"LARGE BAGS\"]\n",
    "df.sample()"
   ]
  },
  {
   "cell_type": "code",
   "execution_count": null,
   "id": "e61fbab3",
   "metadata": {},
   "outputs": [],
   "source": [
    "df[\"small_large\"].max()"
   ]
  },
  {
   "cell_type": "code",
   "execution_count": null,
   "id": "2f258346",
   "metadata": {},
   "outputs": [],
   "source": [
    "df[\"small_large\"].min()"
   ]
  },
  {
   "cell_type": "markdown",
   "id": "a034b1d0",
   "metadata": {
    "lang": "en"
   },
   "source": [
    "## Apply !"
   ]
  },
  {
   "cell_type": "markdown",
   "id": "6db7bb24",
   "metadata": {
    "lang": "en"
   },
   "source": [
    "Applies a function along an axis of the DataFrame.\n",
    "[Read the docs](https://pandas.pydata.org/docs/reference/api/pandas.DataFrame.apply.html)"
   ]
  },
  {
   "cell_type": "markdown",
   "id": "c96a080d",
   "metadata": {
    "lang": "en"
   },
   "source": [
    "When I do an apply on a column, even though I use a lambda, I don't put axis because in the case below, what I'm doing is modifying a column, I use lambda to tell the apply that the first argument is a string that comes from outside and the second argument is the dataframe's own record."
   ]
  },
  {
   "cell_type": "code",
   "execution_count": null,
   "id": "c818dcda",
   "metadata": {},
   "outputs": [],
   "source": [
    "df.sample()"
   ]
  },
  {
   "cell_type": "code",
   "execution_count": null,
   "id": "98645916",
   "metadata": {},
   "outputs": [],
   "source": [
    "#df[\"new_total_bags\"] = #int(itself)"
   ]
  },
  {
   "cell_type": "code",
   "execution_count": null,
   "id": "93b6304e",
   "metadata": {},
   "outputs": [],
   "source": [
    "def into_int (x):\n",
    "    if x < 1000:\n",
    "        return int(x)\n",
    "    else:\n",
    "        return 0"
   ]
  },
  {
   "cell_type": "code",
   "execution_count": null,
   "id": "6f81e90d",
   "metadata": {
    "scrolled": true
   },
   "outputs": [],
   "source": [
    "df[\"new_total_bags\"] = df[\"TOTAL BAGS\"].apply(into_int) #the value is implicit and corresponds \n",
    "#to the row of the column I'm calling: TOTAL BAGS\n",
    "df.sample(2)"
   ]
  },
  {
   "cell_type": "markdown",
   "id": "99fe117a",
   "metadata": {},
   "source": [
    "The same way map receives a function and something it iteraves over\n",
    "A DF is composed of numpy.arrays. So it's an iterable\n",
    "\n",
    "\n",
    "#### Passing a map or an apply\n",
    "- map -> function, iterable\n",
    "- apply -> function, iterable\n",
    "\n",
    "\n",
    "#### Receive:\n",
    "\n",
    "- apply & user-defined function -> apply(function) \"x\", a value\n",
    "- apply & lambda -> lambda row: row[\"column\"]\n"
   ]
  },
  {
   "cell_type": "code",
   "execution_count": null,
   "id": "bc2cbe91",
   "metadata": {},
   "outputs": [],
   "source": [
    "df.sample(5)"
   ]
  },
  {
   "cell_type": "code",
   "execution_count": null,
   "id": "8f4ed1d6",
   "metadata": {},
   "outputs": [],
   "source": [
    "df[\"brand_new_column\"] = df.apply(lambda row: row[\"REGION\"]  if row[\"YEAR\"] > 2015 else \"Something\", axis = 1)\n",
    "df.sample()\n",
    "\n",
    "\n",
    "# Here lambda receives the whole row (a Seabsries)\n",
    "# Series an element for every column\n",
    "# Because the whole row, I can access the value of that cell through the label row[\"LABEL\"]\n"
   ]
  },
  {
   "cell_type": "code",
   "execution_count": null,
   "id": "cc95ad50",
   "metadata": {
    "scrolled": false
   },
   "outputs": [],
   "source": [
    "df.sample(5)"
   ]
  },
  {
   "cell_type": "code",
   "execution_count": null,
   "id": "8fd5b3d3",
   "metadata": {},
   "outputs": [],
   "source": [
    "def startswithletter (letter, x):\n",
    "    if x.startswith(letter):\n",
    "        return x\n",
    "    else:\n",
    "        return f\"It doesn't start with {letter}\""
   ]
  },
  {
   "cell_type": "code",
   "execution_count": null,
   "id": "6d29f332",
   "metadata": {},
   "outputs": [],
   "source": [
    "#Q: Can you pass a function to a lambda? \n",
    "\n",
    "df[\"yetanotherone\"] = df.region.apply(lambda cell: (startswith(\"L\", cell)))"
   ]
  },
  {
   "cell_type": "code",
   "execution_count": null,
   "id": "80d0ad1c",
   "metadata": {},
   "outputs": [],
   "source": [
    "df[\"yetanotherone\"] = df[\"REGION\"].apply(lambda x: x.lower())"
   ]
  },
  {
   "cell_type": "code",
   "execution_count": null,
   "id": "d1eb4041",
   "metadata": {},
   "outputs": [],
   "source": [
    "df.sample()"
   ]
  },
  {
   "cell_type": "markdown",
   "id": "occupational-intro",
   "metadata": {},
   "source": [
    "## Df .loc & .iloc"
   ]
  },
  {
   "cell_type": "markdown",
   "id": "2510cb04",
   "metadata": {
    "lang": "en"
   },
   "source": [
    "### Select rows and columns in Pandas by position with iloc"
   ]
  },
  {
   "cell_type": "markdown",
   "id": "184d0d9b",
   "metadata": {
    "lang": "en"
   },
   "source": [
    "loc syntax with multiple conditions\n",
    "```python\n",
    "df.loc[(df[\"column\"] condition) & (df[\"column\"] condition)]\n",
    "````"
   ]
  },
  {
   "cell_type": "markdown",
   "id": "c0b495bd",
   "metadata": {
    "lang": "en"
   },
   "source": [
    "The iloc method is used on DataFrames to select elements based on their location. Its syntax is data.iloc[<filas>, <columnas>], where <filas> and <columnas> are the position of the rows and columns that you want to select in the order that they appear in the object. A familiar notation for Matlab users. In a DataFrame, each of the rows has a number that goes from 0 to the total number of rows minus one. Being iloc the method that allows selecting the data based on these numbers. The same applies to columns.\n",
    "\n",
    "In iloc there are two arguments rows and columns. In case the second is omitted, all columns in the row will be selected. So to select different rows can be used."
   ]
  },
  {
   "cell_type": "markdown",
   "id": "642e2963",
   "metadata": {
    "lang": "en"
   },
   "source": [
    "### Select rows and columns in Pandas based on labels with loc\n",
    "The loc method can be used in two different ways: select rows or columns based on a label, or select rows or columns based on a condition."
   ]
  },
  {
   "cell_type": "code",
   "execution_count": null,
   "id": "ec91902d",
   "metadata": {
    "scrolled": true
   },
   "outputs": [],
   "source": [
    "df.sample(5)"
   ]
  },
  {
   "cell_type": "code",
   "execution_count": null,
   "id": "61352e9b",
   "metadata": {},
   "outputs": [],
   "source": [
    "df.loc[1361] #"
   ]
  },
  {
   "cell_type": "code",
   "execution_count": null,
   "id": "09bcdcce",
   "metadata": {},
   "outputs": [],
   "source": [
    "df.iloc[5:10, 3:7] #Integersb"
   ]
  },
  {
   "cell_type": "markdown",
   "id": "e992e0aa",
   "metadata": {
    "lang": "en"
   },
   "source": [
    "#### Based on label"
   ]
  },
  {
   "cell_type": "code",
   "execution_count": null,
   "id": "77e208ab",
   "metadata": {},
   "outputs": [],
   "source": [
    "df.loc[df[\"REGION\"]==\"California\"]"
   ]
  },
  {
   "cell_type": "code",
   "execution_count": null,
   "id": "899459d5",
   "metadata": {},
   "outputs": [],
   "source": [
    "#Reading\n",
    "df_index_date = pd.read_csv(\"../datasets/avocado_kaggle.csv\")\n",
    "\n",
    "#Setting the index as the date\n",
    "df_index_date = df.set_index(\"date\")\n",
    "df_index_date.head()\n",
    "\n",
    "# Accessing the row bu it's label\n",
    "df_index_date.loc[\"2015-12-06\"].head()"
   ]
  },
  {
   "cell_type": "markdown",
   "id": "71547174",
   "metadata": {
    "lang": "en"
   },
   "source": [
    "## Order a dataframe"
   ]
  },
  {
   "cell_type": "code",
   "execution_count": null,
   "id": "2731a30b",
   "metadata": {},
   "outputs": [],
   "source": [
    "df.sample()"
   ]
  },
  {
   "cell_type": "code",
   "execution_count": null,
   "id": "equal-folks",
   "metadata": {},
   "outputs": [],
   "source": [
    "df.sort_values(by=\"TOTAL VOLUME\", ascending=False).head()"
   ]
  },
  {
   "cell_type": "markdown",
   "id": "ec024b5f",
   "metadata": {
    "lang": "en"
   },
   "source": [
    "Same operation, but give me only concrete columns"
   ]
  },
  {
   "cell_type": "code",
   "execution_count": null,
   "id": "4f9bde61",
   "metadata": {
    "scrolled": true
   },
   "outputs": [],
   "source": [
    "new_df = df.loc[(df[\"YEAR\"] > 2016) & (df[\"REGION\"] != \"Albany\")]\n",
    "new_df.sample()"
   ]
  },
  {
   "cell_type": "code",
   "execution_count": null,
   "id": "bf133151",
   "metadata": {},
   "outputs": [],
   "source": [
    "df[\"new_column_based_on_date\"] = df.apply(lambda x: f\"{x['YEAR']} after 2015\" if x[\"TOTAL VOLUME\"] > 1000 else f\"Before {x['YEAR']}\", axis=1)\n",
    "df.sample()"
   ]
  },
  {
   "cell_type": "markdown",
   "id": "b2da7dac",
   "metadata": {
    "lang": "en"
   },
   "source": [
    "### Look for null values"
   ]
  },
  {
   "cell_type": "code",
   "execution_count": null,
   "id": "5ae1f179",
   "metadata": {},
   "outputs": [],
   "source": [
    "import seaborn as sns"
   ]
  },
  {
   "cell_type": "code",
   "execution_count": null,
   "id": "bcc7adc3",
   "metadata": {},
   "outputs": [],
   "source": [
    "df_titanic = sns.load_dataset(\"titanic\")\n",
    "df_titanic.head()"
   ]
  },
  {
   "cell_type": "code",
   "execution_count": null,
   "id": "4b77477a",
   "metadata": {},
   "outputs": [],
   "source": [
    "df_titanic.shape"
   ]
  },
  {
   "cell_type": "markdown",
   "id": "5799f8c3",
   "metadata": {
    "lang": "en"
   },
   "source": [
    "#### It is null?"
   ]
  },
  {
   "cell_type": "code",
   "execution_count": null,
   "id": "4c460922",
   "metadata": {},
   "outputs": [],
   "source": [
    "df_titanic.isnull()"
   ]
  },
  {
   "cell_type": "code",
   "execution_count": null,
   "id": "1cb83457",
   "metadata": {},
   "outputs": [],
   "source": [
    "df_titanic.isna()"
   ]
  },
  {
   "cell_type": "code",
   "execution_count": null,
   "id": "desirable-separation",
   "metadata": {},
   "outputs": [],
   "source": [
    "df_titanic.isna().sum()"
   ]
  },
  {
   "cell_type": "code",
   "execution_count": null,
   "id": "312d04a5",
   "metadata": {},
   "outputs": [],
   "source": [
    "# Total number of NaN in df in all columns\n",
    "\n",
    "total_nan_in_df = df_titanic.isna().sum().sum()\n",
    "total_nan_in_df #just sum() the sum()"
   ]
  },
  {
   "cell_type": "code",
   "execution_count": null,
   "id": "9d44b4b2",
   "metadata": {},
   "outputs": [],
   "source": [
    "df_titanic.notna().sum()"
   ]
  },
  {
   "cell_type": "code",
   "execution_count": null,
   "id": "ff3780f6",
   "metadata": {},
   "outputs": [],
   "source": [
    "df.info()"
   ]
  },
  {
   "cell_type": "markdown",
   "id": "0ecb33c3",
   "metadata": {
    "lang": "en"
   },
   "source": [
    "#### Is NOT null?"
   ]
  },
  {
   "cell_type": "code",
   "execution_count": 455,
   "id": "involved-private",
   "metadata": {},
   "outputs": [
    {
     "data": {
      "text/html": [
       "<div>\n",
       "<style scoped>\n",
       "    .dataframe tbody tr th:only-of-type {\n",
       "        vertical-align: middle;\n",
       "    }\n",
       "\n",
       "    .dataframe tbody tr th {\n",
       "        vertical-align: top;\n",
       "    }\n",
       "\n",
       "    .dataframe thead th {\n",
       "        text-align: right;\n",
       "    }\n",
       "</style>\n",
       "<table border=\"1\" class=\"dataframe\">\n",
       "  <thead>\n",
       "    <tr style=\"text-align: right;\">\n",
       "      <th></th>\n",
       "      <th>UNNAMED: 0</th>\n",
       "      <th>dates</th>\n",
       "      <th>AVERAGEPRICE</th>\n",
       "      <th>TOTAL VOLUME</th>\n",
       "      <th>4225</th>\n",
       "      <th>TOTAL BAGS</th>\n",
       "      <th>SMALL BAGS</th>\n",
       "      <th>LARGE BAGS</th>\n",
       "      <th>XLARGE BAGS</th>\n",
       "      <th>TYPE</th>\n",
       "      <th>YEAR</th>\n",
       "      <th>REGION</th>\n",
       "      <th>small_large</th>\n",
       "      <th>new_t89otal_bags</th>\n",
       "      <th>new_total_bags</th>\n",
       "      <th>brand_new_column</th>\n",
       "      <th>yetanotherone</th>\n",
       "      <th>new_column_based_on_date</th>\n",
       "      <th>new column</th>\n",
       "    </tr>\n",
       "  </thead>\n",
       "  <tbody>\n",
       "    <tr>\n",
       "      <th>0</th>\n",
       "      <td>True</td>\n",
       "      <td>True</td>\n",
       "      <td>True</td>\n",
       "      <td>True</td>\n",
       "      <td>True</td>\n",
       "      <td>True</td>\n",
       "      <td>True</td>\n",
       "      <td>True</td>\n",
       "      <td>True</td>\n",
       "      <td>True</td>\n",
       "      <td>True</td>\n",
       "      <td>True</td>\n",
       "      <td>True</td>\n",
       "      <td>True</td>\n",
       "      <td>True</td>\n",
       "      <td>True</td>\n",
       "      <td>True</td>\n",
       "      <td>True</td>\n",
       "      <td>True</td>\n",
       "    </tr>\n",
       "    <tr>\n",
       "      <th>1</th>\n",
       "      <td>True</td>\n",
       "      <td>True</td>\n",
       "      <td>True</td>\n",
       "      <td>True</td>\n",
       "      <td>True</td>\n",
       "      <td>True</td>\n",
       "      <td>True</td>\n",
       "      <td>True</td>\n",
       "      <td>True</td>\n",
       "      <td>True</td>\n",
       "      <td>True</td>\n",
       "      <td>True</td>\n",
       "      <td>True</td>\n",
       "      <td>True</td>\n",
       "      <td>True</td>\n",
       "      <td>True</td>\n",
       "      <td>True</td>\n",
       "      <td>True</td>\n",
       "      <td>True</td>\n",
       "    </tr>\n",
       "    <tr>\n",
       "      <th>2</th>\n",
       "      <td>True</td>\n",
       "      <td>True</td>\n",
       "      <td>True</td>\n",
       "      <td>True</td>\n",
       "      <td>True</td>\n",
       "      <td>True</td>\n",
       "      <td>True</td>\n",
       "      <td>True</td>\n",
       "      <td>True</td>\n",
       "      <td>True</td>\n",
       "      <td>True</td>\n",
       "      <td>True</td>\n",
       "      <td>True</td>\n",
       "      <td>True</td>\n",
       "      <td>True</td>\n",
       "      <td>True</td>\n",
       "      <td>True</td>\n",
       "      <td>True</td>\n",
       "      <td>True</td>\n",
       "    </tr>\n",
       "    <tr>\n",
       "      <th>3</th>\n",
       "      <td>True</td>\n",
       "      <td>True</td>\n",
       "      <td>True</td>\n",
       "      <td>True</td>\n",
       "      <td>True</td>\n",
       "      <td>True</td>\n",
       "      <td>True</td>\n",
       "      <td>True</td>\n",
       "      <td>True</td>\n",
       "      <td>True</td>\n",
       "      <td>True</td>\n",
       "      <td>True</td>\n",
       "      <td>True</td>\n",
       "      <td>True</td>\n",
       "      <td>True</td>\n",
       "      <td>True</td>\n",
       "      <td>True</td>\n",
       "      <td>True</td>\n",
       "      <td>True</td>\n",
       "    </tr>\n",
       "    <tr>\n",
       "      <th>4</th>\n",
       "      <td>True</td>\n",
       "      <td>True</td>\n",
       "      <td>True</td>\n",
       "      <td>True</td>\n",
       "      <td>True</td>\n",
       "      <td>True</td>\n",
       "      <td>True</td>\n",
       "      <td>True</td>\n",
       "      <td>True</td>\n",
       "      <td>True</td>\n",
       "      <td>True</td>\n",
       "      <td>True</td>\n",
       "      <td>True</td>\n",
       "      <td>True</td>\n",
       "      <td>True</td>\n",
       "      <td>True</td>\n",
       "      <td>True</td>\n",
       "      <td>True</td>\n",
       "      <td>True</td>\n",
       "    </tr>\n",
       "    <tr>\n",
       "      <th>...</th>\n",
       "      <td>...</td>\n",
       "      <td>...</td>\n",
       "      <td>...</td>\n",
       "      <td>...</td>\n",
       "      <td>...</td>\n",
       "      <td>...</td>\n",
       "      <td>...</td>\n",
       "      <td>...</td>\n",
       "      <td>...</td>\n",
       "      <td>...</td>\n",
       "      <td>...</td>\n",
       "      <td>...</td>\n",
       "      <td>...</td>\n",
       "      <td>...</td>\n",
       "      <td>...</td>\n",
       "      <td>...</td>\n",
       "      <td>...</td>\n",
       "      <td>...</td>\n",
       "      <td>...</td>\n",
       "    </tr>\n",
       "    <tr>\n",
       "      <th>18238</th>\n",
       "      <td>True</td>\n",
       "      <td>True</td>\n",
       "      <td>True</td>\n",
       "      <td>True</td>\n",
       "      <td>True</td>\n",
       "      <td>True</td>\n",
       "      <td>True</td>\n",
       "      <td>True</td>\n",
       "      <td>True</td>\n",
       "      <td>True</td>\n",
       "      <td>True</td>\n",
       "      <td>True</td>\n",
       "      <td>True</td>\n",
       "      <td>True</td>\n",
       "      <td>True</td>\n",
       "      <td>True</td>\n",
       "      <td>True</td>\n",
       "      <td>True</td>\n",
       "      <td>True</td>\n",
       "    </tr>\n",
       "    <tr>\n",
       "      <th>18239</th>\n",
       "      <td>True</td>\n",
       "      <td>True</td>\n",
       "      <td>True</td>\n",
       "      <td>True</td>\n",
       "      <td>True</td>\n",
       "      <td>True</td>\n",
       "      <td>True</td>\n",
       "      <td>True</td>\n",
       "      <td>True</td>\n",
       "      <td>True</td>\n",
       "      <td>True</td>\n",
       "      <td>True</td>\n",
       "      <td>True</td>\n",
       "      <td>True</td>\n",
       "      <td>True</td>\n",
       "      <td>True</td>\n",
       "      <td>True</td>\n",
       "      <td>True</td>\n",
       "      <td>True</td>\n",
       "    </tr>\n",
       "    <tr>\n",
       "      <th>18240</th>\n",
       "      <td>True</td>\n",
       "      <td>True</td>\n",
       "      <td>True</td>\n",
       "      <td>True</td>\n",
       "      <td>True</td>\n",
       "      <td>True</td>\n",
       "      <td>True</td>\n",
       "      <td>True</td>\n",
       "      <td>True</td>\n",
       "      <td>True</td>\n",
       "      <td>True</td>\n",
       "      <td>True</td>\n",
       "      <td>True</td>\n",
       "      <td>True</td>\n",
       "      <td>True</td>\n",
       "      <td>True</td>\n",
       "      <td>True</td>\n",
       "      <td>True</td>\n",
       "      <td>True</td>\n",
       "    </tr>\n",
       "    <tr>\n",
       "      <th>18241</th>\n",
       "      <td>True</td>\n",
       "      <td>True</td>\n",
       "      <td>True</td>\n",
       "      <td>True</td>\n",
       "      <td>True</td>\n",
       "      <td>True</td>\n",
       "      <td>True</td>\n",
       "      <td>True</td>\n",
       "      <td>True</td>\n",
       "      <td>True</td>\n",
       "      <td>True</td>\n",
       "      <td>True</td>\n",
       "      <td>True</td>\n",
       "      <td>True</td>\n",
       "      <td>True</td>\n",
       "      <td>True</td>\n",
       "      <td>True</td>\n",
       "      <td>True</td>\n",
       "      <td>True</td>\n",
       "    </tr>\n",
       "    <tr>\n",
       "      <th>18242</th>\n",
       "      <td>True</td>\n",
       "      <td>True</td>\n",
       "      <td>True</td>\n",
       "      <td>True</td>\n",
       "      <td>True</td>\n",
       "      <td>True</td>\n",
       "      <td>True</td>\n",
       "      <td>True</td>\n",
       "      <td>True</td>\n",
       "      <td>True</td>\n",
       "      <td>True</td>\n",
       "      <td>True</td>\n",
       "      <td>True</td>\n",
       "      <td>True</td>\n",
       "      <td>True</td>\n",
       "      <td>True</td>\n",
       "      <td>True</td>\n",
       "      <td>True</td>\n",
       "      <td>True</td>\n",
       "    </tr>\n",
       "  </tbody>\n",
       "</table>\n",
       "<p>18243 rows × 19 columns</p>\n",
       "</div>"
      ],
      "text/plain": [
       "       UNNAMED: 0  dates  AVERAGEPRICE  TOTAL VOLUME  4225  TOTAL BAGS  \\\n",
       "0            True   True          True          True  True        True   \n",
       "1            True   True          True          True  True        True   \n",
       "2            True   True          True          True  True        True   \n",
       "3            True   True          True          True  True        True   \n",
       "4            True   True          True          True  True        True   \n",
       "...           ...    ...           ...           ...   ...         ...   \n",
       "18238        True   True          True          True  True        True   \n",
       "18239        True   True          True          True  True        True   \n",
       "18240        True   True          True          True  True        True   \n",
       "18241        True   True          True          True  True        True   \n",
       "18242        True   True          True          True  True        True   \n",
       "\n",
       "       SMALL BAGS  LARGE BAGS  XLARGE BAGS  TYPE  YEAR  REGION  small_large  \\\n",
       "0            True        True         True  True  True    True         True   \n",
       "1            True        True         True  True  True    True         True   \n",
       "2            True        True         True  True  True    True         True   \n",
       "3            True        True         True  True  True    True         True   \n",
       "4            True        True         True  True  True    True         True   \n",
       "...           ...         ...          ...   ...   ...     ...          ...   \n",
       "18238        True        True         True  True  True    True         True   \n",
       "18239        True        True         True  True  True    True         True   \n",
       "18240        True        True         True  True  True    True         True   \n",
       "18241        True        True         True  True  True    True         True   \n",
       "18242        True        True         True  True  True    True         True   \n",
       "\n",
       "       new_t89otal_bags  new_total_bags  brand_new_column  yetanotherone  \\\n",
       "0                  True            True              True           True   \n",
       "1                  True            True              True           True   \n",
       "2                  True            True              True           True   \n",
       "3                  True            True              True           True   \n",
       "4                  True            True              True           True   \n",
       "...                 ...             ...               ...            ...   \n",
       "18238              True            True              True           True   \n",
       "18239              True            True              True           True   \n",
       "18240              True            True              True           True   \n",
       "18241              True            True              True           True   \n",
       "18242              True            True              True           True   \n",
       "\n",
       "       new_column_based_on_date  new column  \n",
       "0                          True        True  \n",
       "1                          True        True  \n",
       "2                          True        True  \n",
       "3                          True        True  \n",
       "4                          True        True  \n",
       "...                         ...         ...  \n",
       "18238                      True        True  \n",
       "18239                      True        True  \n",
       "18240                      True        True  \n",
       "18241                      True        True  \n",
       "18242                      True        True  \n",
       "\n",
       "[18243 rows x 19 columns]"
      ]
     },
     "execution_count": 455,
     "metadata": {},
     "output_type": "execute_result"
    }
   ],
   "source": [
    "df.notnull()"
   ]
  },
  {
   "cell_type": "markdown",
   "id": "f613b0e2",
   "metadata": {
    "lang": "en"
   },
   "source": [
    "#### Sum the null values ​​of each column"
   ]
  },
  {
   "cell_type": "code",
   "execution_count": 456,
   "id": "disciplinary-finder",
   "metadata": {},
   "outputs": [
    {
     "data": {
      "text/plain": [
       "UNNAMED: 0                  18243\n",
       "dates                       18243\n",
       "AVERAGEPRICE                18243\n",
       "TOTAL VOLUME                18243\n",
       "4225                        18243\n",
       "TOTAL BAGS                  18243\n",
       "SMALL BAGS                  18243\n",
       "LARGE BAGS                  18243\n",
       "XLARGE BAGS                 18243\n",
       "TYPE                        18243\n",
       "YEAR                        18243\n",
       "REGION                      18243\n",
       "small_large                 18243\n",
       "new_t89otal_bags            18243\n",
       "new_total_bags              18243\n",
       "brand_new_column            18243\n",
       "yetanotherone               18243\n",
       "new_column_based_on_date    18243\n",
       "new column                  18243\n",
       "dtype: int64"
      ]
     },
     "execution_count": 456,
     "metadata": {},
     "output_type": "execute_result"
    }
   ],
   "source": [
    "df.notnull().sum()"
   ]
  },
  {
   "cell_type": "markdown",
   "id": "e4d38c63",
   "metadata": {
    "lang": "en"
   },
   "source": [
    "### delete null values\n",
    "There are several ways to do this, we take into account the \"how\" parameter and of course [the docs](https://pandas.pydata.org/pandas-docs/stable/reference/api/pandas.DataFrame.dropna.html)."
   ]
  },
  {
   "cell_type": "code",
   "execution_count": null,
   "id": "6fae8d14",
   "metadata": {},
   "outputs": [],
   "source": [
    "df_titanic.shape[0]"
   ]
  },
  {
   "cell_type": "code",
   "execution_count": null,
   "id": "57d2f2f6",
   "metadata": {},
   "outputs": [],
   "source": [
    "#Q: What if I want to target only one column for NaN\n",
    "#You can select a subset by passind subset = []\n",
    "#Read the docs: https://pandas.pydata.org/docs/reference/api/pandas.DataFrame.dropna.html"
   ]
  },
  {
   "cell_type": "code",
   "execution_count": null,
   "id": "distant-nickname",
   "metadata": {
    "scrolled": true
   },
   "outputs": [],
   "source": [
    "test1 = df_titanic.dropna(subset=[\"age\"])\n",
    "test1"
   ]
  },
  {
   "cell_type": "code",
   "execution_count": null,
   "id": "a4931839",
   "metadata": {},
   "outputs": [],
   "source": [
    "test1.isna().sum()"
   ]
  },
  {
   "cell_type": "markdown",
   "id": "68dbac5b",
   "metadata": {
    "lang": "en"
   },
   "source": [
    "REMEMBER THAT INPLACE TRUE IS FOR THE METHOD TO ACTION ON THE DF, IF NOT, I HAVE TO SAVE IT IN A NEW VARIABLE"
   ]
  },
  {
   "cell_type": "markdown",
   "id": "c23f12eb",
   "metadata": {
    "lang": "en"
   },
   "source": [
    "With \"any\" (parameter that comes by default so be careful not to put anything) all the records in which there is a NaN in any column are deleted"
   ]
  },
  {
   "cell_type": "code",
   "execution_count": null,
   "id": "fe35f1a7",
   "metadata": {},
   "outputs": [],
   "source": [
    "test_2 = df_titanic.dropna(how=\"any\")"
   ]
  },
  {
   "cell_type": "code",
   "execution_count": null,
   "id": "0bd2e6dc",
   "metadata": {},
   "outputs": [],
   "source": [
    "test_2.shape[0]"
   ]
  },
  {
   "cell_type": "markdown",
   "id": "6a782576",
   "metadata": {
    "lang": "en"
   },
   "source": [
    "### How to fill in the missing data"
   ]
  },
  {
   "cell_type": "markdown",
   "id": "3718df0e",
   "metadata": {
    "lang": "en"
   },
   "source": [
    "How about a little [documentation](https://pandas.pydata.org/docs/reference/api/pandas.DataFrame.fillna.html)?"
   ]
  },
  {
   "cell_type": "code",
   "execution_count": null,
   "id": "neural-brown",
   "metadata": {},
   "outputs": [],
   "source": [
    "df_titanic[\"deck\"].unique()"
   ]
  },
  {
   "cell_type": "code",
   "execution_count": null,
   "id": "f409b0fe",
   "metadata": {},
   "outputs": [],
   "source": [
    "df_titanic[\"age\"].isna().sum()"
   ]
  },
  {
   "cell_type": "code",
   "execution_count": null,
   "id": "a2487c58",
   "metadata": {},
   "outputs": [],
   "source": [
    "df_titanic[\"age\"].fillna(df_titanic[\"age\"].mean(), inplace=True)"
   ]
  },
  {
   "cell_type": "code",
   "execution_count": null,
   "id": "6afe416d",
   "metadata": {},
   "outputs": [],
   "source": [
    "df_titanic[\"age\"].isna().sum()"
   ]
  },
  {
   "cell_type": "markdown",
   "id": "c0f74ea1",
   "metadata": {
    "lang": "en"
   },
   "source": [
    "##### CATEGORIES IN DATAFRAME: DOCUMENTATION\n",
    "https://runebook.dev/en/docs/pandas/user_guide/categorical"
   ]
  },
  {
   "cell_type": "markdown",
   "id": "ef5b7fef",
   "metadata": {
    "lang": "en"
   },
   "source": [
    "## We delete the duplicates"
   ]
  },
  {
   "cell_type": "markdown",
   "id": "0d0d1b96",
   "metadata": {},
   "source": [
    "[Read the docs](https://pandas.pydata.org/docs/reference/api/pandas.DataFrame.duplicated.html)"
   ]
  },
  {
   "cell_type": "code",
   "execution_count": null,
   "id": "settled-february",
   "metadata": {},
   "outputs": [],
   "source": [
    "df_titanic.duplicated().sum()"
   ]
  },
  {
   "cell_type": "code",
   "execution_count": null,
   "id": "6b216c2c",
   "metadata": {},
   "outputs": [],
   "source": [
    "df_titanic.shape[0]"
   ]
  },
  {
   "cell_type": "code",
   "execution_count": null,
   "id": "be5b8545",
   "metadata": {},
   "outputs": [],
   "source": [
    "# I want to remove duplicated values on ONE column\n",
    "df_titanic.drop_duplicates(subset = [\"id\"]inplace=True)"
   ]
  },
  {
   "cell_type": "code",
   "execution_count": null,
   "id": "a97bc005",
   "metadata": {},
   "outputs": [],
   "source": [
    "# What if I want to remove BOTH entries for the same ID if it's repeated: \n",
    "# It won't work, as this is an example and ID doesn't exist as a column\n",
    "\n",
    "df_titanic.drop_duplicates(subset = [\"id\"], keep=False, inplace=True)"
   ]
  },
  {
   "cell_type": "code",
   "execution_count": null,
   "id": "af190e9b",
   "metadata": {},
   "outputs": [],
   "source": [
    "df_titanic.shape[0]"
   ]
  },
  {
   "cell_type": "code",
   "execution_count": null,
   "id": "7a7ef226",
   "metadata": {},
   "outputs": [],
   "source": [
    "df.sample(2)"
   ]
  },
  {
   "cell_type": "code",
   "execution_count": null,
   "id": "31702b3c",
   "metadata": {},
   "outputs": [],
   "source": [
    "df_titanic.sa"
   ]
  },
  {
   "cell_type": "code",
   "execution_count": null,
   "id": "d1bc4136",
   "metadata": {},
   "outputs": [],
   "source": [
    "list(df[\"REGION\"].unique()) == list(df[\"REGION\"])"
   ]
  },
  {
   "cell_type": "code",
   "execution_count": null,
   "id": "a33e7617",
   "metadata": {},
   "outputs": [],
   "source": [
    "# How to check for two fields no to hold the same value in different rows\n",
    "# df.isduplicated(subset=[\"column1\", \"column2\"])"
   ]
  },
  {
   "cell_type": "code",
   "execution_count": null,
   "id": "fb123b7d",
   "metadata": {},
   "outputs": [],
   "source": [
    "df_titanic[\"sex\"].value_counts()"
   ]
  },
  {
   "cell_type": "code",
   "execution_count": null,
   "id": "c67b1c93",
   "metadata": {
    "scrolled": true
   },
   "outputs": [],
   "source": [
    "df.sample()"
   ]
  },
  {
   "cell_type": "code",
   "execution_count": null,
   "id": "74971d0d",
   "metadata": {},
   "outputs": [],
   "source": [
    "df.duplicated(subset=[\"REGION\"]).sum()"
   ]
  },
  {
   "cell_type": "code",
   "execution_count": null,
   "id": "7c7671ac",
   "metadata": {},
   "outputs": [],
   "source": [
    "df.shape[0]"
   ]
  },
  {
   "cell_type": "code",
   "execution_count": null,
   "id": "da8c55f5",
   "metadata": {
    "scrolled": false
   },
   "outputs": [],
   "source": [
    "df[\"REGION\"].value_counts()"
   ]
  },
  {
   "cell_type": "code",
   "execution_count": null,
   "id": "88594dd9",
   "metadata": {},
   "outputs": [],
   "source": [
    "# How can I check for duplicated values inside of given column: "
   ]
  },
  {
   "cell_type": "code",
   "execution_count": null,
   "id": "b152306d",
   "metadata": {},
   "outputs": [],
   "source": [
    "people = [\n",
    "    {\"name\":\"albert\",\n",
    "    \"age\":30},\n",
    "    \n",
    "    {\"name\":\"albert\",\n",
    "    \"age\":22},\n",
    "    \n",
    "    {\"name\":\"clara\",\n",
    "    \"age\":20},\n",
    "    \n",
    "    {\"name\":\"albert\"}\n",
    "]"
   ]
  },
  {
   "cell_type": "code",
   "execution_count": null,
   "id": "bfa46768",
   "metadata": {},
   "outputs": [],
   "source": [
    "new_df_check = pd.DataFrame(people)"
   ]
  },
  {
   "cell_type": "code",
   "execution_count": null,
   "id": "e56f965b",
   "metadata": {},
   "outputs": [],
   "source": [
    "new_df_check"
   ]
  },
  {
   "cell_type": "code",
   "execution_count": null,
   "id": "b00c3615",
   "metadata": {},
   "outputs": [],
   "source": [
    "new_df_check.duplicated(subset=[\"name\"])"
   ]
  },
  {
   "cell_type": "markdown",
   "id": "c51e74f4",
   "metadata": {
    "lang": "en"
   },
   "source": [
    "## Data aggregation\n",
    "### GroupBy & pivot_table\n",
    "Pandas GroupBy is a powerful and versatile function in Python. It allows us to split your data into separate groups to perform calculations for better analysis.\n",
    "A DataFrame can be grouped on its rows (axis=0) or on its columns (axis=1). Once this is done, a function is applied to each group, producing a new value. Finally, the results of all those function applications are combined into a result object. The shape of the resulting object will usually depend on what is done with the data."
   ]
  },
  {
   "cell_type": "markdown",
   "id": "surprised-malpractice",
   "metadata": {},
   "source": [
    "https://pandas.pydata.org/docs/reference/api/pandas.DataFrame.groupby.html"
   ]
  },
  {
   "cell_type": "code",
   "execution_count": 2,
   "id": "standing-japanese",
   "metadata": {},
   "outputs": [],
   "source": [
    "import numpy as np\n",
    "import pandas as pd"
   ]
  },
  {
   "cell_type": "code",
   "execution_count": 3,
   "id": "14dd6e1f",
   "metadata": {},
   "outputs": [],
   "source": [
    "df = pd.DataFrame({'key1' : ['a', 'a', 'b', 'b', 'a'], 'key2' : ['one', 'two', 'one', 'two', 'one'],'data1' : np.random.randn(5),'data2' : np.random.randn(5)})"
   ]
  },
  {
   "cell_type": "code",
   "execution_count": 4,
   "id": "fdedc5d0",
   "metadata": {},
   "outputs": [
    {
     "data": {
      "text/html": [
       "<div>\n",
       "<style scoped>\n",
       "    .dataframe tbody tr th:only-of-type {\n",
       "        vertical-align: middle;\n",
       "    }\n",
       "\n",
       "    .dataframe tbody tr th {\n",
       "        vertical-align: top;\n",
       "    }\n",
       "\n",
       "    .dataframe thead th {\n",
       "        text-align: right;\n",
       "    }\n",
       "</style>\n",
       "<table border=\"1\" class=\"dataframe\">\n",
       "  <thead>\n",
       "    <tr style=\"text-align: right;\">\n",
       "      <th></th>\n",
       "      <th>key1</th>\n",
       "      <th>key2</th>\n",
       "      <th>data1</th>\n",
       "      <th>data2</th>\n",
       "    </tr>\n",
       "  </thead>\n",
       "  <tbody>\n",
       "    <tr>\n",
       "      <th>0</th>\n",
       "      <td>a</td>\n",
       "      <td>one</td>\n",
       "      <td>0.843416</td>\n",
       "      <td>1.438067</td>\n",
       "    </tr>\n",
       "    <tr>\n",
       "      <th>1</th>\n",
       "      <td>a</td>\n",
       "      <td>two</td>\n",
       "      <td>-1.343623</td>\n",
       "      <td>-0.758478</td>\n",
       "    </tr>\n",
       "    <tr>\n",
       "      <th>2</th>\n",
       "      <td>b</td>\n",
       "      <td>one</td>\n",
       "      <td>-0.541530</td>\n",
       "      <td>-0.065344</td>\n",
       "    </tr>\n",
       "    <tr>\n",
       "      <th>3</th>\n",
       "      <td>b</td>\n",
       "      <td>two</td>\n",
       "      <td>1.231416</td>\n",
       "      <td>-0.716515</td>\n",
       "    </tr>\n",
       "    <tr>\n",
       "      <th>4</th>\n",
       "      <td>a</td>\n",
       "      <td>one</td>\n",
       "      <td>0.275489</td>\n",
       "      <td>-1.306232</td>\n",
       "    </tr>\n",
       "  </tbody>\n",
       "</table>\n",
       "</div>"
      ],
      "text/plain": [
       "  key1 key2     data1     data2\n",
       "0    a  one  0.843416  1.438067\n",
       "1    a  two -1.343623 -0.758478\n",
       "2    b  one -0.541530 -0.065344\n",
       "3    b  two  1.231416 -0.716515\n",
       "4    a  one  0.275489 -1.306232"
      ]
     },
     "execution_count": 4,
     "metadata": {},
     "output_type": "execute_result"
    }
   ],
   "source": [
    "df"
   ]
  },
  {
   "cell_type": "markdown",
   "id": "0acc8190",
   "metadata": {
    "lang": "en"
   },
   "source": [
    "Suppose we want to calculate the mean of column data1 using the labels of key1. There are several ways to do it. One is to access data1 and call groupby with the column (a String) in key1.\n",
    "The data (a Series) has been aggregated based on the group key, producing a new String that is now indexed by the unique values ​​of the key1 column. The resulting index has the name 'key1' because the DataFrame column `df['key1']` did."
   ]
  },
  {
   "cell_type": "markdown",
   "id": "a50c2b5d",
   "metadata": {},
   "source": [
    "`CUANTITATIVE.groupby(CATEGORICAL).calculation()`"
   ]
  },
  {
   "cell_type": "code",
   "execution_count": 8,
   "id": "92e09c3b",
   "metadata": {},
   "outputs": [
    {
     "data": {
      "text/plain": [
       "key1\n",
       "a   -0.074906\n",
       "b    0.344943\n",
       "Name: data1, dtype: float64"
      ]
     },
     "execution_count": 8,
     "metadata": {},
     "output_type": "execute_result"
    }
   ],
   "source": [
    "df[\"data1\"].groupby(df[\"key1\"]).mean()"
   ]
  },
  {
   "cell_type": "code",
   "execution_count": 15,
   "id": "97c00992",
   "metadata": {},
   "outputs": [
    {
     "data": {
      "text/plain": [
       "0.09303346470927018"
      ]
     },
     "execution_count": 15,
     "metadata": {},
     "output_type": "execute_result"
    }
   ],
   "source": [
    "df.data1.mean()"
   ]
  },
  {
   "cell_type": "code",
   "execution_count": 14,
   "id": "7bd1f63e",
   "metadata": {},
   "outputs": [
    {
     "data": {
      "text/html": [
       "<div>\n",
       "<style scoped>\n",
       "    .dataframe tbody tr th:only-of-type {\n",
       "        vertical-align: middle;\n",
       "    }\n",
       "\n",
       "    .dataframe tbody tr th {\n",
       "        vertical-align: top;\n",
       "    }\n",
       "\n",
       "    .dataframe thead th {\n",
       "        text-align: right;\n",
       "    }\n",
       "</style>\n",
       "<table border=\"1\" class=\"dataframe\">\n",
       "  <thead>\n",
       "    <tr style=\"text-align: right;\">\n",
       "      <th></th>\n",
       "      <th>data1</th>\n",
       "      <th>data2</th>\n",
       "    </tr>\n",
       "    <tr>\n",
       "      <th>key1</th>\n",
       "      <th></th>\n",
       "      <th></th>\n",
       "    </tr>\n",
       "  </thead>\n",
       "  <tbody>\n",
       "    <tr>\n",
       "      <th>a</th>\n",
       "      <td>-0.074906</td>\n",
       "      <td>-0.626644</td>\n",
       "    </tr>\n",
       "    <tr>\n",
       "      <th>b</th>\n",
       "      <td>0.344943</td>\n",
       "      <td>-0.781859</td>\n",
       "    </tr>\n",
       "  </tbody>\n",
       "</table>\n",
       "</div>"
      ],
      "text/plain": [
       "         data1     data2\n",
       "key1                    \n",
       "a    -0.074906 -0.626644\n",
       "b     0.344943 -0.781859"
      ]
     },
     "execution_count": 14,
     "metadata": {},
     "output_type": "execute_result"
    }
   ],
   "source": [
    "df.groupby(\"key1\").agg({\"data1\":\"mean\", \"data2\":\"sum\"})"
   ]
  },
  {
   "cell_type": "markdown",
   "id": "1d23b8f4",
   "metadata": {
    "lang": "en"
   },
   "source": [
    "Another way to groupby with agg syntax\n",
    "https://pandas.pydata.org/docs/reference/api/pandas.core.groupby.DataFrameGroupBy.aggregate.html\n",
    "\n",
    "- mean\n",
    "- sum\n",
    "-count"
   ]
  },
  {
   "cell_type": "markdown",
   "id": "10d3eb62",
   "metadata": {
    "lang": "en"
   },
   "source": [
    "### Union of Dataframes\n",
    "- https://realpython.com/pandas-merge-join-and-concat/\n",
    "- https://pandas.pydata.org/pandas-docs/stable/user_guide/merging.html\n",
    "\n",
    "\n",
    "### Concat\n",
    "We join dataframes along axis 0 one below the other. Align columns by label."
   ]
  },
  {
   "cell_type": "code",
   "execution_count": 16,
   "id": "ac484cd6",
   "metadata": {
    "scrolled": false
   },
   "outputs": [
    {
     "data": {
      "text/html": [
       "<div>\n",
       "<style scoped>\n",
       "    .dataframe tbody tr th:only-of-type {\n",
       "        vertical-align: middle;\n",
       "    }\n",
       "\n",
       "    .dataframe tbody tr th {\n",
       "        vertical-align: top;\n",
       "    }\n",
       "\n",
       "    .dataframe thead th {\n",
       "        text-align: right;\n",
       "    }\n",
       "</style>\n",
       "<table border=\"1\" class=\"dataframe\">\n",
       "  <thead>\n",
       "    <tr style=\"text-align: right;\">\n",
       "      <th></th>\n",
       "      <th>age</th>\n",
       "      <th>gender</th>\n",
       "      <th>occupation</th>\n",
       "      <th>zip_code</th>\n",
       "    </tr>\n",
       "    <tr>\n",
       "      <th>user_id</th>\n",
       "      <th></th>\n",
       "      <th></th>\n",
       "      <th></th>\n",
       "      <th></th>\n",
       "    </tr>\n",
       "  </thead>\n",
       "  <tbody>\n",
       "    <tr>\n",
       "      <th>1</th>\n",
       "      <td>24</td>\n",
       "      <td>M</td>\n",
       "      <td>technician</td>\n",
       "      <td>85711</td>\n",
       "    </tr>\n",
       "    <tr>\n",
       "      <th>2</th>\n",
       "      <td>53</td>\n",
       "      <td>F</td>\n",
       "      <td>other</td>\n",
       "      <td>94043</td>\n",
       "    </tr>\n",
       "    <tr>\n",
       "      <th>3</th>\n",
       "      <td>23</td>\n",
       "      <td>M</td>\n",
       "      <td>writer</td>\n",
       "      <td>32067</td>\n",
       "    </tr>\n",
       "    <tr>\n",
       "      <th>4</th>\n",
       "      <td>24</td>\n",
       "      <td>M</td>\n",
       "      <td>technician</td>\n",
       "      <td>43537</td>\n",
       "    </tr>\n",
       "    <tr>\n",
       "      <th>5</th>\n",
       "      <td>33</td>\n",
       "      <td>F</td>\n",
       "      <td>other</td>\n",
       "      <td>15213</td>\n",
       "    </tr>\n",
       "  </tbody>\n",
       "</table>\n",
       "</div>"
      ],
      "text/plain": [
       "         age gender  occupation zip_code\n",
       "user_id                                 \n",
       "1         24      M  technician    85711\n",
       "2         53      F       other    94043\n",
       "3         23      M      writer    32067\n",
       "4         24      M  technician    43537\n",
       "5         33      F       other    15213"
      ]
     },
     "execution_count": 16,
     "metadata": {},
     "output_type": "execute_result"
    }
   ],
   "source": [
    "df = pd.read_csv('https://raw.githubusercontent.com/justmarkham/DAT8/master/data/u.user',\n",
    "                             sep='|', \n",
    "                             index_col='user_id')\n",
    "\n",
    "df.head()"
   ]
  },
  {
   "cell_type": "code",
   "execution_count": 17,
   "id": "f81c378d",
   "metadata": {},
   "outputs": [],
   "source": [
    "first_df = df.sample(frac=0.01)\n",
    "second_df = df.sample(frac=0.01)"
   ]
  },
  {
   "cell_type": "code",
   "execution_count": 18,
   "id": "d41fbfd7",
   "metadata": {},
   "outputs": [
    {
     "data": {
      "text/html": [
       "<div>\n",
       "<style scoped>\n",
       "    .dataframe tbody tr th:only-of-type {\n",
       "        vertical-align: middle;\n",
       "    }\n",
       "\n",
       "    .dataframe tbody tr th {\n",
       "        vertical-align: top;\n",
       "    }\n",
       "\n",
       "    .dataframe thead th {\n",
       "        text-align: right;\n",
       "    }\n",
       "</style>\n",
       "<table border=\"1\" class=\"dataframe\">\n",
       "  <thead>\n",
       "    <tr style=\"text-align: right;\">\n",
       "      <th></th>\n",
       "      <th>age</th>\n",
       "      <th>gender</th>\n",
       "      <th>occupation</th>\n",
       "      <th>zip_code</th>\n",
       "    </tr>\n",
       "    <tr>\n",
       "      <th>user_id</th>\n",
       "      <th></th>\n",
       "      <th></th>\n",
       "      <th></th>\n",
       "      <th></th>\n",
       "    </tr>\n",
       "  </thead>\n",
       "  <tbody>\n",
       "    <tr>\n",
       "      <th>501</th>\n",
       "      <td>22</td>\n",
       "      <td>M</td>\n",
       "      <td>student</td>\n",
       "      <td>10025</td>\n",
       "    </tr>\n",
       "    <tr>\n",
       "      <th>817</th>\n",
       "      <td>19</td>\n",
       "      <td>M</td>\n",
       "      <td>student</td>\n",
       "      <td>60152</td>\n",
       "    </tr>\n",
       "    <tr>\n",
       "      <th>54</th>\n",
       "      <td>22</td>\n",
       "      <td>M</td>\n",
       "      <td>executive</td>\n",
       "      <td>66315</td>\n",
       "    </tr>\n",
       "    <tr>\n",
       "      <th>885</th>\n",
       "      <td>30</td>\n",
       "      <td>F</td>\n",
       "      <td>other</td>\n",
       "      <td>95316</td>\n",
       "    </tr>\n",
       "    <tr>\n",
       "      <th>759</th>\n",
       "      <td>20</td>\n",
       "      <td>F</td>\n",
       "      <td>student</td>\n",
       "      <td>68503</td>\n",
       "    </tr>\n",
       "  </tbody>\n",
       "</table>\n",
       "</div>"
      ],
      "text/plain": [
       "         age gender occupation zip_code\n",
       "user_id                                \n",
       "501       22      M    student    10025\n",
       "817       19      M    student    60152\n",
       "54        22      M  executive    66315\n",
       "885       30      F      other    95316\n",
       "759       20      F    student    68503"
      ]
     },
     "execution_count": 18,
     "metadata": {},
     "output_type": "execute_result"
    }
   ],
   "source": [
    "first_df.head()"
   ]
  },
  {
   "cell_type": "code",
   "execution_count": 19,
   "id": "b047d27e",
   "metadata": {
    "scrolled": true
   },
   "outputs": [
    {
     "data": {
      "text/html": [
       "<div>\n",
       "<style scoped>\n",
       "    .dataframe tbody tr th:only-of-type {\n",
       "        vertical-align: middle;\n",
       "    }\n",
       "\n",
       "    .dataframe tbody tr th {\n",
       "        vertical-align: top;\n",
       "    }\n",
       "\n",
       "    .dataframe thead th {\n",
       "        text-align: right;\n",
       "    }\n",
       "</style>\n",
       "<table border=\"1\" class=\"dataframe\">\n",
       "  <thead>\n",
       "    <tr style=\"text-align: right;\">\n",
       "      <th></th>\n",
       "      <th>age</th>\n",
       "      <th>gender</th>\n",
       "      <th>occupation</th>\n",
       "      <th>zip_code</th>\n",
       "    </tr>\n",
       "    <tr>\n",
       "      <th>user_id</th>\n",
       "      <th></th>\n",
       "      <th></th>\n",
       "      <th></th>\n",
       "      <th></th>\n",
       "    </tr>\n",
       "  </thead>\n",
       "  <tbody>\n",
       "    <tr>\n",
       "      <th>165</th>\n",
       "      <td>20</td>\n",
       "      <td>F</td>\n",
       "      <td>other</td>\n",
       "      <td>53715</td>\n",
       "    </tr>\n",
       "    <tr>\n",
       "      <th>477</th>\n",
       "      <td>23</td>\n",
       "      <td>F</td>\n",
       "      <td>student</td>\n",
       "      <td>02125</td>\n",
       "    </tr>\n",
       "    <tr>\n",
       "      <th>906</th>\n",
       "      <td>45</td>\n",
       "      <td>M</td>\n",
       "      <td>librarian</td>\n",
       "      <td>70124</td>\n",
       "    </tr>\n",
       "    <tr>\n",
       "      <th>708</th>\n",
       "      <td>26</td>\n",
       "      <td>F</td>\n",
       "      <td>homemaker</td>\n",
       "      <td>96349</td>\n",
       "    </tr>\n",
       "    <tr>\n",
       "      <th>831</th>\n",
       "      <td>21</td>\n",
       "      <td>M</td>\n",
       "      <td>other</td>\n",
       "      <td>33765</td>\n",
       "    </tr>\n",
       "  </tbody>\n",
       "</table>\n",
       "</div>"
      ],
      "text/plain": [
       "         age gender occupation zip_code\n",
       "user_id                                \n",
       "165       20      F      other    53715\n",
       "477       23      F    student    02125\n",
       "906       45      M  librarian    70124\n",
       "708       26      F  homemaker    96349\n",
       "831       21      M      other    33765"
      ]
     },
     "execution_count": 19,
     "metadata": {},
     "output_type": "execute_result"
    }
   ],
   "source": [
    "second_df.head()"
   ]
  },
  {
   "cell_type": "markdown",
   "id": "0ac7695b",
   "metadata": {},
   "source": [
    "#### Concatenating on axis 0 (rows)"
   ]
  },
  {
   "cell_type": "code",
   "execution_count": 21,
   "id": "65b7e547",
   "metadata": {
    "scrolled": true
   },
   "outputs": [
    {
     "data": {
      "text/html": [
       "<div>\n",
       "<style scoped>\n",
       "    .dataframe tbody tr th:only-of-type {\n",
       "        vertical-align: middle;\n",
       "    }\n",
       "\n",
       "    .dataframe tbody tr th {\n",
       "        vertical-align: top;\n",
       "    }\n",
       "\n",
       "    .dataframe thead th {\n",
       "        text-align: right;\n",
       "    }\n",
       "</style>\n",
       "<table border=\"1\" class=\"dataframe\">\n",
       "  <thead>\n",
       "    <tr style=\"text-align: right;\">\n",
       "      <th></th>\n",
       "      <th></th>\n",
       "      <th>age</th>\n",
       "      <th>gender</th>\n",
       "      <th>occupation</th>\n",
       "      <th>zip_code</th>\n",
       "    </tr>\n",
       "    <tr>\n",
       "      <th></th>\n",
       "      <th>user_id</th>\n",
       "      <th></th>\n",
       "      <th></th>\n",
       "      <th></th>\n",
       "      <th></th>\n",
       "    </tr>\n",
       "  </thead>\n",
       "  <tbody>\n",
       "    <tr>\n",
       "      <th rowspan=\"9\" valign=\"top\">first</th>\n",
       "      <th>501</th>\n",
       "      <td>22</td>\n",
       "      <td>M</td>\n",
       "      <td>student</td>\n",
       "      <td>10025</td>\n",
       "    </tr>\n",
       "    <tr>\n",
       "      <th>817</th>\n",
       "      <td>19</td>\n",
       "      <td>M</td>\n",
       "      <td>student</td>\n",
       "      <td>60152</td>\n",
       "    </tr>\n",
       "    <tr>\n",
       "      <th>54</th>\n",
       "      <td>22</td>\n",
       "      <td>M</td>\n",
       "      <td>executive</td>\n",
       "      <td>66315</td>\n",
       "    </tr>\n",
       "    <tr>\n",
       "      <th>885</th>\n",
       "      <td>30</td>\n",
       "      <td>F</td>\n",
       "      <td>other</td>\n",
       "      <td>95316</td>\n",
       "    </tr>\n",
       "    <tr>\n",
       "      <th>759</th>\n",
       "      <td>20</td>\n",
       "      <td>F</td>\n",
       "      <td>student</td>\n",
       "      <td>68503</td>\n",
       "    </tr>\n",
       "    <tr>\n",
       "      <th>480</th>\n",
       "      <td>57</td>\n",
       "      <td>M</td>\n",
       "      <td>retired</td>\n",
       "      <td>98257</td>\n",
       "    </tr>\n",
       "    <tr>\n",
       "      <th>268</th>\n",
       "      <td>24</td>\n",
       "      <td>M</td>\n",
       "      <td>engineer</td>\n",
       "      <td>19422</td>\n",
       "    </tr>\n",
       "    <tr>\n",
       "      <th>362</th>\n",
       "      <td>35</td>\n",
       "      <td>F</td>\n",
       "      <td>homemaker</td>\n",
       "      <td>85233</td>\n",
       "    </tr>\n",
       "    <tr>\n",
       "      <th>92</th>\n",
       "      <td>32</td>\n",
       "      <td>M</td>\n",
       "      <td>entertainment</td>\n",
       "      <td>80525</td>\n",
       "    </tr>\n",
       "    <tr>\n",
       "      <th rowspan=\"9\" valign=\"top\">second</th>\n",
       "      <th>165</th>\n",
       "      <td>20</td>\n",
       "      <td>F</td>\n",
       "      <td>other</td>\n",
       "      <td>53715</td>\n",
       "    </tr>\n",
       "    <tr>\n",
       "      <th>477</th>\n",
       "      <td>23</td>\n",
       "      <td>F</td>\n",
       "      <td>student</td>\n",
       "      <td>02125</td>\n",
       "    </tr>\n",
       "    <tr>\n",
       "      <th>906</th>\n",
       "      <td>45</td>\n",
       "      <td>M</td>\n",
       "      <td>librarian</td>\n",
       "      <td>70124</td>\n",
       "    </tr>\n",
       "    <tr>\n",
       "      <th>708</th>\n",
       "      <td>26</td>\n",
       "      <td>F</td>\n",
       "      <td>homemaker</td>\n",
       "      <td>96349</td>\n",
       "    </tr>\n",
       "    <tr>\n",
       "      <th>831</th>\n",
       "      <td>21</td>\n",
       "      <td>M</td>\n",
       "      <td>other</td>\n",
       "      <td>33765</td>\n",
       "    </tr>\n",
       "    <tr>\n",
       "      <th>670</th>\n",
       "      <td>30</td>\n",
       "      <td>M</td>\n",
       "      <td>technician</td>\n",
       "      <td>21114</td>\n",
       "    </tr>\n",
       "    <tr>\n",
       "      <th>408</th>\n",
       "      <td>23</td>\n",
       "      <td>M</td>\n",
       "      <td>student</td>\n",
       "      <td>61755</td>\n",
       "    </tr>\n",
       "    <tr>\n",
       "      <th>397</th>\n",
       "      <td>17</td>\n",
       "      <td>M</td>\n",
       "      <td>student</td>\n",
       "      <td>27514</td>\n",
       "    </tr>\n",
       "    <tr>\n",
       "      <th>835</th>\n",
       "      <td>44</td>\n",
       "      <td>F</td>\n",
       "      <td>executive</td>\n",
       "      <td>11577</td>\n",
       "    </tr>\n",
       "  </tbody>\n",
       "</table>\n",
       "</div>"
      ],
      "text/plain": [
       "                age gender     occupation zip_code\n",
       "       user_id                                    \n",
       "first  501       22      M        student    10025\n",
       "       817       19      M        student    60152\n",
       "       54        22      M      executive    66315\n",
       "       885       30      F          other    95316\n",
       "       759       20      F        student    68503\n",
       "       480       57      M        retired    98257\n",
       "       268       24      M       engineer    19422\n",
       "       362       35      F      homemaker    85233\n",
       "       92        32      M  entertainment    80525\n",
       "second 165       20      F          other    53715\n",
       "       477       23      F        student    02125\n",
       "       906       45      M      librarian    70124\n",
       "       708       26      F      homemaker    96349\n",
       "       831       21      M          other    33765\n",
       "       670       30      M     technician    21114\n",
       "       408       23      M        student    61755\n",
       "       397       17      M        student    27514\n",
       "       835       44      F      executive    11577"
      ]
     },
     "execution_count": 21,
     "metadata": {},
     "output_type": "execute_result"
    }
   ],
   "source": [
    "concatenated_axis_0 = pd.concat([first_df, second_df], axis=0, keys=[\"first\", \"second\"]) #keys: optional\n",
    "concatenated_axis_0"
   ]
  },
  {
   "cell_type": "markdown",
   "id": "7b5d00f5",
   "metadata": {},
   "source": [
    "#### Concatenating on axis 1 (columns)"
   ]
  },
  {
   "cell_type": "code",
   "execution_count": 22,
   "id": "4f2d5680",
   "metadata": {},
   "outputs": [
    {
     "data": {
      "text/html": [
       "<div>\n",
       "<style scoped>\n",
       "    .dataframe tbody tr th:only-of-type {\n",
       "        vertical-align: middle;\n",
       "    }\n",
       "\n",
       "    .dataframe tbody tr th {\n",
       "        vertical-align: top;\n",
       "    }\n",
       "\n",
       "    .dataframe thead tr th {\n",
       "        text-align: left;\n",
       "    }\n",
       "\n",
       "    .dataframe thead tr:last-of-type th {\n",
       "        text-align: right;\n",
       "    }\n",
       "</style>\n",
       "<table border=\"1\" class=\"dataframe\">\n",
       "  <thead>\n",
       "    <tr>\n",
       "      <th></th>\n",
       "      <th colspan=\"4\" halign=\"left\">first</th>\n",
       "      <th colspan=\"4\" halign=\"left\">second</th>\n",
       "    </tr>\n",
       "    <tr>\n",
       "      <th></th>\n",
       "      <th>age</th>\n",
       "      <th>gender</th>\n",
       "      <th>occupation</th>\n",
       "      <th>zip_code</th>\n",
       "      <th>age</th>\n",
       "      <th>gender</th>\n",
       "      <th>occupation</th>\n",
       "      <th>zip_code</th>\n",
       "    </tr>\n",
       "    <tr>\n",
       "      <th>user_id</th>\n",
       "      <th></th>\n",
       "      <th></th>\n",
       "      <th></th>\n",
       "      <th></th>\n",
       "      <th></th>\n",
       "      <th></th>\n",
       "      <th></th>\n",
       "      <th></th>\n",
       "    </tr>\n",
       "  </thead>\n",
       "  <tbody>\n",
       "    <tr>\n",
       "      <th>501</th>\n",
       "      <td>22.0</td>\n",
       "      <td>M</td>\n",
       "      <td>student</td>\n",
       "      <td>10025</td>\n",
       "      <td>NaN</td>\n",
       "      <td>NaN</td>\n",
       "      <td>NaN</td>\n",
       "      <td>NaN</td>\n",
       "    </tr>\n",
       "    <tr>\n",
       "      <th>817</th>\n",
       "      <td>19.0</td>\n",
       "      <td>M</td>\n",
       "      <td>student</td>\n",
       "      <td>60152</td>\n",
       "      <td>NaN</td>\n",
       "      <td>NaN</td>\n",
       "      <td>NaN</td>\n",
       "      <td>NaN</td>\n",
       "    </tr>\n",
       "    <tr>\n",
       "      <th>54</th>\n",
       "      <td>22.0</td>\n",
       "      <td>M</td>\n",
       "      <td>executive</td>\n",
       "      <td>66315</td>\n",
       "      <td>NaN</td>\n",
       "      <td>NaN</td>\n",
       "      <td>NaN</td>\n",
       "      <td>NaN</td>\n",
       "    </tr>\n",
       "    <tr>\n",
       "      <th>885</th>\n",
       "      <td>30.0</td>\n",
       "      <td>F</td>\n",
       "      <td>other</td>\n",
       "      <td>95316</td>\n",
       "      <td>NaN</td>\n",
       "      <td>NaN</td>\n",
       "      <td>NaN</td>\n",
       "      <td>NaN</td>\n",
       "    </tr>\n",
       "    <tr>\n",
       "      <th>759</th>\n",
       "      <td>20.0</td>\n",
       "      <td>F</td>\n",
       "      <td>student</td>\n",
       "      <td>68503</td>\n",
       "      <td>NaN</td>\n",
       "      <td>NaN</td>\n",
       "      <td>NaN</td>\n",
       "      <td>NaN</td>\n",
       "    </tr>\n",
       "    <tr>\n",
       "      <th>480</th>\n",
       "      <td>57.0</td>\n",
       "      <td>M</td>\n",
       "      <td>retired</td>\n",
       "      <td>98257</td>\n",
       "      <td>NaN</td>\n",
       "      <td>NaN</td>\n",
       "      <td>NaN</td>\n",
       "      <td>NaN</td>\n",
       "    </tr>\n",
       "    <tr>\n",
       "      <th>268</th>\n",
       "      <td>24.0</td>\n",
       "      <td>M</td>\n",
       "      <td>engineer</td>\n",
       "      <td>19422</td>\n",
       "      <td>NaN</td>\n",
       "      <td>NaN</td>\n",
       "      <td>NaN</td>\n",
       "      <td>NaN</td>\n",
       "    </tr>\n",
       "    <tr>\n",
       "      <th>362</th>\n",
       "      <td>35.0</td>\n",
       "      <td>F</td>\n",
       "      <td>homemaker</td>\n",
       "      <td>85233</td>\n",
       "      <td>NaN</td>\n",
       "      <td>NaN</td>\n",
       "      <td>NaN</td>\n",
       "      <td>NaN</td>\n",
       "    </tr>\n",
       "    <tr>\n",
       "      <th>92</th>\n",
       "      <td>32.0</td>\n",
       "      <td>M</td>\n",
       "      <td>entertainment</td>\n",
       "      <td>80525</td>\n",
       "      <td>NaN</td>\n",
       "      <td>NaN</td>\n",
       "      <td>NaN</td>\n",
       "      <td>NaN</td>\n",
       "    </tr>\n",
       "    <tr>\n",
       "      <th>165</th>\n",
       "      <td>NaN</td>\n",
       "      <td>NaN</td>\n",
       "      <td>NaN</td>\n",
       "      <td>NaN</td>\n",
       "      <td>20.0</td>\n",
       "      <td>F</td>\n",
       "      <td>other</td>\n",
       "      <td>53715</td>\n",
       "    </tr>\n",
       "    <tr>\n",
       "      <th>477</th>\n",
       "      <td>NaN</td>\n",
       "      <td>NaN</td>\n",
       "      <td>NaN</td>\n",
       "      <td>NaN</td>\n",
       "      <td>23.0</td>\n",
       "      <td>F</td>\n",
       "      <td>student</td>\n",
       "      <td>02125</td>\n",
       "    </tr>\n",
       "    <tr>\n",
       "      <th>906</th>\n",
       "      <td>NaN</td>\n",
       "      <td>NaN</td>\n",
       "      <td>NaN</td>\n",
       "      <td>NaN</td>\n",
       "      <td>45.0</td>\n",
       "      <td>M</td>\n",
       "      <td>librarian</td>\n",
       "      <td>70124</td>\n",
       "    </tr>\n",
       "    <tr>\n",
       "      <th>708</th>\n",
       "      <td>NaN</td>\n",
       "      <td>NaN</td>\n",
       "      <td>NaN</td>\n",
       "      <td>NaN</td>\n",
       "      <td>26.0</td>\n",
       "      <td>F</td>\n",
       "      <td>homemaker</td>\n",
       "      <td>96349</td>\n",
       "    </tr>\n",
       "    <tr>\n",
       "      <th>831</th>\n",
       "      <td>NaN</td>\n",
       "      <td>NaN</td>\n",
       "      <td>NaN</td>\n",
       "      <td>NaN</td>\n",
       "      <td>21.0</td>\n",
       "      <td>M</td>\n",
       "      <td>other</td>\n",
       "      <td>33765</td>\n",
       "    </tr>\n",
       "    <tr>\n",
       "      <th>670</th>\n",
       "      <td>NaN</td>\n",
       "      <td>NaN</td>\n",
       "      <td>NaN</td>\n",
       "      <td>NaN</td>\n",
       "      <td>30.0</td>\n",
       "      <td>M</td>\n",
       "      <td>technician</td>\n",
       "      <td>21114</td>\n",
       "    </tr>\n",
       "    <tr>\n",
       "      <th>408</th>\n",
       "      <td>NaN</td>\n",
       "      <td>NaN</td>\n",
       "      <td>NaN</td>\n",
       "      <td>NaN</td>\n",
       "      <td>23.0</td>\n",
       "      <td>M</td>\n",
       "      <td>student</td>\n",
       "      <td>61755</td>\n",
       "    </tr>\n",
       "    <tr>\n",
       "      <th>397</th>\n",
       "      <td>NaN</td>\n",
       "      <td>NaN</td>\n",
       "      <td>NaN</td>\n",
       "      <td>NaN</td>\n",
       "      <td>17.0</td>\n",
       "      <td>M</td>\n",
       "      <td>student</td>\n",
       "      <td>27514</td>\n",
       "    </tr>\n",
       "    <tr>\n",
       "      <th>835</th>\n",
       "      <td>NaN</td>\n",
       "      <td>NaN</td>\n",
       "      <td>NaN</td>\n",
       "      <td>NaN</td>\n",
       "      <td>44.0</td>\n",
       "      <td>F</td>\n",
       "      <td>executive</td>\n",
       "      <td>11577</td>\n",
       "    </tr>\n",
       "  </tbody>\n",
       "</table>\n",
       "</div>"
      ],
      "text/plain": [
       "        first                                second                     \\\n",
       "          age gender     occupation zip_code    age gender  occupation   \n",
       "user_id                                                                  \n",
       "501      22.0      M        student    10025    NaN    NaN         NaN   \n",
       "817      19.0      M        student    60152    NaN    NaN         NaN   \n",
       "54       22.0      M      executive    66315    NaN    NaN         NaN   \n",
       "885      30.0      F          other    95316    NaN    NaN         NaN   \n",
       "759      20.0      F        student    68503    NaN    NaN         NaN   \n",
       "480      57.0      M        retired    98257    NaN    NaN         NaN   \n",
       "268      24.0      M       engineer    19422    NaN    NaN         NaN   \n",
       "362      35.0      F      homemaker    85233    NaN    NaN         NaN   \n",
       "92       32.0      M  entertainment    80525    NaN    NaN         NaN   \n",
       "165       NaN    NaN            NaN      NaN   20.0      F       other   \n",
       "477       NaN    NaN            NaN      NaN   23.0      F     student   \n",
       "906       NaN    NaN            NaN      NaN   45.0      M   librarian   \n",
       "708       NaN    NaN            NaN      NaN   26.0      F   homemaker   \n",
       "831       NaN    NaN            NaN      NaN   21.0      M       other   \n",
       "670       NaN    NaN            NaN      NaN   30.0      M  technician   \n",
       "408       NaN    NaN            NaN      NaN   23.0      M     student   \n",
       "397       NaN    NaN            NaN      NaN   17.0      M     student   \n",
       "835       NaN    NaN            NaN      NaN   44.0      F   executive   \n",
       "\n",
       "                  \n",
       "        zip_code  \n",
       "user_id           \n",
       "501          NaN  \n",
       "817          NaN  \n",
       "54           NaN  \n",
       "885          NaN  \n",
       "759          NaN  \n",
       "480          NaN  \n",
       "268          NaN  \n",
       "362          NaN  \n",
       "92           NaN  \n",
       "165        53715  \n",
       "477        02125  \n",
       "906        70124  \n",
       "708        96349  \n",
       "831        33765  \n",
       "670        21114  \n",
       "408        61755  \n",
       "397        27514  \n",
       "835        11577  "
      ]
     },
     "execution_count": 22,
     "metadata": {},
     "output_type": "execute_result"
    }
   ],
   "source": [
    "concatenated_axis_1 = pd.concat([first_df, second_df], axis=1,  keys=[\"first\", \"second\"]) #keys: optional)\n",
    "concatenated_axis_1"
   ]
  },
  {
   "cell_type": "markdown",
   "id": "weekly-klein",
   "metadata": {},
   "source": [
    "### Merge"
   ]
  },
  {
   "cell_type": "markdown",
   "id": "8efd9a95",
   "metadata": {
    "lang": "en"
   },
   "source": [
    "[Merge()](https://pandas.pydata.org/docs/reference/api/pandas.DataFrame.merge.html) is most useful when you want to merge rows that share data."
   ]
  },
  {
   "cell_type": "code",
   "execution_count": 28,
   "id": "b45d2d37",
   "metadata": {},
   "outputs": [],
   "source": [
    "import numpy as np\n",
    "import pandas as pd   \n",
    "from IPython.display import display_html "
   ]
  },
  {
   "cell_type": "code",
   "execution_count": 29,
   "id": "373609f8",
   "metadata": {},
   "outputs": [],
   "source": [
    "df1 = pd.DataFrame(\n",
    "    {\n",
    "        \"key1\": [\"K0\", \"K0\", \"K1\", \"K2\"],\n",
    "        \"key2\": [\"K0\", \"K1\", \"K0\", \"K1\"],\n",
    "        \"A\": [\"A0\", \"A1\", \"A2\", \"A3\"],\n",
    "        \"B\": [\"B0\", \"B1\", \"B2\", \"B3\"],\n",
    "    }\n",
    ")\n",
    "\n",
    "\n",
    "df2 = pd.DataFrame(\n",
    "    {\n",
    "        \"key1\": [\"K0\", \"K1\", \"K1\", \"K2\"],\n",
    "        \"key2\": [\"K0\", \"K0\", \"K0\", \"K0\"],\n",
    "        \"C\": [\"C0\", \"C1\", \"C2\", \"C3\"],\n",
    "        \"D\": [\"D0\", \"D1\", \"D2\", \"D3\"],\n",
    "    }\n",
    ")"
   ]
  },
  {
   "cell_type": "code",
   "execution_count": 30,
   "id": "0702357c",
   "metadata": {},
   "outputs": [
    {
     "data": {
      "text/html": [
       "<style type=\"text/css\">\n",
       "</style>\n",
       "<table id=\"T_fa033\" style='display:inline'>\n",
       "  <caption>Left table</caption>\n",
       "  <thead>\n",
       "    <tr>\n",
       "      <th class=\"blank level0\" >&nbsp;</th>\n",
       "      <th id=\"T_fa033_level0_col0\" class=\"col_heading level0 col0\" >key1</th>\n",
       "      <th id=\"T_fa033_level0_col1\" class=\"col_heading level0 col1\" >key2</th>\n",
       "      <th id=\"T_fa033_level0_col2\" class=\"col_heading level0 col2\" >A</th>\n",
       "      <th id=\"T_fa033_level0_col3\" class=\"col_heading level0 col3\" >B</th>\n",
       "    </tr>\n",
       "  </thead>\n",
       "  <tbody>\n",
       "    <tr>\n",
       "      <th id=\"T_fa033_level0_row0\" class=\"row_heading level0 row0\" >0</th>\n",
       "      <td id=\"T_fa033_row0_col0\" class=\"data row0 col0\" >K0</td>\n",
       "      <td id=\"T_fa033_row0_col1\" class=\"data row0 col1\" >K0</td>\n",
       "      <td id=\"T_fa033_row0_col2\" class=\"data row0 col2\" >A0</td>\n",
       "      <td id=\"T_fa033_row0_col3\" class=\"data row0 col3\" >B0</td>\n",
       "    </tr>\n",
       "    <tr>\n",
       "      <th id=\"T_fa033_level0_row1\" class=\"row_heading level0 row1\" >1</th>\n",
       "      <td id=\"T_fa033_row1_col0\" class=\"data row1 col0\" >K0</td>\n",
       "      <td id=\"T_fa033_row1_col1\" class=\"data row1 col1\" >K1</td>\n",
       "      <td id=\"T_fa033_row1_col2\" class=\"data row1 col2\" >A1</td>\n",
       "      <td id=\"T_fa033_row1_col3\" class=\"data row1 col3\" >B1</td>\n",
       "    </tr>\n",
       "    <tr>\n",
       "      <th id=\"T_fa033_level0_row2\" class=\"row_heading level0 row2\" >2</th>\n",
       "      <td id=\"T_fa033_row2_col0\" class=\"data row2 col0\" >K1</td>\n",
       "      <td id=\"T_fa033_row2_col1\" class=\"data row2 col1\" >K0</td>\n",
       "      <td id=\"T_fa033_row2_col2\" class=\"data row2 col2\" >A2</td>\n",
       "      <td id=\"T_fa033_row2_col3\" class=\"data row2 col3\" >B2</td>\n",
       "    </tr>\n",
       "    <tr>\n",
       "      <th id=\"T_fa033_level0_row3\" class=\"row_heading level0 row3\" >3</th>\n",
       "      <td id=\"T_fa033_row3_col0\" class=\"data row3 col0\" >K2</td>\n",
       "      <td id=\"T_fa033_row3_col1\" class=\"data row3 col1\" >K1</td>\n",
       "      <td id=\"T_fa033_row3_col2\" class=\"data row3 col2\" >A3</td>\n",
       "      <td id=\"T_fa033_row3_col3\" class=\"data row3 col3\" >B3</td>\n",
       "    </tr>\n",
       "  </tbody>\n",
       "</table>\n",
       "<style type=\"text/css\">\n",
       "</style>\n",
       "<table id=\"T_2c3d7\" style='display:inline'>\n",
       "  <caption>Right table</caption>\n",
       "  <thead>\n",
       "    <tr>\n",
       "      <th class=\"blank level0\" >&nbsp;</th>\n",
       "      <th id=\"T_2c3d7_level0_col0\" class=\"col_heading level0 col0\" >key1</th>\n",
       "      <th id=\"T_2c3d7_level0_col1\" class=\"col_heading level0 col1\" >key2</th>\n",
       "      <th id=\"T_2c3d7_level0_col2\" class=\"col_heading level0 col2\" >C</th>\n",
       "      <th id=\"T_2c3d7_level0_col3\" class=\"col_heading level0 col3\" >D</th>\n",
       "    </tr>\n",
       "  </thead>\n",
       "  <tbody>\n",
       "    <tr>\n",
       "      <th id=\"T_2c3d7_level0_row0\" class=\"row_heading level0 row0\" >0</th>\n",
       "      <td id=\"T_2c3d7_row0_col0\" class=\"data row0 col0\" >K0</td>\n",
       "      <td id=\"T_2c3d7_row0_col1\" class=\"data row0 col1\" >K0</td>\n",
       "      <td id=\"T_2c3d7_row0_col2\" class=\"data row0 col2\" >C0</td>\n",
       "      <td id=\"T_2c3d7_row0_col3\" class=\"data row0 col3\" >D0</td>\n",
       "    </tr>\n",
       "    <tr>\n",
       "      <th id=\"T_2c3d7_level0_row1\" class=\"row_heading level0 row1\" >1</th>\n",
       "      <td id=\"T_2c3d7_row1_col0\" class=\"data row1 col0\" >K1</td>\n",
       "      <td id=\"T_2c3d7_row1_col1\" class=\"data row1 col1\" >K0</td>\n",
       "      <td id=\"T_2c3d7_row1_col2\" class=\"data row1 col2\" >C1</td>\n",
       "      <td id=\"T_2c3d7_row1_col3\" class=\"data row1 col3\" >D1</td>\n",
       "    </tr>\n",
       "    <tr>\n",
       "      <th id=\"T_2c3d7_level0_row2\" class=\"row_heading level0 row2\" >2</th>\n",
       "      <td id=\"T_2c3d7_row2_col0\" class=\"data row2 col0\" >K1</td>\n",
       "      <td id=\"T_2c3d7_row2_col1\" class=\"data row2 col1\" >K0</td>\n",
       "      <td id=\"T_2c3d7_row2_col2\" class=\"data row2 col2\" >C2</td>\n",
       "      <td id=\"T_2c3d7_row2_col3\" class=\"data row2 col3\" >D2</td>\n",
       "    </tr>\n",
       "    <tr>\n",
       "      <th id=\"T_2c3d7_level0_row3\" class=\"row_heading level0 row3\" >3</th>\n",
       "      <td id=\"T_2c3d7_row3_col0\" class=\"data row3 col0\" >K2</td>\n",
       "      <td id=\"T_2c3d7_row3_col1\" class=\"data row3 col1\" >K0</td>\n",
       "      <td id=\"T_2c3d7_row3_col2\" class=\"data row3 col2\" >C3</td>\n",
       "      <td id=\"T_2c3d7_row3_col3\" class=\"data row3 col3\" >D3</td>\n",
       "    </tr>\n",
       "  </tbody>\n",
       "</table>\n"
      ]
     },
     "metadata": {},
     "output_type": "display_data"
    }
   ],
   "source": [
    "result = pd.merge(df1, df2, on=[\"key1\", \"key2\"]) \n",
    "\n",
    "\n",
    "#Rendering the df's in the same line. No need to learn this code\n",
    "\n",
    "df1_styler = df1.style.set_table_attributes(\"style='display:inline'\").set_caption('Left table')\n",
    "df2_styler = df2.style.set_table_attributes(\"style='display:inline'\").set_caption('Right table')\n",
    "\n",
    "display_html(df1_styler._repr_html_()+ df2_styler._repr_html_(), raw=True)"
   ]
  },
  {
   "cell_type": "markdown",
   "id": "d71c38f1",
   "metadata": {},
   "source": [
    "#### LEFT Merge"
   ]
  },
  {
   "cell_type": "code",
   "execution_count": 33,
   "id": "1675ff5b",
   "metadata": {
    "scrolled": true
   },
   "outputs": [
    {
     "data": {
      "text/html": [
       "<style type=\"text/css\">\n",
       "</style>\n",
       "<table id=\"T_787e5\" style='display:inline'>\n",
       "  <caption>Left table</caption>\n",
       "  <thead>\n",
       "    <tr>\n",
       "      <th class=\"blank level0\" >&nbsp;</th>\n",
       "      <th id=\"T_787e5_level0_col0\" class=\"col_heading level0 col0\" >key1</th>\n",
       "      <th id=\"T_787e5_level0_col1\" class=\"col_heading level0 col1\" >key2</th>\n",
       "      <th id=\"T_787e5_level0_col2\" class=\"col_heading level0 col2\" >A</th>\n",
       "      <th id=\"T_787e5_level0_col3\" class=\"col_heading level0 col3\" >B</th>\n",
       "    </tr>\n",
       "  </thead>\n",
       "  <tbody>\n",
       "    <tr>\n",
       "      <th id=\"T_787e5_level0_row0\" class=\"row_heading level0 row0\" >0</th>\n",
       "      <td id=\"T_787e5_row0_col0\" class=\"data row0 col0\" >K0</td>\n",
       "      <td id=\"T_787e5_row0_col1\" class=\"data row0 col1\" >K0</td>\n",
       "      <td id=\"T_787e5_row0_col2\" class=\"data row0 col2\" >A0</td>\n",
       "      <td id=\"T_787e5_row0_col3\" class=\"data row0 col3\" >B0</td>\n",
       "    </tr>\n",
       "    <tr>\n",
       "      <th id=\"T_787e5_level0_row1\" class=\"row_heading level0 row1\" >1</th>\n",
       "      <td id=\"T_787e5_row1_col0\" class=\"data row1 col0\" >K0</td>\n",
       "      <td id=\"T_787e5_row1_col1\" class=\"data row1 col1\" >K1</td>\n",
       "      <td id=\"T_787e5_row1_col2\" class=\"data row1 col2\" >A1</td>\n",
       "      <td id=\"T_787e5_row1_col3\" class=\"data row1 col3\" >B1</td>\n",
       "    </tr>\n",
       "    <tr>\n",
       "      <th id=\"T_787e5_level0_row2\" class=\"row_heading level0 row2\" >2</th>\n",
       "      <td id=\"T_787e5_row2_col0\" class=\"data row2 col0\" >K1</td>\n",
       "      <td id=\"T_787e5_row2_col1\" class=\"data row2 col1\" >K0</td>\n",
       "      <td id=\"T_787e5_row2_col2\" class=\"data row2 col2\" >A2</td>\n",
       "      <td id=\"T_787e5_row2_col3\" class=\"data row2 col3\" >B2</td>\n",
       "    </tr>\n",
       "    <tr>\n",
       "      <th id=\"T_787e5_level0_row3\" class=\"row_heading level0 row3\" >3</th>\n",
       "      <td id=\"T_787e5_row3_col0\" class=\"data row3 col0\" >K2</td>\n",
       "      <td id=\"T_787e5_row3_col1\" class=\"data row3 col1\" >K1</td>\n",
       "      <td id=\"T_787e5_row3_col2\" class=\"data row3 col2\" >A3</td>\n",
       "      <td id=\"T_787e5_row3_col3\" class=\"data row3 col3\" >B3</td>\n",
       "    </tr>\n",
       "  </tbody>\n",
       "</table>\n",
       "<style type=\"text/css\">\n",
       "</style>\n",
       "<table id=\"T_247f4\" style='display:inline'>\n",
       "  <caption>Right table</caption>\n",
       "  <thead>\n",
       "    <tr>\n",
       "      <th class=\"blank level0\" >&nbsp;</th>\n",
       "      <th id=\"T_247f4_level0_col0\" class=\"col_heading level0 col0\" >key1</th>\n",
       "      <th id=\"T_247f4_level0_col1\" class=\"col_heading level0 col1\" >key2</th>\n",
       "      <th id=\"T_247f4_level0_col2\" class=\"col_heading level0 col2\" >C</th>\n",
       "      <th id=\"T_247f4_level0_col3\" class=\"col_heading level0 col3\" >D</th>\n",
       "    </tr>\n",
       "  </thead>\n",
       "  <tbody>\n",
       "    <tr>\n",
       "      <th id=\"T_247f4_level0_row0\" class=\"row_heading level0 row0\" >0</th>\n",
       "      <td id=\"T_247f4_row0_col0\" class=\"data row0 col0\" >K0</td>\n",
       "      <td id=\"T_247f4_row0_col1\" class=\"data row0 col1\" >K0</td>\n",
       "      <td id=\"T_247f4_row0_col2\" class=\"data row0 col2\" >C0</td>\n",
       "      <td id=\"T_247f4_row0_col3\" class=\"data row0 col3\" >D0</td>\n",
       "    </tr>\n",
       "    <tr>\n",
       "      <th id=\"T_247f4_level0_row1\" class=\"row_heading level0 row1\" >1</th>\n",
       "      <td id=\"T_247f4_row1_col0\" class=\"data row1 col0\" >K1</td>\n",
       "      <td id=\"T_247f4_row1_col1\" class=\"data row1 col1\" >K0</td>\n",
       "      <td id=\"T_247f4_row1_col2\" class=\"data row1 col2\" >C1</td>\n",
       "      <td id=\"T_247f4_row1_col3\" class=\"data row1 col3\" >D1</td>\n",
       "    </tr>\n",
       "    <tr>\n",
       "      <th id=\"T_247f4_level0_row2\" class=\"row_heading level0 row2\" >2</th>\n",
       "      <td id=\"T_247f4_row2_col0\" class=\"data row2 col0\" >K1</td>\n",
       "      <td id=\"T_247f4_row2_col1\" class=\"data row2 col1\" >K0</td>\n",
       "      <td id=\"T_247f4_row2_col2\" class=\"data row2 col2\" >C2</td>\n",
       "      <td id=\"T_247f4_row2_col3\" class=\"data row2 col3\" >D2</td>\n",
       "    </tr>\n",
       "    <tr>\n",
       "      <th id=\"T_247f4_level0_row3\" class=\"row_heading level0 row3\" >3</th>\n",
       "      <td id=\"T_247f4_row3_col0\" class=\"data row3 col0\" >K2</td>\n",
       "      <td id=\"T_247f4_row3_col1\" class=\"data row3 col1\" >K0</td>\n",
       "      <td id=\"T_247f4_row3_col2\" class=\"data row3 col2\" >C3</td>\n",
       "      <td id=\"T_247f4_row3_col3\" class=\"data row3 col3\" >D3</td>\n",
       "    </tr>\n",
       "  </tbody>\n",
       "</table>\n",
       "<style type=\"text/css\">\n",
       "</style>\n",
       "<table id=\"T_26101\" style='display:inline'>\n",
       "  <caption>LEFT MERGE</caption>\n",
       "  <thead>\n",
       "    <tr>\n",
       "      <th class=\"blank level0\" >&nbsp;</th>\n",
       "      <th id=\"T_26101_level0_col0\" class=\"col_heading level0 col0\" >key1</th>\n",
       "      <th id=\"T_26101_level0_col1\" class=\"col_heading level0 col1\" >key2</th>\n",
       "      <th id=\"T_26101_level0_col2\" class=\"col_heading level0 col2\" >A</th>\n",
       "      <th id=\"T_26101_level0_col3\" class=\"col_heading level0 col3\" >B</th>\n",
       "      <th id=\"T_26101_level0_col4\" class=\"col_heading level0 col4\" >C</th>\n",
       "      <th id=\"T_26101_level0_col5\" class=\"col_heading level0 col5\" >D</th>\n",
       "    </tr>\n",
       "  </thead>\n",
       "  <tbody>\n",
       "    <tr>\n",
       "      <th id=\"T_26101_level0_row0\" class=\"row_heading level0 row0\" >0</th>\n",
       "      <td id=\"T_26101_row0_col0\" class=\"data row0 col0\" >K0</td>\n",
       "      <td id=\"T_26101_row0_col1\" class=\"data row0 col1\" >K0</td>\n",
       "      <td id=\"T_26101_row0_col2\" class=\"data row0 col2\" >A0</td>\n",
       "      <td id=\"T_26101_row0_col3\" class=\"data row0 col3\" >B0</td>\n",
       "      <td id=\"T_26101_row0_col4\" class=\"data row0 col4\" >C0</td>\n",
       "      <td id=\"T_26101_row0_col5\" class=\"data row0 col5\" >D0</td>\n",
       "    </tr>\n",
       "    <tr>\n",
       "      <th id=\"T_26101_level0_row1\" class=\"row_heading level0 row1\" >1</th>\n",
       "      <td id=\"T_26101_row1_col0\" class=\"data row1 col0\" >K0</td>\n",
       "      <td id=\"T_26101_row1_col1\" class=\"data row1 col1\" >K1</td>\n",
       "      <td id=\"T_26101_row1_col2\" class=\"data row1 col2\" >A1</td>\n",
       "      <td id=\"T_26101_row1_col3\" class=\"data row1 col3\" >B1</td>\n",
       "      <td id=\"T_26101_row1_col4\" class=\"data row1 col4\" >nan</td>\n",
       "      <td id=\"T_26101_row1_col5\" class=\"data row1 col5\" >nan</td>\n",
       "    </tr>\n",
       "    <tr>\n",
       "      <th id=\"T_26101_level0_row2\" class=\"row_heading level0 row2\" >2</th>\n",
       "      <td id=\"T_26101_row2_col0\" class=\"data row2 col0\" >K1</td>\n",
       "      <td id=\"T_26101_row2_col1\" class=\"data row2 col1\" >K0</td>\n",
       "      <td id=\"T_26101_row2_col2\" class=\"data row2 col2\" >A2</td>\n",
       "      <td id=\"T_26101_row2_col3\" class=\"data row2 col3\" >B2</td>\n",
       "      <td id=\"T_26101_row2_col4\" class=\"data row2 col4\" >C1</td>\n",
       "      <td id=\"T_26101_row2_col5\" class=\"data row2 col5\" >D1</td>\n",
       "    </tr>\n",
       "    <tr>\n",
       "      <th id=\"T_26101_level0_row3\" class=\"row_heading level0 row3\" >3</th>\n",
       "      <td id=\"T_26101_row3_col0\" class=\"data row3 col0\" >K1</td>\n",
       "      <td id=\"T_26101_row3_col1\" class=\"data row3 col1\" >K0</td>\n",
       "      <td id=\"T_26101_row3_col2\" class=\"data row3 col2\" >A2</td>\n",
       "      <td id=\"T_26101_row3_col3\" class=\"data row3 col3\" >B2</td>\n",
       "      <td id=\"T_26101_row3_col4\" class=\"data row3 col4\" >C2</td>\n",
       "      <td id=\"T_26101_row3_col5\" class=\"data row3 col5\" >D2</td>\n",
       "    </tr>\n",
       "    <tr>\n",
       "      <th id=\"T_26101_level0_row4\" class=\"row_heading level0 row4\" >4</th>\n",
       "      <td id=\"T_26101_row4_col0\" class=\"data row4 col0\" >K2</td>\n",
       "      <td id=\"T_26101_row4_col1\" class=\"data row4 col1\" >K1</td>\n",
       "      <td id=\"T_26101_row4_col2\" class=\"data row4 col2\" >A3</td>\n",
       "      <td id=\"T_26101_row4_col3\" class=\"data row4 col3\" >B3</td>\n",
       "      <td id=\"T_26101_row4_col4\" class=\"data row4 col4\" >nan</td>\n",
       "      <td id=\"T_26101_row4_col5\" class=\"data row4 col5\" >nan</td>\n",
       "    </tr>\n",
       "  </tbody>\n",
       "</table>\n"
      ]
     },
     "metadata": {},
     "output_type": "display_data"
    }
   ],
   "source": [
    "result = pd.merge(df1, df2, how=\"left\", on=[\"key1\", \"key2\"]) \n",
    "\n",
    "#Rendering the df's in the same line. No need to learn this code\n",
    "\n",
    "df1_styler = df1.style.set_table_attributes(\"style='display:inline'\").set_caption('Left table')\n",
    "df2_styler = df2.style.set_table_attributes(\"style='display:inline'\").set_caption('Right table')\n",
    "df1_df2_merged = result.style.set_table_attributes(\"style='display:inline'\").set_caption('LEFT MERGE')\n",
    "\n",
    "display_html(df1_styler._repr_html_()+ df2_styler._repr_html_() + df1_df2_merged._repr_html_(), raw=True)\n",
    "#display_html(df1_styler._repr_html_()+ df2_styler._repr_html_(), raw=True)"
   ]
  },
  {
   "cell_type": "markdown",
   "id": "364ddbeb",
   "metadata": {},
   "source": [
    "#### RIGHT Merge"
   ]
  },
  {
   "cell_type": "code",
   "execution_count": 37,
   "id": "0ccee3bd",
   "metadata": {
    "scrolled": true
   },
   "outputs": [
    {
     "data": {
      "text/html": [
       "<style type=\"text/css\">\n",
       "</style>\n",
       "<table id=\"T_8b4c2\" style='display:inline'>\n",
       "  <caption>Left table</caption>\n",
       "  <thead>\n",
       "    <tr>\n",
       "      <th class=\"blank level0\" >&nbsp;</th>\n",
       "      <th id=\"T_8b4c2_level0_col0\" class=\"col_heading level0 col0\" >key1</th>\n",
       "      <th id=\"T_8b4c2_level0_col1\" class=\"col_heading level0 col1\" >key2</th>\n",
       "      <th id=\"T_8b4c2_level0_col2\" class=\"col_heading level0 col2\" >A</th>\n",
       "      <th id=\"T_8b4c2_level0_col3\" class=\"col_heading level0 col3\" >B</th>\n",
       "    </tr>\n",
       "  </thead>\n",
       "  <tbody>\n",
       "    <tr>\n",
       "      <th id=\"T_8b4c2_level0_row0\" class=\"row_heading level0 row0\" >0</th>\n",
       "      <td id=\"T_8b4c2_row0_col0\" class=\"data row0 col0\" >K0</td>\n",
       "      <td id=\"T_8b4c2_row0_col1\" class=\"data row0 col1\" >K0</td>\n",
       "      <td id=\"T_8b4c2_row0_col2\" class=\"data row0 col2\" >A0</td>\n",
       "      <td id=\"T_8b4c2_row0_col3\" class=\"data row0 col3\" >B0</td>\n",
       "    </tr>\n",
       "    <tr>\n",
       "      <th id=\"T_8b4c2_level0_row1\" class=\"row_heading level0 row1\" >1</th>\n",
       "      <td id=\"T_8b4c2_row1_col0\" class=\"data row1 col0\" >K0</td>\n",
       "      <td id=\"T_8b4c2_row1_col1\" class=\"data row1 col1\" >K1</td>\n",
       "      <td id=\"T_8b4c2_row1_col2\" class=\"data row1 col2\" >A1</td>\n",
       "      <td id=\"T_8b4c2_row1_col3\" class=\"data row1 col3\" >B1</td>\n",
       "    </tr>\n",
       "    <tr>\n",
       "      <th id=\"T_8b4c2_level0_row2\" class=\"row_heading level0 row2\" >2</th>\n",
       "      <td id=\"T_8b4c2_row2_col0\" class=\"data row2 col0\" >K1</td>\n",
       "      <td id=\"T_8b4c2_row2_col1\" class=\"data row2 col1\" >K0</td>\n",
       "      <td id=\"T_8b4c2_row2_col2\" class=\"data row2 col2\" >A2</td>\n",
       "      <td id=\"T_8b4c2_row2_col3\" class=\"data row2 col3\" >B2</td>\n",
       "    </tr>\n",
       "    <tr>\n",
       "      <th id=\"T_8b4c2_level0_row3\" class=\"row_heading level0 row3\" >3</th>\n",
       "      <td id=\"T_8b4c2_row3_col0\" class=\"data row3 col0\" >K2</td>\n",
       "      <td id=\"T_8b4c2_row3_col1\" class=\"data row3 col1\" >K1</td>\n",
       "      <td id=\"T_8b4c2_row3_col2\" class=\"data row3 col2\" >A3</td>\n",
       "      <td id=\"T_8b4c2_row3_col3\" class=\"data row3 col3\" >B3</td>\n",
       "    </tr>\n",
       "  </tbody>\n",
       "</table>\n",
       "<style type=\"text/css\">\n",
       "</style>\n",
       "<table id=\"T_76cf1\" style='display:inline'>\n",
       "  <caption>Right table</caption>\n",
       "  <thead>\n",
       "    <tr>\n",
       "      <th class=\"blank level0\" >&nbsp;</th>\n",
       "      <th id=\"T_76cf1_level0_col0\" class=\"col_heading level0 col0\" >key1</th>\n",
       "      <th id=\"T_76cf1_level0_col1\" class=\"col_heading level0 col1\" >key2</th>\n",
       "      <th id=\"T_76cf1_level0_col2\" class=\"col_heading level0 col2\" >C</th>\n",
       "      <th id=\"T_76cf1_level0_col3\" class=\"col_heading level0 col3\" >D</th>\n",
       "    </tr>\n",
       "  </thead>\n",
       "  <tbody>\n",
       "    <tr>\n",
       "      <th id=\"T_76cf1_level0_row0\" class=\"row_heading level0 row0\" >0</th>\n",
       "      <td id=\"T_76cf1_row0_col0\" class=\"data row0 col0\" >K0</td>\n",
       "      <td id=\"T_76cf1_row0_col1\" class=\"data row0 col1\" >K0</td>\n",
       "      <td id=\"T_76cf1_row0_col2\" class=\"data row0 col2\" >C0</td>\n",
       "      <td id=\"T_76cf1_row0_col3\" class=\"data row0 col3\" >D0</td>\n",
       "    </tr>\n",
       "    <tr>\n",
       "      <th id=\"T_76cf1_level0_row1\" class=\"row_heading level0 row1\" >1</th>\n",
       "      <td id=\"T_76cf1_row1_col0\" class=\"data row1 col0\" >K1</td>\n",
       "      <td id=\"T_76cf1_row1_col1\" class=\"data row1 col1\" >K0</td>\n",
       "      <td id=\"T_76cf1_row1_col2\" class=\"data row1 col2\" >C1</td>\n",
       "      <td id=\"T_76cf1_row1_col3\" class=\"data row1 col3\" >D1</td>\n",
       "    </tr>\n",
       "    <tr>\n",
       "      <th id=\"T_76cf1_level0_row2\" class=\"row_heading level0 row2\" >2</th>\n",
       "      <td id=\"T_76cf1_row2_col0\" class=\"data row2 col0\" >K1</td>\n",
       "      <td id=\"T_76cf1_row2_col1\" class=\"data row2 col1\" >K0</td>\n",
       "      <td id=\"T_76cf1_row2_col2\" class=\"data row2 col2\" >C2</td>\n",
       "      <td id=\"T_76cf1_row2_col3\" class=\"data row2 col3\" >D2</td>\n",
       "    </tr>\n",
       "    <tr>\n",
       "      <th id=\"T_76cf1_level0_row3\" class=\"row_heading level0 row3\" >3</th>\n",
       "      <td id=\"T_76cf1_row3_col0\" class=\"data row3 col0\" >K2</td>\n",
       "      <td id=\"T_76cf1_row3_col1\" class=\"data row3 col1\" >K0</td>\n",
       "      <td id=\"T_76cf1_row3_col2\" class=\"data row3 col2\" >C3</td>\n",
       "      <td id=\"T_76cf1_row3_col3\" class=\"data row3 col3\" >D3</td>\n",
       "    </tr>\n",
       "  </tbody>\n",
       "</table>\n",
       "<style type=\"text/css\">\n",
       "</style>\n",
       "<table id=\"T_fe4d3\" style='display:inline'>\n",
       "  <caption>RIGHT MERGE</caption>\n",
       "  <thead>\n",
       "    <tr>\n",
       "      <th class=\"blank level0\" >&nbsp;</th>\n",
       "      <th id=\"T_fe4d3_level0_col0\" class=\"col_heading level0 col0\" >key1</th>\n",
       "      <th id=\"T_fe4d3_level0_col1\" class=\"col_heading level0 col1\" >key2</th>\n",
       "      <th id=\"T_fe4d3_level0_col2\" class=\"col_heading level0 col2\" >A</th>\n",
       "      <th id=\"T_fe4d3_level0_col3\" class=\"col_heading level0 col3\" >B</th>\n",
       "      <th id=\"T_fe4d3_level0_col4\" class=\"col_heading level0 col4\" >C</th>\n",
       "      <th id=\"T_fe4d3_level0_col5\" class=\"col_heading level0 col5\" >D</th>\n",
       "    </tr>\n",
       "  </thead>\n",
       "  <tbody>\n",
       "    <tr>\n",
       "      <th id=\"T_fe4d3_level0_row0\" class=\"row_heading level0 row0\" >0</th>\n",
       "      <td id=\"T_fe4d3_row0_col0\" class=\"data row0 col0\" >K0</td>\n",
       "      <td id=\"T_fe4d3_row0_col1\" class=\"data row0 col1\" >K0</td>\n",
       "      <td id=\"T_fe4d3_row0_col2\" class=\"data row0 col2\" >A0</td>\n",
       "      <td id=\"T_fe4d3_row0_col3\" class=\"data row0 col3\" >B0</td>\n",
       "      <td id=\"T_fe4d3_row0_col4\" class=\"data row0 col4\" >C0</td>\n",
       "      <td id=\"T_fe4d3_row0_col5\" class=\"data row0 col5\" >D0</td>\n",
       "    </tr>\n",
       "    <tr>\n",
       "      <th id=\"T_fe4d3_level0_row1\" class=\"row_heading level0 row1\" >1</th>\n",
       "      <td id=\"T_fe4d3_row1_col0\" class=\"data row1 col0\" >K1</td>\n",
       "      <td id=\"T_fe4d3_row1_col1\" class=\"data row1 col1\" >K0</td>\n",
       "      <td id=\"T_fe4d3_row1_col2\" class=\"data row1 col2\" >A2</td>\n",
       "      <td id=\"T_fe4d3_row1_col3\" class=\"data row1 col3\" >B2</td>\n",
       "      <td id=\"T_fe4d3_row1_col4\" class=\"data row1 col4\" >C1</td>\n",
       "      <td id=\"T_fe4d3_row1_col5\" class=\"data row1 col5\" >D1</td>\n",
       "    </tr>\n",
       "    <tr>\n",
       "      <th id=\"T_fe4d3_level0_row2\" class=\"row_heading level0 row2\" >2</th>\n",
       "      <td id=\"T_fe4d3_row2_col0\" class=\"data row2 col0\" >K1</td>\n",
       "      <td id=\"T_fe4d3_row2_col1\" class=\"data row2 col1\" >K0</td>\n",
       "      <td id=\"T_fe4d3_row2_col2\" class=\"data row2 col2\" >A2</td>\n",
       "      <td id=\"T_fe4d3_row2_col3\" class=\"data row2 col3\" >B2</td>\n",
       "      <td id=\"T_fe4d3_row2_col4\" class=\"data row2 col4\" >C2</td>\n",
       "      <td id=\"T_fe4d3_row2_col5\" class=\"data row2 col5\" >D2</td>\n",
       "    </tr>\n",
       "    <tr>\n",
       "      <th id=\"T_fe4d3_level0_row3\" class=\"row_heading level0 row3\" >3</th>\n",
       "      <td id=\"T_fe4d3_row3_col0\" class=\"data row3 col0\" >K2</td>\n",
       "      <td id=\"T_fe4d3_row3_col1\" class=\"data row3 col1\" >K0</td>\n",
       "      <td id=\"T_fe4d3_row3_col2\" class=\"data row3 col2\" >nan</td>\n",
       "      <td id=\"T_fe4d3_row3_col3\" class=\"data row3 col3\" >nan</td>\n",
       "      <td id=\"T_fe4d3_row3_col4\" class=\"data row3 col4\" >C3</td>\n",
       "      <td id=\"T_fe4d3_row3_col5\" class=\"data row3 col5\" >D3</td>\n",
       "    </tr>\n",
       "  </tbody>\n",
       "</table>\n"
      ]
     },
     "metadata": {},
     "output_type": "display_data"
    }
   ],
   "source": [
    "result = pd.merge(df1, df2, how=\"right\", on=[\"key1\", \"key2\"]) \n",
    "\n",
    "\n",
    "#Rendering the df's in the same line. No need to learn this code\n",
    "\n",
    "df1_styler = df1.style.set_table_attributes(\"style='display:inline'\").set_caption('Left table')\n",
    "df2_styler = df2.style.set_table_attributes(\"style='display:inline'\").set_caption('Right table')\n",
    "df1_df2_merged = result.style.set_table_attributes(\"style='display:inline'\").set_caption('RIGHT MERGE')\n",
    "\n",
    "display_html(df1_styler._repr_html_()+ df2_styler._repr_html_() + df1_df2_merged._repr_html_(), raw=True)\n",
    "#display_html(df1_styler._repr_html_()+ df2_styler._repr_html_(), raw=True)"
   ]
  },
  {
   "cell_type": "markdown",
   "id": "0b9cac56",
   "metadata": {},
   "source": [
    "#### INNER Merge"
   ]
  },
  {
   "cell_type": "code",
   "execution_count": 39,
   "id": "0ebb4de2",
   "metadata": {
    "scrolled": false
   },
   "outputs": [
    {
     "data": {
      "text/html": [
       "<style type=\"text/css\">\n",
       "</style>\n",
       "<table id=\"T_ebfb2\" style='display:inline'>\n",
       "  <caption>Left table</caption>\n",
       "  <thead>\n",
       "    <tr>\n",
       "      <th class=\"blank level0\" >&nbsp;</th>\n",
       "      <th id=\"T_ebfb2_level0_col0\" class=\"col_heading level0 col0\" >key1</th>\n",
       "      <th id=\"T_ebfb2_level0_col1\" class=\"col_heading level0 col1\" >key2</th>\n",
       "      <th id=\"T_ebfb2_level0_col2\" class=\"col_heading level0 col2\" >A</th>\n",
       "      <th id=\"T_ebfb2_level0_col3\" class=\"col_heading level0 col3\" >B</th>\n",
       "    </tr>\n",
       "  </thead>\n",
       "  <tbody>\n",
       "    <tr>\n",
       "      <th id=\"T_ebfb2_level0_row0\" class=\"row_heading level0 row0\" >0</th>\n",
       "      <td id=\"T_ebfb2_row0_col0\" class=\"data row0 col0\" >K0</td>\n",
       "      <td id=\"T_ebfb2_row0_col1\" class=\"data row0 col1\" >K0</td>\n",
       "      <td id=\"T_ebfb2_row0_col2\" class=\"data row0 col2\" >A0</td>\n",
       "      <td id=\"T_ebfb2_row0_col3\" class=\"data row0 col3\" >B0</td>\n",
       "    </tr>\n",
       "    <tr>\n",
       "      <th id=\"T_ebfb2_level0_row1\" class=\"row_heading level0 row1\" >1</th>\n",
       "      <td id=\"T_ebfb2_row1_col0\" class=\"data row1 col0\" >K0</td>\n",
       "      <td id=\"T_ebfb2_row1_col1\" class=\"data row1 col1\" >K1</td>\n",
       "      <td id=\"T_ebfb2_row1_col2\" class=\"data row1 col2\" >A1</td>\n",
       "      <td id=\"T_ebfb2_row1_col3\" class=\"data row1 col3\" >B1</td>\n",
       "    </tr>\n",
       "    <tr>\n",
       "      <th id=\"T_ebfb2_level0_row2\" class=\"row_heading level0 row2\" >2</th>\n",
       "      <td id=\"T_ebfb2_row2_col0\" class=\"data row2 col0\" >K1</td>\n",
       "      <td id=\"T_ebfb2_row2_col1\" class=\"data row2 col1\" >K0</td>\n",
       "      <td id=\"T_ebfb2_row2_col2\" class=\"data row2 col2\" >A2</td>\n",
       "      <td id=\"T_ebfb2_row2_col3\" class=\"data row2 col3\" >B2</td>\n",
       "    </tr>\n",
       "    <tr>\n",
       "      <th id=\"T_ebfb2_level0_row3\" class=\"row_heading level0 row3\" >3</th>\n",
       "      <td id=\"T_ebfb2_row3_col0\" class=\"data row3 col0\" >K2</td>\n",
       "      <td id=\"T_ebfb2_row3_col1\" class=\"data row3 col1\" >K1</td>\n",
       "      <td id=\"T_ebfb2_row3_col2\" class=\"data row3 col2\" >A3</td>\n",
       "      <td id=\"T_ebfb2_row3_col3\" class=\"data row3 col3\" >B3</td>\n",
       "    </tr>\n",
       "  </tbody>\n",
       "</table>\n",
       "<style type=\"text/css\">\n",
       "</style>\n",
       "<table id=\"T_048f7\" style='display:inline'>\n",
       "  <caption>Right table</caption>\n",
       "  <thead>\n",
       "    <tr>\n",
       "      <th class=\"blank level0\" >&nbsp;</th>\n",
       "      <th id=\"T_048f7_level0_col0\" class=\"col_heading level0 col0\" >key1</th>\n",
       "      <th id=\"T_048f7_level0_col1\" class=\"col_heading level0 col1\" >key2</th>\n",
       "      <th id=\"T_048f7_level0_col2\" class=\"col_heading level0 col2\" >C</th>\n",
       "      <th id=\"T_048f7_level0_col3\" class=\"col_heading level0 col3\" >D</th>\n",
       "    </tr>\n",
       "  </thead>\n",
       "  <tbody>\n",
       "    <tr>\n",
       "      <th id=\"T_048f7_level0_row0\" class=\"row_heading level0 row0\" >0</th>\n",
       "      <td id=\"T_048f7_row0_col0\" class=\"data row0 col0\" >K0</td>\n",
       "      <td id=\"T_048f7_row0_col1\" class=\"data row0 col1\" >K0</td>\n",
       "      <td id=\"T_048f7_row0_col2\" class=\"data row0 col2\" >C0</td>\n",
       "      <td id=\"T_048f7_row0_col3\" class=\"data row0 col3\" >D0</td>\n",
       "    </tr>\n",
       "    <tr>\n",
       "      <th id=\"T_048f7_level0_row1\" class=\"row_heading level0 row1\" >1</th>\n",
       "      <td id=\"T_048f7_row1_col0\" class=\"data row1 col0\" >K1</td>\n",
       "      <td id=\"T_048f7_row1_col1\" class=\"data row1 col1\" >K0</td>\n",
       "      <td id=\"T_048f7_row1_col2\" class=\"data row1 col2\" >C1</td>\n",
       "      <td id=\"T_048f7_row1_col3\" class=\"data row1 col3\" >D1</td>\n",
       "    </tr>\n",
       "    <tr>\n",
       "      <th id=\"T_048f7_level0_row2\" class=\"row_heading level0 row2\" >2</th>\n",
       "      <td id=\"T_048f7_row2_col0\" class=\"data row2 col0\" >K1</td>\n",
       "      <td id=\"T_048f7_row2_col1\" class=\"data row2 col1\" >K0</td>\n",
       "      <td id=\"T_048f7_row2_col2\" class=\"data row2 col2\" >C2</td>\n",
       "      <td id=\"T_048f7_row2_col3\" class=\"data row2 col3\" >D2</td>\n",
       "    </tr>\n",
       "    <tr>\n",
       "      <th id=\"T_048f7_level0_row3\" class=\"row_heading level0 row3\" >3</th>\n",
       "      <td id=\"T_048f7_row3_col0\" class=\"data row3 col0\" >K2</td>\n",
       "      <td id=\"T_048f7_row3_col1\" class=\"data row3 col1\" >K0</td>\n",
       "      <td id=\"T_048f7_row3_col2\" class=\"data row3 col2\" >C3</td>\n",
       "      <td id=\"T_048f7_row3_col3\" class=\"data row3 col3\" >D3</td>\n",
       "    </tr>\n",
       "  </tbody>\n",
       "</table>\n",
       "<style type=\"text/css\">\n",
       "</style>\n",
       "<table id=\"T_0c673\" style='display:inline'>\n",
       "  <caption>INNER MERGE</caption>\n",
       "  <thead>\n",
       "    <tr>\n",
       "      <th class=\"blank level0\" >&nbsp;</th>\n",
       "      <th id=\"T_0c673_level0_col0\" class=\"col_heading level0 col0\" >key1</th>\n",
       "      <th id=\"T_0c673_level0_col1\" class=\"col_heading level0 col1\" >key2</th>\n",
       "      <th id=\"T_0c673_level0_col2\" class=\"col_heading level0 col2\" >A</th>\n",
       "      <th id=\"T_0c673_level0_col3\" class=\"col_heading level0 col3\" >B</th>\n",
       "      <th id=\"T_0c673_level0_col4\" class=\"col_heading level0 col4\" >C</th>\n",
       "      <th id=\"T_0c673_level0_col5\" class=\"col_heading level0 col5\" >D</th>\n",
       "    </tr>\n",
       "  </thead>\n",
       "  <tbody>\n",
       "    <tr>\n",
       "      <th id=\"T_0c673_level0_row0\" class=\"row_heading level0 row0\" >0</th>\n",
       "      <td id=\"T_0c673_row0_col0\" class=\"data row0 col0\" >K0</td>\n",
       "      <td id=\"T_0c673_row0_col1\" class=\"data row0 col1\" >K0</td>\n",
       "      <td id=\"T_0c673_row0_col2\" class=\"data row0 col2\" >A0</td>\n",
       "      <td id=\"T_0c673_row0_col3\" class=\"data row0 col3\" >B0</td>\n",
       "      <td id=\"T_0c673_row0_col4\" class=\"data row0 col4\" >C0</td>\n",
       "      <td id=\"T_0c673_row0_col5\" class=\"data row0 col5\" >D0</td>\n",
       "    </tr>\n",
       "    <tr>\n",
       "      <th id=\"T_0c673_level0_row1\" class=\"row_heading level0 row1\" >1</th>\n",
       "      <td id=\"T_0c673_row1_col0\" class=\"data row1 col0\" >K1</td>\n",
       "      <td id=\"T_0c673_row1_col1\" class=\"data row1 col1\" >K0</td>\n",
       "      <td id=\"T_0c673_row1_col2\" class=\"data row1 col2\" >A2</td>\n",
       "      <td id=\"T_0c673_row1_col3\" class=\"data row1 col3\" >B2</td>\n",
       "      <td id=\"T_0c673_row1_col4\" class=\"data row1 col4\" >C1</td>\n",
       "      <td id=\"T_0c673_row1_col5\" class=\"data row1 col5\" >D1</td>\n",
       "    </tr>\n",
       "    <tr>\n",
       "      <th id=\"T_0c673_level0_row2\" class=\"row_heading level0 row2\" >2</th>\n",
       "      <td id=\"T_0c673_row2_col0\" class=\"data row2 col0\" >K1</td>\n",
       "      <td id=\"T_0c673_row2_col1\" class=\"data row2 col1\" >K0</td>\n",
       "      <td id=\"T_0c673_row2_col2\" class=\"data row2 col2\" >A2</td>\n",
       "      <td id=\"T_0c673_row2_col3\" class=\"data row2 col3\" >B2</td>\n",
       "      <td id=\"T_0c673_row2_col4\" class=\"data row2 col4\" >C2</td>\n",
       "      <td id=\"T_0c673_row2_col5\" class=\"data row2 col5\" >D2</td>\n",
       "    </tr>\n",
       "  </tbody>\n",
       "</table>\n"
      ]
     },
     "metadata": {},
     "output_type": "display_data"
    }
   ],
   "source": [
    "result = pd.merge(df1, df2, how=\"inner\", on=[\"key1\", \"key2\"]) \n",
    "\n",
    "#Rendering the df's in the same line. No need to learn this code\n",
    "\n",
    "df1_styler = df1.style.set_table_attributes(\"style='display:inline'\").set_caption('Left table')\n",
    "df2_styler = df2.style.set_table_attributes(\"style='display:inline'\").set_caption('Right table')\n",
    "df1_df2_merged = result.style.set_table_attributes(\"style='display:inline'\").set_caption('INNER MERGE')\n",
    "\n",
    "display_html(df1_styler._repr_html_()+ df2_styler._repr_html_() + df1_df2_merged._repr_html_(), raw=True)\n",
    "#display_html(df1_styler._repr_html_()+ df2_styler._repr_html_(), raw=True)"
   ]
  },
  {
   "cell_type": "code",
   "execution_count": null,
   "id": "2f31e8de",
   "metadata": {},
   "outputs": [],
   "source": []
  },
  {
   "cell_type": "code",
   "execution_count": null,
   "id": "b7bc8e83",
   "metadata": {},
   "outputs": [],
   "source": []
  },
  {
   "cell_type": "code",
   "execution_count": null,
   "id": "6abcef1b",
   "metadata": {},
   "outputs": [],
   "source": []
  },
  {
   "cell_type": "code",
   "execution_count": null,
   "id": "75573c19",
   "metadata": {},
   "outputs": [],
   "source": []
  },
  {
   "cell_type": "markdown",
   "id": "d84be3ac",
   "metadata": {},
   "source": [
    "#### OUTER Merge"
   ]
  },
  {
   "cell_type": "code",
   "execution_count": 40,
   "id": "c2d03df5",
   "metadata": {
    "scrolled": true
   },
   "outputs": [
    {
     "data": {
      "text/html": [
       "<style type=\"text/css\">\n",
       "</style>\n",
       "<table id=\"T_94338\" style='display:inline'>\n",
       "  <caption>Left table</caption>\n",
       "  <thead>\n",
       "    <tr>\n",
       "      <th class=\"blank level0\" >&nbsp;</th>\n",
       "      <th id=\"T_94338_level0_col0\" class=\"col_heading level0 col0\" >key1</th>\n",
       "      <th id=\"T_94338_level0_col1\" class=\"col_heading level0 col1\" >key2</th>\n",
       "      <th id=\"T_94338_level0_col2\" class=\"col_heading level0 col2\" >A</th>\n",
       "      <th id=\"T_94338_level0_col3\" class=\"col_heading level0 col3\" >B</th>\n",
       "    </tr>\n",
       "  </thead>\n",
       "  <tbody>\n",
       "    <tr>\n",
       "      <th id=\"T_94338_level0_row0\" class=\"row_heading level0 row0\" >0</th>\n",
       "      <td id=\"T_94338_row0_col0\" class=\"data row0 col0\" >K0</td>\n",
       "      <td id=\"T_94338_row0_col1\" class=\"data row0 col1\" >K0</td>\n",
       "      <td id=\"T_94338_row0_col2\" class=\"data row0 col2\" >A0</td>\n",
       "      <td id=\"T_94338_row0_col3\" class=\"data row0 col3\" >B0</td>\n",
       "    </tr>\n",
       "    <tr>\n",
       "      <th id=\"T_94338_level0_row1\" class=\"row_heading level0 row1\" >1</th>\n",
       "      <td id=\"T_94338_row1_col0\" class=\"data row1 col0\" >K0</td>\n",
       "      <td id=\"T_94338_row1_col1\" class=\"data row1 col1\" >K1</td>\n",
       "      <td id=\"T_94338_row1_col2\" class=\"data row1 col2\" >A1</td>\n",
       "      <td id=\"T_94338_row1_col3\" class=\"data row1 col3\" >B1</td>\n",
       "    </tr>\n",
       "    <tr>\n",
       "      <th id=\"T_94338_level0_row2\" class=\"row_heading level0 row2\" >2</th>\n",
       "      <td id=\"T_94338_row2_col0\" class=\"data row2 col0\" >K1</td>\n",
       "      <td id=\"T_94338_row2_col1\" class=\"data row2 col1\" >K0</td>\n",
       "      <td id=\"T_94338_row2_col2\" class=\"data row2 col2\" >A2</td>\n",
       "      <td id=\"T_94338_row2_col3\" class=\"data row2 col3\" >B2</td>\n",
       "    </tr>\n",
       "    <tr>\n",
       "      <th id=\"T_94338_level0_row3\" class=\"row_heading level0 row3\" >3</th>\n",
       "      <td id=\"T_94338_row3_col0\" class=\"data row3 col0\" >K2</td>\n",
       "      <td id=\"T_94338_row3_col1\" class=\"data row3 col1\" >K1</td>\n",
       "      <td id=\"T_94338_row3_col2\" class=\"data row3 col2\" >A3</td>\n",
       "      <td id=\"T_94338_row3_col3\" class=\"data row3 col3\" >B3</td>\n",
       "    </tr>\n",
       "  </tbody>\n",
       "</table>\n",
       "<style type=\"text/css\">\n",
       "</style>\n",
       "<table id=\"T_42aba\" style='display:inline'>\n",
       "  <caption>Right table</caption>\n",
       "  <thead>\n",
       "    <tr>\n",
       "      <th class=\"blank level0\" >&nbsp;</th>\n",
       "      <th id=\"T_42aba_level0_col0\" class=\"col_heading level0 col0\" >key1</th>\n",
       "      <th id=\"T_42aba_level0_col1\" class=\"col_heading level0 col1\" >key2</th>\n",
       "      <th id=\"T_42aba_level0_col2\" class=\"col_heading level0 col2\" >C</th>\n",
       "      <th id=\"T_42aba_level0_col3\" class=\"col_heading level0 col3\" >D</th>\n",
       "    </tr>\n",
       "  </thead>\n",
       "  <tbody>\n",
       "    <tr>\n",
       "      <th id=\"T_42aba_level0_row0\" class=\"row_heading level0 row0\" >0</th>\n",
       "      <td id=\"T_42aba_row0_col0\" class=\"data row0 col0\" >K0</td>\n",
       "      <td id=\"T_42aba_row0_col1\" class=\"data row0 col1\" >K0</td>\n",
       "      <td id=\"T_42aba_row0_col2\" class=\"data row0 col2\" >C0</td>\n",
       "      <td id=\"T_42aba_row0_col3\" class=\"data row0 col3\" >D0</td>\n",
       "    </tr>\n",
       "    <tr>\n",
       "      <th id=\"T_42aba_level0_row1\" class=\"row_heading level0 row1\" >1</th>\n",
       "      <td id=\"T_42aba_row1_col0\" class=\"data row1 col0\" >K1</td>\n",
       "      <td id=\"T_42aba_row1_col1\" class=\"data row1 col1\" >K0</td>\n",
       "      <td id=\"T_42aba_row1_col2\" class=\"data row1 col2\" >C1</td>\n",
       "      <td id=\"T_42aba_row1_col3\" class=\"data row1 col3\" >D1</td>\n",
       "    </tr>\n",
       "    <tr>\n",
       "      <th id=\"T_42aba_level0_row2\" class=\"row_heading level0 row2\" >2</th>\n",
       "      <td id=\"T_42aba_row2_col0\" class=\"data row2 col0\" >K1</td>\n",
       "      <td id=\"T_42aba_row2_col1\" class=\"data row2 col1\" >K0</td>\n",
       "      <td id=\"T_42aba_row2_col2\" class=\"data row2 col2\" >C2</td>\n",
       "      <td id=\"T_42aba_row2_col3\" class=\"data row2 col3\" >D2</td>\n",
       "    </tr>\n",
       "    <tr>\n",
       "      <th id=\"T_42aba_level0_row3\" class=\"row_heading level0 row3\" >3</th>\n",
       "      <td id=\"T_42aba_row3_col0\" class=\"data row3 col0\" >K2</td>\n",
       "      <td id=\"T_42aba_row3_col1\" class=\"data row3 col1\" >K0</td>\n",
       "      <td id=\"T_42aba_row3_col2\" class=\"data row3 col2\" >C3</td>\n",
       "      <td id=\"T_42aba_row3_col3\" class=\"data row3 col3\" >D3</td>\n",
       "    </tr>\n",
       "  </tbody>\n",
       "</table>\n",
       "<style type=\"text/css\">\n",
       "</style>\n",
       "<table id=\"T_8fc0e\" style='display:inline'>\n",
       "  <caption>OUTER MERGE</caption>\n",
       "  <thead>\n",
       "    <tr>\n",
       "      <th class=\"blank level0\" >&nbsp;</th>\n",
       "      <th id=\"T_8fc0e_level0_col0\" class=\"col_heading level0 col0\" >key1</th>\n",
       "      <th id=\"T_8fc0e_level0_col1\" class=\"col_heading level0 col1\" >key2</th>\n",
       "      <th id=\"T_8fc0e_level0_col2\" class=\"col_heading level0 col2\" >A</th>\n",
       "      <th id=\"T_8fc0e_level0_col3\" class=\"col_heading level0 col3\" >B</th>\n",
       "      <th id=\"T_8fc0e_level0_col4\" class=\"col_heading level0 col4\" >C</th>\n",
       "      <th id=\"T_8fc0e_level0_col5\" class=\"col_heading level0 col5\" >D</th>\n",
       "    </tr>\n",
       "  </thead>\n",
       "  <tbody>\n",
       "    <tr>\n",
       "      <th id=\"T_8fc0e_level0_row0\" class=\"row_heading level0 row0\" >0</th>\n",
       "      <td id=\"T_8fc0e_row0_col0\" class=\"data row0 col0\" >K0</td>\n",
       "      <td id=\"T_8fc0e_row0_col1\" class=\"data row0 col1\" >K0</td>\n",
       "      <td id=\"T_8fc0e_row0_col2\" class=\"data row0 col2\" >A0</td>\n",
       "      <td id=\"T_8fc0e_row0_col3\" class=\"data row0 col3\" >B0</td>\n",
       "      <td id=\"T_8fc0e_row0_col4\" class=\"data row0 col4\" >C0</td>\n",
       "      <td id=\"T_8fc0e_row0_col5\" class=\"data row0 col5\" >D0</td>\n",
       "    </tr>\n",
       "    <tr>\n",
       "      <th id=\"T_8fc0e_level0_row1\" class=\"row_heading level0 row1\" >1</th>\n",
       "      <td id=\"T_8fc0e_row1_col0\" class=\"data row1 col0\" >K0</td>\n",
       "      <td id=\"T_8fc0e_row1_col1\" class=\"data row1 col1\" >K1</td>\n",
       "      <td id=\"T_8fc0e_row1_col2\" class=\"data row1 col2\" >A1</td>\n",
       "      <td id=\"T_8fc0e_row1_col3\" class=\"data row1 col3\" >B1</td>\n",
       "      <td id=\"T_8fc0e_row1_col4\" class=\"data row1 col4\" >nan</td>\n",
       "      <td id=\"T_8fc0e_row1_col5\" class=\"data row1 col5\" >nan</td>\n",
       "    </tr>\n",
       "    <tr>\n",
       "      <th id=\"T_8fc0e_level0_row2\" class=\"row_heading level0 row2\" >2</th>\n",
       "      <td id=\"T_8fc0e_row2_col0\" class=\"data row2 col0\" >K1</td>\n",
       "      <td id=\"T_8fc0e_row2_col1\" class=\"data row2 col1\" >K0</td>\n",
       "      <td id=\"T_8fc0e_row2_col2\" class=\"data row2 col2\" >A2</td>\n",
       "      <td id=\"T_8fc0e_row2_col3\" class=\"data row2 col3\" >B2</td>\n",
       "      <td id=\"T_8fc0e_row2_col4\" class=\"data row2 col4\" >C1</td>\n",
       "      <td id=\"T_8fc0e_row2_col5\" class=\"data row2 col5\" >D1</td>\n",
       "    </tr>\n",
       "    <tr>\n",
       "      <th id=\"T_8fc0e_level0_row3\" class=\"row_heading level0 row3\" >3</th>\n",
       "      <td id=\"T_8fc0e_row3_col0\" class=\"data row3 col0\" >K1</td>\n",
       "      <td id=\"T_8fc0e_row3_col1\" class=\"data row3 col1\" >K0</td>\n",
       "      <td id=\"T_8fc0e_row3_col2\" class=\"data row3 col2\" >A2</td>\n",
       "      <td id=\"T_8fc0e_row3_col3\" class=\"data row3 col3\" >B2</td>\n",
       "      <td id=\"T_8fc0e_row3_col4\" class=\"data row3 col4\" >C2</td>\n",
       "      <td id=\"T_8fc0e_row3_col5\" class=\"data row3 col5\" >D2</td>\n",
       "    </tr>\n",
       "    <tr>\n",
       "      <th id=\"T_8fc0e_level0_row4\" class=\"row_heading level0 row4\" >4</th>\n",
       "      <td id=\"T_8fc0e_row4_col0\" class=\"data row4 col0\" >K2</td>\n",
       "      <td id=\"T_8fc0e_row4_col1\" class=\"data row4 col1\" >K1</td>\n",
       "      <td id=\"T_8fc0e_row4_col2\" class=\"data row4 col2\" >A3</td>\n",
       "      <td id=\"T_8fc0e_row4_col3\" class=\"data row4 col3\" >B3</td>\n",
       "      <td id=\"T_8fc0e_row4_col4\" class=\"data row4 col4\" >nan</td>\n",
       "      <td id=\"T_8fc0e_row4_col5\" class=\"data row4 col5\" >nan</td>\n",
       "    </tr>\n",
       "    <tr>\n",
       "      <th id=\"T_8fc0e_level0_row5\" class=\"row_heading level0 row5\" >5</th>\n",
       "      <td id=\"T_8fc0e_row5_col0\" class=\"data row5 col0\" >K2</td>\n",
       "      <td id=\"T_8fc0e_row5_col1\" class=\"data row5 col1\" >K0</td>\n",
       "      <td id=\"T_8fc0e_row5_col2\" class=\"data row5 col2\" >nan</td>\n",
       "      <td id=\"T_8fc0e_row5_col3\" class=\"data row5 col3\" >nan</td>\n",
       "      <td id=\"T_8fc0e_row5_col4\" class=\"data row5 col4\" >C3</td>\n",
       "      <td id=\"T_8fc0e_row5_col5\" class=\"data row5 col5\" >D3</td>\n",
       "    </tr>\n",
       "  </tbody>\n",
       "</table>\n"
      ]
     },
     "metadata": {},
     "output_type": "display_data"
    }
   ],
   "source": [
    "result = pd.merge(df1, df2, how=\"outer\", on=[\"key1\", \"key2\"]) \n",
    "\n",
    "#Rendering the df's in the same line. No need to learn this code\n",
    "\n",
    "df1_styler = df1.style.set_table_attributes(\"style='display:inline'\").set_caption('Left table')\n",
    "df2_styler = df2.style.set_table_attributes(\"style='display:inline'\").set_caption('Right table')\n",
    "df1_df2_merged = result.style.set_table_attributes(\"style='display:inline'\").set_caption('OUTER MERGE')\n",
    "\n",
    "display_html(df1_styler._repr_html_()+ df2_styler._repr_html_() + df1_df2_merged._repr_html_(), raw=True)\n",
    "#display_html(df1_styler._repr_html_()+ df2_styler._repr_html_(), raw=True)"
   ]
  },
  {
   "cell_type": "markdown",
   "id": "5e952e34",
   "metadata": {
    "lang": "en"
   },
   "source": [
    "### Join\n",
    "The join, unlike the merge, will join the dataframes and where there are no records in the \"index\" it will put NaN"
   ]
  },
  {
   "cell_type": "code",
   "execution_count": 41,
   "id": "7d4660ec",
   "metadata": {},
   "outputs": [],
   "source": [
    "import numpy as np\n",
    "import pandas as pd   \n",
    "from IPython.display import display_html "
   ]
  },
  {
   "cell_type": "code",
   "execution_count": 43,
   "id": "e37f2fad",
   "metadata": {},
   "outputs": [],
   "source": [
    "left_df = pd.DataFrame(\n",
    "    {\"A\": [\"A0\", \"A1\", \"A2\"], \"B\": [\"B0\", \"B1\", \"B2\"]}, index=[\"K0\", \"K1\", \"K2\"]\n",
    ")\n",
    "\n",
    "\n",
    "right_df = pd.DataFrame(\n",
    "    {\"C\": [\"C0\", \"C2\", \"C3\"], \"D\": [\"D0\", \"D2\", \"D3\"]}, index=[\"K0\", \"K2\", \"K3\"]\n",
    ")"
   ]
  },
  {
   "cell_type": "code",
   "execution_count": 45,
   "id": "42d90d42",
   "metadata": {},
   "outputs": [
    {
     "data": {
      "text/html": [
       "<style type=\"text/css\">\n",
       "</style>\n",
       "<table id=\"T_1c0f5\" style='display:inline'>\n",
       "  <caption>Left table</caption>\n",
       "  <thead>\n",
       "    <tr>\n",
       "      <th class=\"blank level0\" >&nbsp;</th>\n",
       "      <th id=\"T_1c0f5_level0_col0\" class=\"col_heading level0 col0\" >A</th>\n",
       "      <th id=\"T_1c0f5_level0_col1\" class=\"col_heading level0 col1\" >B</th>\n",
       "    </tr>\n",
       "  </thead>\n",
       "  <tbody>\n",
       "    <tr>\n",
       "      <th id=\"T_1c0f5_level0_row0\" class=\"row_heading level0 row0\" >K0</th>\n",
       "      <td id=\"T_1c0f5_row0_col0\" class=\"data row0 col0\" >A0</td>\n",
       "      <td id=\"T_1c0f5_row0_col1\" class=\"data row0 col1\" >B0</td>\n",
       "    </tr>\n",
       "    <tr>\n",
       "      <th id=\"T_1c0f5_level0_row1\" class=\"row_heading level0 row1\" >K1</th>\n",
       "      <td id=\"T_1c0f5_row1_col0\" class=\"data row1 col0\" >A1</td>\n",
       "      <td id=\"T_1c0f5_row1_col1\" class=\"data row1 col1\" >B1</td>\n",
       "    </tr>\n",
       "    <tr>\n",
       "      <th id=\"T_1c0f5_level0_row2\" class=\"row_heading level0 row2\" >K2</th>\n",
       "      <td id=\"T_1c0f5_row2_col0\" class=\"data row2 col0\" >A2</td>\n",
       "      <td id=\"T_1c0f5_row2_col1\" class=\"data row2 col1\" >B2</td>\n",
       "    </tr>\n",
       "  </tbody>\n",
       "</table>\n",
       "<style type=\"text/css\">\n",
       "</style>\n",
       "<table id=\"T_0a438\" style='display:inline'>\n",
       "  <caption>Right table</caption>\n",
       "  <thead>\n",
       "    <tr>\n",
       "      <th class=\"blank level0\" >&nbsp;</th>\n",
       "      <th id=\"T_0a438_level0_col0\" class=\"col_heading level0 col0\" >C</th>\n",
       "      <th id=\"T_0a438_level0_col1\" class=\"col_heading level0 col1\" >D</th>\n",
       "    </tr>\n",
       "  </thead>\n",
       "  <tbody>\n",
       "    <tr>\n",
       "      <th id=\"T_0a438_level0_row0\" class=\"row_heading level0 row0\" >K0</th>\n",
       "      <td id=\"T_0a438_row0_col0\" class=\"data row0 col0\" >C0</td>\n",
       "      <td id=\"T_0a438_row0_col1\" class=\"data row0 col1\" >D0</td>\n",
       "    </tr>\n",
       "    <tr>\n",
       "      <th id=\"T_0a438_level0_row1\" class=\"row_heading level0 row1\" >K2</th>\n",
       "      <td id=\"T_0a438_row1_col0\" class=\"data row1 col0\" >C2</td>\n",
       "      <td id=\"T_0a438_row1_col1\" class=\"data row1 col1\" >D2</td>\n",
       "    </tr>\n",
       "    <tr>\n",
       "      <th id=\"T_0a438_level0_row2\" class=\"row_heading level0 row2\" >K3</th>\n",
       "      <td id=\"T_0a438_row2_col0\" class=\"data row2 col0\" >C3</td>\n",
       "      <td id=\"T_0a438_row2_col1\" class=\"data row2 col1\" >D3</td>\n",
       "    </tr>\n",
       "  </tbody>\n",
       "</table>\n",
       "<style type=\"text/css\">\n",
       "</style>\n",
       "<table id=\"T_8fcef\" style='display:inline'>\n",
       "  <caption>JOIN</caption>\n",
       "  <thead>\n",
       "    <tr>\n",
       "      <th class=\"blank level0\" >&nbsp;</th>\n",
       "      <th id=\"T_8fcef_level0_col0\" class=\"col_heading level0 col0\" >A</th>\n",
       "      <th id=\"T_8fcef_level0_col1\" class=\"col_heading level0 col1\" >B</th>\n",
       "      <th id=\"T_8fcef_level0_col2\" class=\"col_heading level0 col2\" >C</th>\n",
       "      <th id=\"T_8fcef_level0_col3\" class=\"col_heading level0 col3\" >D</th>\n",
       "    </tr>\n",
       "  </thead>\n",
       "  <tbody>\n",
       "    <tr>\n",
       "      <th id=\"T_8fcef_level0_row0\" class=\"row_heading level0 row0\" >K0</th>\n",
       "      <td id=\"T_8fcef_row0_col0\" class=\"data row0 col0\" >A0</td>\n",
       "      <td id=\"T_8fcef_row0_col1\" class=\"data row0 col1\" >B0</td>\n",
       "      <td id=\"T_8fcef_row0_col2\" class=\"data row0 col2\" >C0</td>\n",
       "      <td id=\"T_8fcef_row0_col3\" class=\"data row0 col3\" >D0</td>\n",
       "    </tr>\n",
       "    <tr>\n",
       "      <th id=\"T_8fcef_level0_row1\" class=\"row_heading level0 row1\" >K1</th>\n",
       "      <td id=\"T_8fcef_row1_col0\" class=\"data row1 col0\" >A1</td>\n",
       "      <td id=\"T_8fcef_row1_col1\" class=\"data row1 col1\" >B1</td>\n",
       "      <td id=\"T_8fcef_row1_col2\" class=\"data row1 col2\" >nan</td>\n",
       "      <td id=\"T_8fcef_row1_col3\" class=\"data row1 col3\" >nan</td>\n",
       "    </tr>\n",
       "    <tr>\n",
       "      <th id=\"T_8fcef_level0_row2\" class=\"row_heading level0 row2\" >K2</th>\n",
       "      <td id=\"T_8fcef_row2_col0\" class=\"data row2 col0\" >A2</td>\n",
       "      <td id=\"T_8fcef_row2_col1\" class=\"data row2 col1\" >B2</td>\n",
       "      <td id=\"T_8fcef_row2_col2\" class=\"data row2 col2\" >C2</td>\n",
       "      <td id=\"T_8fcef_row2_col3\" class=\"data row2 col3\" >D2</td>\n",
       "    </tr>\n",
       "  </tbody>\n",
       "</table>\n"
      ]
     },
     "metadata": {},
     "output_type": "display_data"
    }
   ],
   "source": [
    "result = left_df.join(right_df)\n",
    "\n",
    "#Rendering the df's in the same line. No need to learn this code\n",
    "\n",
    "df1_styler = left_df.style.set_table_attributes(\"style='display:inline'\").set_caption('Left table')\n",
    "df2_styler = right_df.style.set_table_attributes(\"style='display:inline'\").set_caption('Right table')\n",
    "df1_df2_merged = result.style.set_table_attributes(\"style='display:inline'\").set_caption('JOIN')\n",
    "\n",
    "display_html(df1_styler._repr_html_()+ df2_styler._repr_html_() + df1_df2_merged._repr_html_(), raw=True)\n",
    "#display_html(df1_styler._repr_html_()+ df2_styler._repr_html_(), raw=True)"
   ]
  },
  {
   "cell_type": "markdown",
   "id": "f3ad1415",
   "metadata": {},
   "source": [
    "### Differences between join & merge"
   ]
  },
  {
   "cell_type": "markdown",
   "id": "a158750f",
   "metadata": {},
   "source": [
    "<figure class=\"wp-block-table is-style-stripes\"><table class=\"has-fixed-layout\"><thead><tr><th><strong>Join Feature</strong></th><th class=\"has-text-align-center\" data-align=\"center\"><strong>join()</strong></th><th class=\"has-text-align-center\" data-align=\"center\"><strong>merge()</strong></th></tr></thead><tbody><tr><td>inner</td><td class=\"has-text-align-center\" data-align=\"center\">Yes</td><td class=\"has-text-align-center\" data-align=\"center\">Yes</td></tr><tr><td>left</td><td class=\"has-text-align-center\" data-align=\"center\">Yes</td><td class=\"has-text-align-center\" data-align=\"center\">Yes</td></tr><tr><td>right</td><td class=\"has-text-align-center\" data-align=\"center\">Yes</td><td class=\"has-text-align-center\" data-align=\"center\">Yes</td></tr><tr><td>outer</td><td class=\"has-text-align-center\" data-align=\"center\">Yes</td><td class=\"has-text-align-center\" data-align=\"center\">Yes</td></tr><tr><td>cross</td><td class=\"has-text-align-center\" data-align=\"center\">X</td><td class=\"has-text-align-center\" data-align=\"center\">Yes</td></tr><tr><td>Join on Indices</td><td class=\"has-text-align-center\" data-align=\"center\">Yes</td><td class=\"has-text-align-center\" data-align=\"center\">Yes</td></tr><tr><td>Join on Columns</td><td class=\"has-text-align-center\" data-align=\"center\">X</td><td class=\"has-text-align-center\" data-align=\"center\">Yes</td></tr><tr><td>Left on column, right on index</td><td class=\"has-text-align-center\" data-align=\"center\">Yes</td><td class=\"has-text-align-center\" data-align=\"center\">Yes</td></tr><tr><td>Left on index, right on column</td><td class=\"has-text-align-center\" data-align=\"center\">X</td><td class=\"has-text-align-center\" data-align=\"center\">Yes</td></tr></tbody></table><figcaption>pandas join vs merge</figcaption></figure>"
   ]
  },
  {
   "cell_type": "markdown",
   "id": "9a3a34a5",
   "metadata": {
    "lang": "en"
   },
   "source": [
    "## Export data"
   ]
  },
  {
   "cell_type": "code",
   "execution_count": null,
   "id": "super-milton",
   "metadata": {},
   "outputs": [],
   "source": [
    "df.to_csv(\"../datasets/exported_example.csv\")"
   ]
  },
  {
   "cell_type": "markdown",
   "id": "4f340806",
   "metadata": {
    "lang": "en"
   },
   "source": [
    "## Pandas usual methods\n",
    "```python\n",
    "df.head() # prints the head, default 5 rows\n",
    "df.tail() # set the tail, default 5 rows\n",
    "df.describe() # statistical description\n",
    "df.info() # df information\n",
    "df.info(memory_usage='deep')\n",
    "df.columns # show column\n",
    "df.index # show index\n",
    "df.dtypes # show column data types\n",
    "df.plot() # make a plot\n",
    "df.hist() # make a histogram\n",
    "df.col.value_counts() # counts the unique values ​​of a column\n",
    "df.col.unique() # returns unique values ​​from a column\n",
    "df.copy() # copies the df\n",
    "df.drop() # remove columns or rows (axis=0,1)\n",
    "df.dropna() # remove nulls\n",
    "df.fillna() # fills nulls\n",
    "df.shape # dimensions of the df\n",
    "df._get_numeric_data() # select numeric columns\n",
    "df.rename() # rename columns\n",
    "df.str.replace() # replace columns of strings\n",
    "df.astype(dtype='float32') # change the data type\n",
    "df.iloc[] # locate by index\n",
    "df.loc[] # locate by element\n",
    "df.transpose() # transposes the df\n",
    "df.T\n",
    "df.sample(n, frac) # sample from df\n",
    "df.col.sum() # sum of a column\n",
    "df.col.max() # maximum of a column\n",
    "df.col.min() # minimum of one column\n",
    "df[col] # select column\n",
    "df.col\n",
    "df.isnull() # null values\n",
    "df.isna()\n",
    "df.notna() # not null values\n",
    "df.drop_duplicates() # remove duplicates\n",
    "df.reset_index(inplace=True) # reset the index and overwrite\n",
    "```"
   ]
  },
  {
   "cell_type": "markdown",
   "id": "47efbabe",
   "metadata": {
    "lang": "en"
   },
   "source": [
    "## Mega-recap\n",
    "It's your turn, what have we learned today?"
   ]
  },
  {
   "cell_type": "markdown",
   "id": "d979bf7b",
   "metadata": {},
   "source": [
    "- Series & DataFrames\n",
    "- How to use Pandas to create a DF\n",
    "- We can create through csv files, through dictionaries, and imports in general (excel files)\n",
    "- We can make Series -> 1d arrays: content & index\n",
    "- We can create new columns on a DataFrame and change them\n",
    "- We can create subsets: `df[[\"one column\", \"another column\"]]`\n",
    "- You can filter by passing conditions to the subset `df[(condition) & (condition)]` \n",
    "- You can change the index: you can reset it to new values, and also to an existing column. Eg.: date, states\n",
    "- You can export a new DataFrame: `pd.to_csv(\"path\")` \n",
    "- You can check for specific values in columns: filtering\n",
    "- You can calculate some descriptive statistics: mean, count, sd, median, sum\n",
    "- We can drop (delete) rows and columns: `df[\"column\"].drop(axis=1, inplace=False)` \n",
    "- You can do simple operations\n",
    "- Renaming: overwrite the columns attribute | pass a dictionary, it'll map they Keys and change it for the values: `{\"Dates\":\"date\"}` \n",
    "- You can create new columns using existing ones (operations)\n",
    "- You can sort by columns\n",
    "- Check for duplicates: delete those duplicates, delete two entries if they are repeated in a given column: Eg.: `df.duplicated(subset=[\"name\"])` \n",
    " - Handling missing values: we can input new values to the NaN: eg.: substitue missing values with the mean of that column\n",
    " - Exploring dataset, get a quick view: `df.head(int)`, `df.tail(int)`, `df.sample(int)`\n",
    " - Eploration of the dataset: `df.info`, `df.shape`, `df.describe` (descriptive statistics)\n",
    " - You can access the index: df.index\n",
    " - We can copy a df so we don't overwrite: `df.copy()` \n",
    " - ⚠️: We can be SUPER careful when dropping missing values: double check if we want drop every row that holds at leas t ONE NaN or we only want to drop rows that are entirely NaN\n",
    " - For the future: We can generate LinePlots using seaborn: generate a timeseries by using the date as the index of a df \n",
    " - To save the changes: save it into a variable | use inplace=True\n",
    " -  `loc` & `iloc` for locating rows: ranges/int (iloc), labels(loc)\n",
    " - Unique values\n",
    "\n",
    "\n",
    "\n",
    "# GROUPING\n",
    "b¡\n",
    "- Groupby columns and do calculation to that grouping\n",
    "- Merge, join & concat: putting different sources of tables together\n",
    "- Concat: just stacks things. It puts them phisically together\n",
    "- Merge & join: return values where they match, depending on the type of join\n",
    "- Left / right: prioritizing those values on that table. Then NaN for those that don't match\n",
    "- Inner: retrieving all of the values that are in common -> smaller df\n",
    "- Outer: retrieve all of the values, no matter the NaN -> bigger df"
   ]
  },
  {
   "cell_type": "markdown",
   "id": "ccd65ff4",
   "metadata": {},
   "source": [
    "![sql joins](https://upload.wikimedia.org/wikipedia/commons/9/9d/SQL_Joins.svg)"
   ]
  },
  {
   "cell_type": "markdown",
   "id": "d31f9193",
   "metadata": {},
   "source": [
    "#### BASIC CONCEPTS\n",
    "\n",
    "\n",
    "#### VISUALIZE I: EXPLORE DATASET\n",
    "\n",
    "\n",
    "#### CHANGING THE DATASET\n",
    "\n",
    "\n",
    "#### HANDLING MISSING VALUES & DUPLICATES\n",
    "\n",
    "- [Handling categorical missing values](https://pandas.pydata.org/docs/reference/api/pandas.Series.cat.add_categories.html)\n",
    "\n",
    "\n",
    "#### VISUALIZE II: SELECTING & ORDERING\n",
    "\n",
    "\n",
    "#### VISUALIZE III: GROUPBY, AGGREGATIONS\n",
    "\n",
    "\n",
    "#### AUGMENTING DATA: CONCAT, MERGE & JOIN"
   ]
  },
  {
   "cell_type": "markdown",
   "id": "stylish-jefferson",
   "metadata": {},
   "source": [
    "## Further materials\n",
    "\n",
    "* [Read the docs!](https://pandas.pydata.org/pandas-docs/stable/index.html)\n",
    "* [Cheatsheet](https://pandas.pydata.org/Pandas_Cheat_Sheet.pdf)\n",
    "* [Exercises to practice](https://github.com/guipsamora/pandas_exercises)\n",
    "* [More on merge, concat, and join](https://realpython.com/pandas-merge-join-and-concat/#pandas-join-combining-data-on-a-column-or-index). And [even more!](https://pandas.pydata.org/pandas-docs/stable/user_guide/merging.html)\n",
    " "
   ]
  }
 ],
 "metadata": {
  "kernelspec": {
   "display_name": "Python 3 (ipykernel)",
   "language": "python",
   "name": "python3"
  },
  "language_info": {
   "codemirror_mode": {
    "name": "ipython",
    "version": 3
   },
   "file_extension": ".py",
   "mimetype": "text/x-python",
   "name": "python",
   "nbconvert_exporter": "python",
   "pygments_lexer": "ipython3",
   "version": "3.9.12"
  },
  "nbTranslate": {
   "displayLangs": [
    "en",
    "es"
   ],
   "hotkey": "alt-a",
   "langInMainMenu": true,
   "sourceLang": "es",
   "targetLang": "en",
   "useGoogleTranslate": true
  },
  "toc": {
   "base_numbering": 1,
   "nav_menu": {},
   "number_sections": true,
   "sideBar": true,
   "skip_h1_title": true,
   "title_cell": "Table of Contents",
   "title_sidebar": "Contents",
   "toc_cell": true,
   "toc_position": {
    "height": "calc(100% - 180px)",
    "left": "10px",
    "top": "150px",
    "width": "301.023px"
   },
   "toc_section_display": true,
   "toc_window_display": true
  },
  "varInspector": {
   "cols": {
    "lenName": 16,
    "lenType": 16,
    "lenVar": 40
   },
   "kernels_config": {
    "python": {
     "delete_cmd_postfix": "",
     "delete_cmd_prefix": "del ",
     "library": "var_list.py",
     "varRefreshCmd": "print(var_dic_list())"
    },
    "r": {
     "delete_cmd_postfix": ") ",
     "delete_cmd_prefix": "rm(",
     "library": "var_list.r",
     "varRefreshCmd": "cat(var_dic_list()) "
    }
   },
   "types_to_exclude": [
    "module",
    "function",
    "builtin_function_or_method",
    "instance",
    "_Feature"
   ],
   "window_display": false
  }
 },
 "nbformat": 4,
 "nbformat_minor": 5
}
