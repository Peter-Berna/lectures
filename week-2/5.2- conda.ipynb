{
 "cells": [
  {
   "cell_type": "markdown",
   "id": "certified-apache",
   "metadata": {},
   "source": [
    "# Workshop Conda"
   ]
  },
  {
   "cell_type": "markdown",
   "id": "beginning-amateur",
   "metadata": {},
   "source": [
    "![anacaonda](https://media.giphy.com/media/26BRPVW5a4hx275Vm/giphy.gif)"
   ]
  },
  {
   "cell_type": "markdown",
   "id": "focused-excess",
   "metadata": {
    "toc": true
   },
   "source": [
    "<h1>Table of Contents<span class=\"tocSkip\"></span></h1>\n",
    "<div class=\"toc\"><ul class=\"toc-item\"><li><span><a href=\"#What-is-conda?-🤔\" data-toc-modified-id=\"What-is-conda?-🤔-1\"><span class=\"toc-item-num\">1&nbsp;&nbsp;</span>What is conda? 🤔</a></span></li><li><span><a href=\"#What-is-Anaconda-and-Miniconda?-🥸\" data-toc-modified-id=\"What-is-Anaconda-and-Miniconda?-🥸-2\"><span class=\"toc-item-num\">2&nbsp;&nbsp;</span>What is Anaconda and Miniconda? 🥸</a></span></li><li><span><a href=\"#Installations-💻\" data-toc-modified-id=\"Installations-💻-3\"><span class=\"toc-item-num\">3&nbsp;&nbsp;</span>Installations 💻</a></span></li><li><span><a href=\"#Setup-⚙️\" data-toc-modified-id=\"Setup-⚙️-4\"><span class=\"toc-item-num\">4&nbsp;&nbsp;</span>Setup ⚙️</a></span></li><li><span><a href=\"#We-create-environments-🙌🏻\" data-toc-modified-id=\"We-create-environments-🙌🏻-5\"><span class=\"toc-item-num\">5&nbsp;&nbsp;</span>We create environments 🙌🏻</a></span></li><li><span><a href=\"#We-activate-environments-🔥\" data-toc-modified-id=\"We-activate-environments-🔥-6\"><span class=\"toc-item-num\">6&nbsp;&nbsp;</span>We activate environments 🔥</a></span></li><li><span><a href=\"#We-deactivate-environments-🔥\" data-toc-modified-id=\"We-deactivate-environments-🔥-7\"><span class=\"toc-item-num\">7&nbsp;&nbsp;</span>We deactivate environments 🔥</a></span></li><li><span><a href=\"#We-install-libraries\" data-toc-modified-id=\"We-install-libraries-8\"><span class=\"toc-item-num\">8&nbsp;&nbsp;</span>We install libraries</a></span></li><li><span><a href=\"#We-can-we-select-the-CONDA-kernel-in-Jupyter-Notebook\" data-toc-modified-id=\"We-can-we-select-the-CONDA-kernel-in-Jupyter-Notebook-9\"><span class=\"toc-item-num\">9&nbsp;&nbsp;</span>We can we select the CONDA kernel in Jupyter Notebook</a></span></li><li><span><a href=\"#We-can-select-the-CONDA-kernel-in-Visual-Studio-Code\" data-toc-modified-id=\"We-can-select-the-CONDA-kernel-in-Visual-Studio-Code-10\"><span class=\"toc-item-num\">10&nbsp;&nbsp;</span>We can select the CONDA kernel in Visual Studio Code</a></span></li><li><span><a href=\"#Export-environment\" data-toc-modified-id=\"Export-environment-11\"><span class=\"toc-item-num\">11&nbsp;&nbsp;</span>Export environment</a></span></li><li><span><a href=\"#Install-yml-environment\" data-toc-modified-id=\"Install-yml-environment-12\"><span class=\"toc-item-num\">12&nbsp;&nbsp;</span>Install yml environment</a></span></li></ul></div>"
   ]
  },
  {
   "cell_type": "markdown",
   "id": "83d914ba",
   "metadata": {
    "lang": "en"
   },
   "source": [
    "## What is conda? 🤔\n",
    "Well, as always, the first thing we have at hand is... indeed, you know: [the documentation](https://docs.conda.io/en/latest/)\n",
    "     \n",
    "Conda is an open source package management system and environment management system that runs on Windows, macOS, and Linux. Conda quickly installs, runs, and updates packages and their dependencies. Conda easily creates, saves, loads and switches between environments on your local computer. It was created for Python programs, but you can package and distribute software for any language.\n",
    "\n",
    "Conda as a package manager helps you find and install packages. If you need a package that requires a different version of Python, you don't need to switch to a different environment manager, because Conda is also an environment manager. With just a few commands, you can set up a completely separate environment to run that different version of Python, while still running your regular version of Python in your normal environment."
   ]
  },
  {
   "cell_type": "markdown",
   "id": "700bc5cd",
   "metadata": {
    "lang": "en"
   },
   "source": [
    "## What is Anaconda and Miniconda? 🥸"
   ]
  },
  {
   "cell_type": "markdown",
   "id": "862b79ee",
   "metadata": {
    "lang": "en"
   },
   "source": [
    "Really everything is the same, everything comes from Conda... and\n",
    "There are two options to install Conda:\n",
    " - Anaconda: includes several pre-installed data libraries\n",
    " - Miniconda (light): does not include pre-installed data libraries. It is done manually.\n",
    " \n",
    "Choose to use Anaconda or Miniconda freely, I will use Miniconda 🙃"
   ]
  },
  {
   "cell_type": "markdown",
   "id": "252e04e6",
   "metadata": {
    "lang": "en"
   },
   "source": [
    "## Installations 💻\n",
    "[Miniconda](https://docs.conda.io/en/latest/miniconda.html)"
   ]
  },
  {
   "cell_type": "markdown",
   "id": "owned-replication",
   "metadata": {},
   "source": [
    "## Setup ⚙️\n",
    "Open your terminal:\n",
    " - Windows: builtin / hyper\n",
    " - MacOS: cualquier terminal\n",
    " - Linux: cualquier terminal"
   ]
  },
  {
   "cell_type": "markdown",
   "id": "focused-address",
   "metadata": {},
   "source": [
    "![comprobandoconfig](../images/conda.png)"
   ]
  },
  {
   "cell_type": "markdown",
   "id": "c858dd9c",
   "metadata": {
    "lang": "en"
   },
   "source": [
    "If when typing \"conda\" in the terminal we get a message similar to this, everything is fine, if not, we have to make a couple of configurations.\n",
    "Must do:\n",
    "```\n",
    "conda init <y  la terminal que estemos usando zsh o bash>\n",
    "````\n",
    "\n",
    "But if it doesn't work, we still have to do this:\n",
    "```\n",
    "source /Users/MINOMBEDUSERCHANGEOPLS/opt/anaconda3/bin/activate; conda init zsh\n",
    "```"
   ]
  },
  {
   "cell_type": "markdown",
   "id": "28ad47ca",
   "metadata": {
    "lang": "en"
   },
   "source": [
    "## We create environments 🙌🏻\n",
    "I always always always have this [conda cheatsheet](https://conda.io/projects/conda/en/latest/_downloads/843d9e0198f2a193a3484886fa28163c/conda-cheatsheet.pdf) on hand\n",
    "\n",
    "To create an environment with a specific python version\n",
    "```\n",
    "conda create --name ENVNAME python=3.8\n",
    "```"
   ]
  },
  {
   "cell_type": "markdown",
   "id": "49fac404",
   "metadata": {
    "lang": "en"
   },
   "source": [
    "## We activate environments 🔥\n",
    "\n",
    "`conda activate envname`"
   ]
  },
  {
   "cell_type": "markdown",
   "id": "667307e6",
   "metadata": {
    "lang": "en"
   },
   "source": [
    "## We deactivate environments 🔥\n",
    "`conda deactivate`"
   ]
  },
  {
   "cell_type": "markdown",
   "id": "a1562641",
   "metadata": {
    "lang": "en"
   },
   "source": [
    "## We install libraries\n",
    "To install libraries in the conda environment, it is the same to do it from pip as from conda, it is simply to take the library from the library manager and install it within the environment. It doesn't matter if you install the libraries from pip or from conda, the important thing is to install them with the environment activated.\n",
    "I always use `pip install myfavoritelibrary`"
   ]
  },
  {
   "cell_type": "markdown",
   "id": "5bd57b8e",
   "metadata": {
    "lang": "en"
   },
   "source": [
    "## We can we select the CONDA kernel in Jupyter Notebook\n",
    "How?\n",
    "First we install the ipykernel library\n",
    "```\n",
    "conda install -c anaconda ipykernel\n",
    "```\n",
    "either\n",
    "```\n",
    "pip install ipykernel\n",
    "```\n",
    "\n",
    "And then\n",
    "\n",
    "```\n",
    "python -m ipykernel install --user --name=ironhack\n",
    "\n",
    "```"
   ]
  },
  {
   "cell_type": "markdown",
   "id": "stainless-uganda",
   "metadata": {},
   "source": [
    "![capturajupyter](../images/jupyter.png)"
   ]
  },
  {
   "cell_type": "markdown",
   "id": "d48106be",
   "metadata": {
    "lang": "en"
   },
   "source": [
    "## We can select the CONDA kernel in Visual Studio Code"
   ]
  },
  {
   "cell_type": "markdown",
   "id": "0caa0e86",
   "metadata": {
    "lang": "en"
   },
   "source": [
    "This is how we understand the power of having all the libraries installed in the same environment\n",
    "![vscode](../images/vs_code.png)"
   ]
  },
  {
   "cell_type": "markdown",
   "id": "70f83ab2",
   "metadata": {
    "lang": "en"
   },
   "source": [
    "## Export environment"
   ]
  },
  {
   "cell_type": "markdown",
   "id": "political-block",
   "metadata": {},
   "source": [
    "`conda env export > nameOfTheEnvironment.yml`"
   ]
  },
  {
   "cell_type": "markdown",
   "id": "40e45547",
   "metadata": {
    "lang": "en"
   },
   "source": [
    "## Install yml environment"
   ]
  },
  {
   "cell_type": "markdown",
   "id": "foreign-algorithm",
   "metadata": {},
   "source": [
    "`conda env create --file nameOfTheEnvironmentICreated.yml`"
   ]
  }
 ],
 "metadata": {
  "kernelspec": {
   "display_name": "Python 3 (ipykernel)",
   "language": "python",
   "name": "python3"
  },
  "language_info": {
   "codemirror_mode": {
    "name": "ipython",
    "version": 3
   },
   "file_extension": ".py",
   "mimetype": "text/x-python",
   "name": "python",
   "nbconvert_exporter": "python",
   "pygments_lexer": "ipython3",
   "version": "3.9.12"
  },
  "nbTranslate": {
   "displayLangs": [
    "en",
    "es"
   ],
   "hotkey": "alt-a",
   "langInMainMenu": true,
   "sourceLang": "es",
   "targetLang": "en",
   "useGoogleTranslate": true
  },
  "toc": {
   "base_numbering": 1,
   "nav_menu": {},
   "number_sections": true,
   "sideBar": true,
   "skip_h1_title": true,
   "title_cell": "Table of Contents",
   "title_sidebar": "Contents",
   "toc_cell": true,
   "toc_position": {
    "height": "calc(100% - 180px)",
    "left": "10px",
    "top": "150px",
    "width": "288px"
   },
   "toc_section_display": true,
   "toc_window_display": true
  }
 },
 "nbformat": 4,
 "nbformat_minor": 5
}
