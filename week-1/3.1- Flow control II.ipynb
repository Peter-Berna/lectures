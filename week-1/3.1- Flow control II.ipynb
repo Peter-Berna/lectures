{
 "cells": [
  {
   "cell_type": "markdown",
   "id": "raised-meter",
   "metadata": {
    "toc": true
   },
   "source": [
    "<h1>Table of Contents<span class=\"tocSkip\"></span></h1>\n",
    "<div class=\"toc\"><ul class=\"toc-item\"><li><span><a href=\"#The-&quot;while&quot;-statement\" data-toc-modified-id=\"The-&quot;while&quot;-statement-1\"><span class=\"toc-item-num\">1&nbsp;&nbsp;</span>The \"while\" statement</a></span></li><li><span><a href=\"#Pass\" data-toc-modified-id=\"Pass-2\"><span class=\"toc-item-num\">2&nbsp;&nbsp;</span>Pass</a></span></li><li><span><a href=\"#For\" data-toc-modified-id=\"For-3\"><span class=\"toc-item-num\">3&nbsp;&nbsp;</span>For</a></span><ul class=\"toc-item\"><li><span><a href=\"#Iterate-through-strings\" data-toc-modified-id=\"Iterate-through-strings-3.1\"><span class=\"toc-item-num\">3.1&nbsp;&nbsp;</span>Iterate through strings</a></span></li><li><span><a href=\"#Iterate-through-a-list\" data-toc-modified-id=\"Iterate-through-a-list-3.2\"><span class=\"toc-item-num\">3.2&nbsp;&nbsp;</span>Iterate through a list</a></span></li><li><span><a href=\"#We-iterate-through-lists-over-their-index\" data-toc-modified-id=\"We-iterate-through-lists-over-their-index-3.3\"><span class=\"toc-item-num\">3.3&nbsp;&nbsp;</span>We iterate through lists over their index</a></span></li><li><span><a href=\"#Loop-through-two-lists-at-the-same-time\" data-toc-modified-id=\"Loop-through-two-lists-at-the-same-time-3.4\"><span class=\"toc-item-num\">3.4&nbsp;&nbsp;</span>Loop through two lists at the same time</a></span></li><li><span><a href=\"#Iterate-over-the-elements-of-a-dictionary\" data-toc-modified-id=\"Iterate-over-the-elements-of-a-dictionary-3.5\"><span class=\"toc-item-num\">3.5&nbsp;&nbsp;</span>Iterate over the elements of a dictionary</a></span></li></ul></li><li><span><a href=\"#Break\" data-toc-modified-id=\"Break-4\"><span class=\"toc-item-num\">4&nbsp;&nbsp;</span>Break</a></span></li><li><span><a href=\"#Summary\" data-toc-modified-id=\"Summary-5\"><span class=\"toc-item-num\">5&nbsp;&nbsp;</span>Summary</a></span></li></ul></div>"
   ]
  },
  {
   "cell_type": "markdown",
   "id": "constant-discovery",
   "metadata": {},
   "source": [
    "# Let's keep the flow going"
   ]
  },
  {
   "cell_type": "markdown",
   "id": "genetic-output",
   "metadata": {},
   "source": [
    "![FLOW](https://media.giphy.com/media/h8y265b9iKtzKT0pDj/giphy.gif)"
   ]
  },
  {
   "cell_type": "markdown",
   "id": "17832115",
   "metadata": {
    "lang": "en"
   },
   "source": [
    "## The \"while\" statement\n",
    "\n",
    "Sometimes we want to run a program until a condition is met. We can achieve this with the `while` clause.\n",
    "\n",
    "**Note:** Beware of infinite recursions!"
   ]
  },
  {
   "cell_type": "code",
   "execution_count": null,
   "id": "alive-nothing",
   "metadata": {},
   "outputs": [],
   "source": [
    "age = 20\n",
    "\n",
    "while age: #truthy by default\n",
    "    print(\"hello\")"
   ]
  },
  {
   "cell_type": "code",
   "execution_count": 7,
   "id": "4f499349",
   "metadata": {},
   "outputs": [
    {
     "name": "stdout",
     "output_type": "stream",
     "text": [
      "20\n",
      "19\n",
      "18\n",
      "17\n",
      "16\n",
      "15\n",
      "14\n",
      "13\n",
      "12\n",
      "11\n",
      "10\n",
      "9\n",
      "8\n",
      "7\n",
      "6\n",
      "5\n"
     ]
    }
   ],
   "source": [
    "age = 20\n",
    "\n",
    "while age >= 5:\n",
    "    print(age)\n",
    "    age = age - 1\n"
   ]
  },
  {
   "cell_type": "markdown",
   "id": "ba1c5adf",
   "metadata": {
    "lang": "en"
   },
   "source": [
    "In the case of while True the expression will always evaluate to true by definition.\n",
    "It would be equivalent to:\n",
    "\n",
    "```python\n",
    "as long as true is true:\n",
    "    do something\n",
    "   ````"
   ]
  },
  {
   "cell_type": "markdown",
   "id": "587399ed",
   "metadata": {
    "lang": "en"
   },
   "source": [
    "🐒 - We write a program that asks the user for a letter between a and d forever until he enters one correctly."
   ]
  },
  {
   "cell_type": "code",
   "execution_count": 8,
   "id": "44f8e30a",
   "metadata": {},
   "outputs": [],
   "source": [
    "letter = [\"a\", \"b\", \"c\", \"d\"]"
   ]
  },
  {
   "cell_type": "code",
   "execution_count": 10,
   "id": "2a4b6aa6",
   "metadata": {},
   "outputs": [
    {
     "name": "stdout",
     "output_type": "stream",
     "text": [
      "Enter a letter: e\n"
     ]
    }
   ],
   "source": [
    "data = input(\"Enter a letter: \")"
   ]
  },
  {
   "cell_type": "code",
   "execution_count": 13,
   "id": "99d68412",
   "metadata": {},
   "outputs": [],
   "source": [
    "# 1st approach: check if data-input IS IN the list: doesn't require iteration\n",
    "# 2nd approach: check if data-input MATCHES ONE OF THE ELEMENTS: iteration"
   ]
  },
  {
   "cell_type": "code",
   "execution_count": 14,
   "id": "ff4c7790",
   "metadata": {},
   "outputs": [],
   "source": [
    "while data not in letter:\n",
    "    data = input(\"Enter a letter contained in letter: \")"
   ]
  },
  {
   "cell_type": "markdown",
   "id": "9af78e68",
   "metadata": {
    "lang": "en"
   },
   "source": [
    "## Pass\n",
    "The pass statement does nothing. Can be used when a syntax statement is required but no action is required by the program (from the [docs](https://docs.python.org/3/tutorial/controlflow.html))\n",
    "\n",
    "\n",
    "Although it may surprise us, it is useful in several situations. In Python we cannot have an undefined block of code (for example, the body of a function, the body of a condition, or the body of a loop). So it's common to use pass when we're writing the structure of our program but haven't yet tackled the implementation of certain blocks of code."
   ]
  },
  {
   "cell_type": "code",
   "execution_count": 17,
   "id": "welsh-estimate",
   "metadata": {},
   "outputs": [],
   "source": [
    "def summation (a, b):\n",
    "    # it gets two numbers and you want it two return the addition of them\n",
    "    pass"
   ]
  },
  {
   "cell_type": "markdown",
   "id": "classical-passenger",
   "metadata": {},
   "source": [
    "## For"
   ]
  },
  {
   "cell_type": "markdown",
   "id": "fdb36275",
   "metadata": {
    "lang": "en"
   },
   "source": [
    "It is very common to write a code with loops within these two possible situations:\n",
    "- 1: When we use a counter within a repetition. The counter is a variable that increases or decreases constantly in each iteration of the loop until it reaches a limit value that marks the end of the repetitions.\n",
    "- 2: When we iterate over the elements of a container, for example, a list, to operate on each one of them. Also in this case we know in advance the number of repetitions that will take place."
   ]
  },
  {
   "cell_type": "markdown",
   "id": "753d6746",
   "metadata": {
    "lang": "en"
   },
   "source": [
    "The For statement, in Python, allows you to iterate over sequences of values ​​(lists or strings) according to an established order. Unlike other languages, with Python's for you don't define counters or expressions that change at each iteration, but rather a sequence over which the counter variable will take its values. In any case, it is the most appropriate option to solve the two previous cases...let's give an example:"
   ]
  },
  {
   "cell_type": "code",
   "execution_count": 19,
   "id": "ecf7d62d",
   "metadata": {},
   "outputs": [
    {
     "name": "stdout",
     "output_type": "stream",
     "text": [
      "1\n",
      "2\n",
      "3\n"
     ]
    }
   ],
   "source": [
    "# get lenght of the iterator\n",
    "# iterate over the index\n",
    "# get the element of the iterator through the index\n",
    "\n",
    "silly_list = [1, 2, 3]\n",
    "\n",
    "for element in silly_list:\n",
    "    print(element)"
   ]
  },
  {
   "cell_type": "markdown",
   "id": "a968f25d",
   "metadata": {
    "lang": "en"
   },
   "source": [
    "The for statement, in Python, iterates over collections. So if we need a counter that increments on each iteration, Python provides the range() function, which generates lists of integers. This function allows to generate sequences and is quite versatile and we can invoke it in different ways:"
   ]
  },
  {
   "cell_type": "markdown",
   "id": "5109ef4d",
   "metadata": {
    "lang": "en"
   },
   "source": [
    "- With a single argument: generates integers ranging from 0 to the previous one indicated as a parameter:\n",
    "\n",
    "`range(int)`"
   ]
  },
  {
   "cell_type": "code",
   "execution_count": 20,
   "id": "canadian-petroleum",
   "metadata": {},
   "outputs": [
    {
     "name": "stdout",
     "output_type": "stream",
     "text": [
      "0\n",
      "1\n",
      "2\n",
      "3\n",
      "4\n"
     ]
    }
   ],
   "source": [
    "for i in range(5):\n",
    "    print(i)"
   ]
  },
  {
   "cell_type": "markdown",
   "id": "88f9f5a9",
   "metadata": {
    "lang": "en"
   },
   "source": [
    "- With two arguments. The first parameter is the initial value and the second the value below which the elements of the list must be:\n",
    "\n",
    "`range(int, int)` "
   ]
  },
  {
   "cell_type": "code",
   "execution_count": 22,
   "id": "7299eb56",
   "metadata": {},
   "outputs": [
    {
     "name": "stdout",
     "output_type": "stream",
     "text": [
      "4\n",
      "5\n",
      "6\n",
      "7\n",
      "8\n",
      "9\n",
      "10\n",
      "11\n",
      "12\n",
      "13\n",
      "14\n",
      "15\n",
      "16\n",
      "17\n"
     ]
    }
   ],
   "source": [
    "for i in range(4, 18): #beginning and end\n",
    "    print(i)"
   ]
  },
  {
   "cell_type": "markdown",
   "id": "81739599",
   "metadata": {
    "lang": "en"
   },
   "source": [
    "- With three arguments. Same as above, but the third parameter indicates the increment that occurs from one element to the next: `range(int, int, increment)` "
   ]
  },
  {
   "cell_type": "code",
   "execution_count": 23,
   "id": "resistant-medicare",
   "metadata": {},
   "outputs": [
    {
     "name": "stdout",
     "output_type": "stream",
     "text": [
      "4\n",
      "7\n",
      "10\n",
      "13\n",
      "16\n"
     ]
    }
   ],
   "source": [
    "for i in range(4, 18, 3): #beginning, end and increment\n",
    "    print(i)"
   ]
  },
  {
   "cell_type": "code",
   "execution_count": 24,
   "id": "738da8f0",
   "metadata": {},
   "outputs": [
    {
     "data": {
      "text/plain": [
       "[0, 2, 4, 6, 8, 10]"
      ]
     },
     "execution_count": 24,
     "metadata": {},
     "output_type": "execute_result"
    }
   ],
   "source": [
    "list_empty = []\n",
    "\n",
    "for i in range(0, 11, 2):\n",
    "    list_empty.append(i)\n",
    "list_empty"
   ]
  },
  {
   "cell_type": "code",
   "execution_count": 26,
   "id": "4fe5c4bc",
   "metadata": {},
   "outputs": [
    {
     "name": "stdout",
     "output_type": "stream",
     "text": [
      "[0, 1, 4, 9, 16, 25, 36, 49, 64, 81, 100, 121, 144, 169, 196, 225, 256, 289, 324, 361, 400, 441, 484, 529, 576, 625, 676, 729, 784, 841, 900, 961, 1024, 1089, 1156, 1225, 1296, 1369, 1444, 1521, 1600, 1681, 1764, 1849, 1936, 2025, 2116, 2209, 2304, 2401, 2500, 2601, 2704, 2809, 2916, 3025, 3136, 3249, 3364, 3481, 3600, 3721, 3844, 3969, 4096, 4225, 4356, 4489, 4624, 4761, 4900, 5041, 5184, 5329, 5476, 5625, 5776, 5929, 6084, 6241, 6400, 6561, 6724, 6889, 7056, 7225, 7396, 7569, 7744, 7921, 8100, 8281, 8464, 8649, 8836, 9025, 9216, 9409, 9604, 9801]\n"
     ]
    }
   ],
   "source": [
    "powered_numbers = []\n",
    "\n",
    "for i in range(0, 100):\n",
    "    powered_numbers.append(i**2)\n",
    "    \n",
    "print(powered_numbers)"
   ]
  },
  {
   "cell_type": "code",
   "execution_count": 27,
   "id": "68b18c84",
   "metadata": {},
   "outputs": [
    {
     "data": {
      "text/plain": [
       "[0, 2, 4, 6, 8, 10, 12, 14, 16, 18]"
      ]
     },
     "execution_count": 27,
     "metadata": {},
     "output_type": "execute_result"
    }
   ],
   "source": [
    "new_list = []\n",
    "\n",
    "for i in range(21):\n",
    "    if i % 2 == 0: #remainder of module will be zero -> it's an even number\n",
    "        new_list.append(i)\n",
    "\n",
    "new_list"
   ]
  },
  {
   "cell_type": "markdown",
   "id": "closing-pound",
   "metadata": {
    "lang": "es"
   },
   "source": [
    "### Iterate through strings"
   ]
  },
  {
   "cell_type": "code",
   "execution_count": 28,
   "id": "revolutionary-romantic",
   "metadata": {},
   "outputs": [],
   "source": [
    "a_string = \"Hello, Today It's A wednesday\""
   ]
  },
  {
   "cell_type": "code",
   "execution_count": 29,
   "id": "950b1fa6",
   "metadata": {
    "scrolled": true
   },
   "outputs": [
    {
     "name": "stdout",
     "output_type": "stream",
     "text": [
      "H\n",
      "e\n",
      "l\n",
      "l\n",
      "o\n",
      ",\n",
      " \n",
      "T\n",
      "o\n",
      "d\n",
      "a\n",
      "y\n",
      " \n",
      "I\n",
      "t\n",
      "'\n",
      "s\n",
      " \n",
      "A\n",
      " \n",
      "w\n",
      "e\n",
      "d\n",
      "n\n",
      "e\n",
      "s\n",
      "d\n",
      "a\n",
      "y\n"
     ]
    }
   ],
   "source": [
    "for character in a_string:\n",
    "    print(character)"
   ]
  },
  {
   "cell_type": "code",
   "execution_count": 30,
   "id": "480c3e85",
   "metadata": {},
   "outputs": [
    {
     "data": {
      "text/plain": [
       "\"Hello, Today It's A wednesday\""
      ]
     },
     "execution_count": 30,
     "metadata": {},
     "output_type": "execute_result"
    }
   ],
   "source": [
    "a_string"
   ]
  },
  {
   "cell_type": "code",
   "execution_count": 31,
   "id": "f845d062",
   "metadata": {},
   "outputs": [
    {
     "data": {
      "text/plain": [
       "\"HELLO, TODAY IT'S A WEDNESDAY\""
      ]
     },
     "execution_count": 31,
     "metadata": {},
     "output_type": "execute_result"
    }
   ],
   "source": [
    "empty_string = \"\"\n",
    "\n",
    "for character in a_string:\n",
    "    empty_string += character.upper()\n",
    "    \n",
    "empty_string"
   ]
  },
  {
   "cell_type": "code",
   "execution_count": 35,
   "id": "a7a0839d",
   "metadata": {},
   "outputs": [
    {
     "data": {
      "text/plain": [
       "'8️⃣8️⃣8️⃣'"
      ]
     },
     "execution_count": 35,
     "metadata": {},
     "output_type": "execute_result"
    }
   ],
   "source": [
    "empty_string = \"\"\n",
    "\n",
    "for every_character in a_string:\n",
    "    if every_character == \"e\":\n",
    "         empty_string += \"8️⃣\"\n",
    "empty_string"
   ]
  },
  {
   "cell_type": "code",
   "execution_count": 44,
   "id": "aa67cf1d",
   "metadata": {},
   "outputs": [],
   "source": [
    "a_string = \"Hello\""
   ]
  },
  {
   "cell_type": "code",
   "execution_count": 45,
   "id": "64012ba2",
   "metadata": {},
   "outputs": [
    {
     "data": {
      "text/plain": [
       "'H✅llo'"
      ]
     },
     "execution_count": 45,
     "metadata": {},
     "output_type": "execute_result"
    }
   ],
   "source": [
    "for every_character in a_string:\n",
    "    if every_character == \"e\":\n",
    "        a_string = a_string.replace(every_character, \"✅\") \n",
    "a_string"
   ]
  },
  {
   "cell_type": "code",
   "execution_count": 46,
   "id": "252f740c",
   "metadata": {},
   "outputs": [],
   "source": [
    "# Because replace returns a copy of a string, if you want the changes be in place, you need to save them into a variable\n",
    "# It can be the same variable"
   ]
  },
  {
   "cell_type": "code",
   "execution_count": 54,
   "id": "27e5bb12",
   "metadata": {},
   "outputs": [],
   "source": [
    "a_string_2 = \"heLlo\" #helo"
   ]
  },
  {
   "cell_type": "code",
   "execution_count": 56,
   "id": "cc6f0249",
   "metadata": {},
   "outputs": [
    {
     "data": {
      "text/plain": [
       "'helo'"
      ]
     },
     "execution_count": 56,
     "metadata": {},
     "output_type": "execute_result"
    }
   ],
   "source": [
    "new_string = \"\"\n",
    "\n",
    "for element in a_string_2:\n",
    "    if element == element.upper():\n",
    "        pass\n",
    "    else:\n",
    "        new_string += element\n",
    "new_string"
   ]
  },
  {
   "cell_type": "code",
   "execution_count": 59,
   "id": "24ed1faf",
   "metadata": {},
   "outputs": [],
   "source": [
    "a_string_2 = \"heLlo\" #helo"
   ]
  },
  {
   "cell_type": "code",
   "execution_count": 60,
   "id": "b36c37d9",
   "metadata": {},
   "outputs": [
    {
     "data": {
      "text/plain": [
       "'HELLO'"
      ]
     },
     "execution_count": 60,
     "metadata": {},
     "output_type": "execute_result"
    }
   ],
   "source": [
    "new_string_3 = \"\"\n",
    "\n",
    "for element in a_string_2:\n",
    "    new_string_3 += element.upper()\n",
    "\n",
    "new_string_3"
   ]
  },
  {
   "cell_type": "code",
   "execution_count": 62,
   "id": "5fd7f1a0",
   "metadata": {},
   "outputs": [
    {
     "data": {
      "text/plain": [
       "'gujnln g ksj'"
      ]
     },
     "execution_count": 62,
     "metadata": {},
     "output_type": "execute_result"
    }
   ],
   "source": [
    "upper_lower = \"gUjnLn G ksJ\"\n",
    "new_string = \"\"\n",
    "\n",
    "for element in upper_lower:\n",
    "    if element == element.upper():\n",
    "        new_string += element.lower()\n",
    "    else:\n",
    "        new_string += element\n",
    "new_string"
   ]
  },
  {
   "cell_type": "code",
   "execution_count": 72,
   "id": "88643ce8",
   "metadata": {
    "scrolled": true
   },
   "outputs": [
    {
     "name": "stdout",
     "output_type": "stream",
     "text": [
      "h\n",
      "hi\n",
      "hil\n",
      "hill\n",
      "hillo\n",
      "hillo \n",
      "hillo t\n",
      "hillo to\n",
      "hillo tod\n",
      "hillo toda\n",
      "hillo today\n",
      "hillo today \n",
      "hillo today i\n",
      "hillo today is\n",
      "hillo today is \n",
      "hillo today is W\n",
      "hillo today is Wi\n",
      "hillo today is Wid\n",
      "hillo today is Widn\n",
      "hillo today is Widni\n",
      "hillo today is Widnis\n",
      "hillo today is Widnisd\n",
      "hillo today is Widnisda\n",
      "hillo today is Widnisday\n",
      "hillo today is Widnisday\n"
     ]
    }
   ],
   "source": [
    "# Viktor's example\n",
    "\n",
    "string=\"hello today is Wednesday\"\n",
    "emt_str=\"\"\n",
    "\n",
    "for i in string:\n",
    "    if i==\"e\":\n",
    "        emt_str+=\"i\"\n",
    "    else:\n",
    "        emt_str+=i\n",
    "    print(emt_str) #always print inside of a loop in case there's doubts of what is going on\n",
    "print(emt_str)"
   ]
  },
  {
   "cell_type": "code",
   "execution_count": 73,
   "id": "c6f74ffc",
   "metadata": {},
   "outputs": [
    {
     "ename": "TypeError",
     "evalue": "'str' object does not support item assignment",
     "output_type": "error",
     "traceback": [
      "\u001b[0;31m---------------------------------------------------------------------------\u001b[0m",
      "\u001b[0;31mTypeError\u001b[0m                                 Traceback (most recent call last)",
      "Input \u001b[0;32mIn [73]\u001b[0m, in \u001b[0;36m<cell line: 7>\u001b[0;34m()\u001b[0m\n\u001b[1;32m      9\u001b[0m         string[counter] \u001b[38;5;241m=\u001b[39m \u001b[38;5;124m\"\u001b[39m\u001b[38;5;124msomething else\u001b[39m\u001b[38;5;124m\"\u001b[39m\n\u001b[1;32m     10\u001b[0m     \u001b[38;5;28;01melse\u001b[39;00m:\n\u001b[0;32m---> 11\u001b[0m         string[counter] \u001b[38;5;241m=\u001b[39m \u001b[38;5;124m\"\u001b[39m\u001b[38;5;124msdsdsdsd\u001b[39m\u001b[38;5;124m\"\u001b[39m\n\u001b[1;32m     12\u001b[0m     counter \u001b[38;5;241m+\u001b[39m\u001b[38;5;241m=\u001b[39m \u001b[38;5;241m1\u001b[39m\n\u001b[1;32m     13\u001b[0m \u001b[38;5;28mprint\u001b[39m(emt_str)\n",
      "\u001b[0;31mTypeError\u001b[0m: 'str' object does not support item assignment"
     ]
    }
   ],
   "source": [
    "# Viktor's example, approach with index. Wouldn't work, python throws error\n",
    "\n",
    "string=\"hello today is Wednesday\"\n",
    "emt_str=\"\"\n",
    "counter = 0\n",
    "\n",
    "for i in string:\n",
    "    if i==\"e\":\n",
    "        string[counter] = \"something else\"\n",
    "    else:\n",
    "        string[counter] = \"sdsdsdsd\"\n",
    "    counter += 1\n",
    "print(emt_str)"
   ]
  },
  {
   "cell_type": "code",
   "execution_count": 67,
   "id": "7c16361f",
   "metadata": {},
   "outputs": [],
   "source": [
    "# You can't re-assign a string to be something else. You can't do string = new_thing\n",
    "# TypeError: 'str' object does not support item assignment"
   ]
  },
  {
   "cell_type": "markdown",
   "id": "fef0c8a5",
   "metadata": {
    "lang": "en"
   },
   "source": [
    "### Iterate through a list"
   ]
  },
  {
   "cell_type": "code",
   "execution_count": 76,
   "id": "f05f7fd7",
   "metadata": {},
   "outputs": [
    {
     "name": "stdout",
     "output_type": "stream",
     "text": [
      "The element righ now in the loop is 10\n",
      "The element appended is 10\n",
      "The element righ now in the loop is 4\n",
      "The element appended is 4\n",
      "The element righ now in the loop is 30\n",
      "The element appended is 30\n",
      "The element righ now in the loop is 3434\n"
     ]
    },
    {
     "data": {
      "text/plain": [
       "[10, 4, 30]"
      ]
     },
     "execution_count": 76,
     "metadata": {},
     "output_type": "execute_result"
    }
   ],
   "source": [
    "num = [10 ,4, 30, \"3434\"]\n",
    "new_list  = []\n",
    "\n",
    "for i in num:\n",
    "    print(f\"The element righ now in the loop is {i}\")\n",
    "    if type(i) == int:\n",
    "        print(f\"The element appended is {i}\")\n",
    "        new_list.append(i)\n",
    "new_list"
   ]
  },
  {
   "cell_type": "markdown",
   "id": "e873ede0",
   "metadata": {
    "lang": "en"
   },
   "source": [
    "### We iterate through lists over their index\n",
    "- Built in functions --> https://docs.python.org/3/library/functions.html\n",
    "- Enumerate doc --> https://book.pythontips.com/en/latest/enumerate.html"
   ]
  },
  {
   "cell_type": "code",
   "execution_count": 78,
   "id": "6a4a07c7",
   "metadata": {},
   "outputs": [
    {
     "name": "stdout",
     "output_type": "stream",
     "text": [
      "Pau\n",
      "Clara\n",
      "Clara\n",
      "Albert\n"
     ]
    }
   ],
   "source": [
    "names = [\"Pau\", \"Clara\", \"Clara\", \"Albert\"]\n",
    "\n",
    "for i in names:\n",
    "    print(i)"
   ]
  },
  {
   "cell_type": "code",
   "execution_count": 80,
   "id": "2f6f3c27",
   "metadata": {},
   "outputs": [
    {
     "name": "stdout",
     "output_type": "stream",
     "text": [
      "The index is 0, and the name is Pau\n",
      "The index is 1, and the name is Clara\n",
      "The index is 2, and the name is Clara\n",
      "The index is 3, and the name is Albert\n"
     ]
    }
   ],
   "source": [
    "names = [\"Pau\", \"Clara\", \"Clara\", \"Albert\"]\n",
    "\n",
    "for index, element in enumerate(names):\n",
    "    print(f\"The index is {index}, and the name is {element}\")"
   ]
  },
  {
   "cell_type": "code",
   "execution_count": 81,
   "id": "d7dfb895",
   "metadata": {},
   "outputs": [
    {
     "name": "stdout",
     "output_type": "stream",
     "text": [
      "0: Pau\n",
      "1: Clara\n",
      "2: Clara\n",
      "3: Albert\n"
     ]
    }
   ],
   "source": [
    "names = [\"Pau\", \"Clara\", \"Clara\", \"Albert\"]\n",
    "\n",
    "for index, element in enumerate(names):\n",
    "    print(f\"{index}: {element}\")"
   ]
  },
  {
   "cell_type": "markdown",
   "id": "73b7e30f",
   "metadata": {
    "lang": "en"
   },
   "source": [
    "### Loop through two lists at the same time"
   ]
  },
  {
   "cell_type": "markdown",
   "id": "af465221",
   "metadata": {
    "lang": "en"
   },
   "source": [
    "I leave you the zip documentation, remember that it will not give an error if the lists are of different sizes but the last iteration will be that of the shortest list\n",
    "[DOC](https://docs.python.org/3/library/functions.html)"
   ]
  },
  {
   "cell_type": "code",
   "execution_count": 86,
   "id": "egyptian-opening",
   "metadata": {},
   "outputs": [
    {
     "name": "stdout",
     "output_type": "stream",
     "text": [
      "Pau is from Barcelona\n",
      "Clara is from Murcia\n",
      "Clara is from Girona\n",
      "Albert is from Madrid\n"
     ]
    }
   ],
   "source": [
    "names = [\"Pau\", \"Clara\", \"Clara\", \"Albert\"]\n",
    "locations = [\"Barcelona\", \"Murcia\", \"Girona\", \"Madrid\"]\n",
    "\n",
    "#zip\n",
    "for person, city in zip(names, locations):\n",
    "    print(f\"{person} is from {city}\")"
   ]
  },
  {
   "cell_type": "code",
   "execution_count": 88,
   "id": "e1254c26",
   "metadata": {},
   "outputs": [
    {
     "name": "stdout",
     "output_type": "stream",
     "text": [
      "Pau is from Barcelona\n",
      "Clara is from Murcia\n",
      "Clara is from Girona\n"
     ]
    },
    {
     "data": {
      "text/plain": [
       "3"
      ]
     },
     "execution_count": 88,
     "metadata": {},
     "output_type": "execute_result"
    }
   ],
   "source": [
    "# Q: What if the lengths of the list don't match\n",
    "\n",
    "names = [\"Pau\", \"Clara\", \"Clara\", \"Albert\"]\n",
    "locations = [\"Barcelona\", \"Murcia\", \"Girona\"]\n",
    "\n",
    "counter = 0\n",
    "\n",
    "for person, city in zip(names, locations):\n",
    "    counter +=1\n",
    "    print(f\"{person} is from {city}\")\n",
    "counter"
   ]
  },
  {
   "cell_type": "code",
   "execution_count": 89,
   "id": "fd81e964",
   "metadata": {},
   "outputs": [
    {
     "name": "stdout",
     "output_type": "stream",
     "text": [
      "Pau is from Barcelona and is 1 yo\n",
      "Clara is from Murcia and is 2 yo\n",
      "Clara is from Girona and is 3 yo\n",
      "Albert is from Madrid and is 4 yo\n"
     ]
    }
   ],
   "source": [
    "names = [\"Pau\", \"Clara\", \"Clara\", \"Albert\"]\n",
    "locations = [\"Barcelona\", \"Murcia\", \"Girona\", \"Madrid\"]\n",
    "age = [1, 2, 3, 4]\n",
    "\n",
    "for person, city, old in zip(names, locations, age):\n",
    "    print(f\"{person} is from {city} and is {old} yo\")"
   ]
  },
  {
   "cell_type": "code",
   "execution_count": 97,
   "id": "db1f5fa4",
   "metadata": {},
   "outputs": [
    {
     "name": "stdout",
     "output_type": "stream",
     "text": [
      "0: Pau is from Barcelona and is 20 yo\n",
      "1: Clara is from Murcia and is 22 yo\n",
      "2: Clara is from Girona and is 39 yo\n",
      "3: Albert is from Madrid and is 80 yo\n"
     ]
    }
   ],
   "source": [
    "names = [\"Pau\", \"Clara\", \"Clara\", \"Albert\"]\n",
    "locations = [\"Barcelona\", \"Murcia\", \"Girona\", \"Madrid\"]\n",
    "age = [20, 22, 39, 80]\n",
    "\n",
    "for index, (person, city, old) in enumerate(zip(names, locations, age)):\n",
    "    print(f\"{index}: {person} is from {city} and is {old} yo\")\n",
    "    \n",
    "#Q: Does it stick to the shortest list even with enumerate? Yes.\n"
   ]
  },
  {
   "cell_type": "code",
   "execution_count": 101,
   "id": "2a4523b0",
   "metadata": {},
   "outputs": [
    {
     "name": "stdout",
     "output_type": "stream",
     "text": [
      "Something\n",
      "Something\n",
      "Something\n",
      "Something\n",
      "Something\n",
      "Something else\n",
      "Something else\n",
      "Something else\n",
      "Something else\n"
     ]
    }
   ],
   "source": [
    "#Underscore for defining for loops when you won't be using the elements of the iteration\n",
    "\n",
    "for _ in range(5):\n",
    "    print(\"Something\")\n",
    "\n",
    "a_list = [1, 2, 3, 4]\n",
    "    \n",
    "for _ in a_list:\n",
    "    print(\"Something else\")"
   ]
  },
  {
   "cell_type": "markdown",
   "id": "cd740c33",
   "metadata": {
    "lang": "en"
   },
   "source": [
    "### Iterate over the elements of a dictionary"
   ]
  },
  {
   "cell_type": "code",
   "execution_count": 102,
   "id": "8643d684",
   "metadata": {},
   "outputs": [],
   "source": [
    "my_dictionary = {\n",
    "    \"Name\": \"Pau\",\n",
    "    \"City\": \"Barcelona\",\n",
    "    \"Age\": 20,\n",
    "    \"Foods\": [\"Coffee\", \"Bread\", \"Eggs\"]\n",
    "}"
   ]
  },
  {
   "cell_type": "code",
   "execution_count": 103,
   "id": "1cdd257f",
   "metadata": {},
   "outputs": [
    {
     "data": {
      "text/plain": [
       "{'Name': 'Pau',\n",
       " 'City': 'Barcelona',\n",
       " 'Age': 20,\n",
       " 'Foods': ['Coffee', 'Bread', 'Eggs']}"
      ]
     },
     "execution_count": 103,
     "metadata": {},
     "output_type": "execute_result"
    }
   ],
   "source": [
    "my_dictionary"
   ]
  },
  {
   "cell_type": "code",
   "execution_count": 104,
   "id": "97d6ace5",
   "metadata": {},
   "outputs": [
    {
     "data": {
      "text/plain": [
       "dict_items([('Name', 'Pau'), ('City', 'Barcelona'), ('Age', 20), ('Foods', ['Coffee', 'Bread', 'Eggs'])])"
      ]
     },
     "execution_count": 104,
     "metadata": {},
     "output_type": "execute_result"
    }
   ],
   "source": [
    "my_dictionary.items()"
   ]
  },
  {
   "cell_type": "code",
   "execution_count": 105,
   "id": "5ef06e18",
   "metadata": {},
   "outputs": [
    {
     "data": {
      "text/plain": [
       "dict_keys(['Name', 'City', 'Age', 'Foods'])"
      ]
     },
     "execution_count": 105,
     "metadata": {},
     "output_type": "execute_result"
    }
   ],
   "source": [
    "my_dictionary.keys()"
   ]
  },
  {
   "cell_type": "code",
   "execution_count": 106,
   "id": "2c64495a",
   "metadata": {},
   "outputs": [
    {
     "data": {
      "text/plain": [
       "dict_values(['Pau', 'Barcelona', 20, ['Coffee', 'Bread', 'Eggs']])"
      ]
     },
     "execution_count": 106,
     "metadata": {},
     "output_type": "execute_result"
    }
   ],
   "source": [
    "my_dictionary.values()"
   ]
  },
  {
   "cell_type": "code",
   "execution_count": 107,
   "id": "d0a9fae6",
   "metadata": {},
   "outputs": [
    {
     "name": "stdout",
     "output_type": "stream",
     "text": [
      "This is the key: Name and this is the value: Pau\n",
      "This is the key: City and this is the value: Barcelona\n",
      "This is the key: Age and this is the value: 20\n",
      "This is the key: Foods and this is the value: ['Coffee', 'Bread', 'Eggs']\n"
     ]
    }
   ],
   "source": [
    "for key, value in my_dictionary.items()\n",
    "    print(f\"This is the key: {key} and this is the value: {value}\")"
   ]
  },
  {
   "cell_type": "code",
   "execution_count": 109,
   "id": "ab796fd8",
   "metadata": {},
   "outputs": [
    {
     "name": "stdout",
     "output_type": "stream",
     "text": [
      "This key Name starts with 'N' and it's value is Pau\n"
     ]
    }
   ],
   "source": [
    "for key, value in my_dictionary.items():\n",
    "    if key.startswith(\"N\"):\n",
    "        print(f\"This key {key} starts with 'N' and it's value is {value}\")"
   ]
  },
  {
   "cell_type": "code",
   "execution_count": null,
   "id": "3b38f80d",
   "metadata": {},
   "outputs": [],
   "source": [
    "# Quoting: single and double"
   ]
  },
  {
   "cell_type": "code",
   "execution_count": 110,
   "id": "5604b639",
   "metadata": {},
   "outputs": [
    {
     "name": "stdout",
     "output_type": "stream",
     "text": [
      "This key Foods starts with \"N\", and its value is ['Coffee', 'Bread', 'Eggs']\n",
      "This key Foods starts with 'N', and it's value is ['Coffee', 'Bread', 'Eggs']\n",
      "This key Foods starts with 'N', and it's value is ['Coffee', 'Bread', 'Eggs']\n"
     ]
    }
   ],
   "source": [
    "print(f'This key {key} starts with \"N\", and its value is {value}') #Single quotes in the outside and double inside\n",
    "print(f\"This key {key} starts with 'N', and it's value is {value}\") #The other way around\n",
    "print(f\"This key {key} starts with 'N', and it's value is {value}\") #Be careful with quotes and strings\n",
    "# in case you have some apostrophes"
   ]
  },
  {
   "cell_type": "code",
   "execution_count": 120,
   "id": "67fcd41b",
   "metadata": {},
   "outputs": [],
   "source": [
    "# Creating a new dictionary based off an existing one"
   ]
  },
  {
   "cell_type": "code",
   "execution_count": 117,
   "id": "39093d60",
   "metadata": {},
   "outputs": [],
   "source": [
    "my_dictionary = {\n",
    "    \"Name\": \"Not Pau\",\n",
    "    \"City\": \"Barcelona\",\n",
    "    \"Age\": 20,\n",
    "    \"Foods\": [\"Coffee\", \"Bread\", \"Eggs\"]\n",
    "}"
   ]
  },
  {
   "cell_type": "code",
   "execution_count": null,
   "id": "9d136cfd",
   "metadata": {},
   "outputs": [],
   "source": [
    "new_dict_2 = {\n",
    "    #\"Name\" is what happens when you do: new_dict_2[key]\n",
    "}"
   ]
  },
  {
   "cell_type": "code",
   "execution_count": 116,
   "id": "0231a70f",
   "metadata": {},
   "outputs": [
    {
     "name": "stdout",
     "output_type": "stream",
     "text": [
      "{'Name': 'Not Pau', 'City': 'Barcelona', 'Age': 20, 'Foods': ['Coffee', 'Bread', 'Eggs']}\n",
      "{'Name': 'Pau'}\n"
     ]
    }
   ],
   "source": [
    "print(my_dictionary)\n",
    "print(new_dict_2)"
   ]
  },
  {
   "cell_type": "code",
   "execution_count": 118,
   "id": "5e6d4de6",
   "metadata": {},
   "outputs": [
    {
     "data": {
      "text/plain": [
       "{'Name': 'Not Pau'}"
      ]
     },
     "execution_count": 118,
     "metadata": {},
     "output_type": "execute_result"
    }
   ],
   "source": [
    "for key, value in my_dictionary.items():\n",
    "    if key.startswith(\"N\"):\n",
    "        new_dict_2[key] = value #It is creating the Key if it doesn't already exist\n",
    "\n",
    "new_dict_2"
   ]
  },
  {
   "cell_type": "code",
   "execution_count": 119,
   "id": "9a9889f2",
   "metadata": {},
   "outputs": [],
   "source": [
    "# If they key already exists, the VALUE it will be updated, instead of creating a second key\n",
    "# as they are unique in dictionaries"
   ]
  },
  {
   "cell_type": "code",
   "execution_count": 125,
   "id": "3346a409",
   "metadata": {},
   "outputs": [
    {
     "name": "stdout",
     "output_type": "stream",
     "text": [
      "This is the key: Name and this is the value: Not Pau\n",
      "This is the key: City and this is the value: Barcelona\n",
      "This is the key: Age and this is the value: 20\n",
      "This is the key: Foods and this is the value: ['Coffee', 'Bread', 'Eggs']\n"
     ]
    }
   ],
   "source": [
    "#Q: do pairs of key, value need to be key, value? -> no\n",
    "\n",
    "\n",
    "for this, that in my_dictionary.items():\n",
    "    print(f\"This is the key: {this} and this is the value: {that}\")\n",
    "\n",
    "    \n",
    "    \n",
    "# Naming in loops: iteration itself doesn't really matter\n",
    "iterable = []\n",
    "for i in iterable:\n",
    "    pass\n",
    "\n",
    "for name in names:\n",
    "    pass"
   ]
  },
  {
   "cell_type": "code",
   "execution_count": 150,
   "id": "09cff9d5",
   "metadata": {},
   "outputs": [
    {
     "name": "stdout",
     "output_type": "stream",
     "text": [
      "Bread\n"
     ]
    }
   ],
   "source": [
    "import random\n",
    "\n",
    "my_dictionary = {\n",
    "    \"Name\": \"Not Pau\",\n",
    "    \"City\": \"Barcelona\",\n",
    "    \"Age\": 20,\n",
    "    \"Foods\": [\"Coffee\", \"Bread\", \"Eggs\"]\n",
    "}\n",
    "\n",
    "\n",
    "# Q: How to get a random element from a value that is a list\n",
    "# 1st: check that it is a list, so that we can access the index\n",
    "# 2nd: get the length of the list\n",
    "# 3rd: do random choice out of the range of the list\n",
    "# 4th: print that position\n",
    "\n",
    "\n",
    "for key, value in my_dictionary.items():\n",
    "    if type(value) == list: #It wouldn't work it the value was an INT\n",
    "        print(value[random.randint(0, len(value)-1)])"
   ]
  },
  {
   "cell_type": "markdown",
   "id": "banned-irish",
   "metadata": {},
   "source": [
    "## Break"
   ]
  },
  {
   "cell_type": "markdown",
   "id": "46cd106d",
   "metadata": {
    "lang": "en"
   },
   "source": [
    "We can literally \"break\" a recursion when a condition is met"
   ]
  },
  {
   "cell_type": "code",
   "execution_count": 123,
   "id": "184cda20",
   "metadata": {
    "scrolled": true
   },
   "outputs": [
    {
     "name": "stdout",
     "output_type": "stream",
     "text": [
      "The name Cau starts with a C\n",
      "The name Clara starts with a C\n",
      "The name Clara starts with a C\n",
      "Loop was stopped at Albert\n"
     ]
    }
   ],
   "source": [
    "name = [\"Cau\", \"Clara\", \"Clara\", \"Albert\", \"Carla\"]\n",
    "\n",
    "for i in name:\n",
    "    if i.startswith(\"C\"):\n",
    "        print(f\"The name {i} starts with a C\")\n",
    "    else:\n",
    "        print(f\"Loop was stopped at {i}\")\n",
    "        break"
   ]
  },
  {
   "cell_type": "code",
   "execution_count": null,
   "id": "4e06e1e7",
   "metadata": {},
   "outputs": [],
   "source": [
    "names = [\"Cau\", \"Clara\", \"Clara\", \"Albert\", \"Carla\"]\n",
    "\n",
    "for name in names:\n",
    "    if i.startswith(\"C\"):\n",
    "        print(f\"The name {name} starts with a C\")\n",
    "    else:\n",
    "        print(f\"Loop was stopped at {name}\")\n",
    "        break"
   ]
  },
  {
   "cell_type": "code",
   "execution_count": 152,
   "id": "e362a243",
   "metadata": {},
   "outputs": [],
   "source": [
    "# Different ways to format a string"
   ]
  },
  {
   "cell_type": "code",
   "execution_count": 153,
   "id": "1a977da2",
   "metadata": {},
   "outputs": [
    {
     "name": "stdout",
     "output_type": "stream",
     "text": [
      "My age is 10\n",
      "My age is 10\n"
     ]
    }
   ],
   "source": [
    "age = 10\n",
    "\n",
    "print(f\"My age is {age}\")\n",
    "print(\"My age is {}\".format(age))"
   ]
  },
  {
   "cell_type": "markdown",
   "id": "5f8559a8",
   "metadata": {
    "lang": "en"
   },
   "source": [
    "## Summary\n",
    "It's your turn, what have we learned today?\n"
   ]
  },
  {
   "cell_type": "markdown",
   "id": "e1bd0fc5",
   "metadata": {},
   "source": [
    "- while loops\n",
    "- for loops\n",
    "- pass & break\n",
    "- enumerate: go over index and elements at once\n",
    "- zip: iterate over more than one iterable with correlative iterations (1st position of one iterable corresponds to first position of second iterable)\n",
    "- Iterations over strings, over lists\n",
    "- You can't change a string by re-assigning\n",
    "- Formatting strings with variables: `f\"{variable}\"` and `.format(variable)`\n",
    "- Quotes: single & double\n",
    "- How to create new keys in an empty dictionary: or update the value\n",
    "- Iterate over dictionaries: through pairs, through keys or just the values"
   ]
  }
 ],
 "metadata": {
  "kernelspec": {
   "display_name": "Python 3 (ipykernel)",
   "language": "python",
   "name": "python3"
  },
  "language_info": {
   "codemirror_mode": {
    "name": "ipython",
    "version": 3
   },
   "file_extension": ".py",
   "mimetype": "text/x-python",
   "name": "python",
   "nbconvert_exporter": "python",
   "pygments_lexer": "ipython3",
   "version": "3.9.12"
  },
  "nbTranslate": {
   "displayLangs": [
    "en",
    "es"
   ],
   "hotkey": "alt-a",
   "langInMainMenu": true,
   "sourceLang": "es",
   "targetLang": "en",
   "useGoogleTranslate": true
  },
  "toc": {
   "base_numbering": 1,
   "nav_menu": {},
   "number_sections": true,
   "sideBar": true,
   "skip_h1_title": true,
   "title_cell": "Table of Contents",
   "title_sidebar": "Contents",
   "toc_cell": true,
   "toc_position": {},
   "toc_section_display": true,
   "toc_window_display": true
  }
 },
 "nbformat": 4,
 "nbformat_minor": 5
}
