{
 "cells": [
  {
   "cell_type": "markdown",
   "id": "4476bce5",
   "metadata": {
    "lang": "en"
   },
   "source": [
    "# List Comprehensions"
   ]
  },
  {
   "cell_type": "markdown",
   "id": "ambient-dodge",
   "metadata": {},
   "source": [
    "![elgif](https://media.giphy.com/media/8vZY0QZZjJZqmfResk/giphy.gif)"
   ]
  },
  {
   "cell_type": "markdown",
   "id": "2d0ea60c",
   "metadata": {
    "lang": "en"
   },
   "source": [
    "## But what is this?\n",
    "List compressions are a very powerful tool, creating one list based on another, on a single readable line."
   ]
  },
  {
   "cell_type": "code",
   "execution_count": 1,
   "id": "velvet-madonna",
   "metadata": {},
   "outputs": [
    {
     "data": {
      "text/plain": [
       "['BCN', 'MADRID', 'GIRONA', 'MURCIA']"
      ]
     },
     "execution_count": 1,
     "metadata": {},
     "output_type": "execute_result"
    }
   ],
   "source": [
    "list_of_words = [\"bcn\", \"madrid\", \"girona\", \"murcia\"]\n",
    "\n",
    "new_list = []\n",
    "\n",
    "for i in list_of_words:\n",
    "    new_list.append(i.upper())\n",
    "new_list"
   ]
  },
  {
   "cell_type": "markdown",
   "id": "a6776c39",
   "metadata": {
    "lang": "en"
   },
   "source": [
    "If we wanted to have a list like this but with all the words in uppercase using a loop..."
   ]
  },
  {
   "cell_type": "code",
   "execution_count": 3,
   "id": "productive-panel",
   "metadata": {},
   "outputs": [
    {
     "data": {
      "text/plain": [
       "['BCN', 'MADRID', 'GIRONA', 'MURCIA']"
      ]
     },
     "execution_count": 3,
     "metadata": {},
     "output_type": "execute_result"
    }
   ],
   "source": [
    "new_list_2 = [i.upper() for i in list_of_words]\n",
    "new_list_2"
   ]
  },
  {
   "cell_type": "code",
   "execution_count": 5,
   "id": "8b12fd79",
   "metadata": {},
   "outputs": [
    {
     "data": {
      "text/plain": [
       "['BCN', 'MADRID', 'GIRONA', 'MURCIA']"
      ]
     },
     "execution_count": 5,
     "metadata": {},
     "output_type": "execute_result"
    }
   ],
   "source": [
    "[i.upper() for i in list_of_words]"
   ]
  },
  {
   "cell_type": "markdown",
   "id": "012339ec",
   "metadata": {
    "lang": "en"
   },
   "source": [
    "How can we do it with list comprehension?"
   ]
  },
  {
   "cell_type": "markdown",
   "id": "third-policy",
   "metadata": {},
   "source": [
    "![imagen_compr](https://stsewd.dev/charla-comprension-de-listas/img/listComprehensions.gif)"
   ]
  },
  {
   "cell_type": "code",
   "execution_count": 9,
   "id": "438d5139",
   "metadata": {},
   "outputs": [],
   "source": [
    "list_of_words_and_nums = [\"bcn\", 2, \"madrid\", 3, \"girona\", \"murcia\"]"
   ]
  },
  {
   "cell_type": "code",
   "execution_count": 12,
   "id": "cc73dda1",
   "metadata": {},
   "outputs": [
    {
     "data": {
      "text/plain": [
       "[4, 9]"
      ]
     },
     "execution_count": 12,
     "metadata": {},
     "output_type": "execute_result"
    }
   ],
   "source": [
    "[i**2 for i in list_of_words_and_nums if type(i)==int]"
   ]
  },
  {
   "cell_type": "code",
   "execution_count": 7,
   "id": "developing-franklin",
   "metadata": {},
   "outputs": [
    {
     "data": {
      "text/plain": [
       "['BCN']"
      ]
     },
     "execution_count": 7,
     "metadata": {},
     "output_type": "execute_result"
    }
   ],
   "source": [
    "[i.upper() for i in list_of_words if i.startswith(\"b\")]"
   ]
  },
  {
   "cell_type": "markdown",
   "id": "aa4b9751",
   "metadata": {
    "lang": "en"
   },
   "source": [
    "## Easy challenge 🤔\n",
    "We want a list containing the squares of the numbers 1 to 10."
   ]
  },
  {
   "cell_type": "code",
   "execution_count": 15,
   "id": "d0d8b77b",
   "metadata": {},
   "outputs": [
    {
     "data": {
      "text/plain": [
       "[1, 4, 9, 16, 25, 36, 49, 64, 81, 100]"
      ]
     },
     "execution_count": 15,
     "metadata": {},
     "output_type": "execute_result"
    }
   ],
   "source": [
    "new_list = []\n",
    "for i in range(1, 11): #2nd: THE DECLARATION OF THE LOOP: Go to the first line\n",
    "    #3rd: THE REST: the inside of the loop\n",
    "    new_list.append(i**2) #1st: OUTPUT: Get the output first\n",
    "new_list"
   ]
  },
  {
   "cell_type": "code",
   "execution_count": 13,
   "id": "surprised-function",
   "metadata": {},
   "outputs": [
    {
     "data": {
      "text/plain": [
       "[1, 4, 9, 16, 25, 36, 49, 64, 81, 100]"
      ]
     },
     "execution_count": 13,
     "metadata": {},
     "output_type": "execute_result"
    }
   ],
   "source": [
    "variable = [i**2 for i in range(1,11)]\n",
    "variable"
   ]
  },
  {
   "cell_type": "markdown",
   "id": "54ce8e78",
   "metadata": {
    "lang": "en"
   },
   "source": [
    "## Advantage\n",
    "Understanding the list:\n",
    " *we don't need an empty list to start* we don't use the `.append` method."
   ]
  },
  {
   "cell_type": "code",
   "execution_count": 1,
   "id": "d15d24d9",
   "metadata": {},
   "outputs": [],
   "source": [
    "import time"
   ]
  },
  {
   "cell_type": "code",
   "execution_count": 2,
   "id": "20c501bf",
   "metadata": {},
   "outputs": [
    {
     "name": "stdout",
     "output_type": "stream",
     "text": [
      "CPU times: user 1 µs, sys: 1 µs, total: 2 µs\n",
      "Wall time: 3.81 µs\n"
     ]
    }
   ],
   "source": [
    "%time\n",
    "\n",
    "new_list = []\n",
    "\n",
    "for i in range(10):\n",
    "    new_list.append(i)"
   ]
  },
  {
   "cell_type": "code",
   "execution_count": 3,
   "id": "cd344d93",
   "metadata": {},
   "outputs": [
    {
     "name": "stdout",
     "output_type": "stream",
     "text": [
      "CPU times: user 3 µs, sys: 0 ns, total: 3 µs\n",
      "Wall time: 6.2 µs\n"
     ]
    }
   ],
   "source": [
    "%time\n",
    "\n",
    "a = [i for i in range(10)]"
   ]
  },
  {
   "cell_type": "markdown",
   "id": "04427900",
   "metadata": {
    "lang": "en"
   },
   "source": [
    "## Easy challenge 🤔\n",
    "Create a new list, substituting \"e's\" for \"a's\" in each word in the original `words` list."
   ]
  },
  {
   "cell_type": "code",
   "execution_count": 26,
   "id": "focal-electron",
   "metadata": {},
   "outputs": [],
   "source": [
    "list_of_words = [\"bceen\", \"madride\", \"gironaa\", \"mureEEcia\", \"e\"]"
   ]
  },
  {
   "cell_type": "code",
   "execution_count": 27,
   "id": "215f6116",
   "metadata": {},
   "outputs": [
    {
     "data": {
      "text/plain": [
       "['bcAAn', 'madridA', 'gironaa', 'murAEEcia', 'A']"
      ]
     },
     "execution_count": 27,
     "metadata": {},
     "output_type": "execute_result"
    }
   ],
   "source": [
    "empty_list = []\n",
    "\n",
    "for i in list_of_words:\n",
    "    empty_list.append(i.replace(\"e\", \"A\"))\n",
    "empty_list"
   ]
  },
  {
   "cell_type": "code",
   "execution_count": 29,
   "id": "c0be28d4",
   "metadata": {
    "scrolled": true
   },
   "outputs": [
    {
     "data": {
      "text/plain": [
       "['bcAAn', 'madridA', 'gironaa', 'murAAAcia', 'A']"
      ]
     },
     "execution_count": 29,
     "metadata": {},
     "output_type": "execute_result"
    }
   ],
   "source": [
    "empty_list"
   ]
  },
  {
   "cell_type": "code",
   "execution_count": 11,
   "id": "e03f3803",
   "metadata": {},
   "outputs": [],
   "source": [
    "# comprehension lists with while: not really 🤯"
   ]
  },
  {
   "cell_type": "markdown",
   "id": "69146175",
   "metadata": {
    "lang": "en"
   },
   "source": [
    "## Conditions (we put IF in the comprehension)"
   ]
  },
  {
   "cell_type": "markdown",
   "id": "worthy-major",
   "metadata": {},
   "source": [
    "<img width=600 src=\"https://www.mrdbourke.com/content/images/2019/09/python-list-comprehension-article.png\">"
   ]
  },
  {
   "cell_type": "markdown",
   "id": "27f79aae",
   "metadata": {
    "lang": "en"
   },
   "source": [
    "## Easy challenge 🤔\n",
    "We want a new list with words longer than 5 characters."
   ]
  },
  {
   "cell_type": "code",
   "execution_count": 15,
   "id": "invalid-variation",
   "metadata": {},
   "outputs": [],
   "source": [
    "cities = [\"toledo\", \"coruña\", \"lisbon\", \"london\", \"cé\", \"par\", \"amsterdam\", \"tokio\"]"
   ]
  },
  {
   "cell_type": "code",
   "execution_count": 18,
   "id": "3f0b0762",
   "metadata": {},
   "outputs": [
    {
     "data": {
      "text/plain": [
       "['toledo', 'coruña', 'lisbon', 'london', 'amsterdam']"
      ]
     },
     "execution_count": 18,
     "metadata": {},
     "output_type": "execute_result"
    }
   ],
   "source": [
    "new_empty_list_longer_5 = []\n",
    "\n",
    "for city in cities:\n",
    "    if len(city) > 5:\n",
    "        new_empty_list_longer_5.append(city)\n",
    "        \n",
    "new_empty_list_longer_5"
   ]
  },
  {
   "cell_type": "code",
   "execution_count": 21,
   "id": "60539be9",
   "metadata": {},
   "outputs": [
    {
     "data": {
      "text/plain": [
       "['toledo', 'coruña', 'lisbon', 'london', 'amsterdam']"
      ]
     },
     "execution_count": 21,
     "metadata": {},
     "output_type": "execute_result"
    }
   ],
   "source": [
    "longer_than_5 = [city for city in cities if len(city) > 5]\n",
    "longer_than_5"
   ]
  },
  {
   "cell_type": "code",
   "execution_count": 28,
   "id": "cd1dbac1",
   "metadata": {},
   "outputs": [
    {
     "data": {
      "text/plain": [
       "['toledo', 'coruña', 'lisbon', 'london', 'amsterdam']"
      ]
     },
     "execution_count": 28,
     "metadata": {},
     "output_type": "execute_result"
    }
   ],
   "source": [
    "[city for city in cities if len(city) > 5  ]"
   ]
  },
  {
   "cell_type": "markdown",
   "id": "3a362f88",
   "metadata": {
    "lang": "en"
   },
   "source": [
    "## If / Else in comprehension\n",
    "You can include an else statement with a block of code that is implemented if the condition is false."
   ]
  },
  {
   "cell_type": "code",
   "execution_count": null,
   "id": "e0dcb8c6",
   "metadata": {},
   "outputs": [],
   "source": [
    "# ORDER MATTERS IF WE HAVE ELSE OR WE DON'T"
   ]
  },
  {
   "cell_type": "code",
   "execution_count": 9,
   "id": "31cee62f",
   "metadata": {},
   "outputs": [
    {
     "data": {
      "text/plain": [
       "['bcAAn', 'madridA', 'gironaa', 'A0908989AAAA', 'A']"
      ]
     },
     "execution_count": 9,
     "metadata": {},
     "output_type": "execute_result"
    }
   ],
   "source": [
    "list_of_words = [\"bceen\", \"madride\", \"gironaa\", \"e0908989EEEE\", \"e\"]\n",
    "empty_list = []\n",
    "\n",
    "for i in list_of_words:\n",
    "    if \"e\" in i.lower(): #to make it lowercase\n",
    "        empty_list.append(i.lower().replace(\"e\", \"A\"))\n",
    "    else:\n",
    "        empty_list.append(i)\n",
    "empty_list"
   ]
  },
  {
   "cell_type": "markdown",
   "id": "e5430c1d",
   "metadata": {
    "lang": "en"
   },
   "source": [
    "Be careful with the syntax, in this case it will change, the syntax of the comprehension will be:\n",
    "\n",
    "`[element if / else for element in whatever]`"
   ]
  },
  {
   "cell_type": "code",
   "execution_count": null,
   "id": "5c418200",
   "metadata": {},
   "outputs": [],
   "source": [
    "# What I want to get, if condition is met, else result of else, for iteration"
   ]
  },
  {
   "cell_type": "code",
   "execution_count": 10,
   "id": "f8d44477",
   "metadata": {},
   "outputs": [
    {
     "data": {
      "text/plain": [
       "['bcAAn', 'madridA', 'gironaa', 'A0908989AAAA', 'A']"
      ]
     },
     "execution_count": 10,
     "metadata": {},
     "output_type": "execute_result"
    }
   ],
   "source": [
    "[i.lower().replace(\"e\", \"A\") if \"e\" in i.lower() else i for i in list_of_words]"
   ]
  },
  {
   "cell_type": "code",
   "execution_count": null,
   "id": "eb713b98",
   "metadata": {},
   "outputs": [],
   "source": [
    "#Q: does it work with elif?\n",
    "\n",
    "[i.lower().replace(\"e\", \"A\") if \"e\" in i.lower() else i for i in list_of_words]"
   ]
  },
  {
   "cell_type": "markdown",
   "id": "ea456860",
   "metadata": {
    "lang": "en"
   },
   "source": [
    "## Double list comprehension"
   ]
  },
  {
   "cell_type": "markdown",
   "id": "fdb6d78f",
   "metadata": {
    "lang": "en"
   },
   "source": [
    "We are 3 friends. We want to visit 3 countries.\n",
    "Create a list of strings, containing all possibilities of \"name loves country\""
   ]
  },
  {
   "cell_type": "code",
   "execution_count": null,
   "id": "3900b7b5",
   "metadata": {},
   "outputs": [],
   "source": [
    "#Creating a nested list: 1st through loop, 2nd through comp lists"
   ]
  },
  {
   "cell_type": "markdown",
   "id": "6e95c674",
   "metadata": {
    "lang": "es"
   },
   "source": [
    "## Nested list comprehensions"
   ]
  },
  {
   "cell_type": "markdown",
   "id": "3dceac52",
   "metadata": {
    "lang": "en"
   },
   "source": [
    "Let's create a list of lists with a for loop"
   ]
  },
  {
   "cell_type": "code",
   "execution_count": 34,
   "id": "ongoing-england",
   "metadata": {},
   "outputs": [
    {
     "data": {
      "text/plain": [
       "[['mad', 'pau'],\n",
       " ['bcn', 'pau'],\n",
       " ['toledo', 'pau'],\n",
       " ['mad', 'clara'],\n",
       " ['bcn', 'clara'],\n",
       " ['toledo', 'clara'],\n",
       " ['mad', 'clara'],\n",
       " ['bcn', 'clara'],\n",
       " ['toledo', 'clara']]"
      ]
     },
     "execution_count": 34,
     "metadata": {},
     "output_type": "execute_result"
    }
   ],
   "source": [
    "names = [\"pau\", \"clara\", \"clara\"]\n",
    "cities = [\"mad\", \"bcn\", \"toledo\"]\n",
    "\n",
    "compound_list = []\n",
    "\n",
    "for n in names: \n",
    "    for c in cities:\n",
    "        compound_list.append([c, n])\n",
    "\n",
    "compound_list"
   ]
  },
  {
   "cell_type": "code",
   "execution_count": 44,
   "id": "dfcbb2bc",
   "metadata": {},
   "outputs": [
    {
     "data": {
      "text/plain": [
       "[['mad', 'pau'], ['bcn', 'clara'], ['toledo', 'clara']]"
      ]
     },
     "execution_count": 44,
     "metadata": {},
     "output_type": "execute_result"
    }
   ],
   "source": [
    "# Same thing but with a zip, instead of having two for loops\n",
    "\n",
    "\n",
    "names = [\"pau\", \"clara\", \"clara\"]\n",
    "cities = [\"mad\", \"bcn\", \"toledo\"]\n",
    "\n",
    "compound_list_zipped = []\n",
    "\n",
    "for n,c in zip(names, cities): \n",
    "    compound_list_zipped.append([c, n])\n",
    "\n",
    "compound_list_zipped"
   ]
  },
  {
   "cell_type": "code",
   "execution_count": null,
   "id": "ccaf4c19",
   "metadata": {},
   "outputs": [],
   "source": [
    "# Now that we have the nested list with a loop, we do the same but with comp lists"
   ]
  },
  {
   "cell_type": "code",
   "execution_count": 36,
   "id": "12713029",
   "metadata": {},
   "outputs": [
    {
     "data": {
      "text/plain": [
       "[['mad', 'pau'],\n",
       " ['bcn', 'pau'],\n",
       " ['toledo', 'pau'],\n",
       " ['mad', 'clara'],\n",
       " ['bcn', 'clara'],\n",
       " ['toledo', 'clara'],\n",
       " ['mad', 'clara'],\n",
       " ['bcn', 'clara'],\n",
       " ['toledo', 'clara']]"
      ]
     },
     "execution_count": 36,
     "metadata": {},
     "output_type": "execute_result"
    }
   ],
   "source": [
    "comp = [[c, n] for n in names for c in cities]\n",
    "comp"
   ]
  },
  {
   "cell_type": "code",
   "execution_count": null,
   "id": "f4c79149",
   "metadata": {},
   "outputs": [],
   "source": [
    "# Unflattening a nested list with a for loop"
   ]
  },
  {
   "cell_type": "code",
   "execution_count": 43,
   "id": "8478a0da",
   "metadata": {},
   "outputs": [
    {
     "data": {
      "text/plain": [
       "['mad',\n",
       " 'pau',\n",
       " 'bcn',\n",
       " 'pau',\n",
       " 'toledo',\n",
       " 'pau',\n",
       " 'mad',\n",
       " 'clara',\n",
       " 'bcn',\n",
       " 'clara',\n",
       " 'toledo',\n",
       " 'clara',\n",
       " 'mad',\n",
       " 'clara',\n",
       " 'bcn',\n",
       " 'clara',\n",
       " 'toledo',\n",
       " 'clara']"
      ]
     },
     "execution_count": 43,
     "metadata": {},
     "output_type": "execute_result"
    }
   ],
   "source": [
    "flat_1 = []\n",
    "\n",
    "for i in comp:\n",
    "    for whatever in i: #i is a list with two elements. Each element is the whatever\n",
    "        flat_1.append(whatever)\n",
    "\n",
    "flat_1"
   ]
  },
  {
   "cell_type": "code",
   "execution_count": 45,
   "id": "cbbe7d99",
   "metadata": {},
   "outputs": [],
   "source": [
    "# Unflattening a nested list with another comprehension list"
   ]
  },
  {
   "cell_type": "code",
   "execution_count": 46,
   "id": "2c2bd8f3",
   "metadata": {},
   "outputs": [
    {
     "data": {
      "text/plain": [
       "['mad',\n",
       " 'pau',\n",
       " 'bcn',\n",
       " 'pau',\n",
       " 'toledo',\n",
       " 'pau',\n",
       " 'mad',\n",
       " 'clara',\n",
       " 'bcn',\n",
       " 'clara',\n",
       " 'toledo',\n",
       " 'clara',\n",
       " 'mad',\n",
       " 'clara',\n",
       " 'bcn',\n",
       " 'clara',\n",
       " 'toledo',\n",
       " 'clara']"
      ]
     },
     "execution_count": 46,
     "metadata": {},
     "output_type": "execute_result"
    }
   ],
   "source": [
    "flattened_list = [elements for line in comp for elements in line]\n",
    "flattened_list"
   ]
  },
  {
   "cell_type": "code",
   "execution_count": 48,
   "id": "2b0121e6",
   "metadata": {},
   "outputs": [
    {
     "data": {
      "text/plain": [
       "[['pau', 'PAU', 'PAU'],\n",
       " ['clara', 'CLARA', 'CLARA'],\n",
       " ['clara', 'CLARA', 'CLARA']]"
      ]
     },
     "execution_count": 48,
     "metadata": {},
     "output_type": "execute_result"
    }
   ],
   "source": [
    "namess = [\"pau\", \"clara\", \"clara\"]\n",
    "\n",
    "new_names = []\n",
    "\n",
    "for i in namess:\n",
    "    new_names.append([i, i.upper(), i.swapcase()])\n",
    "new_names"
   ]
  },
  {
   "cell_type": "code",
   "execution_count": 49,
   "id": "34e485da",
   "metadata": {},
   "outputs": [
    {
     "data": {
      "text/plain": [
       "[['pau', 'PAU', 'PAU'],\n",
       " ['clara', 'CLARA', 'CLARA'],\n",
       " ['clara', 'CLARA', 'CLARA']]"
      ]
     },
     "execution_count": 49,
     "metadata": {},
     "output_type": "execute_result"
    }
   ],
   "source": [
    "new_names_variations = [[i, i.upper(), i.swapcase()] for i in namess]\n",
    "new_names_variations"
   ]
  },
  {
   "cell_type": "markdown",
   "id": "d7b701e4",
   "metadata": {
    "lang": "en"
   },
   "source": [
    "## Nested list comprehensions"
   ]
  },
  {
   "cell_type": "markdown",
   "id": "774e3037",
   "metadata": {
    "lang": "en"
   },
   "source": [
    "Let's create a list of lists with a for loop"
   ]
  },
  {
   "cell_type": "code",
   "execution_count": null,
   "id": "technological-naples",
   "metadata": {},
   "outputs": [],
   "source": []
  },
  {
   "cell_type": "markdown",
   "id": "d442022f",
   "metadata": {
    "lang": "en"
   },
   "source": [
    "How would we do this list of lists with list comprehension?"
   ]
  },
  {
   "cell_type": "code",
   "execution_count": null,
   "id": "967e2d74",
   "metadata": {},
   "outputs": [],
   "source": []
  },
  {
   "cell_type": "markdown",
   "id": "7019d915",
   "metadata": {
    "lang": "en"
   },
   "source": [
    "And... How do we undo a list of lists?"
   ]
  },
  {
   "cell_type": "code",
   "execution_count": null,
   "id": "stock-workshop",
   "metadata": {},
   "outputs": [],
   "source": []
  },
  {
   "cell_type": "markdown",
   "id": "3cbc2ea4",
   "metadata": {
    "lang": "en"
   },
   "source": [
    "## Dictionary comprehensions"
   ]
  },
  {
   "cell_type": "markdown",
   "id": "a199d32c",
   "metadata": {
    "lang": "en"
   },
   "source": [
    "How would we do it with a normal loop?"
   ]
  },
  {
   "cell_type": "code",
   "execution_count": 54,
   "id": "tough-peeing",
   "metadata": {
    "scrolled": true
   },
   "outputs": [
    {
     "data": {
      "text/plain": [
       "{'pau': '😥', 'clara': '🤪', 'Clara': '😳'}"
      ]
     },
     "execution_count": 54,
     "metadata": {},
     "output_type": "execute_result"
    }
   ],
   "source": [
    "na = [\"pau\", \"clara\", \"Clara\"]\n",
    "emojis = [\"😥\", \"🤪\", \"😳\"]\n",
    "\n",
    "empty_dictionary = {\n",
    "    \n",
    "}\n",
    "\n",
    "for future_key, future_value in zip(na, emojis):\n",
    "    empty_dictionary[future_key] = future_value\n",
    "empty_dictionary"
   ]
  },
  {
   "cell_type": "code",
   "execution_count": 57,
   "id": "ae425906",
   "metadata": {},
   "outputs": [],
   "source": [
    "#[(element1_list2, element1_list2), so on]\n",
    "##[(future_key_1, future_value_1), so on]"
   ]
  },
  {
   "cell_type": "markdown",
   "id": "c8d2e4fa",
   "metadata": {
    "lang": "en"
   },
   "source": [
    "How do we do it with Comprehension Dict?"
   ]
  },
  {
   "cell_type": "code",
   "execution_count": 61,
   "id": "constitutional-daughter",
   "metadata": {},
   "outputs": [],
   "source": [
    "another_dict = {future_key : future_value for future_key, future_value in zip(na, emojis)}"
   ]
  },
  {
   "cell_type": "code",
   "execution_count": 62,
   "id": "41d104bd",
   "metadata": {},
   "outputs": [
    {
     "data": {
      "text/plain": [
       "{'pau': '😥', 'clara': '🤪', 'Clara': '😳'}"
      ]
     },
     "execution_count": 62,
     "metadata": {},
     "output_type": "execute_result"
    }
   ],
   "source": [
    "another_dict"
   ]
  },
  {
   "cell_type": "code",
   "execution_count": null,
   "id": "a6c52d34",
   "metadata": {},
   "outputs": [],
   "source": [
    "# How can we get the previous dictionary to be reversed and look like this:\n",
    "reversed_  = {'😥':'pau'}"
   ]
  },
  {
   "cell_type": "code",
   "execution_count": 65,
   "id": "ba6d885b",
   "metadata": {
    "scrolled": false
   },
   "outputs": [
    {
     "data": {
      "text/plain": [
       "{'😥': 'pau', '🤪': 'clara', '😳': 'Clara'}"
      ]
     },
     "execution_count": 65,
     "metadata": {},
     "output_type": "execute_result"
    }
   ],
   "source": [
    "reversed_dictionary = {future_value : future_key for future_key, future_value in another_dict.items()}\n",
    "reversed_dictionary"
   ]
  },
  {
   "cell_type": "code",
   "execution_count": null,
   "id": "c90cdbf4",
   "metadata": {},
   "outputs": [],
   "source": [
    "#Q: Why is it a colon instead of equal sign? "
   ]
  },
  {
   "cell_type": "code",
   "execution_count": 82,
   "id": "51f1ebd8",
   "metadata": {},
   "outputs": [
    {
     "data": {
      "text/plain": [
       "{'😥': 'pau', '🤪': 'clara', '😳': 'Clara'}"
      ]
     },
     "execution_count": 82,
     "metadata": {},
     "output_type": "execute_result"
    }
   ],
   "source": [
    "reversed_dictionary = {future_value : future_key for future_key, future_value in another_dict.items()}\n",
    "reversed_dictionary"
   ]
  },
  {
   "cell_type": "markdown",
   "id": "f2d4f41a",
   "metadata": {},
   "source": [
    "{value:key for key, value in another dictionary.items()}\n",
    "\n",
    "RESULTED PAIR for key, value in ORIGINAL DICT"
   ]
  },
  {
   "cell_type": "code",
   "execution_count": null,
   "id": "b2240c7c",
   "metadata": {},
   "outputs": [],
   "source": [
    "#Q: If the keys are reversed and are duplicated, as keys are unique, do I loose information? yes"
   ]
  },
  {
   "cell_type": "code",
   "execution_count": 78,
   "id": "2720cf11",
   "metadata": {},
   "outputs": [
    {
     "data": {
      "text/plain": [
       "{'😥': 'pau', '🤪': 'clara', '😈': 'clara'}"
      ]
     },
     "execution_count": 78,
     "metadata": {},
     "output_type": "execute_result"
    }
   ],
   "source": [
    "two_values_are_the_same = {'😥': 'pau', '🤪': 'clara', '😈': 'clara'}\n",
    "two_values_are_the_same"
   ]
  },
  {
   "cell_type": "code",
   "execution_count": 79,
   "id": "54ea0bab",
   "metadata": {},
   "outputs": [
    {
     "data": {
      "text/plain": [
       "{'pau': '😥', 'clara': '😈'}"
      ]
     },
     "execution_count": 79,
     "metadata": {},
     "output_type": "execute_result"
    }
   ],
   "source": [
    "{value:key for key, value in two_values_are_the_same.items()} #It sticks to the last one"
   ]
  },
  {
   "cell_type": "code",
   "execution_count": 76,
   "id": "3d0dafe9",
   "metadata": {},
   "outputs": [
    {
     "data": {
      "text/plain": [
       "dict_keys(['😥', '🤪', '😳'])"
      ]
     },
     "execution_count": 76,
     "metadata": {},
     "output_type": "execute_result"
    }
   ],
   "source": [
    "reversed_dictionary.keys()"
   ]
  },
  {
   "cell_type": "code",
   "execution_count": 67,
   "id": "c0ff26b7",
   "metadata": {},
   "outputs": [
    {
     "data": {
      "text/plain": [
       "{'😥': 'pau', '🤪': 'clara', '😳': 'Clara'}"
      ]
     },
     "execution_count": 67,
     "metadata": {},
     "output_type": "execute_result"
    }
   ],
   "source": [
    "#Q: what would happen if i didnt use `.items()` \n",
    "\n",
    "{future_value : future_key for future_key, future_value in another_dict.keys()}\n",
    "\n",
    "#iterate over dict.items()\n",
    "#over dict.keys()\n",
    "#over dict.values()"
   ]
  },
  {
   "cell_type": "code",
   "execution_count": 75,
   "id": "e33d9c56",
   "metadata": {},
   "outputs": [
    {
     "data": {
      "text/plain": [
       "dict_items([('😥', 'pau'), ('🤪', 'clara'), ('😳', 'Clara')])"
      ]
     },
     "execution_count": 75,
     "metadata": {},
     "output_type": "execute_result"
    }
   ],
   "source": [
    "reversed_dictionary.items()"
   ]
  },
  {
   "cell_type": "markdown",
   "id": "c33cdd0a",
   "metadata": {
    "lang": "en"
   },
   "source": [
    "## Challenge 🤔\n",
    "They give you a list of words. Write a dictionary containing the length of each word."
   ]
  },
  {
   "cell_type": "code",
   "execution_count": 83,
   "id": "romantic-tiffany",
   "metadata": {},
   "outputs": [],
   "source": [
    "artists = [\"bad bunny\", \"rosalia\", \"metallica\", \"cerati\", \"anitta\"]"
   ]
  },
  {
   "cell_type": "code",
   "execution_count": 86,
   "id": "bb143cc2",
   "metadata": {},
   "outputs": [
    {
     "data": {
      "text/plain": [
       "{'bad bunny': 8, 'rosalia': 7, 'metallica': 9, 'cerati': 6, 'anitta': 6}"
      ]
     },
     "execution_count": 86,
     "metadata": {},
     "output_type": "execute_result"
    }
   ],
   "source": [
    "empty_dictionary = {\n",
    "    \n",
    "}\n",
    "\n",
    "for singer in artists:\n",
    "    empty_dictionary[singer] = len(singer.replace(\" \", \"\")) #Not to count the space\n",
    "    \n",
    "empty_dictionary"
   ]
  },
  {
   "cell_type": "code",
   "execution_count": 89,
   "id": "a7a19b0d",
   "metadata": {},
   "outputs": [
    {
     "data": {
      "text/plain": [
       "{'bad bunny': 9, 'rosalia': 7, 'metallica': 9, 'cerati': 6, 'anitta': 6}"
      ]
     },
     "execution_count": 89,
     "metadata": {},
     "output_type": "execute_result"
    }
   ],
   "source": [
    "empty_dictionary = {\n",
    "    \n",
    "}\n",
    "\n",
    "for singer in artists:\n",
    "    empty_dictionary[singer] = len(singer) #Counting the space in\n",
    "    \n",
    "empty_dictionary"
   ]
  },
  {
   "cell_type": "code",
   "execution_count": 90,
   "id": "2a0daf80",
   "metadata": {},
   "outputs": [
    {
     "data": {
      "text/plain": [
       "['bad bunny', 'rosalia', 'metallica', 'cerati', 'anitta']"
      ]
     },
     "execution_count": 90,
     "metadata": {},
     "output_type": "execute_result"
    }
   ],
   "source": [
    "artists"
   ]
  },
  {
   "cell_type": "code",
   "execution_count": 92,
   "id": "5f074cea",
   "metadata": {},
   "outputs": [
    {
     "data": {
      "text/plain": [
       "{'bad bunny': 9, 'rosalia': 7, 'metallica': 9, 'cerati': 6, 'anitta': 6}"
      ]
     },
     "execution_count": 92,
     "metadata": {},
     "output_type": "execute_result"
    }
   ],
   "source": [
    "aritsts_and_length = {singer:len(singer) for singer in artists}\n",
    "aritsts_and_length"
   ]
  },
  {
   "cell_type": "markdown",
   "id": "672a0a78",
   "metadata": {
    "lang": "en"
   },
   "source": [
    "## Challenge🤔\n",
    "You are given the country-data pairs for a given topic\n",
    "- Build a list with the countries\n",
    "- Build a dictionary with the countries and the data"
   ]
  },
  {
   "cell_type": "code",
   "execution_count": 111,
   "id": "practical-vietnam",
   "metadata": {},
   "outputs": [
    {
     "data": {
      "text/plain": [
       "{'Spain': 5, 'Nl': 2, 'Germany': 7, 'Egypt': 5}"
      ]
     },
     "execution_count": 111,
     "metadata": {},
     "output_type": "execute_result"
    }
   ],
   "source": [
    "#FOR LOOP\n",
    "countries = [\"Spain\", \"Nl\", \"Germany\", \"Egypt\"]\n",
    "\n",
    "n_dict = {\n",
    "    \n",
    "}\n",
    "\n",
    "for element in countries:\n",
    "    n_dict[element] = len(element)\n",
    "\n",
    "n_dict  "
   ]
  },
  {
   "cell_type": "code",
   "execution_count": 113,
   "id": "da062d11",
   "metadata": {},
   "outputs": [
    {
     "data": {
      "text/plain": [
       "{'Spain': 5, 'Nl': 2, 'Germany': 7, 'Egypt': 5}"
      ]
     },
     "execution_count": 113,
     "metadata": {},
     "output_type": "execute_result"
    }
   ],
   "source": [
    "# COMPREHENSION DICT\n",
    "\n",
    "dict_new = {element:len(element) for element in countries}\n",
    "dict_new"
   ]
  },
  {
   "cell_type": "markdown",
   "id": "0389e710",
   "metadata": {
    "lang": "en"
   },
   "source": [
    "## Last Challenge\n",
    "Also output, with a set comprehension, only unique country codes"
   ]
  },
  {
   "cell_type": "code",
   "execution_count": 96,
   "id": "inner-refund",
   "metadata": {},
   "outputs": [],
   "source": [
    "codes = [\"es-91\", \"en-88\", \"fra-12\", \"it-33\", \"ar-55\", \"it-34\", \"es-98\"]\n",
    "\n",
    "# (\"es\", \"en\", \"fr\", \"it\", \"ar\")"
   ]
  },
  {
   "cell_type": "code",
   "execution_count": 105,
   "id": "062f3c61",
   "metadata": {},
   "outputs": [
    {
     "data": {
      "text/plain": [
       "'fra-12'"
      ]
     },
     "execution_count": 105,
     "metadata": {},
     "output_type": "execute_result"
    }
   ],
   "source": [
    "codes[2]"
   ]
  },
  {
   "cell_type": "code",
   "execution_count": 106,
   "id": "35590cae",
   "metadata": {},
   "outputs": [
    {
     "data": {
      "text/plain": [
       "['fra', '12']"
      ]
     },
     "execution_count": 106,
     "metadata": {},
     "output_type": "execute_result"
    }
   ],
   "source": [
    "codes[2].split(\"-\")"
   ]
  },
  {
   "cell_type": "code",
   "execution_count": 107,
   "id": "d546d0c7",
   "metadata": {},
   "outputs": [
    {
     "data": {
      "text/plain": [
       "'fra'"
      ]
     },
     "execution_count": 107,
     "metadata": {},
     "output_type": "execute_result"
    }
   ],
   "source": [
    "codes[2].split(\"-\")[0]"
   ]
  },
  {
   "cell_type": "code",
   "execution_count": 108,
   "id": "5602cc2f",
   "metadata": {},
   "outputs": [
    {
     "data": {
      "text/plain": [
       "'Fra'"
      ]
     },
     "execution_count": 108,
     "metadata": {},
     "output_type": "execute_result"
    }
   ],
   "source": [
    "codes[2].split(\"-\")[0].title()"
   ]
  },
  {
   "cell_type": "code",
   "execution_count": 104,
   "id": "0588b6bf",
   "metadata": {},
   "outputs": [
    {
     "data": {
      "text/plain": [
       "'Fra'"
      ]
     },
     "execution_count": 104,
     "metadata": {},
     "output_type": "execute_result"
    }
   ],
   "source": [
    "codes[2].split(\"-\")[0].title()"
   ]
  },
  {
   "cell_type": "code",
   "execution_count": 110,
   "id": "1313fb4c",
   "metadata": {},
   "outputs": [
    {
     "data": {
      "text/plain": [
       "{'Ar', 'En', 'Es', 'Fra', 'It'}"
      ]
     },
     "execution_count": 110,
     "metadata": {},
     "output_type": "execute_result"
    }
   ],
   "source": [
    "comp_set = {i.split(\"-\")[0].title() for i in codes if type(i)==str}\n",
    "comp_set"
   ]
  }
 ],
 "metadata": {
  "kernelspec": {
   "display_name": "ironhack",
   "language": "python",
   "name": "ironhack"
  },
  "language_info": {
   "codemirror_mode": {
    "name": "ipython",
    "version": 3
   },
   "file_extension": ".py",
   "mimetype": "text/x-python",
   "name": "python",
   "nbconvert_exporter": "python",
   "pygments_lexer": "ipython3",
   "version": "3.8.13"
  },
  "nbTranslate": {
   "displayLangs": [
    "en",
    "es"
   ],
   "hotkey": "alt-a",
   "langInMainMenu": true,
   "sourceLang": "es",
   "targetLang": "en",
   "useGoogleTranslate": true
  },
  "toc": {
   "base_numbering": 1,
   "nav_menu": {},
   "number_sections": true,
   "sideBar": true,
   "skip_h1_title": true,
   "title_cell": "Table of Contents",
   "title_sidebar": "Contents",
   "toc_cell": false,
   "toc_position": {},
   "toc_section_display": true,
   "toc_window_display": true
  }
 },
 "nbformat": 4,
 "nbformat_minor": 5
}
