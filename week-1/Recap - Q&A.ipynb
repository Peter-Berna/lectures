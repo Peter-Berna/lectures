{
 "cells": [
  {
   "cell_type": "markdown",
   "id": "d4a4dba5",
   "metadata": {},
   "source": [
    "# recap"
   ]
  },
  {
   "cell_type": "code",
   "execution_count": null,
   "id": "a6e267cb",
   "metadata": {},
   "outputs": [],
   "source": [
    "addition = lambda x, y: x + y\n",
    "addition(3, 6)"
   ]
  },
  {
   "cell_type": "code",
   "execution_count": null,
   "id": "8b2c1c29",
   "metadata": {},
   "outputs": [],
   "source": [
    "addition_2_weird = lambda x, y: x**y if x < 10 else x-y"
   ]
  },
  {
   "cell_type": "code",
   "execution_count": null,
   "id": "751f89dc",
   "metadata": {},
   "outputs": [],
   "source": [
    "addition_2_weird(5, 20)"
   ]
  },
  {
   "cell_type": "code",
   "execution_count": null,
   "id": "8c827eae",
   "metadata": {},
   "outputs": [],
   "source": [
    "addition_2_weird(20, 5)"
   ]
  },
  {
   "cell_type": "code",
   "execution_count": null,
   "id": "630425c1",
   "metadata": {},
   "outputs": [],
   "source": [
    "triple_nested_list = [[[1, 2, 3], [1, 2, 3], [1, 2, 3], [1, 2, 3]],\n",
    "[[1, 2, 3], [1, 2, 3], [1, 2, 3], [1, 2, 3]],\n",
    "[[1, 2, 3], [1, 2, 3], [1, 2, 3], [1, 2, 3]],\n",
    "[[1, 2, 3], [1, 2, 3], [1, 2, 3], [1, 2, 3]]]"
   ]
  },
  {
   "cell_type": "code",
   "execution_count": null,
   "id": "10b73d34",
   "metadata": {
    "scrolled": true
   },
   "outputs": [],
   "source": [
    "triple_nested_list[0][0][0]"
   ]
  },
  {
   "cell_type": "code",
   "execution_count": null,
   "id": "92f5f7a7",
   "metadata": {},
   "outputs": [],
   "source": [
    "triple_nested_list[0]"
   ]
  },
  {
   "cell_type": "code",
   "execution_count": null,
   "id": "adf6e2f1",
   "metadata": {},
   "outputs": [],
   "source": [
    "for big_list in triple_nested_list:\n",
    "    for whatever1 in big_list:\n",
    "        for something_else in whatever1:\n",
    "            print(something_else)"
   ]
  },
  {
   "cell_type": "code",
   "execution_count": 25,
   "id": "ba9bfbfc",
   "metadata": {},
   "outputs": [
    {
     "name": "stdout",
     "output_type": "stream",
     "text": [
      "[1, 2, 3, 1, 2, 3, 1, 2, 3, 1, 2, 3, 1, 2, 3, 1, 2, 3, 1, 2, 3, 1, 2, 3, 1, 2, 3, 1, 2, 3, 1, 2, 3, 1, 2, 3, 1, 2, 3, 1, 2, 3, 1, 2, 3, 1, 2, 3]\n"
     ]
    }
   ],
   "source": [
    "hey = [something_else for big_list in triple_nested_list for whatever1 in big_list for something_else in whatever1]\n",
    "print(hey)"
   ]
  },
  {
   "cell_type": "code",
   "execution_count": 24,
   "id": "64f124ed",
   "metadata": {},
   "outputs": [
    {
     "name": "stdout",
     "output_type": "stream",
     "text": [
      "[1, 2, 3, 1, 2, 3, 1, 2, 3, 1, 2, 3, 1, 2, 3, 1, 2, 3, 1, 2, 3, 1, 2, 3, 1, 2, 3, 1, 2, 3, 1, 2, 3, 1, 2, 3, 1, 2, 3, 1, 2, 3, 1, 2, 3, 1, 2, 3]\n"
     ]
    }
   ],
   "source": [
    "nums = [c for a in triple_nested_list for b in a for c in b]\n",
    "print(nums)"
   ]
  },
  {
   "cell_type": "code",
   "execution_count": null,
   "id": "e52bc7e1",
   "metadata": {},
   "outputs": [],
   "source": []
  }
 ],
 "metadata": {
  "kernelspec": {
   "display_name": "ironhack",
   "language": "python",
   "name": "ironhack"
  },
  "language_info": {
   "codemirror_mode": {
    "name": "ipython",
    "version": 3
   },
   "file_extension": ".py",
   "mimetype": "text/x-python",
   "name": "python",
   "nbconvert_exporter": "python",
   "pygments_lexer": "ipython3",
   "version": "3.8.13"
  },
  "nbTranslate": {
   "displayLangs": [
    "en",
    "es"
   ],
   "hotkey": "alt-a",
   "langInMainMenu": true,
   "sourceLang": "es",
   "targetLang": "en",
   "useGoogleTranslate": true
  },
  "toc": {
   "base_numbering": 1,
   "nav_menu": {},
   "number_sections": true,
   "sideBar": true,
   "skip_h1_title": false,
   "title_cell": "Table of Contents",
   "title_sidebar": "Contents",
   "toc_cell": false,
   "toc_position": {},
   "toc_section_display": true,
   "toc_window_display": true
  }
 },
 "nbformat": 4,
 "nbformat_minor": 5
}
