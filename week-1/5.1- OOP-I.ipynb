{
 "cells": [
  {
   "cell_type": "markdown",
   "id": "bfd2fc1f",
   "metadata": {
    "lang": "en"
   },
   "source": [
    "# Object-oriented programming"
   ]
  },
  {
   "cell_type": "markdown",
   "id": "linear-pierre",
   "metadata": {
    "toc": true
   },
   "source": [
    "<h1>Table of Contents<span class=\"tocSkip\"></span></h1>\n",
    "<div class=\"toc\"><ul class=\"toc-item\"><li><span><a href=\"#What-is-OOP---Object-Orient-Programming?\" data-toc-modified-id=\"What-is-OOP---Object-Orient-Programming?-1\"><span class=\"toc-item-num\">1&nbsp;&nbsp;</span>What is OOP - Object Orient Programming?</a></span><ul class=\"toc-item\"><li><span><a href=\"#Fundamental-Principles\" data-toc-modified-id=\"Fundamental-Principles-1.1\"><span class=\"toc-item-num\">1.1&nbsp;&nbsp;</span>Fundamental Principles</a></span></li></ul></li><li><span><a href=\"#Classes-and-instances\" data-toc-modified-id=\"Classes-and-instances-2\"><span class=\"toc-item-num\">2&nbsp;&nbsp;</span>Classes and instances</a></span></li><li><span><a href=\"#Definition-of-a-class\" data-toc-modified-id=\"Definition-of-a-class-3\"><span class=\"toc-item-num\">3&nbsp;&nbsp;</span>Definition of a class</a></span><ul class=\"toc-item\"><li><span><a href=\"#Self:\" data-toc-modified-id=\"Self:-3.1\"><span class=\"toc-item-num\">3.1&nbsp;&nbsp;</span>Self:</a></span><ul class=\"toc-item\"><li><span><a href=\"#Defining-a-function\" data-toc-modified-id=\"Defining-a-function-3.1.1\"><span class=\"toc-item-num\">3.1.1&nbsp;&nbsp;</span>Defining a function</a></span></li><li><span><a href=\"#Calling-a-function\" data-toc-modified-id=\"Calling-a-function-3.1.2\"><span class=\"toc-item-num\">3.1.2&nbsp;&nbsp;</span>Calling a function</a></span></li><li><span><a href=\"#Defining-a-class\" data-toc-modified-id=\"Defining-a-class-3.1.3\"><span class=\"toc-item-num\">3.1.3&nbsp;&nbsp;</span>Defining a class</a></span></li><li><span><a href=\"#Instansiating-a-class\" data-toc-modified-id=\"Instansiating-a-class-3.1.4\"><span class=\"toc-item-num\">3.1.4&nbsp;&nbsp;</span>Instansiating a class</a></span></li></ul></li><li><span><a href=\"#Exploring-a-class\" data-toc-modified-id=\"Exploring-a-class-3.2\"><span class=\"toc-item-num\">3.2&nbsp;&nbsp;</span>Exploring a class</a></span></li><li><span><a href=\"#Instance-Attributes\" data-toc-modified-id=\"Instance-Attributes-3.3\"><span class=\"toc-item-num\">3.3&nbsp;&nbsp;</span>Instance Attributes</a></span><ul class=\"toc-item\"><li><span><a href=\"#Default-attributes\" data-toc-modified-id=\"Default-attributes-3.3.1\"><span class=\"toc-item-num\">3.3.1&nbsp;&nbsp;</span>Default attributes</a></span></li></ul></li><li><span><a href=\"#Instance-Methods\" data-toc-modified-id=\"Instance-Methods-3.4\"><span class=\"toc-item-num\">3.4&nbsp;&nbsp;</span>Instance Methods</a></span><ul class=\"toc-item\"><li><span><a href=\"#Python-is-built-with-objects\" data-toc-modified-id=\"Python-is-built-with-objects-3.4.1\"><span class=\"toc-item-num\">3.4.1&nbsp;&nbsp;</span>Python is built with objects</a></span></li></ul></li><li><span><a href=\"#Class-variables\" data-toc-modified-id=\"Class-variables-3.5\"><span class=\"toc-item-num\">3.5&nbsp;&nbsp;</span>Class variables</a></span></li></ul></li><li><span><a href=\"#Before-continuing,-let's-take-a-breath-and-review-vocabulary\" data-toc-modified-id=\"Before-continuing,-let's-take-a-breath-and-review-vocabulary-4\"><span class=\"toc-item-num\">4&nbsp;&nbsp;</span>Before continuing, let's take a breath and review vocabulary</a></span><ul class=\"toc-item\"><li><ul class=\"toc-item\"><li><span><a href=\"#Easy-exercise\" data-toc-modified-id=\"Easy-exercise-4.0.1\"><span class=\"toc-item-num\">4.0.1&nbsp;&nbsp;</span>Easy exercise</a></span></li></ul></li></ul></li><li><span><a href=\"#Inheritance\" data-toc-modified-id=\"Inheritance-5\"><span class=\"toc-item-num\">5&nbsp;&nbsp;</span>Inheritance</a></span><ul class=\"toc-item\"><li><span><a href=\"#super()\" data-toc-modified-id=\"super()-5.1\"><span class=\"toc-item-num\">5.1&nbsp;&nbsp;</span>super()</a></span></li><li><span><a href=\"#Method-Resolution\" data-toc-modified-id=\"Method-Resolution-5.2\"><span class=\"toc-item-num\">5.2&nbsp;&nbsp;</span>Method Resolution</a></span></li></ul></li><li><span><a href=\"#Summary\" data-toc-modified-id=\"Summary-6\"><span class=\"toc-item-num\">6&nbsp;&nbsp;</span>Summary</a></span></li><li><span><a href=\"#Furthermaterials\" data-toc-modified-id=\"Furthermaterials-7\"><span class=\"toc-item-num\">7&nbsp;&nbsp;</span>Furthermaterials</a></span><ul class=\"toc-item\"><li><span><a href=\"#Methods-ADVANCED-@classmethod@staticmethod\" data-toc-modified-id=\"Methods-ADVANCED-@classmethod@staticmethod-7.1\"><span class=\"toc-item-num\">7.1&nbsp;&nbsp;</span>Methods <strong>ADVANCED</strong> @classmethod@staticmethod</a></span></li></ul></li></ul></div>"
   ]
  },
  {
   "cell_type": "markdown",
   "id": "44bbe54e",
   "metadata": {
    "lang": "en"
   },
   "source": [
    "## What is OOP - Object Orient Programming?"
   ]
  },
  {
   "cell_type": "markdown",
   "id": "da79b55b",
   "metadata": {
    "lang": "en"
   },
   "source": [
    "Object-oriented programming is a programming paradigm, that is, a programming style and technique, which goes beyond the implementation itself. This paradigm is based on the \"object\" concept, which can contain both data, in the form of fields called \"attributes\", and code for its manipulation in the form of procedures and functions, called \"methods\". Thanks to this, we can group everything under a single data type (the object \"class\"), which facilitates the modularity and reusability of the code.\n",
    "This has a strong implication in the design of IT solutions; Software engineering methodologies are based on object-oriented programming."
   ]
  },
  {
   "cell_type": "markdown",
   "id": "19380f68",
   "metadata": {
    "lang": "en"
   },
   "source": [
    "You can imagine objects as a new data type whose definition is given in a structure called class.\n",
    "Classes are often compared to cookie cutters and objects to the cookies themselves. While all cookies made from the same pan have the same shape, each one takes on individual attributes after baking. Things like color, texture, flavor... can be very different.\n",
    "In other words, the cookies share a manufacturing process and some attributes, but they are independent of each other and of the mold itself, and that makes each one unique.\n",
    "Extrapolating from the example, a class is just a script about how the objects that will be created with it should be."
   ]
  },
  {
   "cell_type": "markdown",
   "id": "fallen-brazil",
   "metadata": {},
   "source": [
    "![clases](https://files.realpython.com/media/Object-Oriented-Programming-OOP-in-Python-3_Watermarked.0d29780806d5.jpg)"
   ]
  },
  {
   "cell_type": "markdown",
   "id": "92d02d2c",
   "metadata": {
    "lang": "en"
   },
   "source": [
    "### Fundamental Principles"
   ]
  },
  {
   "cell_type": "markdown",
   "id": "0473322c",
   "metadata": {
    "lang": "en"
   },
   "source": [
    "1 - **Data abstraction**: Something we do naturally in our understanding of the world is the abstraction of concrete information in concepts or classes. For example, the concept of \"car\" evokes in us an idea of ​​a vehicle with four wheels, a steering wheel, an engine... Our car is a specific \"instance\" of that concept, and different from other cars, but we are capable of associating certain properties or characteristics to said concept above specific details. This ability to abstract a concept is essential for the development of human language and, of course, such a good idea has been transferred to the world of programming. In OOP, we call the abstract concept \"class\" and the realization of that concept \"object\". Your car is concrete, you can drive it, it is an object, an \"instance\" of the class \"car\".\n",
    "   \n",
    "   2 - **Encapsulation**: Each type of object contains its own information and can be manipulated in a particular way. A car can be driven and has a certain pressure in the wheels, a color, a certain level of gasoline, etc. With a GPS we can obtain our position coordinates and the batteries will have a certain charge. A dog barks, has a weight, an age. All those attributes and \"methods\" are \"encapsulated\" within the object, and are accessible only through a given object. The advantage is that we don't need to have, for example, a list with names, another with ages, another with weights... but rather a list of objects and each one contains, that is, encapsulates, its own information.\n",
    "   \n",
    "   3 - **Inheritance**: Some classes can specialize others. For this, the specialized class \"inherits\" the properties of the more general class, called the \"superclass\". For example, the \"Car\" and \"Truck\" classes can inherit from the \"Vehicle\" class. This is a way of reusing code, by being able to assume those common properties between several classes in a superior class. Python supports \"multiple inheritance\", so a class can be defined as a subclass of several classes from which it would inherit all its properties (attributes and methods) at once.\n",
    "   \n",
    "   4 - **Polymorphism**: A square can be drawn, a circle as well, just as any other shape can be drawn. \"Square\" and \"Circle\" would be subclasses of \"Shape\". The \"Shape\" superclass implements a draw() method, and both the \"Square\" subclass and the \"Circle\" subclass override this method to their particular case. So a function could accept an object of type \"Shape\" as a parameter and call the draw() method without knowing if the passed argument is a circle or a square. Each object knows its level of specialization and the concrete implementation of its methods. This ability to use superclass methods in code but resolve to subclass methods at run time is called \"Polymorphism\": the same variable can take different forms."
   ]
  },
  {
   "cell_type": "markdown",
   "id": "f325c4f9",
   "metadata": {
    "lang": "en"
   },
   "source": [
    "## Classes and instances"
   ]
  },
  {
   "cell_type": "markdown",
   "id": "f1423c0e",
   "metadata": {
    "lang": "en"
   },
   "source": [
    "A class is like an abstract type for objects that, in addition to storing values ​​called attributes, has associated a series of functions that we call methods. An instance of a class is the same as saying an object of that class. Instantiating a class refers to creating an object that belongs to that class.\n",
    "In Python, data types are classes, and any literal or variable of one of these types is an object that instantiates the type's class. For example: a = 2222 is equivalent to instantiating the PyLongObject class by assigning an internal attribute the value 2222. This is what happens at a low level, but we can consider that the variable a is of type int. We can know the type of any variable, that is, the class it instantiates, with the type() function, and the identifier of the instantiated object with the id() function."
   ]
  },
  {
   "cell_type": "code",
   "execution_count": null,
   "id": "absent-yorkshire",
   "metadata": {},
   "outputs": [],
   "source": [
    "a = 33"
   ]
  },
  {
   "cell_type": "code",
   "execution_count": null,
   "id": "f2e912ae",
   "metadata": {},
   "outputs": [],
   "source": [
    "type(a)"
   ]
  },
  {
   "cell_type": "code",
   "execution_count": null,
   "id": "9fbd63b5",
   "metadata": {},
   "outputs": [],
   "source": [
    "my_String = \"asasas\"\n",
    "\n",
    "type(my_String)"
   ]
  },
  {
   "cell_type": "markdown",
   "id": "e4bd50ab",
   "metadata": {
    "lang": "en"
   },
   "source": [
    "To know all the methods and attributes of a class we can use the dir() function both on an object and on the class."
   ]
  },
  {
   "cell_type": "code",
   "execution_count": null,
   "id": "945ed85d",
   "metadata": {
    "scrolled": true
   },
   "outputs": [],
   "source": [
    "print(dir(str))"
   ]
  },
  {
   "cell_type": "code",
   "execution_count": null,
   "id": "63950cd0",
   "metadata": {},
   "outputs": [],
   "source": [
    "my_String.upper()"
   ]
  },
  {
   "cell_type": "markdown",
   "id": "032f8630",
   "metadata": {},
   "source": [
    "You don't need to master this, just know what the `.__something__` means. It's a dunder/magic methods. Meant for Python internally"
   ]
  },
  {
   "cell_type": "code",
   "execution_count": null,
   "id": "151ead58",
   "metadata": {},
   "outputs": [],
   "source": [
    "a = \"hello\"\n",
    "b = \" how are you\"\n",
    "\n",
    "\n",
    "a + b"
   ]
  },
  {
   "cell_type": "code",
   "execution_count": null,
   "id": "f1da9a42",
   "metadata": {},
   "outputs": [],
   "source": [
    "a.__add__(b) #will never be using it"
   ]
  },
  {
   "cell_type": "markdown",
   "id": "ffc3bd0b",
   "metadata": {
    "lang": "en"
   },
   "source": [
    "## Definition of a class"
   ]
  },
  {
   "cell_type": "markdown",
   "id": "8917064a",
   "metadata": {
    "lang": "en"
   },
   "source": [
    "We can define our own classes and indicate whether they inherit from others, what their internal attributes are, and what their methods are. Once the class is defined, it is possible to create objects from it. To create a class, simply group attributes and methods in the body of a **class** block.\n",
    "Imagine that you create software to manage a school, and you want to represent \"teachers\" in your Python code. Teachers will have some associated data (`attributes` in `class` jargon), and they will be able to *perform actions* through functions that we will call `methods` (again, `class` jargon).\n",
    "\n",
    "We could do it one by one:"
   ]
  },
  {
   "cell_type": "code",
   "execution_count": null,
   "id": "91a4e2a3",
   "metadata": {},
   "outputs": [],
   "source": [
    "pau = {\n",
    "    \"name\": \"pau\",\n",
    "    \"fname\":\"peracaula\",\n",
    "    \"time_off\": 30,\n",
    "    \"greeting\": lambda: print(\"Hello guys!\"),\n",
    "    \"hobbies\":[\"reading\", \"surfing\",\"cooking\"]\n",
    "    \n",
    "}"
   ]
  },
  {
   "cell_type": "code",
   "execution_count": null,
   "id": "a56e35db",
   "metadata": {},
   "outputs": [],
   "source": [
    "aleix = {\n",
    "    \"name\":\"aleix\",\n",
    "    \"fname\":\"garcia\",\n",
    "    \"time_off\": 30,\n",
    "    \"greeting\":\"Hey everyone\",\n",
    "    \"hobbies\" : [\"none\"]\n",
    "}"
   ]
  },
  {
   "cell_type": "code",
   "execution_count": null,
   "id": "7840a241",
   "metadata": {},
   "outputs": [],
   "source": [
    "list(pau.keys())"
   ]
  },
  {
   "cell_type": "markdown",
   "id": "dffb2147",
   "metadata": {},
   "source": [
    "### Self: "
   ]
  },
  {
   "cell_type": "code",
   "execution_count": null,
   "id": "8bb22be9",
   "metadata": {},
   "outputs": [],
   "source": [
    "# We use self to refer to the object, which is, itself. So just like accessing the value of a dict\n",
    "# we can do this:\n",
    "\n",
    "pau[\"fname\"] # accessing the information of a dictionary\n",
    "\n",
    "\n",
    "#Conceptually, when using self, we're doing the same\n",
    "self[\"fname\"] #This is bad syntax, but would be the equivalent"
   ]
  },
  {
   "cell_type": "markdown",
   "id": "0acb0ad3",
   "metadata": {
    "lang": "en"
   },
   "source": [
    "I leave you [here](https://realpython.com/python-pep8/#naming-styles) a realpython article about the conventions for naming things (by things I mean variables, classes, functions... code tidbits )\n",
    "The Python user community has adopted a style guide that makes code easier to read and consistent between different user programs. This guide is not mandatory to follow, but it is highly recommended."
   ]
  },
  {
   "cell_type": "markdown",
   "id": "23576dae",
   "metadata": {},
   "source": [
    "#### Defining a function"
   ]
  },
  {
   "cell_type": "code",
   "execution_count": 461,
   "id": "ed124fd2",
   "metadata": {},
   "outputs": [],
   "source": [
    "def does_things ():\n",
    "    pass"
   ]
  },
  {
   "cell_type": "markdown",
   "id": "0789adf6",
   "metadata": {},
   "source": [
    "#### Calling a function"
   ]
  },
  {
   "cell_type": "code",
   "execution_count": 462,
   "id": "3c474795",
   "metadata": {},
   "outputs": [],
   "source": [
    "does_things()"
   ]
  },
  {
   "cell_type": "markdown",
   "id": "9e4ef398",
   "metadata": {},
   "source": [
    "#### Defining a class"
   ]
  },
  {
   "cell_type": "code",
   "execution_count": null,
   "id": "fitted-exchange",
   "metadata": {},
   "outputs": [],
   "source": [
    "class Staff ():\n",
    "    pass"
   ]
  },
  {
   "cell_type": "markdown",
   "id": "dda40dab",
   "metadata": {},
   "source": [
    "#### Instansiating a class"
   ]
  },
  {
   "cell_type": "code",
   "execution_count": null,
   "id": "0df5bfc0",
   "metadata": {},
   "outputs": [],
   "source": [
    "pau = Staff()"
   ]
  },
  {
   "cell_type": "code",
   "execution_count": null,
   "id": "276c1f00",
   "metadata": {},
   "outputs": [],
   "source": [
    "clara = Staff()"
   ]
  },
  {
   "cell_type": "markdown",
   "id": "be46cddd",
   "metadata": {},
   "source": [
    "### Exploring a class"
   ]
  },
  {
   "cell_type": "code",
   "execution_count": null,
   "id": "ff09e074",
   "metadata": {},
   "outputs": [],
   "source": [
    "clara.__dict__ #Shows the info AS a dictionary"
   ]
  },
  {
   "cell_type": "code",
   "execution_count": null,
   "id": "635254dd",
   "metadata": {},
   "outputs": [],
   "source": [
    "isinstance(clara, Staff) #Checks if something is an instance of a class"
   ]
  },
  {
   "cell_type": "code",
   "execution_count": null,
   "id": "ea40b48d",
   "metadata": {},
   "outputs": [],
   "source": [
    "type(pau) #checking type"
   ]
  },
  {
   "cell_type": "code",
   "execution_count": null,
   "id": "7c82c3d0",
   "metadata": {},
   "outputs": [],
   "source": [
    "dir(pau) #returns aaaaall of the info of an Object"
   ]
  },
  {
   "cell_type": "code",
   "execution_count": null,
   "id": "1e24ecb5",
   "metadata": {},
   "outputs": [],
   "source": [
    "isinstance(a, str)"
   ]
  },
  {
   "cell_type": "code",
   "execution_count": null,
   "id": "92b7c14c",
   "metadata": {},
   "outputs": [],
   "source": [
    "pau.__dict__ #This gives me the information to be SEEN as a dictionary"
   ]
  },
  {
   "cell_type": "markdown",
   "id": "81f9ca3e",
   "metadata": {},
   "source": [
    "### Instance Attributes\n",
    "They contain data that is unique to each instance."
   ]
  },
  {
   "cell_type": "code",
   "execution_count": null,
   "id": "f37fe51b",
   "metadata": {},
   "outputs": [],
   "source": [
    "pau.name = \"Pau\""
   ]
  },
  {
   "cell_type": "code",
   "execution_count": null,
   "id": "a1c1d8cf",
   "metadata": {},
   "outputs": [],
   "source": [
    "pau.age = 30"
   ]
  },
  {
   "cell_type": "code",
   "execution_count": null,
   "id": "a9e48aa1",
   "metadata": {},
   "outputs": [],
   "source": [
    "pau.__dict__"
   ]
  },
  {
   "cell_type": "code",
   "execution_count": null,
   "id": "b27f6f6f",
   "metadata": {},
   "outputs": [],
   "source": [
    "# Below: Class. \n",
    "# Very basic example, does't really do anything, but it allows me to create instances"
   ]
  },
  {
   "cell_type": "code",
   "execution_count": null,
   "id": "9bf5990f",
   "metadata": {},
   "outputs": [],
   "source": [
    "class Cookie ():\n",
    "    pass"
   ]
  },
  {
   "cell_type": "code",
   "execution_count": null,
   "id": "007f2551",
   "metadata": {},
   "outputs": [],
   "source": [
    "# Below: Instances"
   ]
  },
  {
   "cell_type": "code",
   "execution_count": null,
   "id": "393db0b7",
   "metadata": {},
   "outputs": [],
   "source": [
    "chocolate_cookie = Cookie() #Instance 1"
   ]
  },
  {
   "cell_type": "code",
   "execution_count": null,
   "id": "b8de4cc0",
   "metadata": {},
   "outputs": [],
   "source": [
    "chocolate_cookie.chocolate_chips = 36 #Attribute (variable within an instance)"
   ]
  },
  {
   "cell_type": "code",
   "execution_count": null,
   "id": "35baac3a",
   "metadata": {},
   "outputs": [],
   "source": [
    "second_cookie = Cookie () #Instance 2"
   ]
  },
  {
   "cell_type": "code",
   "execution_count": null,
   "id": "0acb31f7",
   "metadata": {},
   "outputs": [],
   "source": [
    "second_cookie.chocolate_chips = 20 #Attribute (variable within an instance)"
   ]
  },
  {
   "cell_type": "code",
   "execution_count": null,
   "id": "9fced838",
   "metadata": {},
   "outputs": [],
   "source": [
    "second_cookie.__dict__ # Just for me to see"
   ]
  },
  {
   "cell_type": "code",
   "execution_count": null,
   "id": "4f87cfc4",
   "metadata": {},
   "outputs": [],
   "source": [
    "a = \"sdsd\"\n",
    "b = \"sdsdsss\""
   ]
  },
  {
   "cell_type": "code",
   "execution_count": null,
   "id": "d21d46c6",
   "metadata": {},
   "outputs": [],
   "source": [
    "type(a)"
   ]
  },
  {
   "cell_type": "code",
   "execution_count": null,
   "id": "e08a6bec",
   "metadata": {
    "scrolled": true
   },
   "outputs": [],
   "source": [
    "my_age.capitalize() #Without the __things__"
   ]
  },
  {
   "cell_type": "code",
   "execution_count": null,
   "id": "5e9af3b3",
   "metadata": {},
   "outputs": [],
   "source": [
    "a + b"
   ]
  },
  {
   "cell_type": "code",
   "execution_count": null,
   "id": "2d82d0fa",
   "metadata": {},
   "outputs": [],
   "source": [
    "a.__add__(b) #__wedontcareabout__ "
   ]
  },
  {
   "cell_type": "code",
   "execution_count": null,
   "id": "14cfa0f7",
   "metadata": {},
   "outputs": [],
   "source": [
    "dir(str) # The things associated with the CLASS string are also held by the instance A, which is a string"
   ]
  },
  {
   "cell_type": "code",
   "execution_count": null,
   "id": "71cf91b0",
   "metadata": {},
   "outputs": [],
   "source": [
    "dir(a)"
   ]
  },
  {
   "cell_type": "markdown",
   "id": "39ed3781",
   "metadata": {
    "lang": "en"
   },
   "source": [
    "Instead of doing it one by one, we can create these variables each time an object is instantiated with the special `__init__` method. This function defines all the actions that should be performed when we create a new object. The reason we have two underscores before and after the function name is to indicate that this function is internal to the object and should not be called from outside the object."
   ]
  },
  {
   "cell_type": "code",
   "execution_count": null,
   "id": "59bb3d8c",
   "metadata": {},
   "outputs": [],
   "source": [
    "class Staff ():\n",
    "    \n",
    "    def __init__ (): #Init will allow me to instantiate things with the attributes I choose\n",
    "\n",
    "        name\n",
    "        fname\n",
    "        time_off\n"
   ]
  },
  {
   "cell_type": "code",
   "execution_count": null,
   "id": "4e0f7e44",
   "metadata": {},
   "outputs": [],
   "source": [
    "class Staff ():\n",
    "    \n",
    "    def __init__ (self, name, fname, time_off): # I use self to be able to refer to myself and access my own information\n",
    "        #Init is necessary to create new instances that are tailored\n",
    "        \n",
    "        self.name = name #this is an attribute, which is a variable\n",
    "        self.fname = fname\n",
    "        self.time_off = time_off"
   ]
  },
  {
   "cell_type": "code",
   "execution_count": null,
   "id": "cda9380e",
   "metadata": {},
   "outputs": [],
   "source": [
    "clara = Staff(\"Clara\", \"Fernández\", 30)"
   ]
  },
  {
   "cell_type": "code",
   "execution_count": null,
   "id": "536e39d1",
   "metadata": {},
   "outputs": [],
   "source": [
    "fer = Staff(\"Fer\", \"Costa\", 20)"
   ]
  },
  {
   "cell_type": "code",
   "execution_count": null,
   "id": "5cd4f9fd",
   "metadata": {},
   "outputs": [],
   "source": [
    "fer.__dict__"
   ]
  },
  {
   "cell_type": "code",
   "execution_count": null,
   "id": "fb113fe0",
   "metadata": {},
   "outputs": [],
   "source": [
    "clara.name"
   ]
  },
  {
   "cell_type": "code",
   "execution_count": null,
   "id": "ea1838c3",
   "metadata": {},
   "outputs": [],
   "source": [
    "# Just for me to see/check\n",
    "\n",
    "clara.__dict__"
   ]
  },
  {
   "cell_type": "markdown",
   "id": "a9b11397",
   "metadata": {
    "lang": "en"
   },
   "source": [
    "What does self do? It indicates that the data we are entering is for the object we are creating."
   ]
  },
  {
   "cell_type": "code",
   "execution_count": null,
   "id": "ea2aef87",
   "metadata": {},
   "outputs": [],
   "source": [
    "class Staff ():\n",
    "    \n",
    "    def __init__ (self, name, fname, time_off): # I use self to be able to refer to myself and access my own information\n",
    "        #Init is necessary to create new instances that are tailored\n",
    "        \n",
    "        self.name = name #this is an attribute, which is a variable\n",
    "        self.fname = fname\n",
    "        self.time_off = time_off\n",
    "        \n",
    "        self.mail = self.name.lower() + \".\" + self.fname.lower() + \"@ironhack.com\""
   ]
  },
  {
   "cell_type": "code",
   "execution_count": null,
   "id": "7ec0dc05",
   "metadata": {},
   "outputs": [],
   "source": [
    "pau = Staff(\"Pau\", \"Peracaula\", 30)"
   ]
  },
  {
   "cell_type": "code",
   "execution_count": null,
   "id": "2dd2cdf3",
   "metadata": {},
   "outputs": [],
   "source": [
    "clara = Staff(\"Clara\", \"Fdz\", 20)"
   ]
  },
  {
   "cell_type": "code",
   "execution_count": null,
   "id": "2bd28f5f",
   "metadata": {},
   "outputs": [],
   "source": [
    "clara.mail"
   ]
  },
  {
   "cell_type": "code",
   "execution_count": null,
   "id": "908a2ece",
   "metadata": {},
   "outputs": [],
   "source": [
    "pau.__dict__"
   ]
  },
  {
   "cell_type": "markdown",
   "id": "8751e24c",
   "metadata": {
    "lang": "en"
   },
   "source": [
    "#### Default attributes\n",
    "\n",
    "We can initialize the attributes with a default value in case later, when creating the instances, the user or ourselves do not put anything in any of the attributes"
   ]
  },
  {
   "cell_type": "code",
   "execution_count": null,
   "id": "bd3f4862",
   "metadata": {},
   "outputs": [],
   "source": [
    "class Staff ():\n",
    "    \n",
    "    def __init__ (self, name, fname, time_off=30): # I use self to be able to refer to myself and access my own information\n",
    "        #Init is necessary to create new instances that are tailored\n",
    "        \n",
    "        self.name = name #this is an attribute, which is a variable\n",
    "        self.fname = fname\n",
    "        self.time_off = time_off\n",
    "        \n",
    "        self.mail = self.name.lower() + \".\" + self.fname.lower() + \"@ironhack.com\""
   ]
  },
  {
   "cell_type": "code",
   "execution_count": null,
   "id": "94029e49",
   "metadata": {},
   "outputs": [],
   "source": [
    "albert = Staff(\"Albert\", \"Coca\") #As it's optional, I don't need to pass it when constructing"
   ]
  },
  {
   "cell_type": "code",
   "execution_count": null,
   "id": "0c458414",
   "metadata": {},
   "outputs": [],
   "source": [
    "albert.time_off"
   ]
  },
  {
   "cell_type": "markdown",
   "id": "0ce1eb62",
   "metadata": {
    "lang": "en"
   },
   "source": [
    "### Instance Methods"
   ]
  },
  {
   "cell_type": "code",
   "execution_count": null,
   "id": "painted-tribe",
   "metadata": {},
   "outputs": [],
   "source": [
    "class Staff ():\n",
    "    \n",
    "    def __init__ (self, name, fname, time_off=30):\n",
    "    #ATTRIBUTES - Variables\n",
    "        self.name = name\n",
    "        self.fname = fname\n",
    "        self.time_off = time_off\n",
    "        \n",
    "        self.mail = self.name.lower() + \".\" + self.fname.lower() + \"@ironhack.com\"\n",
    "    \n",
    "    #METHODS - Functions()\n",
    "    def greeting (self):\n",
    "        print(f\"Morning, my name is {self.name}\")"
   ]
  },
  {
   "cell_type": "code",
   "execution_count": null,
   "id": "554a29e6",
   "metadata": {},
   "outputs": [],
   "source": [
    "laura = Staff(\"Laura\", \"Molas\")"
   ]
  },
  {
   "cell_type": "code",
   "execution_count": null,
   "id": "7fb44dd6",
   "metadata": {},
   "outputs": [],
   "source": [
    "albert = Staff(\"Albert\", \"Coca\")"
   ]
  },
  {
   "cell_type": "code",
   "execution_count": null,
   "id": "b6235831",
   "metadata": {},
   "outputs": [],
   "source": [
    "laura.name"
   ]
  },
  {
   "cell_type": "code",
   "execution_count": null,
   "id": "d19daab3",
   "metadata": {},
   "outputs": [],
   "source": [
    "laura.greeting() #Is a method of the class Staff. Laura is an instance of that class, so she can run these methods too"
   ]
  },
  {
   "cell_type": "markdown",
   "id": "3b7de249",
   "metadata": {
    "lang": "en"
   },
   "source": [
    "They are functions within the classes that will save us a lot of time"
   ]
  },
  {
   "cell_type": "code",
   "execution_count": 202,
   "id": "7003e67b",
   "metadata": {},
   "outputs": [],
   "source": [
    "class Staff ():\n",
    "    \n",
    "    def __init__ (self, name, fname, time_off = 30, *hobbies):\n",
    "        #when passing a attribute with an asterisk, it passes it as a tuple, and the tuple varies lenght\n",
    "        #but it's just one element, no matter the lenght of it\n",
    "        \n",
    "        self.name = name\n",
    "        self.fname = fname\n",
    "        self.time_off = time_off\n",
    "    \n",
    "        self.hobbies = []\n",
    "        self.mail = self.name.lower() + \".\" + self.fname.lower() + \"@ironhack.com\"\n",
    "    \n",
    "    def greeting (self):\n",
    "        print(f\"Morning, my name is {self.name}\")\n",
    "        \n",
    "    def take_days_off (self):\n",
    "        self.time_off = self.time_off - 1\n",
    "        return f\"I now have {self.time_off} days off for me to take\" \n",
    "    \n",
    "    def hobbies_add (self, *hob):\n",
    "        if hob:\n",
    "            self.hobbies.append(hob[0])\n",
    "            return f\"New hobby included\"\n",
    "        else:\n",
    "            #return f\"My hobbies are: {', '.join([element[0] for element in self.hobbies])}\"\n",
    "            return f'My hobbies are: {self.hobbies}'"
   ]
  },
  {
   "cell_type": "code",
   "execution_count": 207,
   "id": "4ee493ac",
   "metadata": {},
   "outputs": [],
   "source": [
    "clara = Staff(\"Clara\", \"Fdz\", 20)"
   ]
  },
  {
   "cell_type": "code",
   "execution_count": 209,
   "id": "cf1db478",
   "metadata": {},
   "outputs": [
    {
     "data": {
      "text/plain": [
       "20"
      ]
     },
     "execution_count": 209,
     "metadata": {},
     "output_type": "execute_result"
    }
   ],
   "source": [
    "clara.time_off"
   ]
  },
  {
   "cell_type": "code",
   "execution_count": 210,
   "id": "b0c56d4f",
   "metadata": {},
   "outputs": [
    {
     "name": "stdout",
     "output_type": "stream",
     "text": [
      "Morning, my name is Clara\n"
     ]
    }
   ],
   "source": [
    "clara.greeting()"
   ]
  },
  {
   "cell_type": "markdown",
   "id": "fdda9183",
   "metadata": {},
   "source": [
    "_⚠️:  Target variables when instantiaing, ingnoring defaults?_"
   ]
  },
  {
   "cell_type": "code",
   "execution_count": 203,
   "id": "aa27d407",
   "metadata": {},
   "outputs": [],
   "source": [
    "nevan = Staff(\"Nevan\", \"Scott\", 30, \"reading\")"
   ]
  },
  {
   "cell_type": "code",
   "execution_count": 204,
   "id": "b8011fd0",
   "metadata": {},
   "outputs": [
    {
     "data": {
      "text/plain": [
       "{'name': 'Nevan',\n",
       " 'fname': 'Scott',\n",
       " 'time_off': 30,\n",
       " 'hobbies': [],\n",
       " 'mail': 'nevan.scott@ironhack.com'}"
      ]
     },
     "execution_count": 204,
     "metadata": {},
     "output_type": "execute_result"
    }
   ],
   "source": [
    "nevan.__dict__"
   ]
  },
  {
   "cell_type": "code",
   "execution_count": 201,
   "id": "8403ca8e",
   "metadata": {},
   "outputs": [
    {
     "data": {
      "text/plain": [
       "{'name': 'Nevan',\n",
       " 'fname': 'Scott',\n",
       " 'time_off': 30,\n",
       " 'hobbies': ['reading'],\n",
       " 'mail': 'nevan.scott@ironhack.com'}"
      ]
     },
     "execution_count": 201,
     "metadata": {},
     "output_type": "execute_result"
    }
   ],
   "source": [
    "nevan.hobbies_add(\"reading\")\n",
    "nevan.__dict__"
   ]
  },
  {
   "cell_type": "code",
   "execution_count": 152,
   "id": "3bd914dc",
   "metadata": {},
   "outputs": [
    {
     "data": {
      "text/plain": [
       "{'name': 'Nevan',\n",
       " 'fname': 'Scott',\n",
       " 'time_off': 20,\n",
       " 'hobbies': (1, 2, 'surfing', 'sdsds'),\n",
       " 'mail': 'nevan.scott@ironhack.com'}"
      ]
     },
     "execution_count": 152,
     "metadata": {},
     "output_type": "execute_result"
    }
   ],
   "source": [
    "nevan.__dict__"
   ]
  },
  {
   "cell_type": "code",
   "execution_count": 138,
   "id": "c1b647f0",
   "metadata": {},
   "outputs": [],
   "source": [
    "nevan.age = 30"
   ]
  },
  {
   "cell_type": "code",
   "execution_count": 136,
   "id": "746bde7d",
   "metadata": {},
   "outputs": [
    {
     "data": {
      "text/plain": [
       "'New hobby included'"
      ]
     },
     "execution_count": 136,
     "metadata": {},
     "output_type": "execute_result"
    }
   ],
   "source": [
    "nevan.hobbies_add(\"reading\")"
   ]
  },
  {
   "cell_type": "code",
   "execution_count": 137,
   "id": "367a0f04",
   "metadata": {},
   "outputs": [
    {
     "data": {
      "text/plain": [
       "'My hobbies are: tennis, surf, reading'"
      ]
     },
     "execution_count": 137,
     "metadata": {},
     "output_type": "execute_result"
    }
   ],
   "source": [
    "nevan.hobbies_add()"
   ]
  },
  {
   "cell_type": "code",
   "execution_count": 119,
   "id": "5c80d7ec",
   "metadata": {},
   "outputs": [
    {
     "data": {
      "text/plain": [
       "[('reading',), ('surfing',), ('tennis',)]"
      ]
     },
     "execution_count": 119,
     "metadata": {},
     "output_type": "execute_result"
    }
   ],
   "source": [
    "ab = [('reading',), ('surfing',), ('tennis',)]\n",
    "ab"
   ]
  },
  {
   "cell_type": "code",
   "execution_count": 121,
   "id": "beddc5cb",
   "metadata": {},
   "outputs": [
    {
     "data": {
      "text/plain": [
       "'reading'"
      ]
     },
     "execution_count": 121,
     "metadata": {},
     "output_type": "execute_result"
    }
   ],
   "source": [
    "ab[0][0]"
   ]
  },
  {
   "cell_type": "code",
   "execution_count": 104,
   "id": "f7eaf021",
   "metadata": {},
   "outputs": [
    {
     "data": {
      "text/plain": [
       "{'name': 'Nevan',\n",
       " 'fname': 'Scott',\n",
       " 'time_off': 20,\n",
       " 'hobbies': ['surfing', 'reading'],\n",
       " 'mail': 'nevan.scott@ironhack.com'}"
      ]
     },
     "execution_count": 104,
     "metadata": {},
     "output_type": "execute_result"
    }
   ],
   "source": [
    "nevan.__dict__"
   ]
  },
  {
   "cell_type": "code",
   "execution_count": 95,
   "id": "5623f441",
   "metadata": {},
   "outputs": [
    {
     "data": {
      "text/plain": [
       "'nevan.scott@ironhack.com'"
      ]
     },
     "execution_count": 95,
     "metadata": {},
     "output_type": "execute_result"
    }
   ],
   "source": [
    "nevan.mail"
   ]
  },
  {
   "cell_type": "code",
   "execution_count": 55,
   "id": "ecceef36",
   "metadata": {},
   "outputs": [
    {
     "name": "stdout",
     "output_type": "stream",
     "text": [
      "[]\n"
     ]
    }
   ],
   "source": [
    "nevan.hobbies_a()"
   ]
  },
  {
   "cell_type": "code",
   "execution_count": 46,
   "id": "3268a46d",
   "metadata": {},
   "outputs": [
    {
     "data": {
      "text/plain": [
       "{'name': 'Nevan',\n",
       " 'fname': 'Scott',\n",
       " 'time_off': 20,\n",
       " 'hobbies': [],\n",
       " 'mail': 'nevan.scott@ironhack.com'}"
      ]
     },
     "execution_count": 46,
     "metadata": {},
     "output_type": "execute_result"
    }
   ],
   "source": [
    "nevan.__dict__"
   ]
  },
  {
   "cell_type": "code",
   "execution_count": 47,
   "id": "0d47c10c",
   "metadata": {},
   "outputs": [
    {
     "data": {
      "text/plain": [
       "[]"
      ]
     },
     "execution_count": 47,
     "metadata": {},
     "output_type": "execute_result"
    }
   ],
   "source": [
    "nevan.hobbies"
   ]
  },
  {
   "cell_type": "code",
   "execution_count": null,
   "id": "ff3a7926",
   "metadata": {},
   "outputs": [],
   "source": [
    "nevan = Staff(\"Nevan\", \"Scott\", 10, 5)"
   ]
  },
  {
   "cell_type": "code",
   "execution_count": 33,
   "id": "7fcf67d3",
   "metadata": {},
   "outputs": [],
   "source": [
    "nevan = Staff(\"nevan\")"
   ]
  },
  {
   "cell_type": "code",
   "execution_count": 34,
   "id": "5c2c4a22",
   "metadata": {},
   "outputs": [
    {
     "data": {
      "text/plain": [
       "'[]'"
      ]
     },
     "execution_count": 34,
     "metadata": {},
     "output_type": "execute_result"
    }
   ],
   "source": [
    "nevan.hobby()"
   ]
  },
  {
   "cell_type": "markdown",
   "id": "c584762d",
   "metadata": {
    "lang": "en"
   },
   "source": [
    "**watch out** 👀\n",
    "If we modify a class and add attributes or methods, we have to recreate the object so that it is initialized with those attributes and has those methods."
   ]
  },
  {
   "cell_type": "markdown",
   "id": "b6c1dbd0",
   "metadata": {
    "lang": "en"
   },
   "source": [
    "#### Python is built with objects\n",
    "In Python primitive data types are also objects that have associated attributes and methods."
   ]
  },
  {
   "cell_type": "code",
   "execution_count": 464,
   "id": "approved-transsexual",
   "metadata": {},
   "outputs": [
    {
     "data": {
      "text/plain": [
       "str"
      ]
     },
     "execution_count": 464,
     "metadata": {},
     "output_type": "execute_result"
    }
   ],
   "source": [
    "a_string = \"hello\"\n",
    "type(a_string)"
   ]
  },
  {
   "cell_type": "markdown",
   "id": "e6af3733",
   "metadata": {
    "lang": "en"
   },
   "source": [
    "Whenever we do .something, it is because we are calling the methods of that class"
   ]
  },
  {
   "cell_type": "code",
   "execution_count": 465,
   "id": "b629d802",
   "metadata": {},
   "outputs": [
    {
     "data": {
      "text/plain": [
       "['capitalize',\n",
       " 'casefold',\n",
       " 'center',\n",
       " 'count',\n",
       " 'encode',\n",
       " 'endswith',\n",
       " 'expandtabs',\n",
       " 'find',\n",
       " 'format',\n",
       " 'index',\n",
       " 'isalnum',\n",
       " 'isalpha',\n",
       " 'isascii',\n",
       " 'isdecimal',\n",
       " 'isdigit',\n",
       " 'isidentifier',\n",
       " 'islower',\n",
       " 'isnumeric',\n",
       " 'isprintable',\n",
       " 'isspace',\n",
       " 'istitle',\n",
       " 'isupper',\n",
       " 'join',\n",
       " 'ljust',\n",
       " 'lower',\n",
       " 'lstrip',\n",
       " 'maketrans',\n",
       " 'partition',\n",
       " 'removeprefix',\n",
       " 'removesuffix',\n",
       " 'replace',\n",
       " 'rfind',\n",
       " 'rindex',\n",
       " 'rjust',\n",
       " 'rpartition',\n",
       " 'rsplit',\n",
       " 'rstrip',\n",
       " 'split',\n",
       " 'splitlines',\n",
       " 'startswith',\n",
       " 'strip',\n",
       " 'swapcase',\n",
       " 'title',\n",
       " 'translate',\n",
       " 'upper',\n",
       " 'zfill']"
      ]
     },
     "execution_count": 465,
     "metadata": {},
     "output_type": "execute_result"
    }
   ],
   "source": [
    "[element for element in dir(str) if \"_\" not in element] #check the methods of it"
   ]
  },
  {
   "cell_type": "markdown",
   "id": "2b7c965f",
   "metadata": {
    "lang": "en"
   },
   "source": [
    "### Class variables"
   ]
  },
  {
   "cell_type": "code",
   "execution_count": 467,
   "id": "e55d6664",
   "metadata": {},
   "outputs": [],
   "source": [
    "import math\n",
    "\n",
    "class Circle():\n",
    "    \n",
    "    PI = math.pi # This is a CLASS variable. \n",
    "    \n",
    "    def __init__ (self, radius):\n",
    "        self.radius = radius #This will be an INSTANCE variable\n",
    "        \n",
    "    def calculate_area ():\n",
    "        pass"
   ]
  },
  {
   "cell_type": "markdown",
   "id": "2a28ab69",
   "metadata": {
    "lang": "en"
   },
   "source": [
    "In general, class attributes should not be used, except to store constant values."
   ]
  },
  {
   "cell_type": "markdown",
   "id": "9ad7387e",
   "metadata": {
    "lang": "en"
   },
   "source": [
    "**Exercise**\n",
    "\n",
    "Create a class `Circle` with:\n",
    "- radius as instance/object variable\n",
    "- pi (math.pi) as class variable\n",
    "- a compute_area(self) method that returns the area of ​​the \"circle\" object"
   ]
  },
  {
   "cell_type": "code",
   "execution_count": 214,
   "id": "focused-invite",
   "metadata": {},
   "outputs": [],
   "source": [
    "import math"
   ]
  },
  {
   "cell_type": "code",
   "execution_count": 215,
   "id": "8f2391c5",
   "metadata": {
    "scrolled": true
   },
   "outputs": [
    {
     "data": {
      "text/plain": [
       "3.141592653589793"
      ]
     },
     "execution_count": 215,
     "metadata": {},
     "output_type": "execute_result"
    }
   ],
   "source": [
    "math.pi"
   ]
  },
  {
   "cell_type": "code",
   "execution_count": null,
   "id": "025cdbee",
   "metadata": {},
   "outputs": [],
   "source": [
    "# Create a class\n",
    "# Attribute: radius, float\n",
    "# Method: Calculate the are of a circle"
   ]
  },
  {
   "cell_type": "code",
   "execution_count": null,
   "id": "801da9c1",
   "metadata": {},
   "outputs": [],
   "source": [
    "area = math.pi * radius ** 2"
   ]
  },
  {
   "cell_type": "code",
   "execution_count": 216,
   "id": "a4bbac57",
   "metadata": {},
   "outputs": [],
   "source": [
    "class Circle():\n",
    "    pi = math.pi\n",
    "    #attribute = radius\n",
    "    # method, returns area\n",
    "    pass"
   ]
  },
  {
   "cell_type": "code",
   "execution_count": 232,
   "id": "6811c6f5",
   "metadata": {},
   "outputs": [],
   "source": [
    "#Edgar\n",
    "\n",
    "class Circle ():\n",
    "    PI = math.pi\n",
    "    \n",
    "    def __init__ (self, radius):\n",
    "        self.radius = radius\n",
    "    \n",
    "    def area (self):\n",
    "        area = self.PI * (self.radius**2)\n",
    "        return area"
   ]
  },
  {
   "cell_type": "code",
   "execution_count": 231,
   "id": "010dd7e3",
   "metadata": {},
   "outputs": [
    {
     "data": {
      "text/plain": [
       "314"
      ]
     },
     "execution_count": 231,
     "metadata": {},
     "output_type": "execute_result"
    }
   ],
   "source": [
    "circle_edgar = Circle(10) #creating an instance\n",
    "circle_edgar.area() #calculating the area of the instance"
   ]
  },
  {
   "cell_type": "code",
   "execution_count": 230,
   "id": "934e1e30",
   "metadata": {
    "scrolled": true
   },
   "outputs": [
    {
     "data": {
      "text/plain": [
       "10"
      ]
     },
     "execution_count": 230,
     "metadata": {},
     "output_type": "execute_result"
    }
   ],
   "source": [
    "circle_edgar.radius #Attribute of an instance"
   ]
  },
  {
   "cell_type": "code",
   "execution_count": 227,
   "id": "51998b3a",
   "metadata": {
    "scrolled": true
   },
   "outputs": [
    {
     "data": {
      "text/plain": [
       "3.141592653589793"
      ]
     },
     "execution_count": 227,
     "metadata": {},
     "output_type": "execute_result"
    }
   ],
   "source": [
    "circle_edgar.PI"
   ]
  },
  {
   "cell_type": "code",
   "execution_count": 258,
   "id": "691f5b20",
   "metadata": {},
   "outputs": [
    {
     "data": {
      "text/plain": [
       "3.141592653589793"
      ]
     },
     "execution_count": 258,
     "metadata": {},
     "output_type": "execute_result"
    }
   ],
   "source": [
    "import math\n",
    "math.pi\n",
    "\n",
    "\n",
    "from math import pi\n",
    "pi"
   ]
  },
  {
   "cell_type": "code",
   "execution_count": 253,
   "id": "7f152d9c",
   "metadata": {},
   "outputs": [],
   "source": [
    "class Circle():\n",
    "\n",
    "    def __init__(self, radius):\n",
    "        #attribute = radius\n",
    "        self.radius= radius\n",
    "        self.area_edgar = 0\n",
    "        self.area\n",
    "            \n",
    "    # method, returns ares\n",
    "    def area(self):\n",
    "        pi=math.pi\n",
    "        self.area_edgar = pi* self.radius ** 2\n",
    "        print(self.area_edgar)\n",
    "        return self.area_edgar"
   ]
  },
  {
   "cell_type": "code",
   "execution_count": 254,
   "id": "31fd2790",
   "metadata": {},
   "outputs": [],
   "source": [
    "viktor_circle = Circle(4)"
   ]
  },
  {
   "cell_type": "code",
   "execution_count": 255,
   "id": "65d16996",
   "metadata": {},
   "outputs": [
    {
     "name": "stdout",
     "output_type": "stream",
     "text": [
      "50.26548245743669\n"
     ]
    },
    {
     "data": {
      "text/plain": [
       "50.26548245743669"
      ]
     },
     "execution_count": 255,
     "metadata": {},
     "output_type": "execute_result"
    }
   ],
   "source": [
    "viktor_circle.area()"
   ]
  },
  {
   "cell_type": "code",
   "execution_count": 257,
   "id": "2974f7e6",
   "metadata": {},
   "outputs": [
    {
     "data": {
      "text/plain": [
       "50.26548245743669"
      ]
     },
     "execution_count": 257,
     "metadata": {},
     "output_type": "execute_result"
    }
   ],
   "source": [
    "viktor_circle.area"
   ]
  },
  {
   "cell_type": "markdown",
   "id": "87cccad5",
   "metadata": {
    "lang": "en"
   },
   "source": [
    "## Before continuing, let's take a breath and review vocabulary"
   ]
  },
  {
   "cell_type": "markdown",
   "id": "9170647e",
   "metadata": {
    "lang": "en"
   },
   "source": [
    "- **Class**: The cookie mold. With the class we can generate instances or objects.\n",
    "- **Object**: The cookie we generated. Each object has different characteristics but under the same pattern as the class.\n",
    "- **Instance**: Same as object, it's a synonym :) hehe\n",
    "- **Attribute**: The different ingredients of each object. They are defined as arguments in the __init__ function but are saved as data when we instantiate an object by calling the class"
   ]
  },
  {
   "cell_type": "markdown",
   "id": "b9edf159",
   "metadata": {},
   "source": [
    "```python\n",
    "pau = Instructor(\"Pau\", \"Peracaula\")\n",
    "```"
   ]
  },
  {
   "cell_type": "markdown",
   "id": "05499ca5",
   "metadata": {},
   "source": [
    "We can say that the attributes are the DATA, in this case \"Pau\" and \"Peracaula\".\n",
    "They are variables\n",
    "\n",
    "\n",
    "* **Class attribute**: Variables that belong to the class and that will be the same in all objects.\n",
    "* **Object/instance attribute**: The attributes explained above, specific to each object.\n",
    "* **Method**: Functions that do things"
   ]
  },
  {
   "cell_type": "markdown",
   "id": "8772dea7",
   "metadata": {
    "lang": "en"
   },
   "source": [
    "#### Easy exercise\n",
    "Kata --> https://www.codewars.com/kata/53f0f358b9cb376eca001079/train/python\n",
    "\n",
    "You can ignore the \"object\" for now"
   ]
  },
  {
   "cell_type": "markdown",
   "id": "050690b2",
   "metadata": {},
   "source": [
    "Solution:\n",
    "\n",
    "\n",
    "```python\n",
    "class Ball():\n",
    "    def __init__ (self, ball_type = \"regular\"):\n",
    "        self.ball_type = ball_type\n",
    "````"
   ]
  },
  {
   "cell_type": "markdown",
   "id": "pressed-proof",
   "metadata": {},
   "source": [
    "## Inheritance"
   ]
  },
  {
   "cell_type": "markdown",
   "id": "1f62f02d",
   "metadata": {
    "lang": "en"
   },
   "source": [
    "Inheritance allows defining new classes from existing classes. The class from which it is inherited is called the \"parent class\"/\"superclass\"/\"parent\". The class that it inherits is called a \"child class\" or \"subclass.\"\n",
    "The child class \"inherits\" all the properties of the parent class and allows us to override methods and attributes or add new ones. The fundamental advantage that the inheritance mechanism brings to programming is the ability to reuse code. Thus, a set of classes that share attributes and methods can inherit from a superclass where those methods and attributes are defined."
   ]
  },
  {
   "cell_type": "markdown",
   "id": "wanted-works",
   "metadata": {},
   "source": [
    "\n",
    "![miniyoda](https://media.giphy.com/media/j0eRJzyW7XjMpu1Pqd/giphy.gif)"
   ]
  },
  {
   "cell_type": "markdown",
   "id": "37b8b77c",
   "metadata": {
    "lang": "en"
   },
   "source": [
    "- Method defined in the `parent`, but not in the `child`\n",
    "\n",
    "In this case, the child will inherit the parent's method, it will work exactly the same and there is no need to override it.\n",
    "\n",
    "- Method defined in `Child`, but not in Parent\n",
    "\n",
    "The method only belongs to the child. Inheritance is one way.\n",
    "\n",
    "- Method set to \"both\".\n",
    "\n",
    "Two things can happen here, but both are a variant of the same fact. The method written in the `Child` class will override the one previously defined in Parent.\n",
    "\n",
    "However, if we want to use the original method and just add something else to it, we can always refer to the original (parent) method with `super()`. The `super()` function allows us to call any method of the parent class. Just remember to call it on the new define and make sure you get all the attributes it needs 😉 ."
   ]
  },
  {
   "cell_type": "code",
   "execution_count": 473,
   "id": "unsigned-butterfly",
   "metadata": {},
   "outputs": [],
   "source": [
    "class Staff():    \n",
    "    \n",
    "    def __init__(self, name, fname, holidays = 30):\n",
    "\n",
    "        self.name = name\n",
    "        self.fname = fname\n",
    "        self.vacaciones = holidays\n",
    "\n",
    "        self.email = self.name.lower() + \".\" + self.fname.lower() + \"@ironhack.com\"\n",
    "        \n",
    "    def greeting (self):\n",
    "        print(f\"Hello, my name is {self.name} {self.fname}\")\n",
    "        \n",
    "    def take_holidays (self, dias = 1):\n",
    "        self.vacaciones -= dias"
   ]
  },
  {
   "cell_type": "code",
   "execution_count": 474,
   "id": "9ae0b5ee",
   "metadata": {
    "scrolled": true
   },
   "outputs": [
    {
     "data": {
      "text/plain": [
       "{'name': 'Clara',\n",
       " 'fname': 'Fdz',\n",
       " 'vacaciones': 30,\n",
       " 'email': 'clara.fdz@ironhack.com'}"
      ]
     },
     "execution_count": 474,
     "metadata": {},
     "output_type": "execute_result"
    }
   ],
   "source": [
    "clara = Staff(\"Clara\", \"Fdz\")\n",
    "clara.__dict__"
   ]
  },
  {
   "cell_type": "code",
   "execution_count": 475,
   "id": "afc70bb8",
   "metadata": {},
   "outputs": [],
   "source": [
    "class Teacher (Staff):\n",
    "    pass"
   ]
  },
  {
   "cell_type": "code",
   "execution_count": 476,
   "id": "3f3827d2",
   "metadata": {},
   "outputs": [
    {
     "data": {
      "text/plain": [
       "{'name': 'Nevan',\n",
       " 'fname': 'Scott',\n",
       " 'vacaciones': 30,\n",
       " 'email': 'nevan.scott@ironhack.com'}"
      ]
     },
     "execution_count": 476,
     "metadata": {},
     "output_type": "execute_result"
    }
   ],
   "source": [
    "nevan = Teacher(\"Nevan\", \"Scott\")\n",
    "nevan.__dict__"
   ]
  },
  {
   "cell_type": "code",
   "execution_count": 477,
   "id": "a29d828b",
   "metadata": {},
   "outputs": [],
   "source": [
    "# Properties from PARENT will be automatically transfeerd into CHILD class"
   ]
  },
  {
   "cell_type": "markdown",
   "id": "willing-workshop",
   "metadata": {},
   "source": [
    "### super()"
   ]
  },
  {
   "cell_type": "code",
   "execution_count": 492,
   "id": "b9af98b2",
   "metadata": {},
   "outputs": [],
   "source": [
    "class Staff():    \n",
    "    \n",
    "    def __init__(self, name, fname, holidays = 30):\n",
    "\n",
    "        self.name = name\n",
    "        self.fname = fname\n",
    "        self.holidays = holidays\n",
    "\n",
    "        self.email = self.name.lower() + \".\" + self.fname.lower() + \"@ironhack.com\"\n",
    "        \n",
    "    def greeting (self):\n",
    "        print(f\"Hello, my name is {self.name} {self.fname}\")\n",
    "        \n",
    "    def take_holidays (self, dias = 1):\n",
    "        self.vacaciones -= dias"
   ]
  },
  {
   "cell_type": "code",
   "execution_count": 493,
   "id": "23ed314d",
   "metadata": {},
   "outputs": [],
   "source": [
    "class Teacher (Staff):\n",
    "    \n",
    "    def __init__(self, name, fname, group, holidays = 30):\n",
    "        super().__init__(name, fname, holidays)\n",
    "        self.clase = group\n",
    "        \n",
    "    def saludo(self):\n",
    "        print(f\"Hello, I'm {self.name} {self.fname} and I'm the teacher for {self.clase}\")"
   ]
  },
  {
   "cell_type": "code",
   "execution_count": 494,
   "id": "be24519b",
   "metadata": {},
   "outputs": [],
   "source": [
    "nevan = Teacher(\"Nevan\", \"Scott\", \"UX\")"
   ]
  },
  {
   "cell_type": "code",
   "execution_count": 495,
   "id": "415e790a",
   "metadata": {},
   "outputs": [
    {
     "data": {
      "text/plain": [
       "{'name': 'Nevan',\n",
       " 'fname': 'Scott',\n",
       " 'holidays': 30,\n",
       " 'email': 'nevan.scott@ironhack.com',\n",
       " 'clase': 'UX'}"
      ]
     },
     "execution_count": 495,
     "metadata": {},
     "output_type": "execute_result"
    }
   ],
   "source": [
    "nevan.__dict__"
   ]
  },
  {
   "cell_type": "markdown",
   "id": "e26f2fec",
   "metadata": {
    "lang": "en"
   },
   "source": [
    "## Summary\n",
    "Now it's your turn: What have we learned? 🤯\n"
   ]
  },
  {
   "cell_type": "code",
   "execution_count": null,
   "id": "5ff2996d",
   "metadata": {},
   "outputs": [],
   "source": []
  },
  {
   "cell_type": "markdown",
   "id": "7d8865bd",
   "metadata": {
    "lang": "en"
   },
   "source": [
    "## Furthermaterials\n",
    "\n",
    "- Youtube Tutorial by [Corey Schafer](https://www.youtube.com/watch?v=ZDa-Z5JzLYM)\n",
    "- [Real Python](https://docs.hektorprofe.net/python/object-oriented-programming/classes-and-objects/)\n",
    "- [Interesting read](https://medium.com/@shaistha24/functional-programming-vs-object-oriented-programming-oop-which-is-better-82172e53a526) --> OOP vs Functional programming"
   ]
  },
  {
   "cell_type": "markdown",
   "id": "92bd3cce",
   "metadata": {
    "lang": "en"
   },
   "source": [
    "### Methods **ADVANCED** @classmethod@staticmethod\n",
    "* [Real Python - @classmethod/@stathicmethod](https://realpython.com/instance-class-and-static-methods-demystified/). Advanced Python with decorators (we'll mention them later)"
   ]
  }
 ],
 "metadata": {
  "kernelspec": {
   "display_name": "Python 3 (ipykernel)",
   "language": "python",
   "name": "python3"
  },
  "language_info": {
   "codemirror_mode": {
    "name": "ipython",
    "version": 3
   },
   "file_extension": ".py",
   "mimetype": "text/x-python",
   "name": "python",
   "nbconvert_exporter": "python",
   "pygments_lexer": "ipython3",
   "version": "3.9.12"
  },
  "nbTranslate": {
   "displayLangs": [
    "en",
    "es"
   ],
   "hotkey": "alt-a",
   "langInMainMenu": true,
   "sourceLang": "es",
   "targetLang": "en",
   "useGoogleTranslate": true
  },
  "toc": {
   "base_numbering": 1,
   "nav_menu": {},
   "number_sections": true,
   "sideBar": true,
   "skip_h1_title": true,
   "title_cell": "Table of Contents",
   "title_sidebar": "Contents",
   "toc_cell": true,
   "toc_position": {
    "height": "calc(100% - 180px)",
    "left": "10px",
    "top": "150px",
    "width": "288px"
   },
   "toc_section_display": true,
   "toc_window_display": true
  }
 },
 "nbformat": 4,
 "nbformat_minor": 5
}
