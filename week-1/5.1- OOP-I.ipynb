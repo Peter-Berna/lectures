{
 "cells": [
  {
   "cell_type": "markdown",
   "id": "bfd2fc1f",
   "metadata": {
    "lang": "en"
   },
   "source": [
    "# Object-oriented programming"
   ]
  },
  {
   "cell_type": "markdown",
   "id": "linear-pierre",
   "metadata": {
    "toc": true
   },
   "source": [
    "<h1>Table of Contents<span class=\"tocSkip\"></span></h1>\n",
    "<div class=\"toc\"><ul class=\"toc-item\"><li><span><a href=\"#What-is-OOP---Object-Orient-Programming?\" data-toc-modified-id=\"What-is-OOP---Object-Orient-Programming?-1\"><span class=\"toc-item-num\">1&nbsp;&nbsp;</span>What is OOP - Object Orient Programming?</a></span><ul class=\"toc-item\"><li><span><a href=\"#Fundamental-Principles\" data-toc-modified-id=\"Fundamental-Principles-1.1\"><span class=\"toc-item-num\">1.1&nbsp;&nbsp;</span>Fundamental Principles</a></span></li></ul></li><li><span><a href=\"#Classes-and-instances\" data-toc-modified-id=\"Classes-and-instances-2\"><span class=\"toc-item-num\">2&nbsp;&nbsp;</span>Classes and instances</a></span></li><li><span><a href=\"#Definition-of-a-class\" data-toc-modified-id=\"Definition-of-a-class-3\"><span class=\"toc-item-num\">3&nbsp;&nbsp;</span>Definition of a class</a></span><ul class=\"toc-item\"><li><span><a href=\"#Instance-Attributes\" data-toc-modified-id=\"Instance-Attributes-3.1\"><span class=\"toc-item-num\">3.1&nbsp;&nbsp;</span>Instance Attributes</a></span><ul class=\"toc-item\"><li><span><a href=\"#Default-attributes\" data-toc-modified-id=\"Default-attributes-3.1.1\"><span class=\"toc-item-num\">3.1.1&nbsp;&nbsp;</span>Default attributes</a></span></li></ul></li><li><span><a href=\"#Instance-Methods\" data-toc-modified-id=\"Instance-Methods-3.2\"><span class=\"toc-item-num\">3.2&nbsp;&nbsp;</span>Instance Methods</a></span><ul class=\"toc-item\"><li><span><a href=\"#Python-is-built-with-objects\" data-toc-modified-id=\"Python-is-built-with-objects-3.2.1\"><span class=\"toc-item-num\">3.2.1&nbsp;&nbsp;</span>Python is built with objects</a></span></li></ul></li><li><span><a href=\"#Class-variables\" data-toc-modified-id=\"Class-variables-3.3\"><span class=\"toc-item-num\">3.3&nbsp;&nbsp;</span>Class variables</a></span></li><li><span><a href=\"#Methods-that-can-modify-attributes\" data-toc-modified-id=\"Methods-that-can-modify-attributes-3.4\"><span class=\"toc-item-num\">3.4&nbsp;&nbsp;</span>Methods that can modify attributes</a></span></li></ul></li><li><span><a href=\"#Before-continuing,-let's-take-a-breath-and-review-vocabulary\" data-toc-modified-id=\"Before-continuing,-let's-take-a-breath-and-review-vocabulary-4\"><span class=\"toc-item-num\">4&nbsp;&nbsp;</span>Before continuing, let's take a breath and review vocabulary</a></span><ul class=\"toc-item\"><li><ul class=\"toc-item\"><li><span><a href=\"#Easy-exercise\" data-toc-modified-id=\"Easy-exercise-4.0.1\"><span class=\"toc-item-num\">4.0.1&nbsp;&nbsp;</span>Easy exercise</a></span></li></ul></li></ul></li><li><span><a href=\"#Inheritance\" data-toc-modified-id=\"Inheritance-5\"><span class=\"toc-item-num\">5&nbsp;&nbsp;</span>Inheritance</a></span><ul class=\"toc-item\"><li><span><a href=\"#super()\" data-toc-modified-id=\"super()-5.1\"><span class=\"toc-item-num\">5.1&nbsp;&nbsp;</span>super()</a></span></li><li><span><a href=\"#Method-Resolution\" data-toc-modified-id=\"Method-Resolution-5.2\"><span class=\"toc-item-num\">5.2&nbsp;&nbsp;</span>Method Resolution</a></span></li></ul></li><li><span><a href=\"#Summary\" data-toc-modified-id=\"Summary-6\"><span class=\"toc-item-num\">6&nbsp;&nbsp;</span>Summary</a></span></li><li><span><a href=\"#Furthermaterials\" data-toc-modified-id=\"Furthermaterials-7\"><span class=\"toc-item-num\">7&nbsp;&nbsp;</span>Furthermaterials</a></span><ul class=\"toc-item\"><li><span><a href=\"#Methods-ADVANCED-@classmethod@staticmethod\" data-toc-modified-id=\"Methods-ADVANCED-@classmethod@staticmethod-7.1\"><span class=\"toc-item-num\">7.1&nbsp;&nbsp;</span>Methods <strong>ADVANCED</strong> @classmethod@staticmethod</a></span></li></ul></li></ul></div>"
   ]
  },
  {
   "cell_type": "markdown",
   "id": "44bbe54e",
   "metadata": {
    "lang": "en"
   },
   "source": [
    "## What is OOP - Object Orient Programming?"
   ]
  },
  {
   "cell_type": "markdown",
   "id": "da79b55b",
   "metadata": {
    "lang": "en"
   },
   "source": [
    "Object-oriented programming is a programming paradigm, that is, a programming style and technique, which goes beyond the implementation itself. This paradigm is based on the \"object\" concept, which can contain both data, in the form of fields called \"attributes\", and code for its manipulation in the form of procedures and functions, called \"methods\". Thanks to this, we can group everything under a single data type (the object \"class\"), which facilitates the modularity and reusability of the code.\n",
    "This has a strong implication in the design of IT solutions; Software engineering methodologies are based on object-oriented programming."
   ]
  },
  {
   "cell_type": "markdown",
   "id": "19380f68",
   "metadata": {
    "lang": "en"
   },
   "source": [
    "You can imagine objects as a new data type whose definition is given in a structure called class.\n",
    "Classes are often compared to cookie cutters and objects to the cookies themselves. While all cookies made from the same pan have the same shape, each one takes on individual attributes after baking. Things like color, texture, flavor... can be very different.\n",
    "In other words, the cookies share a manufacturing process and some attributes, but they are independent of each other and of the mold itself, and that makes each one unique.\n",
    "Extrapolating from the example, a class is just a script about how the objects that will be created with it should be."
   ]
  },
  {
   "cell_type": "markdown",
   "id": "fallen-brazil",
   "metadata": {},
   "source": [
    "![clases](https://files.realpython.com/media/Object-Oriented-Programming-OOP-in-Python-3_Watermarked.0d29780806d5.jpg)"
   ]
  },
  {
   "cell_type": "markdown",
   "id": "92d02d2c",
   "metadata": {
    "lang": "en"
   },
   "source": [
    "### Fundamental Principles"
   ]
  },
  {
   "cell_type": "markdown",
   "id": "0473322c",
   "metadata": {
    "lang": "en"
   },
   "source": [
    "1 - **Data abstraction**: Something we do naturally in our understanding of the world is the abstraction of concrete information in concepts or classes. For example, the concept of \"car\" evokes in us an idea of ​​a vehicle with four wheels, a steering wheel, an engine... Our car is a specific \"instance\" of that concept, and different from other cars, but we are capable of associating certain properties or characteristics to said concept above specific details. This ability to abstract a concept is essential for the development of human language and, of course, such a good idea has been transferred to the world of programming. In OOP, we call the abstract concept \"class\" and the realization of that concept \"object\". Your car is concrete, you can drive it, it is an object, an \"instance\" of the class \"car\".\n",
    "   \n",
    "   2 - **Encapsulation**: Each type of object contains its own information and can be manipulated in a particular way. A car can be driven and has a certain pressure in the wheels, a color, a certain level of gasoline, etc. With a GPS we can obtain our position coordinates and the batteries will have a certain charge. A dog barks, has a weight, an age. All those attributes and \"methods\" are \"encapsulated\" within the object, and are accessible only through a given object. The advantage is that we don't need to have, for example, a list with names, another with ages, another with weights... but rather a list of objects and each one contains, that is, encapsulates, its own information.\n",
    "   \n",
    "   3 - **Inheritance**: Some classes can specialize others. For this, the specialized class \"inherits\" the properties of the more general class, called the \"superclass\". For example, the \"Car\" and \"Truck\" classes can inherit from the \"Vehicle\" class. This is a way of reusing code, by being able to assume those common properties between several classes in a superior class. Python supports \"multiple inheritance\", so a class can be defined as a subclass of several classes from which it would inherit all its properties (attributes and methods) at once.\n",
    "   \n",
    "   4 - **Polymorphism**: A square can be drawn, a circle as well, just as any other shape can be drawn. \"Square\" and \"Circle\" would be subclasses of \"Shape\". The \"Shape\" superclass implements a draw() method, and both the \"Square\" subclass and the \"Circle\" subclass override this method to their particular case. So a function could accept an object of type \"Shape\" as a parameter and call the draw() method without knowing if the passed argument is a circle or a square. Each object knows its level of specialization and the concrete implementation of its methods. This ability to use superclass methods in code but resolve to subclass methods at run time is called \"Polymorphism\": the same variable can take different forms."
   ]
  },
  {
   "cell_type": "markdown",
   "id": "f325c4f9",
   "metadata": {
    "lang": "en"
   },
   "source": [
    "## Classes and instances"
   ]
  },
  {
   "cell_type": "markdown",
   "id": "f1423c0e",
   "metadata": {
    "lang": "en"
   },
   "source": [
    "A class is like an abstract type for objects that, in addition to storing values ​​called attributes, has associated a series of functions that we call methods. An instance of a class is the same as saying an object of that class. Instantiating a class refers to creating an object that belongs to that class.\n",
    "In Python, data types are classes, and any literal or variable of one of these types is an object that instantiates the type's class. For example: a = 2222 is equivalent to instantiating the PyLongObject class by assigning an internal attribute the value 2222. This is what happens at a low level, but we can consider that the variable a is of type int. We can know the type of any variable, that is, the class it instantiates, with the type() function, and the identifier of the instantiated object with the id() function."
   ]
  },
  {
   "cell_type": "code",
   "execution_count": null,
   "id": "absent-yorkshire",
   "metadata": {},
   "outputs": [],
   "source": [
    "a = 33"
   ]
  },
  {
   "cell_type": "code",
   "execution_count": null,
   "id": "fcc388b9",
   "metadata": {},
   "outputs": [],
   "source": [
    "type(a)"
   ]
  },
  {
   "cell_type": "code",
   "execution_count": null,
   "id": "26fd24d2",
   "metadata": {},
   "outputs": [],
   "source": [
    "my_String = \"asasas\"\n",
    "\n",
    "type(my_String)"
   ]
  },
  {
   "cell_type": "markdown",
   "id": "e4bd50ab",
   "metadata": {
    "lang": "en"
   },
   "source": [
    "To know all the methods and attributes of a class we can use the dir() function both on an object and on the class."
   ]
  },
  {
   "cell_type": "code",
   "execution_count": null,
   "id": "945ed85d",
   "metadata": {
    "scrolled": true
   },
   "outputs": [],
   "source": [
    "print(dir(str))"
   ]
  },
  {
   "cell_type": "code",
   "execution_count": null,
   "id": "99108955",
   "metadata": {},
   "outputs": [],
   "source": [
    "my_String.upper()"
   ]
  },
  {
   "cell_type": "markdown",
   "id": "032f8630",
   "metadata": {},
   "source": [
    "You don't need to master this, just know what the `.__something__` means. It's a dunder/magic methods. Meant for Python internally"
   ]
  },
  {
   "cell_type": "code",
   "execution_count": null,
   "id": "151ead58",
   "metadata": {},
   "outputs": [],
   "source": [
    "a = \"hello\"\n",
    "b = \" how are you\"\n",
    "\n",
    "\n",
    "a + b"
   ]
  },
  {
   "cell_type": "code",
   "execution_count": null,
   "id": "225333d4",
   "metadata": {},
   "outputs": [],
   "source": [
    "a.__add__(b) #will never be using it"
   ]
  },
  {
   "cell_type": "markdown",
   "id": "ffc3bd0b",
   "metadata": {
    "lang": "en"
   },
   "source": [
    "## Definition of a class"
   ]
  },
  {
   "cell_type": "markdown",
   "id": "8917064a",
   "metadata": {
    "lang": "en"
   },
   "source": [
    "We can define our own classes and indicate whether they inherit from others, what their internal attributes are, and what their methods are. Once the class is defined, it is possible to create objects from it. To create a class, simply group attributes and methods in the body of a **class** block.\n",
    "Imagine that you create software to manage a school, and you want to represent \"teachers\" in your Python code. Teachers will have some associated data (`attributes` in `class` jargon), and they will be able to *perform actions* through functions that we will call `methods` (again, `class` jargon).\n",
    "\n",
    "We could do it one by one:"
   ]
  },
  {
   "cell_type": "code",
   "execution_count": null,
   "id": "91a4e2a3",
   "metadata": {},
   "outputs": [],
   "source": [
    "pau = {\n",
    "    \"name\": \"pau\",\n",
    "    \"fname\":\"peracaula\",\n",
    "    \"time_off\": 30,\n",
    "    \"greeting\": lambda: print(\"Hello guys!\"),\n",
    "    \"hobbies\":[\"reading\", \"surfing\",\"cooking\"]\n",
    "    \n",
    "}"
   ]
  },
  {
   "cell_type": "code",
   "execution_count": null,
   "id": "ec8c1689",
   "metadata": {},
   "outputs": [],
   "source": [
    "aleix = {\n",
    "    \"name\":\"aleix\",\n",
    "    \"fname\":\"garcia\",\n",
    "    \"time_off\": 30,\n",
    "    \"greeting\":\"Hey everyone\",\n",
    "    \"hobbies\" : [\"none\"]\n",
    "}"
   ]
  },
  {
   "cell_type": "code",
   "execution_count": null,
   "id": "f02b0338",
   "metadata": {},
   "outputs": [],
   "source": [
    "list(pau.keys())"
   ]
  },
  {
   "cell_type": "code",
   "execution_count": null,
   "id": "56b10863",
   "metadata": {},
   "outputs": [],
   "source": [
    "pau[\"fname\"]"
   ]
  },
  {
   "cell_type": "markdown",
   "id": "0acb0ad3",
   "metadata": {
    "lang": "en"
   },
   "source": [
    "I leave you [here](https://realpython.com/python-pep8/#naming-styles) a realpython article about the conventions for naming things (by things I mean variables, classes, functions... code tidbits )\n",
    "The Python user community has adopted a style guide that makes code easier to read and consistent between different user programs. This guide is not mandatory to follow, but it is highly recommended."
   ]
  },
  {
   "cell_type": "code",
   "execution_count": null,
   "id": "9bff67d2",
   "metadata": {},
   "outputs": [],
   "source": [
    "def does_things ():\n",
    "    pass"
   ]
  },
  {
   "cell_type": "code",
   "execution_count": null,
   "id": "fitted-exchange",
   "metadata": {},
   "outputs": [],
   "source": [
    "class Staff ():\n",
    "    pass"
   ]
  },
  {
   "cell_type": "code",
   "execution_count": null,
   "id": "e55ede68",
   "metadata": {},
   "outputs": [],
   "source": [
    "pau = Staff()"
   ]
  },
  {
   "cell_type": "code",
   "execution_count": null,
   "id": "e3f836dd",
   "metadata": {},
   "outputs": [],
   "source": [
    "clara = Staff()"
   ]
  },
  {
   "cell_type": "code",
   "execution_count": null,
   "id": "619d9024",
   "metadata": {},
   "outputs": [],
   "source": [
    "clara.__dict__"
   ]
  },
  {
   "cell_type": "code",
   "execution_count": null,
   "id": "48ee265e",
   "metadata": {},
   "outputs": [],
   "source": [
    "isinstance(clara, Staff)"
   ]
  },
  {
   "cell_type": "code",
   "execution_count": null,
   "id": "ab2b00db",
   "metadata": {},
   "outputs": [],
   "source": [
    "type(pau)"
   ]
  },
  {
   "cell_type": "code",
   "execution_count": null,
   "id": "c4b8809f",
   "metadata": {},
   "outputs": [],
   "source": [
    "dir(pau)"
   ]
  },
  {
   "cell_type": "code",
   "execution_count": null,
   "id": "09dd1a8f",
   "metadata": {},
   "outputs": [],
   "source": [
    "isinstance(a, str)"
   ]
  },
  {
   "cell_type": "code",
   "execution_count": null,
   "id": "596d66c9",
   "metadata": {},
   "outputs": [],
   "source": [
    "pau.__dict__ #This gives me the information to be SEEN as a dictionary"
   ]
  },
  {
   "cell_type": "markdown",
   "id": "9055dd32",
   "metadata": {},
   "source": [
    "### Instance Attributes\n",
    "They contain data that is unique to each instance."
   ]
  },
  {
   "cell_type": "code",
   "execution_count": null,
   "id": "3a23f5a9",
   "metadata": {},
   "outputs": [],
   "source": [
    "pau.name = \"Pau\""
   ]
  },
  {
   "cell_type": "code",
   "execution_count": null,
   "id": "e200218b",
   "metadata": {},
   "outputs": [],
   "source": [
    "pau.age = 30"
   ]
  },
  {
   "cell_type": "code",
   "execution_count": null,
   "id": "149bc19f",
   "metadata": {},
   "outputs": [],
   "source": [
    "pau.__dict__"
   ]
  },
  {
   "cell_type": "code",
   "execution_count": null,
   "id": "ac5eca39",
   "metadata": {},
   "outputs": [],
   "source": [
    "# Below: Class. Very basic example, does't really do anything, but it allows me to create instances"
   ]
  },
  {
   "cell_type": "code",
   "execution_count": null,
   "id": "9bf5990f",
   "metadata": {},
   "outputs": [],
   "source": [
    "class Cookie ():\n",
    "    pass"
   ]
  },
  {
   "cell_type": "code",
   "execution_count": null,
   "id": "f021f236",
   "metadata": {},
   "outputs": [],
   "source": [
    "# Below: Instances"
   ]
  },
  {
   "cell_type": "code",
   "execution_count": null,
   "id": "8c83100d",
   "metadata": {},
   "outputs": [],
   "source": [
    "chocolate_cookie = Cookie() #Instance 1"
   ]
  },
  {
   "cell_type": "code",
   "execution_count": null,
   "id": "44446d3a",
   "metadata": {},
   "outputs": [],
   "source": [
    "chocolate_cookie.chocolate_chips = 36 #Attribute (variable within an instance)"
   ]
  },
  {
   "cell_type": "code",
   "execution_count": null,
   "id": "84c2ec83",
   "metadata": {},
   "outputs": [],
   "source": [
    "second_cookie = Cookie () #Instance 2"
   ]
  },
  {
   "cell_type": "code",
   "execution_count": null,
   "id": "7b77c744",
   "metadata": {},
   "outputs": [],
   "source": [
    "second_cookie.chocolate_chips = 20 #Attribute (variable within an instance)"
   ]
  },
  {
   "cell_type": "code",
   "execution_count": null,
   "id": "cc3d494a",
   "metadata": {},
   "outputs": [],
   "source": [
    "second_cookie.__dict__ # Just for me to see"
   ]
  },
  {
   "cell_type": "code",
   "execution_count": null,
   "id": "299c9182",
   "metadata": {},
   "outputs": [],
   "source": [
    "a = \"sdsd\"\n",
    "b = \"sdsdsss\""
   ]
  },
  {
   "cell_type": "code",
   "execution_count": null,
   "id": "d3926446",
   "metadata": {},
   "outputs": [],
   "source": [
    "type(a)"
   ]
  },
  {
   "cell_type": "code",
   "execution_count": null,
   "id": "dfbf24a3",
   "metadata": {
    "scrolled": true
   },
   "outputs": [],
   "source": [
    "my_age.capitalize() #Without the __things__"
   ]
  },
  {
   "cell_type": "code",
   "execution_count": null,
   "id": "f60be554",
   "metadata": {},
   "outputs": [],
   "source": [
    "a + b"
   ]
  },
  {
   "cell_type": "code",
   "execution_count": null,
   "id": "0a12fd63",
   "metadata": {},
   "outputs": [],
   "source": [
    "a.__add__(b) #__wedontcareabout__ "
   ]
  },
  {
   "cell_type": "code",
   "execution_count": null,
   "id": "1ecb8f36",
   "metadata": {},
   "outputs": [],
   "source": [
    "dir(str) # The things associated with the CLASS string are also held by the instance A, which is a string"
   ]
  },
  {
   "cell_type": "code",
   "execution_count": null,
   "id": "9b99d938",
   "metadata": {},
   "outputs": [],
   "source": [
    "dir(a)"
   ]
  },
  {
   "cell_type": "markdown",
   "id": "39ed3781",
   "metadata": {
    "lang": "en"
   },
   "source": [
    "Instead of doing it one by one, we can create these variables each time an object is instantiated with the special `__init__` method. This function defines all the actions that should be performed when we create a new object. The reason we have two underscores before and after the function name is to indicate that this function is internal to the object and should not be called from outside the object."
   ]
  },
  {
   "cell_type": "code",
   "execution_count": null,
   "id": "59bb3d8c",
   "metadata": {},
   "outputs": [],
   "source": [
    "class Staff ():\n",
    "    \n",
    "    def __init__ (): #Init will allow me to instantiate things with the attributes I choose\n",
    "\n",
    "        name\n",
    "        fname\n",
    "        time_off\n"
   ]
  },
  {
   "cell_type": "code",
   "execution_count": null,
   "id": "cbb99118",
   "metadata": {},
   "outputs": [],
   "source": [
    "class Staff ():\n",
    "    \n",
    "    def __init__ (self, name, fname, time_off): # I use self to be able to refer to myself and access my own information\n",
    "        #Init is necessary to create new instances that are tailored\n",
    "        \n",
    "        self.name = name #this is an attribute, which is a variable\n",
    "        self.fname = fname\n",
    "        self.time_off = time_off"
   ]
  },
  {
   "cell_type": "code",
   "execution_count": null,
   "id": "941eb031",
   "metadata": {},
   "outputs": [],
   "source": [
    "clara = Staff(\"Clara\", \"Fernández\", 30)"
   ]
  },
  {
   "cell_type": "code",
   "execution_count": null,
   "id": "2ce190a7",
   "metadata": {},
   "outputs": [],
   "source": [
    "fer = Staff(\"Fer\", \"Costa\", 20)"
   ]
  },
  {
   "cell_type": "code",
   "execution_count": null,
   "id": "e1904e3e",
   "metadata": {},
   "outputs": [],
   "source": [
    "fer.__dict__"
   ]
  },
  {
   "cell_type": "code",
   "execution_count": null,
   "id": "a1ca191c",
   "metadata": {},
   "outputs": [],
   "source": [
    "clara.name"
   ]
  },
  {
   "cell_type": "code",
   "execution_count": null,
   "id": "d7ebc8f3",
   "metadata": {},
   "outputs": [],
   "source": [
    "# Just for me to see/check\n",
    "\n",
    "clara.__dict__"
   ]
  },
  {
   "cell_type": "code",
   "execution_count": null,
   "id": "0b285deb",
   "metadata": {},
   "outputs": [],
   "source": [
    "# Why do we use self\n",
    "\n",
    "a_dictionary = {\n",
    "    \"name\":\"pau\",\n",
    "    \"fname\":\"peracaula\"\n",
    "}"
   ]
  },
  {
   "cell_type": "code",
   "execution_count": null,
   "id": "66a6a840",
   "metadata": {},
   "outputs": [],
   "source": [
    "a_dictionary[\"name\"]"
   ]
  },
  {
   "cell_type": "code",
   "execution_count": null,
   "id": "b5f7682e",
   "metadata": {},
   "outputs": [],
   "source": [
    "#It would be like using self[\"name\"]"
   ]
  },
  {
   "cell_type": "markdown",
   "id": "a9b11397",
   "metadata": {
    "lang": "en"
   },
   "source": [
    "What does self do? It indicates that the data we are entering is for the object we are creating."
   ]
  },
  {
   "cell_type": "code",
   "execution_count": null,
   "id": "ea2aef87",
   "metadata": {},
   "outputs": [],
   "source": [
    "class Staff ():\n",
    "    \n",
    "    def __init__ (self, name, fname, time_off): # I use self to be able to refer to myself and access my own information\n",
    "        #Init is necessary to create new instances that are tailored\n",
    "        \n",
    "        self.name = name #this is an attribute, which is a variable\n",
    "        self.fname = fname\n",
    "        self.time_off = time_off\n",
    "        \n",
    "        self.mail = self.name.lower() + \".\" + self.fname.lower() + \"@ironhack.com\""
   ]
  },
  {
   "cell_type": "code",
   "execution_count": null,
   "id": "4ccc3fab",
   "metadata": {},
   "outputs": [],
   "source": [
    "pau = Staff(\"Pau\", \"Peracaula\", 30)"
   ]
  },
  {
   "cell_type": "code",
   "execution_count": null,
   "id": "e46f2fbf",
   "metadata": {},
   "outputs": [],
   "source": [
    "clara = Staff(\"Clara\", \"Fdz\", 20)"
   ]
  },
  {
   "cell_type": "code",
   "execution_count": null,
   "id": "4d9a7537",
   "metadata": {},
   "outputs": [],
   "source": [
    "clara.mail"
   ]
  },
  {
   "cell_type": "code",
   "execution_count": null,
   "id": "f1621dd9",
   "metadata": {},
   "outputs": [],
   "source": [
    "pau.__dict__"
   ]
  },
  {
   "cell_type": "markdown",
   "id": "8751e24c",
   "metadata": {
    "lang": "en"
   },
   "source": [
    "#### Default attributes\n",
    "\n",
    "We can initialize the attributes with a default value in case later, when creating the instances, the user or ourselves do not put anything in any of the attributes"
   ]
  },
  {
   "cell_type": "code",
   "execution_count": null,
   "id": "86505cf9",
   "metadata": {},
   "outputs": [],
   "source": [
    "class Staff ():\n",
    "    \n",
    "    def __init__ (self, name, fname, time_off=30): # I use self to be able to refer to myself and access my own information\n",
    "        #Init is necessary to create new instances that are tailored\n",
    "        \n",
    "        self.name = name #this is an attribute, which is a variable\n",
    "        self.fname = fname\n",
    "        self.time_off = time_off\n",
    "        \n",
    "        self.mail = self.name.lower() + \".\" + self.fname.lower() + \"@ironhack.com\""
   ]
  },
  {
   "cell_type": "code",
   "execution_count": null,
   "id": "c1897155",
   "metadata": {},
   "outputs": [],
   "source": [
    "albert = Staff(\"Albert\", \"Coca\")"
   ]
  },
  {
   "cell_type": "code",
   "execution_count": null,
   "id": "8da29afd",
   "metadata": {},
   "outputs": [],
   "source": [
    "albert.time_off"
   ]
  },
  {
   "cell_type": "markdown",
   "id": "0ce1eb62",
   "metadata": {
    "lang": "en"
   },
   "source": [
    "### Instance Methods"
   ]
  },
  {
   "cell_type": "code",
   "execution_count": null,
   "id": "painted-tribe",
   "metadata": {},
   "outputs": [],
   "source": [
    "class Staff ():\n",
    "    \n",
    "    def __init__ (self, name, fname, time_off=30):\n",
    "    #ATTRIBUTES - Variables\n",
    "        self.name = name\n",
    "        self.fname = fname\n",
    "        self.time_off = time_off\n",
    "        \n",
    "        self.mail = self.name.lower() + \".\" + self.fname.lower() + \"@ironhack.com\"\n",
    "    \n",
    "    #METHODS - Functions()\n",
    "    def greeting (self):\n",
    "        print(f\"Morning, my name is {self.name}\")"
   ]
  },
  {
   "cell_type": "code",
   "execution_count": null,
   "id": "48d970b5",
   "metadata": {},
   "outputs": [],
   "source": [
    "laura = Staff(\"Laura\", \"Molas\")"
   ]
  },
  {
   "cell_type": "code",
   "execution_count": null,
   "id": "29412933",
   "metadata": {},
   "outputs": [],
   "source": [
    "albert = Staff(\"Albert\", \"Coca\")"
   ]
  },
  {
   "cell_type": "code",
   "execution_count": null,
   "id": "d91cb63f",
   "metadata": {},
   "outputs": [],
   "source": [
    "laura.name"
   ]
  },
  {
   "cell_type": "code",
   "execution_count": null,
   "id": "49f24aa2",
   "metadata": {},
   "outputs": [],
   "source": [
    "laura.greeting() #Is a method of the class Staff. Laura is an instance of that class, so she can run these methods too"
   ]
  },
  {
   "cell_type": "markdown",
   "id": "3b7de249",
   "metadata": {
    "lang": "en"
   },
   "source": [
    "They are functions within the classes that will save us a lot of time"
   ]
  },
  {
   "cell_type": "code",
   "execution_count": 24,
   "id": "7003e67b",
   "metadata": {},
   "outputs": [],
   "source": [
    "class Staff ():\n",
    "    \n",
    "    def __init__ (self, name, fname, time_off = 30, *hobbies):\n",
    "        self.name = name\n",
    "        self.fname = fname\n",
    "        self.time_off = time_off\n",
    "    \n",
    "        self.hobbies = []\n",
    "        self.mail = self.name.lower() + \".\" + self.fname.lower() + \"@ironhack.com\"\n",
    "    \n",
    "    def greeting (self):\n",
    "        print(f\"Morning, my name is {self.name}\")\n",
    "        \n",
    "    def take_days_off (self):\n",
    "        self.time_off = self.time_off - 1\n",
    "        return f\"I now have {self.time_off} days off for me to take\" \n",
    "    \n",
    "    def hobbies (self):\n",
    "        print(f\"{self.hobbies}\")"
   ]
  },
  {
   "cell_type": "markdown",
   "id": "477bb30f",
   "metadata": {},
   "source": [
    "-> # Target variables when instantiaing, ingnoring defaults. \n",
    "-> []"
   ]
  },
  {
   "cell_type": "code",
   "execution_count": 25,
   "id": "76c919b0",
   "metadata": {},
   "outputs": [],
   "source": [
    "nevan = Staff(\"Nevan\", \"Scott\", 20)"
   ]
  },
  {
   "cell_type": "code",
   "execution_count": 26,
   "id": "b2d4aa5e",
   "metadata": {},
   "outputs": [
    {
     "data": {
      "text/plain": [
       "__main__.Staff"
      ]
     },
     "execution_count": 26,
     "metadata": {},
     "output_type": "execute_result"
    }
   ],
   "source": [
    "type(nevan)"
   ]
  },
  {
   "cell_type": "code",
   "execution_count": 30,
   "id": "92b88fb4",
   "metadata": {},
   "outputs": [
    {
     "name": "stdout",
     "output_type": "stream",
     "text": [
      "Morning, my name is Nevan\n"
     ]
    },
    {
     "ename": "TypeError",
     "evalue": "'list' object is not callable",
     "output_type": "error",
     "traceback": [
      "\u001b[0;31m---------------------------------------------------------------------------\u001b[0m",
      "\u001b[0;31mTypeError\u001b[0m                                 Traceback (most recent call last)",
      "Input \u001b[0;32mIn [30]\u001b[0m, in \u001b[0;36m<cell line: 2>\u001b[0;34m()\u001b[0m\n\u001b[1;32m      1\u001b[0m nevan\u001b[38;5;241m.\u001b[39mgreeting()\n\u001b[0;32m----> 2\u001b[0m \u001b[43mnevan\u001b[49m\u001b[38;5;241;43m.\u001b[39;49m\u001b[43mhobbies\u001b[49m\u001b[43m(\u001b[49m\u001b[43m)\u001b[49m\n",
      "\u001b[0;31mTypeError\u001b[0m: 'list' object is not callable"
     ]
    }
   ],
   "source": [
    "nevan.greeting()\n",
    "nevan.hobbies()"
   ]
  },
  {
   "cell_type": "code",
   "execution_count": 28,
   "id": "a5bb5edb",
   "metadata": {},
   "outputs": [
    {
     "data": {
      "text/plain": [
       "'nevan.scott@ironhack.com'"
      ]
     },
     "execution_count": 28,
     "metadata": {},
     "output_type": "execute_result"
    }
   ],
   "source": [
    "nevan.mail"
   ]
  },
  {
   "cell_type": "code",
   "execution_count": 29,
   "id": "602f8fee",
   "metadata": {},
   "outputs": [
    {
     "ename": "TypeError",
     "evalue": "'list' object is not callable",
     "output_type": "error",
     "traceback": [
      "\u001b[0;31m---------------------------------------------------------------------------\u001b[0m",
      "\u001b[0;31mTypeError\u001b[0m                                 Traceback (most recent call last)",
      "Input \u001b[0;32mIn [29]\u001b[0m, in \u001b[0;36m<cell line: 1>\u001b[0;34m()\u001b[0m\n\u001b[0;32m----> 1\u001b[0m \u001b[43mnevan\u001b[49m\u001b[38;5;241;43m.\u001b[39;49m\u001b[43mhobbies\u001b[49m\u001b[43m(\u001b[49m\u001b[43m)\u001b[49m\n",
      "\u001b[0;31mTypeError\u001b[0m: 'list' object is not callable"
     ]
    }
   ],
   "source": [
    "nevan.hobbies()"
   ]
  },
  {
   "cell_type": "code",
   "execution_count": 4,
   "id": "1f62e2a3",
   "metadata": {},
   "outputs": [
    {
     "data": {
      "text/plain": [
       "{'name': 'Nevan',\n",
       " 'fname': 'Scott',\n",
       " 'time_off': 20,\n",
       " 'bonus': ('5',),\n",
       " 'hobbies': [],\n",
       " 'mail': 'nevan.scott@ironhack.com'}"
      ]
     },
     "execution_count": 4,
     "metadata": {},
     "output_type": "execute_result"
    }
   ],
   "source": [
    "nevan.__dict__"
   ]
  },
  {
   "cell_type": "code",
   "execution_count": null,
   "id": "fabf598b",
   "metadata": {},
   "outputs": [],
   "source": [
    "nevan = Staff(\"Nevan\", \"Scott\", 10, 5)"
   ]
  },
  {
   "cell_type": "code",
   "execution_count": null,
   "id": "a27d6b38",
   "metadata": {},
   "outputs": [],
   "source": [
    "nevan.__dict__"
   ]
  },
  {
   "cell_type": "code",
   "execution_count": null,
   "id": "f99a57d7",
   "metadata": {},
   "outputs": [],
   "source": [
    "nevan.bonus = 3"
   ]
  },
  {
   "cell_type": "code",
   "execution_count": null,
   "id": "0cbc577d",
   "metadata": {},
   "outputs": [],
   "source": [
    "nevan.__dict__"
   ]
  },
  {
   "cell_type": "code",
   "execution_count": null,
   "id": "194c569e",
   "metadata": {},
   "outputs": [],
   "source": [
    "nevan.time_off"
   ]
  },
  {
   "cell_type": "code",
   "execution_count": null,
   "id": "d627afcb",
   "metadata": {},
   "outputs": [],
   "source": [
    "nevan.time_off = 20"
   ]
  },
  {
   "cell_type": "code",
   "execution_count": null,
   "id": "6537e8df",
   "metadata": {},
   "outputs": [],
   "source": [
    "nevan.take_days_off()"
   ]
  },
  {
   "cell_type": "code",
   "execution_count": null,
   "id": "35c9fd48",
   "metadata": {},
   "outputs": [],
   "source": [
    "nevan.__dict__"
   ]
  },
  {
   "cell_type": "code",
   "execution_count": null,
   "id": "3a31677c",
   "metadata": {},
   "outputs": [],
   "source": [
    "nevan.hobbies()"
   ]
  },
  {
   "cell_type": "code",
   "execution_count": 19,
   "id": "ae2dc4fb",
   "metadata": {},
   "outputs": [],
   "source": [
    "class Staff ():\n",
    "        \n",
    "    def __init__ (self, name, age=30, *hobbies):\n",
    "        self.name = name\n",
    "        self.age = age\n",
    "        self.hobbies = []\n",
    "        \n",
    "    def hobby (self, *new_hobby):\n",
    "        return f\"{self.hobbies}\"\n"
   ]
  },
  {
   "cell_type": "code",
   "execution_count": 20,
   "id": "03ea51b9",
   "metadata": {},
   "outputs": [],
   "source": [
    "nevan = Staff(\"nevan\")"
   ]
  },
  {
   "cell_type": "code",
   "execution_count": 21,
   "id": "e687ecdb",
   "metadata": {},
   "outputs": [
    {
     "data": {
      "text/plain": [
       "'[]'"
      ]
     },
     "execution_count": 21,
     "metadata": {},
     "output_type": "execute_result"
    }
   ],
   "source": [
    "nevan.hobby()"
   ]
  },
  {
   "cell_type": "markdown",
   "id": "c584762d",
   "metadata": {
    "lang": "en"
   },
   "source": [
    "**watch out** 👀\n",
    "If we modify a class and add attributes or methods, we have to recreate the object so that it is initialized with those attributes and has those methods."
   ]
  },
  {
   "cell_type": "markdown",
   "id": "b6c1dbd0",
   "metadata": {
    "lang": "en"
   },
   "source": [
    "#### Python is built with objects\n",
    "In Python primitive data types are also objects that have associated attributes and methods."
   ]
  },
  {
   "cell_type": "code",
   "execution_count": null,
   "id": "approved-transsexual",
   "metadata": {},
   "outputs": [],
   "source": []
  },
  {
   "cell_type": "markdown",
   "id": "e6af3733",
   "metadata": {
    "lang": "en"
   },
   "source": [
    "Whenever we do .something, it is because we are calling the methods of that class"
   ]
  },
  {
   "cell_type": "code",
   "execution_count": null,
   "id": "b629d802",
   "metadata": {},
   "outputs": [],
   "source": []
  },
  {
   "cell_type": "markdown",
   "id": "2b7c965f",
   "metadata": {
    "lang": "en"
   },
   "source": [
    "### Class variables"
   ]
  },
  {
   "cell_type": "code",
   "execution_count": null,
   "id": "e55d6664",
   "metadata": {},
   "outputs": [],
   "source": []
  },
  {
   "cell_type": "markdown",
   "id": "0f2e376c",
   "metadata": {
    "lang": "en"
   },
   "source": [
    "**Also watch out** <br>\n",
    "If I want to modify a class variable for all the objects already created and not have to go one by one.\n",
    "Although there is a but with this.... 🙃"
   ]
  },
  {
   "cell_type": "code",
   "execution_count": null,
   "id": "8933998b",
   "metadata": {},
   "outputs": [],
   "source": []
  },
  {
   "cell_type": "markdown",
   "id": "2a28ab69",
   "metadata": {
    "lang": "en"
   },
   "source": [
    "In general, class attributes should not be used, except to store constant values."
   ]
  },
  {
   "cell_type": "markdown",
   "id": "85eab9f4",
   "metadata": {
    "lang": "en"
   },
   "source": [
    "### Methods that can modify attributes"
   ]
  },
  {
   "cell_type": "code",
   "execution_count": null,
   "id": "reported-guyana",
   "metadata": {},
   "outputs": [],
   "source": []
  },
  {
   "cell_type": "markdown",
   "id": "9ad7387e",
   "metadata": {
    "lang": "en"
   },
   "source": [
    "**Exercise**\n",
    "\n",
    "Create a class `Circle` with:\n",
    "- radius as instance/object variable\n",
    "- pi (math.pi) as class variable\n",
    "- a compute_area(self) method that returns the area of ​​the \"circle\" object"
   ]
  },
  {
   "cell_type": "code",
   "execution_count": null,
   "id": "focused-invite",
   "metadata": {},
   "outputs": [],
   "source": [
    "import math"
   ]
  },
  {
   "cell_type": "code",
   "execution_count": null,
   "id": "655b7a4b",
   "metadata": {},
   "outputs": [],
   "source": []
  },
  {
   "cell_type": "markdown",
   "id": "87cccad5",
   "metadata": {
    "lang": "en"
   },
   "source": [
    "## Before continuing, let's take a breath and review vocabulary"
   ]
  },
  {
   "cell_type": "markdown",
   "id": "9170647e",
   "metadata": {
    "lang": "en"
   },
   "source": [
    "- **Class**: The cookie mold. With the class we can generate instances or objects.\n",
    "- **Object**: The cookie we generated. Each object has different characteristics but under the same pattern as the class.\n",
    "- **Instance**: Same as object, it's a synonym :) hehe\n",
    "- **Attribute**: The different ingredients of each object. They are defined as arguments in the __init__ function but are saved as data when we instantiate an object by calling the class"
   ]
  },
  {
   "cell_type": "markdown",
   "id": "b9edf159",
   "metadata": {},
   "source": [
    "```python\n",
    "pau = Instructor(\"Pau\", \"Peracaula\")\n",
    "```"
   ]
  },
  {
   "cell_type": "markdown",
   "id": "05499ca5",
   "metadata": {},
   "source": [
    "We can say that the attributes are the DATA, in this case \"Pau\" and \"Peracaula\".\n",
    "They are variables\n",
    "\n",
    "\n",
    "* **Class attribute**: Variables that belong to the class and that will be the same in all objects.\n",
    "* **Object/instance attribute**: The attributes explained above, specific to each object.\n",
    "* **Method**: Functions that do things"
   ]
  },
  {
   "cell_type": "markdown",
   "id": "8772dea7",
   "metadata": {
    "lang": "en"
   },
   "source": [
    "#### Easy exercise\n",
    "Kata --> https://www.codewars.com/kata/53f0f358b9cb376eca001079/train/python\n",
    "\n",
    "You can ignore the \"object\" for now"
   ]
  },
  {
   "cell_type": "code",
   "execution_count": null,
   "id": "b45a2f58",
   "metadata": {},
   "outputs": [],
   "source": []
  },
  {
   "cell_type": "markdown",
   "id": "pressed-proof",
   "metadata": {},
   "source": [
    "## Inheritance"
   ]
  },
  {
   "cell_type": "markdown",
   "id": "1f62f02d",
   "metadata": {
    "lang": "en"
   },
   "source": [
    "Inheritance allows defining new classes from existing classes. The class from which it is inherited is called the \"parent class\"/\"superclass\"/\"parent\". The class that it inherits is called a \"child class\" or \"subclass.\"\n",
    "The child class \"inherits\" all the properties of the parent class and allows us to override methods and attributes or add new ones. The fundamental advantage that the inheritance mechanism brings to programming is the ability to reuse code. Thus, a set of classes that share attributes and methods can inherit from a superclass where those methods and attributes are defined."
   ]
  },
  {
   "cell_type": "markdown",
   "id": "wanted-works",
   "metadata": {},
   "source": [
    "\n",
    "![miniyoda](https://media.giphy.com/media/j0eRJzyW7XjMpu1Pqd/giphy.gif)"
   ]
  },
  {
   "cell_type": "code",
   "execution_count": null,
   "id": "unsigned-butterfly",
   "metadata": {},
   "outputs": [],
   "source": []
  },
  {
   "cell_type": "markdown",
   "id": "37b8b77c",
   "metadata": {
    "lang": "en"
   },
   "source": [
    "- Method defined in the `parent`, but not in the `child`\n",
    "\n",
    "In this case, the child will inherit the parent's method, it will work exactly the same and there is no need to override it.\n",
    "\n",
    "- Method defined in `Child`, but not in Parent\n",
    "\n",
    "The method only belongs to the child. Inheritance is one way.\n",
    "\n",
    "- Method set to \"both\".\n",
    "\n",
    "Two things can happen here, but both are a variant of the same fact. The method written in the `Child` class will override the one previously defined in Parent.\n",
    "\n",
    "However, if we want to use the original method and just add something else to it, we can always refer to the original (parent) method with `super()`. The `super()` function allows us to call any method of the parent class. Just remember to call it on the new define and make sure you get all the attributes it needs 😉 ."
   ]
  },
  {
   "cell_type": "markdown",
   "id": "willing-workshop",
   "metadata": {},
   "source": [
    "### super()"
   ]
  },
  {
   "cell_type": "code",
   "execution_count": null,
   "id": "dc954ca0",
   "metadata": {},
   "outputs": [],
   "source": []
  },
  {
   "cell_type": "markdown",
   "id": "2ca7486c",
   "metadata": {
    "lang": "en"
   },
   "source": [
    "### Method Resolution"
   ]
  },
  {
   "cell_type": "code",
   "execution_count": null,
   "id": "metallic-differential",
   "metadata": {},
   "outputs": [],
   "source": [
    "print(help(Lead))"
   ]
  },
  {
   "cell_type": "markdown",
   "id": "e26f2fec",
   "metadata": {
    "lang": "en"
   },
   "source": [
    "## Summary\n",
    "Now it's your turn: What have we learned? 🤯\n"
   ]
  },
  {
   "cell_type": "code",
   "execution_count": null,
   "id": "5ff2996d",
   "metadata": {},
   "outputs": [],
   "source": []
  },
  {
   "cell_type": "markdown",
   "id": "7d8865bd",
   "metadata": {
    "lang": "en"
   },
   "source": [
    "## Furthermaterials\n",
    "\n",
    "- Youtube Tutorial by [Corey Schafer](https://www.youtube.com/watch?v=ZDa-Z5JzLYM)\n",
    "- [Real Python](https://docs.hektorprofe.net/python/object-oriented-programming/classes-and-objects/)\n",
    "- [Interesting read](https://medium.com/@shaistha24/functional-programming-vs-object-oriented-programming-oop-which-is-better-82172e53a526) --> OOP vs Functional programming"
   ]
  },
  {
   "cell_type": "markdown",
   "id": "92bd3cce",
   "metadata": {
    "lang": "en"
   },
   "source": [
    "### Methods **ADVANCED** @classmethod@staticmethod\n",
    "* [Real Python - @classmethod/@stathicmethod](https://realpython.com/instance-class-and-static-methods-demystified/). Advanced Python with decorators (we'll mention them later)"
   ]
  }
 ],
 "metadata": {
  "kernelspec": {
   "display_name": "Python 3 (ipykernel)",
   "language": "python",
   "name": "python3"
  },
  "language_info": {
   "codemirror_mode": {
    "name": "ipython",
    "version": 3
   },
   "file_extension": ".py",
   "mimetype": "text/x-python",
   "name": "python",
   "nbconvert_exporter": "python",
   "pygments_lexer": "ipython3",
   "version": "3.9.12"
  },
  "nbTranslate": {
   "displayLangs": [
    "en",
    "es"
   ],
   "hotkey": "alt-a",
   "langInMainMenu": true,
   "sourceLang": "es",
   "targetLang": "en",
   "useGoogleTranslate": true
  },
  "toc": {
   "base_numbering": 1,
   "nav_menu": {},
   "number_sections": true,
   "sideBar": true,
   "skip_h1_title": true,
   "title_cell": "Table of Contents",
   "title_sidebar": "Contents",
   "toc_cell": true,
   "toc_position": {
    "height": "calc(100% - 180px)",
    "left": "10px",
    "top": "150px",
    "width": "288px"
   },
   "toc_section_display": true,
   "toc_window_display": true
  }
 },
 "nbformat": 4,
 "nbformat_minor": 5
}
