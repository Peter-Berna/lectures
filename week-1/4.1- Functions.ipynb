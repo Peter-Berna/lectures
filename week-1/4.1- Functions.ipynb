{
 "cells": [
  {
   "cell_type": "markdown",
   "id": "9eb0f57b",
   "metadata": {
    "lang": "en"
   },
   "source": [
    "# Functional Programming"
   ]
  },
  {
   "cell_type": "markdown",
   "id": "conceptual-behalf",
   "metadata": {},
   "source": [
    "![elgif](https://media.giphy.com/media/CuMiNoTRz2bYc/giphy.gif)"
   ]
  },
  {
   "cell_type": "markdown",
   "id": "incorrect-serum",
   "metadata": {
    "toc": true
   },
   "source": [
    "<h1>Table of Contents<span class=\"tocSkip\"></span></h1>\n",
    "<div class=\"toc\"><ul class=\"toc-item\"><li><span><a href=\"#Your-contributions-🚀\" data-toc-modified-id=\"Your-contributions-🚀-1\"><span class=\"toc-item-num\">1&nbsp;&nbsp;</span>Your contributions 🚀</a></span></li><li><span><a href=\"#What-is-functional-programming?\" data-toc-modified-id=\"What-is-functional-programming?-2\"><span class=\"toc-item-num\">2&nbsp;&nbsp;</span>What is functional programming?</a></span></li><li><span><a href=\"#Built-in-functions\" data-toc-modified-id=\"Built-in-functions-3\"><span class=\"toc-item-num\">3&nbsp;&nbsp;</span>Built-in functions</a></span></li><li><span><a href=\"#Extract-the-source-code-of-a-function\" data-toc-modified-id=\"Extract-the-source-code-of-a-function-4\"><span class=\"toc-item-num\">4&nbsp;&nbsp;</span>Extract the source code of a function</a></span></li><li><span><a href=\"#Function-Syntax\" data-toc-modified-id=\"Function-Syntax-5\"><span class=\"toc-item-num\">5&nbsp;&nbsp;</span>Function Syntax</a></span></li><li><span><a href=\"#Parameters-vs-Arguments\" data-toc-modified-id=\"Parameters-vs-Arguments-6\"><span class=\"toc-item-num\">6&nbsp;&nbsp;</span>Parameters vs Arguments</a></span></li><li><span><a href=\"#Functions-that-have-no-parameters\" data-toc-modified-id=\"Functions-that-have-no-parameters-7\"><span class=\"toc-item-num\">7&nbsp;&nbsp;</span>Functions that have no parameters</a></span></li><li><span><a href=\"#Functions-that-have-no-return\" data-toc-modified-id=\"Functions-that-have-no-return-8\"><span class=\"toc-item-num\">8&nbsp;&nbsp;</span>Functions that have no return</a></span></li><li><span><a href=\"#Let's-write-functions\" data-toc-modified-id=\"Let's-write-functions-9\"><span class=\"toc-item-num\">9&nbsp;&nbsp;</span>Let's write functions</a></span></li><li><span><a href=\"#Default-parameters\" data-toc-modified-id=\"Default-parameters-10\"><span class=\"toc-item-num\">10&nbsp;&nbsp;</span>Default parameters</a></span></li><li><span><a href=\"#PLEASE-don't-confuse-PRINTs-inside-a-function-with-RETURNs!\" data-toc-modified-id=\"PLEASE-don't-confuse-PRINTs-inside-a-function-with-RETURNs!-11\"><span class=\"toc-item-num\">11&nbsp;&nbsp;</span>PLEASE don't confuse PRINTs inside a function with RETURNs!</a></span></li><li><span><a href=\"#Docstring\" data-toc-modified-id=\"Docstring-12\"><span class=\"toc-item-num\">12&nbsp;&nbsp;</span>Docstring</a></span></li><li><span><a href=\"#Scope-of-functions\" data-toc-modified-id=\"Scope-of-functions-13\"><span class=\"toc-item-num\">13&nbsp;&nbsp;</span>Scope of functions</a></span></li><li><span><a href=\"#*Args\" data-toc-modified-id=\"*Args-14\"><span class=\"toc-item-num\">14&nbsp;&nbsp;</span>*Args</a></span></li><li><span><a href=\"#**Kwargs\" data-toc-modified-id=\"**Kwargs-15\"><span class=\"toc-item-num\">15&nbsp;&nbsp;</span>**Kwargs</a></span></li><li><span><a href=\"#Order-Matters\" data-toc-modified-id=\"Order-Matters-16\"><span class=\"toc-item-num\">16&nbsp;&nbsp;</span>Order Matters</a></span></li><li><span><a href=\"#Lambda\" data-toc-modified-id=\"Lambda-17\"><span class=\"toc-item-num\">17&nbsp;&nbsp;</span>Lambda</a></span><ul class=\"toc-item\"><li><span><a href=\"#Syntax-of-a-lambda\" data-toc-modified-id=\"Syntax-of-a-lambda-17.1\"><span class=\"toc-item-num\">17.1&nbsp;&nbsp;</span>Syntax of a lambda</a></span></li><li><span><a href=\"#lambda-examples\" data-toc-modified-id=\"lambda-examples-17.2\"><span class=\"toc-item-num\">17.2&nbsp;&nbsp;</span>lambda examples</a></span></li></ul></li><li><span><a href=\"#Recursion\" data-toc-modified-id=\"Recursion-18\"><span class=\"toc-item-num\">18&nbsp;&nbsp;</span>Recursion</a></span></li><li><span><a href=\"#Summary\" data-toc-modified-id=\"Summary-19\"><span class=\"toc-item-num\">19&nbsp;&nbsp;</span>Summary</a></span></li></ul></div>"
   ]
  },
  {
   "cell_type": "markdown",
   "id": "c8dbbad6",
   "metadata": {
    "lang": "en"
   },
   "source": [
    "## Your contributions 🚀\n",
    "What do you think functions do/what properties do they have? Whare they useful for?"
   ]
  },
  {
   "cell_type": "markdown",
   "id": "4d00796e",
   "metadata": {},
   "source": [
    "\n",
    "- Re-usable code\n",
    "- Variable depending*\n",
    "- It takes parameters\n",
    "- Defining functions: def \n",
    "- Def + name + parentheses :\n",
    "- They can return something (they don't really have to, but most of the times)\n",
    "- Variables can be independant from your code: \n",
    "- Arguments & params\n",
    "\n",
    "```python\n",
    "def does_things(age) -> param (age)\n",
    "\n",
    "does_things(31) -> argument (31)\n",
    "```\n",
    "\n",
    "- Built-in functions(`.capitalize()`), user-defined functions (`def`), `lambda`\n",
    "- `print()` is a funciton\n",
    "- return ?\n",
    "- You can have functions that don't have a return\n",
    "- A function will do things and you might keep or not keep the result"
   ]
  },
  {
   "cell_type": "markdown",
   "id": "199cb1a8",
   "metadata": {
    "lang": "en"
   },
   "source": [
    "## What is functional programming?\n",
    "What does it mean that Python is multi-paradigm?\n",
    "According to Wikipedia:\n",
    "\n",
    "“Python is an interpreted programming language whose philosophy emphasizes the readability of its code. It is a multiparadigm programming language, since it supports object orientation, imperative programming and, to a lesser extent, functional programming.\n",
    "\n",
    "It means that it accepts different ways of working with language. Basically there are 3 predominant paradigms, or in other words, 3 global formats to organize a code.\n",
    "\n",
    "**Imperative programming (structured)**: the code will be executed from the beginning of the file to the end without following any type of deviation. Its biggest advantage lies in its simplicity and low weight. Its danger is the spaghetti code, files with hundreds or thousands of lines where only a few human beings are able to modify and emerge victorious.\n",
    "\n",
    "**Object Oriented Programming (OOP or Object Oriented Programming)**: where variables and functions are encapsulated in small modules capable of being cloned and modified. Its strong point is the ability to reuse and isolate to avoid problems with other features. The negative part lies in the complexity of creating good objects and debugging.\n",
    "\n",
    "**Functional programming (FP or Functional programming)**: where the code is divided into simple functions capable of being invoked with variables or other functions. Its ease of use by atomicity achieves robust maintainability and compatibility with almost any language. In addition, its immutability of variables avoids many of the problems that object-oriented programming suffers."
   ]
  },
  {
   "cell_type": "markdown",
   "id": "b0b67350",
   "metadata": {},
   "source": [
    "- Imperative prgramming: instructions line by line: flow of work, line by line\n",
    "- OOP: object oriented programming, \n",
    "- FP: you define functions for you to use and re-use"
   ]
  },
  {
   "cell_type": "markdown",
   "id": "7f89fd70",
   "metadata": {
    "lang": "en"
   },
   "source": [
    "## Built-in functions"
   ]
  },
  {
   "cell_type": "markdown",
   "id": "80919246",
   "metadata": {
    "lang": "en"
   },
   "source": [
    "The Python interpreter has a number of built-in functions and types that are always available. They are listed [here](https://docs.python.org/3/library/functions.html) in alphabetical order."
   ]
  },
  {
   "cell_type": "code",
   "execution_count": null,
   "id": "8b159633",
   "metadata": {},
   "outputs": [],
   "source": [
    "# User-defined (def), built-in (print, capitalize(), min(), max()), lambda"
   ]
  },
  {
   "cell_type": "code",
   "execution_count": 74,
   "id": "f9402f41",
   "metadata": {},
   "outputs": [
    {
     "data": {
      "text/plain": [
       "'Hey'"
      ]
     },
     "execution_count": 74,
     "metadata": {},
     "output_type": "execute_result"
    }
   ],
   "source": [
    "new_str = \"hey\"\n",
    "\n",
    "new_str.capitalize() #built-in"
   ]
  },
  {
   "cell_type": "markdown",
   "id": "3ea6d549",
   "metadata": {
    "lang": "en"
   },
   "source": [
    "## Extract the source code of a function\n",
    "While we're talking about built-ints, out of curiosity, if we need to extract the code from a previously written function..."
   ]
  },
  {
   "cell_type": "code",
   "execution_count": 78,
   "id": "08fa9088",
   "metadata": {},
   "outputs": [],
   "source": [
    "def greetings ():\n",
    "    \"\"\"This function just says hello\n",
    "    \"\"\"\n",
    "    return \"Hello\""
   ]
  },
  {
   "cell_type": "code",
   "execution_count": 79,
   "id": "8c27f7d4",
   "metadata": {},
   "outputs": [
    {
     "name": "stdout",
     "output_type": "stream",
     "text": [
      "def greetings ():\n",
      "    \"\"\"This function just says hello\n",
      "    \"\"\"\n",
      "    return \"Hello\"\n",
      "\n"
     ]
    }
   ],
   "source": [
    "import inspect\n",
    "print(inspect.getsource(greetings))"
   ]
  },
  {
   "cell_type": "markdown",
   "id": "d36c02f5",
   "metadata": {
    "lang": "en"
   },
   "source": [
    "In case of built-in functions we can't extract the code with inspect, since Python itself is written in C... the Print function looks like this 👇🏻"
   ]
  },
  {
   "cell_type": "markdown",
   "id": "through-silicon",
   "metadata": {},
   "source": [
    "```C\n",
    "static PyObject *\n",
    "builtin_print(PyObject *self, PyObject *args, PyObject *kwds)\n",
    "{\n",
    "    static char *kwlist[] = {\"sep\", \"end\", \"file\", 0};\n",
    "    static PyObject *dummy_args = NULL;\n",
    "    static PyObject *unicode_newline = NULL, *unicode_space = NULL;\n",
    "    static PyObject *str_newline = NULL, *str_space = NULL;\n",
    "    PyObject *newline, *space;\n",
    "    PyObject *sep = NULL, *end = NULL, *file = NULL;\n",
    "    int i, err, use_unicode = 0;\n",
    "\n",
    "    if (dummy_args == NULL) {\n",
    "        if (!(dummy_args = PyTuple_New(0)))\n",
    "            return NULL;\n",
    "    }\n",
    "    if (str_newline == NULL) {\n",
    "        str_newline = PyString_FromString(\"\\n\");\n",
    "        if (str_newline == NULL)\n",
    "            return NULL;\n",
    "        str_space = PyString_FromString(\" \");\n",
    "        if (str_space == NULL) {\n",
    "            Py_CLEAR(str_newline);\n",
    "            return NULL;\n",
    "        }\n",
    "#ifdef Py_USING_UNICODE\n",
    "        unicode_newline = PyUnicode_FromString(\"\\n\");\n",
    "        if (unicode_newline == NULL) {\n",
    "            Py_CLEAR(str_newline);\n",
    "            Py_CLEAR(str_space);\n",
    "            return NULL;\n",
    "        }\n",
    "        unicode_space = PyUnicode_FromString(\" \");\n",
    "        if (unicode_space == NULL) {\n",
    "            Py_CLEAR(str_newline);\n",
    "            Py_CLEAR(str_space);\n",
    "            Py_CLEAR(unicode_space);\n",
    "            return NULL;\n",
    "        }\n",
    "#endif\n",
    "    }\n",
    "    if (!PyArg_ParseTupleAndKeywords(dummy_args, kwds, \"|OOO:print\",\n",
    "                                     kwlist, &sep, &end, &file))\n",
    "        return NULL;\n",
    "    if (file == NULL || file == Py_None) {\n",
    "        file = PySys_GetObject(\"stdout\");\n",
    "        /* sys.stdout may be None when FILE* stdout isn't connected */\n",
    "        if (file == Py_None)\n",
    "            Py_RETURN_NONE;\n",
    "    }\n",
    "    if (sep == Py_None) {\n",
    "        sep = NULL;\n",
    "    }\n",
    "    else if (sep) {\n",
    "        if (PyUnicode_Check(sep)) {\n",
    "            use_unicode = 1;\n",
    "        }\n",
    "        else if (!PyString_Check(sep)) {\n",
    "            PyErr_Format(PyExc_TypeError,\n",
    "                         \"sep must be None, str or unicode, not %.200s\",\n",
    "                         sep->ob_type->tp_name);\n",
    "            return NULL;\n",
    "        }\n",
    "    }\n",
    "    if (end == Py_None)\n",
    "        end = NULL;\n",
    "    else if (end) {\n",
    "        if (PyUnicode_Check(end)) {\n",
    "            use_unicode = 1;\n",
    "        }\n",
    "        else if (!PyString_Check(end)) {\n",
    "            PyErr_Format(PyExc_TypeError,\n",
    "                         \"end must be None, str or unicode, not %.200s\",\n",
    "                         end->ob_type->tp_name);\n",
    "            return NULL;\n",
    "        }\n",
    "    }\n",
    "\n",
    "    if (!use_unicode) {\n",
    "        for (i = 0; i < PyTuple_Size(args); i++) {\n",
    "            if (PyUnicode_Check(PyTuple_GET_ITEM(args, i))) {\n",
    "                use_unicode = 1;\n",
    "                break;\n",
    "            }\n",
    "        }\n",
    "    }\n",
    "    if (use_unicode) {\n",
    "        newline = unicode_newline;\n",
    "        space = unicode_space;\n",
    "    }\n",
    "    else {\n",
    "        newline = str_newline;\n",
    "        space = str_space;\n",
    "    }\n",
    "\n",
    "    for (i = 0; i < PyTuple_Size(args); i++) {\n",
    "        if (i > 0) {\n",
    "            if (sep == NULL)\n",
    "                err = PyFile_WriteObject(space, file,\n",
    "                                         Py_PRINT_RAW);\n",
    "            else\n",
    "                err = PyFile_WriteObject(sep, file,\n",
    "                                         Py_PRINT_RAW);\n",
    "            if (err)\n",
    "                return NULL;\n",
    "        }\n",
    "        err = PyFile_WriteObject(PyTuple_GetItem(args, i), file,\n",
    "                                 Py_PRINT_RAW);\n",
    "        if (err)\n",
    "            return NULL;\n",
    "    }\n",
    "\n",
    "    if (end == NULL)\n",
    "        err = PyFile_WriteObject(newline, file, Py_PRINT_RAW);\n",
    "    else\n",
    "        err = PyFile_WriteObject(end, file, Py_PRINT_RAW);\n",
    "    if (err)\n",
    "        return NULL;\n",
    "\n",
    "    Py_RETURN_NONE;\n",
    "}\n",
    "```"
   ]
  },
  {
   "cell_type": "code",
   "execution_count": 80,
   "id": "dda036e0",
   "metadata": {},
   "outputs": [
    {
     "name": "stdout",
     "output_type": "stream",
     "text": [
      "3\n"
     ]
    }
   ],
   "source": [
    "a = 3\n",
    "print(a)"
   ]
  },
  {
   "cell_type": "markdown",
   "id": "85d6428d",
   "metadata": {
    "lang": "en"
   },
   "source": [
    "## Function Syntax\n",
    "\n",
    "Syntax for defining a function:\n",
    "```python\n",
    "\n",
    "def name_function(input params):\n",
    "    # the colon and the indentation imply being in the function\n",
    "    take an action\n",
    "    return() # return a certain value\n",
    "\n",
    "```\n",
    "\n",
    "Function execution:\n",
    "```python\n",
    "name_of_the_function(argument1, argument2, ...)\n",
    "```\n",
    "or, if you want to save the result in a variable\n",
    "```python\n",
    "result = name_of_the_function(argument1, argument2, ...)\n",
    "```"
   ]
  },
  {
   "cell_type": "markdown",
   "id": "f2c07b7a",
   "metadata": {
    "lang": "en"
   },
   "source": [
    "## Parameters vs Arguments\n",
    "Formal parameters for a function are listed in the function declaration and used in the body of the function definition.\n",
    "\n",
    "An argument is what is used when referring to parameters. When you write a function call, the arguments are listed in parentheses after the function name. When the function call is executed, the arguments are inserted for the parameters.\n",
    "\n",
    "Let's say then that the parameters are those \"imaginary\" variables that will have the same name in the definition and in the body of the function.\n",
    "The arguments are the REAL DATA that we use when we call the function."
   ]
  },
  {
   "cell_type": "code",
   "execution_count": 81,
   "id": "16b1124e",
   "metadata": {},
   "outputs": [],
   "source": [
    "def creates_recipe (food): # food -> params\n",
    "    return \"string\""
   ]
  },
  {
   "cell_type": "code",
   "execution_count": 82,
   "id": "5cd10844",
   "metadata": {},
   "outputs": [
    {
     "data": {
      "text/plain": [
       "'string'"
      ]
     },
     "execution_count": 82,
     "metadata": {},
     "output_type": "execute_result"
    }
   ],
   "source": [
    "creates_recipe (\"cheese\") # cheese -> argument"
   ]
  },
  {
   "cell_type": "markdown",
   "id": "f4adbaec",
   "metadata": {
    "lang": "en"
   },
   "source": [
    "## Functions that have no parameters"
   ]
  },
  {
   "cell_type": "code",
   "execution_count": 83,
   "id": "210ebf77",
   "metadata": {},
   "outputs": [],
   "source": [
    "def greetings ():\n",
    "    return \"Hello!\""
   ]
  },
  {
   "cell_type": "code",
   "execution_count": 84,
   "id": "ce00f172",
   "metadata": {},
   "outputs": [
    {
     "data": {
      "text/plain": [
       "'Hello!'"
      ]
     },
     "execution_count": 84,
     "metadata": {},
     "output_type": "execute_result"
    }
   ],
   "source": [
    "greetings()"
   ]
  },
  {
   "cell_type": "code",
   "execution_count": 86,
   "id": "449765d8",
   "metadata": {},
   "outputs": [
    {
     "data": {
      "text/plain": [
       "'Hello! Pau'"
      ]
     },
     "execution_count": 86,
     "metadata": {},
     "output_type": "execute_result"
    }
   ],
   "source": [
    "def greetings_name (name):\n",
    "    return f\"Hello! {name}\"\n",
    "\n",
    "greetings_name (\"Pau\")"
   ]
  },
  {
   "cell_type": "markdown",
   "id": "e39c76af",
   "metadata": {
    "lang": "en"
   },
   "source": [
    "## Functions that have no return\n",
    "They do \"stuff\" but they don't return anything... and if a function doesn't have a return, then it returns:\n",
    "```python\n",
    "None\n",
    "```"
   ]
  },
  {
   "cell_type": "code",
   "execution_count": 108,
   "id": "4001a15b",
   "metadata": {},
   "outputs": [
    {
     "name": "stdout",
     "output_type": "stream",
     "text": [
      "HELLO! PAU\n"
     ]
    }
   ],
   "source": [
    "def greetings_name (name):\n",
    "    #This does things\n",
    "    print(f\"Hello! {name}\".upper())\n",
    "\n",
    "greetings_name (\"Pau\")"
   ]
  },
  {
   "cell_type": "code",
   "execution_count": 107,
   "id": "046b23f9",
   "metadata": {},
   "outputs": [
    {
     "name": "stdout",
     "output_type": "stream",
     "text": [
      "HELLO! PAU\n"
     ]
    }
   ],
   "source": [
    "i_said_hello = greetings_name (\"Pau\")\n",
    "i_said_hello"
   ]
  },
  {
   "cell_type": "code",
   "execution_count": 103,
   "id": "ff10109f",
   "metadata": {},
   "outputs": [
    {
     "ename": "AttributeError",
     "evalue": "'NoneType' object has no attribute 'title'",
     "output_type": "error",
     "traceback": [
      "\u001b[0;31m---------------------------------------------------------------------------\u001b[0m",
      "\u001b[0;31mAttributeError\u001b[0m                            Traceback (most recent call last)",
      "Input \u001b[0;32mIn [103]\u001b[0m, in \u001b[0;36m<cell line: 1>\u001b[0;34m()\u001b[0m\n\u001b[0;32m----> 1\u001b[0m \u001b[43mi_said_hello\u001b[49m\u001b[38;5;241;43m.\u001b[39;49m\u001b[43mtitle\u001b[49m()\n",
      "\u001b[0;31mAttributeError\u001b[0m: 'NoneType' object has no attribute 'title'"
     ]
    }
   ],
   "source": [
    "i_said_hello.title()"
   ]
  },
  {
   "cell_type": "code",
   "execution_count": 89,
   "id": "9ea4ed89",
   "metadata": {},
   "outputs": [
    {
     "data": {
      "text/plain": [
       "NoneType"
      ]
     },
     "execution_count": 89,
     "metadata": {},
     "output_type": "execute_result"
    }
   ],
   "source": [
    "type(i_said_hello)"
   ]
  },
  {
   "cell_type": "code",
   "execution_count": 98,
   "id": "9586ac66",
   "metadata": {},
   "outputs": [
    {
     "data": {
      "text/plain": [
       "'hello! pau'"
      ]
     },
     "execution_count": 98,
     "metadata": {},
     "output_type": "execute_result"
    }
   ],
   "source": [
    "def greetings_name (name):\n",
    "    #Does things AND returns something, so you might be able to use it in the future\n",
    "    return f\"hello! {name}\"\n",
    "\n",
    "greetings_name (\"pau\")"
   ]
  },
  {
   "cell_type": "code",
   "execution_count": 100,
   "id": "deb56972",
   "metadata": {},
   "outputs": [
    {
     "data": {
      "text/plain": [
       "'hello! pau'"
      ]
     },
     "execution_count": 100,
     "metadata": {},
     "output_type": "execute_result"
    }
   ],
   "source": [
    "said_hello_with_return = greetings_name (\"pau\")\n",
    "said_hello_with_return"
   ]
  },
  {
   "cell_type": "code",
   "execution_count": 101,
   "id": "5fffe066",
   "metadata": {},
   "outputs": [
    {
     "data": {
      "text/plain": [
       "str"
      ]
     },
     "execution_count": 101,
     "metadata": {},
     "output_type": "execute_result"
    }
   ],
   "source": [
    "type(said_hello_with_return)"
   ]
  },
  {
   "cell_type": "code",
   "execution_count": 102,
   "id": "763da4e2",
   "metadata": {},
   "outputs": [
    {
     "data": {
      "text/plain": [
       "'Hello! Pau'"
      ]
     },
     "execution_count": 102,
     "metadata": {},
     "output_type": "execute_result"
    }
   ],
   "source": [
    "said_hello_with_return.title()"
   ]
  },
  {
   "cell_type": "markdown",
   "id": "f65b59cf",
   "metadata": {
    "lang": "en"
   },
   "source": [
    "## Let's write functions"
   ]
  },
  {
   "cell_type": "markdown",
   "id": "8b6148b3",
   "metadata": {
    "lang": "en"
   },
   "source": [
    "**Example**: I am given a time in the following format: \"04:52\", minutes and seconds. Calculate the integer number of seconds."
   ]
  },
  {
   "cell_type": "code",
   "execution_count": 109,
   "id": "686fcd47",
   "metadata": {},
   "outputs": [],
   "source": [
    "# time: \"09:41\"\n",
    "# int: total amount of minutes"
   ]
  },
  {
   "cell_type": "code",
   "execution_count": 110,
   "id": "31916a45",
   "metadata": {},
   "outputs": [],
   "source": [
    "example_time = \"09:41\" #transform into minutes"
   ]
  },
  {
   "cell_type": "code",
   "execution_count": 111,
   "id": "5c49a6dc",
   "metadata": {},
   "outputs": [
    {
     "data": {
      "text/plain": [
       "['09', '41']"
      ]
     },
     "execution_count": 111,
     "metadata": {},
     "output_type": "execute_result"
    }
   ],
   "source": [
    "example_time.split(\":\")"
   ]
  },
  {
   "cell_type": "code",
   "execution_count": 117,
   "id": "55cb237a",
   "metadata": {},
   "outputs": [
    {
     "data": {
      "text/plain": [
       "540"
      ]
     },
     "execution_count": 117,
     "metadata": {},
     "output_type": "execute_result"
    }
   ],
   "source": [
    "minutes = int(example_time.split(\":\")[0]) * 60\n",
    "minutes"
   ]
  },
  {
   "cell_type": "code",
   "execution_count": 120,
   "id": "3dc12a4a",
   "metadata": {},
   "outputs": [
    {
     "data": {
      "text/plain": [
       "41"
      ]
     },
     "execution_count": 120,
     "metadata": {},
     "output_type": "execute_result"
    }
   ],
   "source": [
    "minutes_from_minutes = int(example_time.split(\":\")[1])\n",
    "minutes_from_minutes"
   ]
  },
  {
   "cell_type": "code",
   "execution_count": 121,
   "id": "369fe429",
   "metadata": {},
   "outputs": [
    {
     "data": {
      "text/plain": [
       "581"
      ]
     },
     "execution_count": 121,
     "metadata": {},
     "output_type": "execute_result"
    }
   ],
   "source": [
    "total = minutes + minutes_from_minutes\n",
    "total"
   ]
  },
  {
   "cell_type": "code",
   "execution_count": 123,
   "id": "5996d506",
   "metadata": {},
   "outputs": [],
   "source": [
    "def transforms_time (time):\n",
    "    \"\"\"operations\n",
    "    \"\"\"\n",
    "    minutes = int(time.split(\":\")[0]) * 60\n",
    "    minutes_from_minutes = int(time.split(\":\")[1])\n",
    "\n",
    "    return minutes + minutes_from_minutes"
   ]
  },
  {
   "cell_type": "code",
   "execution_count": 131,
   "id": "1a1f8392",
   "metadata": {},
   "outputs": [],
   "source": [
    "def transforms_time (time):\n",
    "    \"\"\"operations\n",
    "    \"\"\"\n",
    "    minutes, minutes_2 = time.split(\":\") \n",
    "    return int(minutes) * 60 + int(minutes_from_minutes)"
   ]
  },
  {
   "cell_type": "code",
   "execution_count": null,
   "id": "1669cc94",
   "metadata": {},
   "outputs": [],
   "source": [
    "# You can assign two variables in the same line, it will be correlative"
   ]
  },
  {
   "cell_type": "code",
   "execution_count": 133,
   "id": "3b718655",
   "metadata": {},
   "outputs": [
    {
     "name": "stdout",
     "output_type": "stream",
     "text": [
      "09\n",
      "40\n"
     ]
    }
   ],
   "source": [
    "time = \"09:40\"\n",
    "minutes, minutes_2 = time.split(\":\")\n",
    "print(minutes)\n",
    "print(minutes_2)"
   ]
  },
  {
   "cell_type": "code",
   "execution_count": 132,
   "id": "efc714fd",
   "metadata": {},
   "outputs": [
    {
     "data": {
      "text/plain": [
       "521"
      ]
     },
     "execution_count": 132,
     "metadata": {},
     "output_type": "execute_result"
    }
   ],
   "source": [
    "transforms_time (\"08:30\")"
   ]
  },
  {
   "cell_type": "code",
   "execution_count": 135,
   "id": "b01aee2e",
   "metadata": {},
   "outputs": [],
   "source": [
    "dictionary_ = { \"people\":\n",
    "    [\n",
    "        {\"name\": \"pau\", \"age\":34, \"kids\": 6}, \n",
    "        {\"name\": \"pau\", \"age\":4545, \"kids\": 23}\n",
    "    ]\n",
    "}"
   ]
  },
  {
   "cell_type": "code",
   "execution_count": 138,
   "id": "271515c4",
   "metadata": {},
   "outputs": [
    {
     "data": {
      "text/plain": [
       "{'name': 'pau', 'age': 34, 'kids': 6}"
      ]
     },
     "execution_count": 138,
     "metadata": {},
     "output_type": "execute_result"
    }
   ],
   "source": [
    "dictionary_[\"people\"][0]"
   ]
  },
  {
   "cell_type": "code",
   "execution_count": 139,
   "id": "d48d14b3",
   "metadata": {},
   "outputs": [
    {
     "data": {
      "text/plain": [
       "34"
      ]
     },
     "execution_count": 139,
     "metadata": {},
     "output_type": "execute_result"
    }
   ],
   "source": [
    "dictionary_[\"people\"][0][\"age\"] "
   ]
  },
  {
   "cell_type": "markdown",
   "id": "e498ddf7",
   "metadata": {
    "lang": "en"
   },
   "source": [
    "We have a lot of code for ONE functionality, which we could REUSE for different cases\n",
    "**THIS IS WHAT FUNCTIONS ARE FOR**\n",
    "We then turn it into a function"
   ]
  },
  {
   "cell_type": "markdown",
   "id": "0f4e7d38",
   "metadata": {
    "lang": "en"
   },
   "source": [
    "## Default parameters"
   ]
  },
  {
   "cell_type": "code",
   "execution_count": 159,
   "id": "7f9459e0",
   "metadata": {},
   "outputs": [],
   "source": [
    "def greets (name, language=\"en\"):\n",
    "    if language == \"es\":\n",
    "        return f\"Hola {name}!\"\n",
    "    else:\n",
    "        return f\"Hello! {name}\""
   ]
  },
  {
   "cell_type": "code",
   "execution_count": 157,
   "id": "1d79f6da",
   "metadata": {},
   "outputs": [
    {
     "data": {
      "text/plain": [
       "'Hola Pau!'"
      ]
     },
     "execution_count": 157,
     "metadata": {},
     "output_type": "execute_result"
    }
   ],
   "source": [
    "greets (\"Pau\", \"es\")"
   ]
  },
  {
   "cell_type": "code",
   "execution_count": 158,
   "id": "dbfc2566",
   "metadata": {},
   "outputs": [
    {
     "data": {
      "text/plain": [
       "'Hola Pau!'"
      ]
     },
     "execution_count": 158,
     "metadata": {},
     "output_type": "execute_result"
    }
   ],
   "source": [
    "greets (\"Pau\")"
   ]
  },
  {
   "cell_type": "code",
   "execution_count": 163,
   "id": "a316a5bc",
   "metadata": {},
   "outputs": [],
   "source": [
    "#Q: Can you use the \"EN\" condition in the loop\n",
    "\n",
    "def greets (name, language=\"en\"):\n",
    "    if language == \"es\":\n",
    "        return f\"Hola {name}!\"\n",
    "    elif language == \"en\":\n",
    "        return f\"Hello! {name}\""
   ]
  },
  {
   "cell_type": "code",
   "execution_count": 164,
   "id": "d6b40d07",
   "metadata": {},
   "outputs": [
    {
     "data": {
      "text/plain": [
       "'Hola pau!'"
      ]
     },
     "execution_count": 164,
     "metadata": {},
     "output_type": "execute_result"
    }
   ],
   "source": [
    "greets (\"pau\", \"es\")"
   ]
  },
  {
   "cell_type": "code",
   "execution_count": 165,
   "id": "040bc6cb",
   "metadata": {},
   "outputs": [
    {
     "data": {
      "text/plain": [
       "'Hello! pau'"
      ]
     },
     "execution_count": 165,
     "metadata": {},
     "output_type": "execute_result"
    }
   ],
   "source": [
    "greets (\"pau\")"
   ]
  },
  {
   "cell_type": "code",
   "execution_count": 166,
   "id": "893611c1",
   "metadata": {},
   "outputs": [],
   "source": [
    "def greets (name, language):\n",
    "    if language == \"es\":\n",
    "        return f\"Hola {name}!\"\n",
    "    elif language == \"en\":\n",
    "        return f\"Hello! {name}\""
   ]
  },
  {
   "cell_type": "code",
   "execution_count": 167,
   "id": "8541c7dd",
   "metadata": {},
   "outputs": [
    {
     "ename": "TypeError",
     "evalue": "greets() missing 1 required positional argument: 'language'",
     "output_type": "error",
     "traceback": [
      "\u001b[0;31m---------------------------------------------------------------------------\u001b[0m",
      "\u001b[0;31mTypeError\u001b[0m                                 Traceback (most recent call last)",
      "Input \u001b[0;32mIn [167]\u001b[0m, in \u001b[0;36m<cell line: 1>\u001b[0;34m()\u001b[0m\n\u001b[0;32m----> 1\u001b[0m \u001b[43mgreets\u001b[49m\u001b[43m \u001b[49m\u001b[43m(\u001b[49m\u001b[38;5;124;43m\"\u001b[39;49m\u001b[38;5;124;43mpau\u001b[39;49m\u001b[38;5;124;43m\"\u001b[39;49m\u001b[43m)\u001b[49m\n",
      "\u001b[0;31mTypeError\u001b[0m: greets() missing 1 required positional argument: 'language'"
     ]
    }
   ],
   "source": [
    "greets (\"pau\")"
   ]
  },
  {
   "cell_type": "markdown",
   "id": "32e7775a",
   "metadata": {
    "lang": "en"
   },
   "source": [
    "## PLEASE don't confuse PRINTs inside a function with RETURNs!"
   ]
  },
  {
   "cell_type": "code",
   "execution_count": null,
   "id": "2f2acd4d",
   "metadata": {},
   "outputs": [],
   "source": [
    "# print = None\n",
    "# return equal to what you return, to some value"
   ]
  },
  {
   "cell_type": "markdown",
   "id": "5bbfe19b",
   "metadata": {
    "lang": "en"
   },
   "source": [
    "## Docstring\n",
    "- The code is written 1 time.\n",
    "- The code is read 100 times.\n",
    "- Help your colleagues understand your work.\n",
    "\n",
    "![lafoto](https://res.cloudinary.com/highflyer910/image/upload/v1589577574/1_1_httqnc.jpg)\n",
    "In this example, we have defined a cat function that returns meow. We have declared a docstring that explains what the function does. To get the docstring of a function, we need to display the doc attribute (print(cat.__doc__))\n",
    "Photo reference, description and more info about docstring [here](https://techiestuff.netlify.app/blog/what-is-a-python-docstring/)"
   ]
  },
  {
   "cell_type": "code",
   "execution_count": 168,
   "id": "1bff3a6a",
   "metadata": {
    "scrolled": false
   },
   "outputs": [],
   "source": [
    "def says_hello(name):\n",
    "    \"\"\" This function does things.\n",
    "    Args: str. The name of the person\n",
    "    Returns: str. Greeting\n",
    "    \"\"\"\n",
    "    return f\"hey {name}\" "
   ]
  },
  {
   "cell_type": "code",
   "execution_count": 170,
   "id": "56f5515d",
   "metadata": {},
   "outputs": [
    {
     "name": "stdout",
     "output_type": "stream",
     "text": [
      "def says_hello(name):\n",
      "    \"\"\" This function does things.\n",
      "    Args: str. The name of the person\n",
      "    Returns: str. Greeting\n",
      "    \"\"\"\n",
      "    return f\"hey {name}\" \n",
      "\n"
     ]
    }
   ],
   "source": [
    "print(inspect.getsource(says_hello))"
   ]
  },
  {
   "cell_type": "code",
   "execution_count": 172,
   "id": "61a3d5d1",
   "metadata": {},
   "outputs": [
    {
     "name": "stdout",
     "output_type": "stream",
     "text": [
      " This function does things.\n",
      "    Args: str. The name of the person\n",
      "    Returns: str. Greeting\n",
      "    \n"
     ]
    }
   ],
   "source": [
    "print(says_hello.__doc__)"
   ]
  },
  {
   "cell_type": "markdown",
   "id": "86c5ccda",
   "metadata": {
    "lang": "en"
   },
   "source": [
    "## Scope of functions"
   ]
  },
  {
   "cell_type": "code",
   "execution_count": 180,
   "id": "c9e4595e",
   "metadata": {},
   "outputs": [],
   "source": [
    "# Outwards: nope\n",
    "# Inwards: yep"
   ]
  },
  {
   "cell_type": "code",
   "execution_count": 177,
   "id": "3b7fd04b",
   "metadata": {},
   "outputs": [],
   "source": [
    "def transforms_time (time):\n",
    "    CONSTANT = 60\n",
    "    num3 = 3\n",
    "    return CONSTANT * time"
   ]
  },
  {
   "cell_type": "code",
   "execution_count": 176,
   "id": "9fafff7d",
   "metadata": {},
   "outputs": [
    {
     "ename": "NameError",
     "evalue": "name 'num3' is not defined",
     "output_type": "error",
     "traceback": [
      "\u001b[0;31m---------------------------------------------------------------------------\u001b[0m",
      "\u001b[0;31mNameError\u001b[0m                                 Traceback (most recent call last)",
      "Input \u001b[0;32mIn [176]\u001b[0m, in \u001b[0;36m<cell line: 1>\u001b[0;34m()\u001b[0m\n\u001b[0;32m----> 1\u001b[0m \u001b[43mnum3\u001b[49m\n",
      "\u001b[0;31mNameError\u001b[0m: name 'num3' is not defined"
     ]
    }
   ],
   "source": [
    "num3"
   ]
  },
  {
   "cell_type": "code",
   "execution_count": 178,
   "id": "a924536c",
   "metadata": {},
   "outputs": [],
   "source": [
    "a = 35"
   ]
  },
  {
   "cell_type": "code",
   "execution_count": 179,
   "id": "900a8dc0",
   "metadata": {},
   "outputs": [
    {
     "data": {
      "text/plain": [
       "2100"
      ]
     },
     "execution_count": 179,
     "metadata": {},
     "output_type": "execute_result"
    }
   ],
   "source": [
    "transforms_time (a)"
   ]
  },
  {
   "cell_type": "code",
   "execution_count": 182,
   "id": "7f849d9a",
   "metadata": {},
   "outputs": [],
   "source": [
    "b = 100"
   ]
  },
  {
   "cell_type": "code",
   "execution_count": 186,
   "id": "1679c813",
   "metadata": {},
   "outputs": [],
   "source": [
    "def adds (a):\n",
    "    z = o + a\n",
    "    return z"
   ]
  },
  {
   "cell_type": "code",
   "execution_count": 187,
   "id": "1ba9609b",
   "metadata": {
    "scrolled": true
   },
   "outputs": [
    {
     "ename": "NameError",
     "evalue": "name 'o' is not defined",
     "output_type": "error",
     "traceback": [
      "\u001b[0;31m---------------------------------------------------------------------------\u001b[0m",
      "\u001b[0;31mNameError\u001b[0m                                 Traceback (most recent call last)",
      "Input \u001b[0;32mIn [187]\u001b[0m, in \u001b[0;36m<cell line: 1>\u001b[0;34m()\u001b[0m\n\u001b[0;32m----> 1\u001b[0m \u001b[43madds\u001b[49m\u001b[43m \u001b[49m\u001b[43m(\u001b[49m\u001b[38;5;241;43m9000\u001b[39;49m\u001b[43m)\u001b[49m\n",
      "Input \u001b[0;32mIn [186]\u001b[0m, in \u001b[0;36madds\u001b[0;34m(a)\u001b[0m\n\u001b[1;32m      1\u001b[0m \u001b[38;5;28;01mdef\u001b[39;00m \u001b[38;5;21madds\u001b[39m (a):\n\u001b[0;32m----> 2\u001b[0m     z \u001b[38;5;241m=\u001b[39m \u001b[43mo\u001b[49m \u001b[38;5;241m+\u001b[39m a\n\u001b[1;32m      3\u001b[0m     \u001b[38;5;28;01mreturn\u001b[39;00m z\n",
      "\u001b[0;31mNameError\u001b[0m: name 'o' is not defined"
     ]
    }
   ],
   "source": [
    "adds (9000)"
   ]
  },
  {
   "cell_type": "code",
   "execution_count": null,
   "id": "bca14526",
   "metadata": {},
   "outputs": [],
   "source": [
    "result = function (2323)"
   ]
  },
  {
   "cell_type": "markdown",
   "id": "ed14ae9a",
   "metadata": {
    "lang": "en"
   },
   "source": [
    "## *Args\n",
    "In Python, the special parameter `*args` in a function is used to optionally pass a variable number of positional arguments."
   ]
  },
  {
   "cell_type": "code",
   "execution_count": 189,
   "id": "designing-tonight",
   "metadata": {},
   "outputs": [],
   "source": [
    "def adds (a, b):\n",
    "    return a + b"
   ]
  },
  {
   "cell_type": "code",
   "execution_count": 190,
   "id": "1dd6be3a",
   "metadata": {},
   "outputs": [
    {
     "data": {
      "text/plain": [
       "5"
      ]
     },
     "execution_count": 190,
     "metadata": {},
     "output_type": "execute_result"
    }
   ],
   "source": [
    "adds (2, 3)"
   ]
  },
  {
   "cell_type": "code",
   "execution_count": 191,
   "id": "bee4eb87",
   "metadata": {},
   "outputs": [
    {
     "ename": "TypeError",
     "evalue": "adds() takes 2 positional arguments but 3 were given",
     "output_type": "error",
     "traceback": [
      "\u001b[0;31m---------------------------------------------------------------------------\u001b[0m",
      "\u001b[0;31mTypeError\u001b[0m                                 Traceback (most recent call last)",
      "Input \u001b[0;32mIn [191]\u001b[0m, in \u001b[0;36m<cell line: 1>\u001b[0;34m()\u001b[0m\n\u001b[0;32m----> 1\u001b[0m \u001b[43madds\u001b[49m\u001b[43m \u001b[49m\u001b[43m(\u001b[49m\u001b[38;5;241;43m2\u001b[39;49m\u001b[43m,\u001b[49m\u001b[43m \u001b[49m\u001b[38;5;241;43m3\u001b[39;49m\u001b[43m,\u001b[49m\u001b[43m \u001b[49m\u001b[38;5;241;43m4\u001b[39;49m\u001b[43m)\u001b[49m\n",
      "\u001b[0;31mTypeError\u001b[0m: adds() takes 2 positional arguments but 3 were given"
     ]
    }
   ],
   "source": [
    "adds (2, 3, 4)"
   ]
  },
  {
   "cell_type": "markdown",
   "id": "9a9569b6",
   "metadata": {},
   "source": [
    "PYTHON\n",
    "* in python: *args\n",
    "    \n",
    "* in bash -> anything, for paths, names, etc\n",
    "\n",
    "REGEX: patterns in strings\n",
    "`*`\n",
    "\n",
    "\n",
    "BASH\n",
    "Paths in bash: \n",
    "jupytenotebook.ipynb\n",
    "ssdsd.ipynb\n",
    "*.ipynb"
   ]
  },
  {
   "cell_type": "code",
   "execution_count": 210,
   "id": "5a1dba96",
   "metadata": {},
   "outputs": [
    {
     "data": {
      "text/plain": [
       "7"
      ]
     },
     "execution_count": 210,
     "metadata": {},
     "output_type": "execute_result"
    }
   ],
   "source": [
    "adds (1, 2, 4)"
   ]
  },
  {
   "cell_type": "code",
   "execution_count": 206,
   "id": "5e3d1aac",
   "metadata": {},
   "outputs": [
    {
     "data": {
      "text/plain": [
       "28"
      ]
     },
     "execution_count": 206,
     "metadata": {},
     "output_type": "execute_result"
    }
   ],
   "source": [
    "adds (1, 2, 3, 4 ,5, 6, 7)"
   ]
  },
  {
   "cell_type": "code",
   "execution_count": 211,
   "id": "d944c82f",
   "metadata": {},
   "outputs": [],
   "source": [
    "def adds (*anything): #You don't know how many, so you use the *: variable number\n",
    "    temp = 0\n",
    "    \n",
    "    for i in anything:\n",
    "        temp += i\n",
    "        \n",
    "    return temp"
   ]
  },
  {
   "cell_type": "code",
   "execution_count": 219,
   "id": "38bf7097",
   "metadata": {},
   "outputs": [],
   "source": [
    "def add_list_numbers (list_, *nums):\n",
    "    \n",
    "    #[1, 2, 3]\n",
    "    #7, 6, \n",
    "    \n",
    "    # input = ([15, 53, 2], 1, 2, 6)\n",
    "    \n",
    "    total_list = sum(list_)\n",
    "    total_nums = sum(nums)\n",
    "    \n",
    "    return total_list + total_nums"
   ]
  },
  {
   "cell_type": "code",
   "execution_count": 220,
   "id": "4e641d94",
   "metadata": {},
   "outputs": [
    {
     "ename": "TypeError",
     "evalue": "add_list_numbers() takes 2 positional arguments but 4 were given",
     "output_type": "error",
     "traceback": [
      "\u001b[0;31m---------------------------------------------------------------------------\u001b[0m",
      "\u001b[0;31mTypeError\u001b[0m                                 Traceback (most recent call last)",
      "Input \u001b[0;32mIn [220]\u001b[0m, in \u001b[0;36m<cell line: 1>\u001b[0;34m()\u001b[0m\n\u001b[0;32m----> 1\u001b[0m \u001b[43madd_list_numbers\u001b[49m\u001b[43m \u001b[49m\u001b[43m(\u001b[49m\u001b[43m[\u001b[49m\u001b[38;5;241;43m15\u001b[39;49m\u001b[43m,\u001b[49m\u001b[43m \u001b[49m\u001b[38;5;241;43m53\u001b[39;49m\u001b[43m,\u001b[49m\u001b[43m \u001b[49m\u001b[38;5;241;43m2\u001b[39;49m\u001b[43m]\u001b[49m\u001b[43m,\u001b[49m\u001b[43m \u001b[49m\u001b[38;5;241;43m1\u001b[39;49m\u001b[43m,\u001b[49m\u001b[43m \u001b[49m\u001b[38;5;241;43m2\u001b[39;49m\u001b[43m,\u001b[49m\u001b[43m \u001b[49m\u001b[38;5;241;43m6\u001b[39;49m\u001b[43m)\u001b[49m\n",
      "\u001b[0;31mTypeError\u001b[0m: add_list_numbers() takes 2 positional arguments but 4 were given"
     ]
    }
   ],
   "source": [
    "add_list_numbers ([15, 53, 2], 1, 2, 6)"
   ]
  },
  {
   "cell_type": "code",
   "execution_count": 228,
   "id": "3eb63dad",
   "metadata": {},
   "outputs": [],
   "source": [
    "#Q: asterisk for list also\n",
    "\n",
    "def add_list_numbers (list_, *nums):\n",
    "    \n",
    "    total_list = sum([x for i in list_ for x in i])\n",
    "    total_nums = sum(nums)\n",
    "    \n",
    "    return total_list + total_nums"
   ]
  },
  {
   "cell_type": "code",
   "execution_count": 229,
   "id": "e5fa1e3d",
   "metadata": {},
   "outputs": [
    {
     "data": {
      "text/plain": [
       "19"
      ]
     },
     "execution_count": 229,
     "metadata": {},
     "output_type": "execute_result"
    }
   ],
   "source": [
    "add_list_numbers ([[1, 2], [2, 5]], 1, 2, 6)"
   ]
  },
  {
   "cell_type": "markdown",
   "id": "d6f3043e",
   "metadata": {
    "lang": "en"
   },
   "source": [
    "## **Kwargs"
   ]
  },
  {
   "cell_type": "markdown",
   "id": "98ca1af5",
   "metadata": {
    "lang": "en"
   },
   "source": [
    "We can also pass a dictionary as an argument using the parameter names (**kwargs) as keys.\n",
    "Use **kwargs to optionally pass a variable number of named arguments to a function.\n",
    "It is a dictionary whose keys become parameters and their values ​​become the arguments of the parameters.\n",
    "The **kwargs parameter receives the arguments as a dictionary."
   ]
  },
  {
   "cell_type": "code",
   "execution_count": 233,
   "id": "006ef34f",
   "metadata": {},
   "outputs": [],
   "source": [
    "def does_things (dict_, list_):\n",
    "    return list(dict_.keys()), sum(list_)"
   ]
  },
  {
   "cell_type": "code",
   "execution_count": 243,
   "id": "e4954ec2",
   "metadata": {},
   "outputs": [],
   "source": [
    "someone = {\"name\": \"pepe\", \"year\": 1990}\n",
    "nums = [1, 2, 3, 4]"
   ]
  },
  {
   "cell_type": "code",
   "execution_count": 235,
   "id": "bc50be38",
   "metadata": {},
   "outputs": [
    {
     "data": {
      "text/plain": [
       "(['name', 'age'], 10)"
      ]
     },
     "execution_count": 235,
     "metadata": {},
     "output_type": "execute_result"
    }
   ],
   "source": [
    "does_things (someone, nums)"
   ]
  },
  {
   "cell_type": "code",
   "execution_count": null,
   "id": "21092656",
   "metadata": {},
   "outputs": [],
   "source": []
  },
  {
   "cell_type": "code",
   "execution_count": 241,
   "id": "64f03ebc",
   "metadata": {},
   "outputs": [],
   "source": [
    "def a_function (**dict_):\n",
    "    for k, v in dict_.items():\n",
    "        return k, v"
   ]
  },
  {
   "cell_type": "markdown",
   "id": "e125ebd7",
   "metadata": {},
   "source": [
    "*args and **kwargs\n",
    "\n",
    "(a, b) -> depends on the position\n",
    "keyword arguemnts -> depend on the key, that can vary, you call it by using its name\n"
   ]
  },
  {
   "cell_type": "code",
   "execution_count": 242,
   "id": "56f166ef",
   "metadata": {
    "scrolled": true
   },
   "outputs": [
    {
     "data": {
      "text/plain": [
       "('name', 'pepe')"
      ]
     },
     "execution_count": 242,
     "metadata": {},
     "output_type": "execute_result"
    }
   ],
   "source": [
    "a_function(**someone)"
   ]
  },
  {
   "cell_type": "code",
   "execution_count": 244,
   "id": "5ba593d8",
   "metadata": {},
   "outputs": [],
   "source": [
    "import datetime"
   ]
  },
  {
   "cell_type": "code",
   "execution_count": 247,
   "id": "737033ec",
   "metadata": {},
   "outputs": [],
   "source": [
    "now = datetime.datetime.now()"
   ]
  },
  {
   "cell_type": "code",
   "execution_count": 292,
   "id": "024c5a14",
   "metadata": {},
   "outputs": [
    {
     "data": {
      "text/plain": [
       "2022"
      ]
     },
     "execution_count": 292,
     "metadata": {},
     "output_type": "execute_result"
    }
   ],
   "source": [
    "year = now.year\n",
    "year"
   ]
  },
  {
   "cell_type": "code",
   "execution_count": 293,
   "id": "d7908900",
   "metadata": {},
   "outputs": [],
   "source": [
    "someone = {\"name\": \"pepe\", \"year\": 1990}\n",
    "someone_2 = {\"name\": \"pepe\", \"year\": 1995}"
   ]
  },
  {
   "cell_type": "code",
   "execution_count": 294,
   "id": "dc5f0ee1",
   "metadata": {},
   "outputs": [],
   "source": [
    "def calculate_age (**dict_):\n",
    "    now = datetime.datetime.now().year\n",
    "    edad = now - dict_[\"year\"]\n",
    "    return edad"
   ]
  },
  {
   "cell_type": "code",
   "execution_count": 295,
   "id": "550a0594",
   "metadata": {},
   "outputs": [
    {
     "data": {
      "text/plain": [
       "32"
      ]
     },
     "execution_count": 295,
     "metadata": {},
     "output_type": "execute_result"
    }
   ],
   "source": [
    "calculate_age(**someone)"
   ]
  },
  {
   "cell_type": "code",
   "execution_count": 257,
   "id": "cf2f37b8",
   "metadata": {},
   "outputs": [
    {
     "data": {
      "text/plain": [
       "27"
      ]
     },
     "execution_count": 257,
     "metadata": {},
     "output_type": "execute_result"
    }
   ],
   "source": [
    "calculate_age(**someone_2)"
   ]
  },
  {
   "cell_type": "code",
   "execution_count": 260,
   "id": "c05ed04e",
   "metadata": {
    "scrolled": true
   },
   "outputs": [
    {
     "ename": "TypeError",
     "evalue": "calculate_age() takes 0 positional arguments but 2 were given",
     "output_type": "error",
     "traceback": [
      "\u001b[0;31m---------------------------------------------------------------------------\u001b[0m",
      "\u001b[0;31mTypeError\u001b[0m                                 Traceback (most recent call last)",
      "Input \u001b[0;32mIn [260]\u001b[0m, in \u001b[0;36m<cell line: 1>\u001b[0;34m()\u001b[0m\n\u001b[0;32m----> 1\u001b[0m \u001b[43mcalculate_age\u001b[49m\u001b[43m(\u001b[49m\u001b[38;5;241;43m*\u001b[39;49m\u001b[43msomeone_2\u001b[49m\u001b[43m)\u001b[49m\n",
      "\u001b[0;31mTypeError\u001b[0m: calculate_age() takes 0 positional arguments but 2 were given"
     ]
    }
   ],
   "source": [
    "calculate_age(*someone_2)"
   ]
  },
  {
   "cell_type": "code",
   "execution_count": 280,
   "id": "1ae8e21a",
   "metadata": {},
   "outputs": [],
   "source": [
    "someone = {\"list_of_dicts\": [\n",
    "    {\"name\": \"pepe\", \"year\": 1191},\n",
    "    {\"name\": \"pepe\", \"year\": 1919},\n",
    "]\n",
    "}"
   ]
  },
  {
   "cell_type": "code",
   "execution_count": 284,
   "id": "1658390c",
   "metadata": {},
   "outputs": [],
   "source": [
    "def calculate_age (**dict_):\n",
    "    now = datetime.datetime.now().year\n",
    "    age = now - dict_[\"year\"]\n",
    "    print(age)\n",
    "    return age"
   ]
  },
  {
   "cell_type": "code",
   "execution_count": 285,
   "id": "445658c1",
   "metadata": {},
   "outputs": [
    {
     "data": {
      "text/plain": [
       "{'name': 'pepe', 'year': 1191}"
      ]
     },
     "execution_count": 285,
     "metadata": {},
     "output_type": "execute_result"
    }
   ],
   "source": [
    "someone[\"list_of_dicts\"][0]"
   ]
  },
  {
   "cell_type": "code",
   "execution_count": 287,
   "id": "99d73f97",
   "metadata": {
    "scrolled": true
   },
   "outputs": [
    {
     "ename": "TypeError",
     "evalue": "calculate_age() takes 0 positional arguments but 1 was given",
     "output_type": "error",
     "traceback": [
      "\u001b[0;31m---------------------------------------------------------------------------\u001b[0m",
      "\u001b[0;31mTypeError\u001b[0m                                 Traceback (most recent call last)",
      "Input \u001b[0;32mIn [287]\u001b[0m, in \u001b[0;36m<cell line: 1>\u001b[0;34m()\u001b[0m\n\u001b[1;32m      1\u001b[0m \u001b[38;5;28;01mfor\u001b[39;00m i \u001b[38;5;129;01min\u001b[39;00m someone[\u001b[38;5;124m\"\u001b[39m\u001b[38;5;124mlist_of_dicts\u001b[39m\u001b[38;5;124m\"\u001b[39m]:\n\u001b[0;32m----> 2\u001b[0m     \u001b[43mcalculate_age\u001b[49m\u001b[43m(\u001b[49m\u001b[43mi\u001b[49m\u001b[43m)\u001b[49m\n",
      "\u001b[0;31mTypeError\u001b[0m: calculate_age() takes 0 positional arguments but 1 was given"
     ]
    }
   ],
   "source": [
    "for i in someone[\"list_of_dicts\"]:\n",
    "    calculate_age(i)"
   ]
  },
  {
   "cell_type": "code",
   "execution_count": null,
   "id": "f56df351",
   "metadata": {},
   "outputs": [],
   "source": [
    "def calculate_age (**dict_):\n",
    "    now = datetime.datetime.now().year\n",
    "    edad = now - dict_[\"year\"]\n",
    "    return edad"
   ]
  },
  {
   "cell_type": "code",
   "execution_count": 299,
   "id": "0c8955b8",
   "metadata": {},
   "outputs": [
    {
     "data": {
      "text/plain": [
       "{'name': 'pepe', 'year': 1191, 'hobbies': 'surf'}"
      ]
     },
     "execution_count": 299,
     "metadata": {},
     "output_type": "execute_result"
    }
   ],
   "source": [
    "pepe = {\"name\": \"pepe\", \"year\": 1191, \"hobbies\": \"surf\"}\n",
    "pepe"
   ]
  },
  {
   "cell_type": "code",
   "execution_count": 300,
   "id": "5fda5cad",
   "metadata": {},
   "outputs": [
    {
     "data": {
      "text/plain": [
       "['name', 'year', 'hobbies']"
      ]
     },
     "execution_count": 300,
     "metadata": {},
     "output_type": "execute_result"
    }
   ],
   "source": [
    "list(pepe.keys())"
   ]
  },
  {
   "cell_type": "markdown",
   "id": "a8486f2d",
   "metadata": {},
   "source": [
    "- *args: they depend on their position\n",
    "**kwargs: position doesn't matter, it's name does\n",
    "**dict_: another way to say **kwargs, can be named whatever you want"
   ]
  },
  {
   "cell_type": "code",
   "execution_count": 309,
   "id": "4811c695",
   "metadata": {},
   "outputs": [],
   "source": [
    "def hey (*args):\n",
    "    empty_string = \"\"\n",
    "    for i in args:\n",
    "        empty_string += i\n",
    "        \n",
    "    return empty_string"
   ]
  },
  {
   "cell_type": "code",
   "execution_count": 310,
   "id": "48c5525e",
   "metadata": {},
   "outputs": [
    {
     "data": {
      "text/plain": [
       "'hey how  are you '"
      ]
     },
     "execution_count": 310,
     "metadata": {},
     "output_type": "execute_result"
    }
   ],
   "source": [
    "hey(\"hey \", \"how \", \" are \", \"you \")"
   ]
  },
  {
   "cell_type": "markdown",
   "id": "daf6126f",
   "metadata": {
    "lang": "en"
   },
   "source": [
    "## Order Matters\n",
    "The order of the parameters when defining a function matters...\n",
    "```python\n",
    "def example(arg1, arg2, *args,**kwargs)\n",
    "```"
   ]
  },
  {
   "cell_type": "code",
   "execution_count": 315,
   "id": "eeacb161",
   "metadata": {},
   "outputs": [],
   "source": [
    "someone_3 = {\"name\": \"pepe\", \"location\": \"bcn\", \"age\": 30}"
   ]
  },
  {
   "cell_type": "code",
   "execution_count": 329,
   "id": "991cf2e9",
   "metadata": {},
   "outputs": [],
   "source": [
    "def example(arg1, arg2, *args, **kwargs):\n",
    "    c = arg1 + arg2\n",
    "    temp = 0\n",
    "    \n",
    "    for i in args:\n",
    "        temp += i\n",
    "    \n",
    "    q = c + temp + kwargs[\"age\"]\n",
    "    \n",
    "    return f\"The value of position arguemtns is {c}, the total value of args is {temp} and the dictionary: {q}\""
   ]
  },
  {
   "cell_type": "code",
   "execution_count": 330,
   "id": "4900bf41",
   "metadata": {},
   "outputs": [
    {
     "data": {
      "text/plain": [
       "'The value of position arguemtns is 3, the total value of args is 100 and the dictionary: 133'"
      ]
     },
     "execution_count": 330,
     "metadata": {},
     "output_type": "execute_result"
    }
   ],
   "source": [
    "example(1, 2, 0, 0, 0, 100, **someone_3)"
   ]
  },
  {
   "cell_type": "code",
   "execution_count": 331,
   "id": "9b333296",
   "metadata": {},
   "outputs": [
    {
     "data": {
      "text/plain": [
       "'The value of position arguemtns is 3, the total value of args is 0 and the dictionary: 33'"
      ]
     },
     "execution_count": 331,
     "metadata": {},
     "output_type": "execute_result"
    }
   ],
   "source": [
    "example(1, 2, **someone_3)"
   ]
  },
  {
   "cell_type": "code",
   "execution_count": 333,
   "id": "d730c02f",
   "metadata": {},
   "outputs": [],
   "source": [
    "# * Can also mean that you don't pass an argument: variable amount can be zero."
   ]
  },
  {
   "cell_type": "markdown",
   "id": "28a2d72b",
   "metadata": {
    "lang": "en"
   },
   "source": [
    "## Lambda\n",
    "A lambda function is an anonymous function, with no identifier, that can be declared in place. Since we can take functions as arguments and assign them to variables, the notation that makes it possible to create lambda functions is very handy in many cases.\n",
    "### Syntax of a lambda\n",
    "```python\n",
    "lambda <param list>:<return expression>\n",
    "```\n",
    "### lambda examples"
   ]
  },
  {
   "cell_type": "code",
   "execution_count": null,
   "id": "11ce5084",
   "metadata": {},
   "outputs": [],
   "source": [
    "#lambda a, b: a + b"
   ]
  },
  {
   "cell_type": "code",
   "execution_count": 343,
   "id": "0bd4a4ae",
   "metadata": {},
   "outputs": [
    {
     "data": {
      "text/plain": [
       "<function __main__.<lambda>(a, b)>"
      ]
     },
     "execution_count": 343,
     "metadata": {},
     "output_type": "execute_result"
    }
   ],
   "source": [
    "addition = lambda a, b: a + b\n",
    "addition"
   ]
  },
  {
   "cell_type": "code",
   "execution_count": 344,
   "id": "cc43f215",
   "metadata": {},
   "outputs": [
    {
     "data": {
      "text/plain": [
       "8"
      ]
     },
     "execution_count": 344,
     "metadata": {},
     "output_type": "execute_result"
    }
   ],
   "source": [
    "addition(3, 5)"
   ]
  },
  {
   "cell_type": "code",
   "execution_count": 346,
   "id": "d7d151cf",
   "metadata": {},
   "outputs": [
    {
     "data": {
      "text/plain": [
       "'Hello'"
      ]
     },
     "execution_count": 346,
     "metadata": {},
     "output_type": "execute_result"
    }
   ],
   "source": [
    "greets = lambda num: \"Hello\" if num > 5 else \"Hola\"\n",
    "greets(6)"
   ]
  },
  {
   "cell_type": "code",
   "execution_count": 347,
   "id": "e6479dc8",
   "metadata": {},
   "outputs": [
    {
     "data": {
      "text/plain": [
       "'Hola'"
      ]
     },
     "execution_count": 347,
     "metadata": {},
     "output_type": "execute_result"
    }
   ],
   "source": [
    "greets(2)"
   ]
  },
  {
   "cell_type": "code",
   "execution_count": 349,
   "id": "955b35ad",
   "metadata": {},
   "outputs": [
    {
     "data": {
      "text/plain": [
       "'Hello sddsd'"
      ]
     },
     "execution_count": 349,
     "metadata": {},
     "output_type": "execute_result"
    }
   ],
   "source": [
    "def greetings (name):\n",
    "    \"\"\"This function greets you\n",
    "    Arg: str, the name\n",
    "    Returns: string sdsd\n",
    "    \"\"\"\n",
    "    return f\"Hello {name}\"\n",
    "\n",
    "greetings(\"sddsd\")"
   ]
  },
  {
   "cell_type": "code",
   "execution_count": 370,
   "id": "4424cd1f",
   "metadata": {},
   "outputs": [
    {
     "data": {
      "text/plain": [
       "2"
      ]
     },
     "execution_count": 370,
     "metadata": {},
     "output_type": "execute_result"
    }
   ],
   "source": [
    "comparisions(\"lesser\")(100, 2)"
   ]
  },
  {
   "cell_type": "markdown",
   "id": "85df84e3",
   "metadata": {
    "lang": "en"
   },
   "source": [
    "It is also possible to use these anonymous functions as arguments in calls to other functions. For example, in a call to sorted() or list.sort() we can use a lambda function as an argument to the key parameter:"
   ]
  },
  {
   "cell_type": "code",
   "execution_count": 356,
   "id": "fe9ca7fb",
   "metadata": {},
   "outputs": [],
   "source": [
    "list_of_tuples = [(\"city\", 3434), (\"bcn\", 45), (\"another one\", 343400000)]"
   ]
  },
  {
   "cell_type": "code",
   "execution_count": 357,
   "id": "e6fd3336",
   "metadata": {},
   "outputs": [
    {
     "data": {
      "text/plain": [
       "[('another one', 343400000), ('bcn', 45), ('city', 3434)]"
      ]
     },
     "execution_count": 357,
     "metadata": {},
     "output_type": "execute_result"
    }
   ],
   "source": [
    "sorted(list_of_tuples)"
   ]
  },
  {
   "cell_type": "code",
   "execution_count": 361,
   "id": "a7613b90",
   "metadata": {
    "scrolled": true
   },
   "outputs": [
    {
     "data": {
      "text/plain": [
       "[('another one', 343400000), ('bcn', 45), ('city', 3434)]"
      ]
     },
     "execution_count": 361,
     "metadata": {},
     "output_type": "execute_result"
    }
   ],
   "source": [
    "sorted(list_of_tuples, key = lambda x: x[0], reverse = False)"
   ]
  },
  {
   "cell_type": "markdown",
   "id": "b8f268d7",
   "metadata": {
    "lang": "en"
   },
   "source": [
    "Lastly, if we want to return the result of a function to another function, we can use any known function in the scope of the returning function, or use a lambda function:"
   ]
  },
  {
   "cell_type": "code",
   "execution_count": 368,
   "id": "valid-fiber",
   "metadata": {},
   "outputs": [],
   "source": [
    "def comparisions (type_of_comp):\n",
    "    \n",
    "    def great (a, b):\n",
    "        if a > b :\n",
    "            return a\n",
    "        else:\n",
    "            return b\n",
    "        \n",
    "    \n",
    "    if type_of_comp == \"greater\":\n",
    "        return great\n",
    "    \n",
    "    elif type_of_comp == \"lesser\":\n",
    "        return lambda x, y: x if x < y else y\n"
   ]
  },
  {
   "cell_type": "markdown",
   "id": "f90508d9",
   "metadata": {
    "lang": "en"
   },
   "source": [
    "## Recursion\n",
    "It is called recursive call (or recursion), to those functions that in their algorithm, refer to itself.\n",
    "\n",
    "Recursive calls are usually very useful in very specific cases, but due to their great feasibility of falling into infinite iterations, adequate preventive measures should be taken and only used when strictly necessary and there is no viable alternative way to solve the problem. avoiding recursion.\n",
    "\n",
    "Python supports recursive calls, allowing a function to call itself, just as it does when calling another function."
   ]
  },
  {
   "cell_type": "code",
   "execution_count": 377,
   "id": "laden-advocacy",
   "metadata": {},
   "outputs": [],
   "source": [
    "import time\n",
    "def countdown (number_of_times):\n",
    "    number_of_times -= 1\n",
    "    if number_of_times > 0:\n",
    "        time.sleep(1)\n",
    "        print(number_of_times)\n",
    "        countdown(number_of_times)\n",
    "    else:\n",
    "        print(\"TIME'S UP! \")"
   ]
  },
  {
   "cell_type": "code",
   "execution_count": 379,
   "id": "685406a0",
   "metadata": {},
   "outputs": [],
   "source": [
    "def countdown (number_of_times):\n",
    "    while number_of_times > 0:\n",
    "        number_of_times -= 1\n",
    "        print(number_of_times)\n",
    "    else:\n",
    "        print(\"TIME'S UP! \")"
   ]
  },
  {
   "cell_type": "code",
   "execution_count": 380,
   "id": "1b83e02e",
   "metadata": {},
   "outputs": [
    {
     "name": "stdout",
     "output_type": "stream",
     "text": [
      "4\n",
      "3\n",
      "2\n",
      "1\n",
      "0\n",
      "TIME'S UP! \n"
     ]
    }
   ],
   "source": [
    "countdown(5)"
   ]
  },
  {
   "cell_type": "code",
   "execution_count": 391,
   "id": "8ecbe284",
   "metadata": {},
   "outputs": [],
   "source": [
    "def user ():\n",
    "    \n",
    "    a_number = int(input(\"Please enter a number: \"))\n",
    "    \n",
    "    a_number_3 = a_number + 1\n",
    "    \n",
    "    if a_number > 5:\n",
    "        print(\"Number is greater than five\")\n",
    "    else:\n",
    "        user()"
   ]
  },
  {
   "cell_type": "code",
   "execution_count": 393,
   "id": "f0ab69a9",
   "metadata": {},
   "outputs": [
    {
     "name": "stdout",
     "output_type": "stream",
     "text": [
      "Please enter a number: 6\n",
      "Number is greater than five\n"
     ]
    }
   ],
   "source": [
    "user()"
   ]
  },
  {
   "cell_type": "code",
   "execution_count": 394,
   "id": "84913b14",
   "metadata": {},
   "outputs": [],
   "source": [
    "def addition ():\n",
    "    \"\"\"Description\n",
    "    Args: type, what they are\n",
    "    Returns: type, what it is\n",
    "    \"\"\"\n",
    "    pass"
   ]
  },
  {
   "cell_type": "markdown",
   "id": "4cb268d0",
   "metadata": {
    "lang": "en"
   },
   "source": [
    "## Summary\n",
    "It's your turn. What have we learned today?"
   ]
  },
  {
   "cell_type": "markdown",
   "id": "a8a29c7e",
   "metadata": {},
   "source": [
    "- built-in, user-defined, lambda\n",
    "- def + name (verbs) + arguements ():\n",
    "- inside: instructions/conditions/whatever\n",
    "- return: save the output\n",
    "- you can use `print()`, but it won't be saved, you'll just see it\n",
    "- `print()` is NoneType\n",
    "- Scope of the functions: variables inside of a function cannot be used outside\n",
    "- `*args` for variable number of arguments, `**kwargs` for dictionaries (keyword arguments)\n",
    "- recursiveness: it calls itself\n",
    "- you can return another function: defined or lambda\n",
    "- Careful with infinite recursion: make sure to have a stop\n",
    "- Different programming approaches: Imperative, OOP (object oriented programming)& Functional programming\n",
    "- Order of arguments/params matter: `arg`, `*args`, `**kwargs`\n",
    "- Return is optional\n",
    "- Arguemnts are also optional (can be)\n",
    "- Source code: inspect\n",
    "- Always define functions with docstrings: description of the function\n",
    "- Sorting with `key=lambda x: x[0]` \n",
    "- Default params: if you don't call them, the function still should work, otherwise, you can overwrite them. Example: `language=\"en\"`\n",
    "- `*args`: you can use more elements/arguments than specified"
   ]
  }
 ],
 "metadata": {
  "kernelspec": {
   "display_name": "ironhack",
   "language": "python",
   "name": "ironhack"
  },
  "language_info": {
   "codemirror_mode": {
    "name": "ipython",
    "version": 3
   },
   "file_extension": ".py",
   "mimetype": "text/x-python",
   "name": "python",
   "nbconvert_exporter": "python",
   "pygments_lexer": "ipython3",
   "version": "3.8.13"
  },
  "nbTranslate": {
   "displayLangs": [
    "en",
    "es"
   ],
   "hotkey": "alt-a",
   "langInMainMenu": true,
   "sourceLang": "es",
   "targetLang": "en",
   "useGoogleTranslate": true
  },
  "toc": {
   "base_numbering": 1,
   "nav_menu": {},
   "number_sections": true,
   "sideBar": true,
   "skip_h1_title": true,
   "title_cell": "Table of Contents",
   "title_sidebar": "Contents",
   "toc_cell": true,
   "toc_position": {
    "height": "calc(100% - 180px)",
    "left": "10px",
    "top": "150px",
    "width": "288px"
   },
   "toc_section_display": true,
   "toc_window_display": true
  }
 },
 "nbformat": 4,
 "nbformat_minor": 5
}
