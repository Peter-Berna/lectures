{
 "cells": [
  {
   "cell_type": "markdown",
   "id": "bfd2fc1f",
   "metadata": {
    "lang": "en"
   },
   "source": [
    "# Object-oriented programming"
   ]
  },
  {
   "cell_type": "markdown",
   "id": "linear-pierre",
   "metadata": {
    "toc": true
   },
   "source": [
    "<h1>Table of Contents<span class=\"tocSkip\"></span></h1>\n",
    "<div class=\"toc\"><ul class=\"toc-item\"><li><span><a href=\"#What-is-OOP---Object-Orient-Programming?\" data-toc-modified-id=\"What-is-OOP---Object-Orient-Programming?-1\"><span class=\"toc-item-num\">1&nbsp;&nbsp;</span>What is OOP - Object Orient Programming?</a></span><ul class=\"toc-item\"><li><span><a href=\"#Fundamental-Principles\" data-toc-modified-id=\"Fundamental-Principles-1.1\"><span class=\"toc-item-num\">1.1&nbsp;&nbsp;</span>Fundamental Principles</a></span></li></ul></li><li><span><a href=\"#Classes-and-instances\" data-toc-modified-id=\"Classes-and-instances-2\"><span class=\"toc-item-num\">2&nbsp;&nbsp;</span>Classes and instances</a></span></li><li><span><a href=\"#Definition-of-a-class\" data-toc-modified-id=\"Definition-of-a-class-3\"><span class=\"toc-item-num\">3&nbsp;&nbsp;</span>Definition of a class</a></span><ul class=\"toc-item\"><li><span><a href=\"#Instance-Attributes\" data-toc-modified-id=\"Instance-Attributes-3.1\"><span class=\"toc-item-num\">3.1&nbsp;&nbsp;</span>Instance Attributes</a></span><ul class=\"toc-item\"><li><span><a href=\"#Default-attributes\" data-toc-modified-id=\"Default-attributes-3.1.1\"><span class=\"toc-item-num\">3.1.1&nbsp;&nbsp;</span>Default attributes</a></span></li></ul></li><li><span><a href=\"#Instance-Methods\" data-toc-modified-id=\"Instance-Methods-3.2\"><span class=\"toc-item-num\">3.2&nbsp;&nbsp;</span>Instance Methods</a></span><ul class=\"toc-item\"><li><span><a href=\"#Python-is-built-with-objects\" data-toc-modified-id=\"Python-is-built-with-objects-3.2.1\"><span class=\"toc-item-num\">3.2.1&nbsp;&nbsp;</span>Python is built with objects</a></span></li></ul></li><li><span><a href=\"#Class-variables\" data-toc-modified-id=\"Class-variables-3.3\"><span class=\"toc-item-num\">3.3&nbsp;&nbsp;</span>Class variables</a></span></li><li><span><a href=\"#Methods-that-can-modify-attributes\" data-toc-modified-id=\"Methods-that-can-modify-attributes-3.4\"><span class=\"toc-item-num\">3.4&nbsp;&nbsp;</span>Methods that can modify attributes</a></span></li></ul></li><li><span><a href=\"#Before-continuing,-let's-take-a-breath-and-review-vocabulary\" data-toc-modified-id=\"Before-continuing,-let's-take-a-breath-and-review-vocabulary-4\"><span class=\"toc-item-num\">4&nbsp;&nbsp;</span>Before continuing, let's take a breath and review vocabulary</a></span><ul class=\"toc-item\"><li><ul class=\"toc-item\"><li><span><a href=\"#Easy-exercise\" data-toc-modified-id=\"Easy-exercise-4.0.1\"><span class=\"toc-item-num\">4.0.1&nbsp;&nbsp;</span>Easy exercise</a></span></li></ul></li></ul></li><li><span><a href=\"#Inheritance\" data-toc-modified-id=\"Inheritance-5\"><span class=\"toc-item-num\">5&nbsp;&nbsp;</span>Inheritance</a></span><ul class=\"toc-item\"><li><span><a href=\"#super()\" data-toc-modified-id=\"super()-5.1\"><span class=\"toc-item-num\">5.1&nbsp;&nbsp;</span>super()</a></span></li><li><span><a href=\"#Method-Resolution\" data-toc-modified-id=\"Method-Resolution-5.2\"><span class=\"toc-item-num\">5.2&nbsp;&nbsp;</span>Method Resolution</a></span></li></ul></li><li><span><a href=\"#Summary\" data-toc-modified-id=\"Summary-6\"><span class=\"toc-item-num\">6&nbsp;&nbsp;</span>Summary</a></span></li><li><span><a href=\"#Furthermaterials\" data-toc-modified-id=\"Furthermaterials-7\"><span class=\"toc-item-num\">7&nbsp;&nbsp;</span>Furthermaterials</a></span><ul class=\"toc-item\"><li><span><a href=\"#Methods-ADVANCED-@classmethod@staticmethod\" data-toc-modified-id=\"Methods-ADVANCED-@classmethod@staticmethod-7.1\"><span class=\"toc-item-num\">7.1&nbsp;&nbsp;</span>Methods <strong>ADVANCED</strong> @classmethod@staticmethod</a></span></li></ul></li></ul></div>"
   ]
  },
  {
   "cell_type": "markdown",
   "id": "44bbe54e",
   "metadata": {
    "lang": "en"
   },
   "source": [
    "## What is OOP - Object Orient Programming?"
   ]
  },
  {
   "cell_type": "markdown",
   "id": "da79b55b",
   "metadata": {
    "lang": "en"
   },
   "source": [
    "Object-oriented programming is a programming paradigm, that is, a programming style and technique, which goes beyond the implementation itself. This paradigm is based on the \"object\" concept, which can contain both data, in the form of fields called \"attributes\", and code for its manipulation in the form of procedures and functions, called \"methods\". Thanks to this, we can group everything under a single data type (the object \"class\"), which facilitates the modularity and reusability of the code.\n",
    "This has a strong implication in the design of IT solutions; Software engineering methodologies are based on object-oriented programming."
   ]
  },
  {
   "cell_type": "markdown",
   "id": "19380f68",
   "metadata": {
    "lang": "en"
   },
   "source": [
    "You can imagine objects as a new data type whose definition is given in a structure called class.\n",
    "Classes are often compared to cookie cutters and objects to the cookies themselves. While all cookies made from the same pan have the same shape, each one takes on individual attributes after baking. Things like color, texture, flavor... can be very different.\n",
    "In other words, the cookies share a manufacturing process and some attributes, but they are independent of each other and of the mold itself, and that makes each one unique.\n",
    "Extrapolating from the example, a class is just a script about how the objects that will be created with it should be."
   ]
  },
  {
   "cell_type": "markdown",
   "id": "fallen-brazil",
   "metadata": {},
   "source": [
    "![clases](https://files.realpython.com/media/Object-Oriented-Programming-OOP-in-Python-3_Watermarked.0d29780806d5.jpg)"
   ]
  },
  {
   "cell_type": "markdown",
   "id": "92d02d2c",
   "metadata": {
    "lang": "en"
   },
   "source": [
    "### Fundamental Principles"
   ]
  },
  {
   "cell_type": "markdown",
   "id": "0473322c",
   "metadata": {
    "lang": "en"
   },
   "source": [
    "1 - **Data abstraction**: Something we do naturally in our understanding of the world is the abstraction of concrete information in concepts or classes. For example, the concept of \"car\" evokes in us an idea of ​​a vehicle with four wheels, a steering wheel, an engine... Our car is a specific \"instance\" of that concept, and different from other cars, but we are capable of associating certain properties or characteristics to said concept above specific details. This ability to abstract a concept is essential for the development of human language and, of course, such a good idea has been transferred to the world of programming. In OOP, we call the abstract concept \"class\" and the realization of that concept \"object\". Your car is concrete, you can drive it, it is an object, an \"instance\" of the class \"car\".\n",
    "   \n",
    "   2 - **Encapsulation**: Each type of object contains its own information and can be manipulated in a particular way. A car can be driven and has a certain pressure in the wheels, a color, a certain level of gasoline, etc. With a GPS we can obtain our position coordinates and the batteries will have a certain charge. A dog barks, has a weight, an age. All those attributes and \"methods\" are \"encapsulated\" within the object, and are accessible only through a given object. The advantage is that we don't need to have, for example, a list with names, another with ages, another with weights... but rather a list of objects and each one contains, that is, encapsulates, its own information.\n",
    "   \n",
    "   3 - **Inheritance**: Some classes can specialize others. For this, the specialized class \"inherits\" the properties of the more general class, called the \"superclass\". For example, the \"Car\" and \"Truck\" classes can inherit from the \"Vehicle\" class. This is a way of reusing code, by being able to assume those common properties between several classes in a superior class. Python supports \"multiple inheritance\", so a class can be defined as a subclass of several classes from which it would inherit all its properties (attributes and methods) at once.\n",
    "   \n",
    "   4 - **Polymorphism**: A square can be drawn, a circle as well, just as any other shape can be drawn. \"Square\" and \"Circle\" would be subclasses of \"Shape\". The \"Shape\" superclass implements a draw() method, and both the \"Square\" subclass and the \"Circle\" subclass override this method to their particular case. So a function could accept an object of type \"Shape\" as a parameter and call the draw() method without knowing if the passed argument is a circle or a square. Each object knows its level of specialization and the concrete implementation of its methods. This ability to use superclass methods in code but resolve to subclass methods at run time is called \"Polymorphism\": the same variable can take different forms."
   ]
  },
  {
   "cell_type": "markdown",
   "id": "f325c4f9",
   "metadata": {
    "lang": "en"
   },
   "source": [
    "## Classes and instances"
   ]
  },
  {
   "cell_type": "markdown",
   "id": "f1423c0e",
   "metadata": {
    "lang": "en"
   },
   "source": [
    "A class is like an abstract type for objects that, in addition to storing values ​​called attributes, has associated a series of functions that we call methods. An instance of a class is the same as saying an object of that class. Instantiating a class refers to creating an object that belongs to that class.\n",
    "In Python, data types are classes, and any literal or variable of one of these types is an object that instantiates the type's class. For example: a = 2222 is equivalent to instantiating the PyLongObject class by assigning an internal attribute the value 2222. This is what happens at a low level, but we can consider that the variable a is of type int. We can know the type of any variable, that is, the class it instantiates, with the type() function, and the identifier of the instantiated object with the id() function."
   ]
  },
  {
   "cell_type": "code",
   "execution_count": null,
   "id": "absent-yorkshire",
   "metadata": {},
   "outputs": [],
   "source": [
    "a = 34"
   ]
  },
  {
   "cell_type": "code",
   "execution_count": null,
   "id": "73151d52",
   "metadata": {},
   "outputs": [],
   "source": [
    "type(a)"
   ]
  },
  {
   "cell_type": "code",
   "execution_count": null,
   "id": "886d45eb",
   "metadata": {},
   "outputs": [],
   "source": [
    "isinstance(a, str)"
   ]
  },
  {
   "cell_type": "markdown",
   "id": "e4bd50ab",
   "metadata": {
    "lang": "en"
   },
   "source": [
    "To know all the methods and attributes of a class we can use the dir() function both on an object and on the class."
   ]
  },
  {
   "cell_type": "code",
   "execution_count": null,
   "id": "945ed85d",
   "metadata": {},
   "outputs": [],
   "source": [
    "dir(str)"
   ]
  },
  {
   "cell_type": "markdown",
   "id": "032f8630",
   "metadata": {},
   "source": [
    "You don't need to master this, just know what the `.__something__` means. It's a dunder/magic methods. Meant for Python internally"
   ]
  },
  {
   "cell_type": "code",
   "execution_count": null,
   "id": "151ead58",
   "metadata": {},
   "outputs": [],
   "source": []
  },
  {
   "cell_type": "markdown",
   "id": "ffc3bd0b",
   "metadata": {
    "lang": "en"
   },
   "source": [
    "## Definition of a class"
   ]
  },
  {
   "cell_type": "markdown",
   "id": "8917064a",
   "metadata": {
    "lang": "en"
   },
   "source": [
    "We can define our own classes and indicate whether they inherit from others, what their internal attributes are, and what their methods are. Once the class is defined, it is possible to create objects from it. To create a class, simply group attributes and methods in the body of a **class** block.\n",
    "Imagine that you create software to manage a school, and you want to represent \"teachers\" in your Python code. Teachers will have some associated data (`attributes` in `class` jargon), and they will be able to *perform actions* through functions that we will call `methods` (again, `class` jargon).\n",
    "\n",
    "We could do it one by one:"
   ]
  },
  {
   "cell_type": "code",
   "execution_count": null,
   "id": "91a4e2a3",
   "metadata": {},
   "outputs": [],
   "source": [
    "teacher = {\n",
    "    \"name\": \"pau\",\n",
    "    \"fname\":\"peracaula\",\n",
    "    \"email\":\"pau.peracaula@ironhack.com\",\n",
    "    \"holidays\":30,\n",
    "    \"greetings\": lambda: print(\"hey hey hey\")\n",
    "}"
   ]
  },
  {
   "cell_type": "code",
   "execution_count": null,
   "id": "25ea1aa5",
   "metadata": {},
   "outputs": [],
   "source": [
    "list(teacher.keys())"
   ]
  },
  {
   "cell_type": "code",
   "execution_count": null,
   "id": "249dc831",
   "metadata": {},
   "outputs": [],
   "source": [
    "type(teacher[\"greetings\"])"
   ]
  },
  {
   "cell_type": "code",
   "execution_count": null,
   "id": "e2e3e02a",
   "metadata": {},
   "outputs": [],
   "source": [
    "teacher[\"email\"]"
   ]
  },
  {
   "cell_type": "code",
   "execution_count": null,
   "id": "00867e4a",
   "metadata": {},
   "outputs": [],
   "source": [
    "list(teacher.items())"
   ]
  },
  {
   "cell_type": "markdown",
   "id": "0acb0ad3",
   "metadata": {
    "lang": "en"
   },
   "source": [
    "I leave you [here](https://realpython.com/python-pep8/#naming-styles) a realpython article about the conventions for naming things (by things I mean variables, classes, functions... code tidbits )\n",
    "The Python user community has adopted a style guide that makes code easier to read and consistent between different user programs. This guide is not mandatory to follow, but it is highly recommended."
   ]
  },
  {
   "cell_type": "code",
   "execution_count": null,
   "id": "b769d7b2",
   "metadata": {},
   "outputs": [],
   "source": [
    "def function ():\n",
    "    pass"
   ]
  },
  {
   "cell_type": "code",
   "execution_count": null,
   "id": "308e58a7",
   "metadata": {},
   "outputs": [],
   "source": [
    "class Class ():\n",
    "    pass"
   ]
  },
  {
   "cell_type": "code",
   "execution_count": null,
   "id": "0fd7c5e7",
   "metadata": {},
   "outputs": [],
   "source": [
    "class Instructor():\n",
    "    pass"
   ]
  },
  {
   "cell_type": "code",
   "execution_count": null,
   "id": "69562181",
   "metadata": {},
   "outputs": [],
   "source": [
    "pau = Instructor()"
   ]
  },
  {
   "cell_type": "code",
   "execution_count": null,
   "id": "5d40bde4",
   "metadata": {},
   "outputs": [],
   "source": [
    "isinstance(pau, Instructor)"
   ]
  },
  {
   "cell_type": "code",
   "execution_count": null,
   "id": "71ba4f07",
   "metadata": {
    "scrolled": true
   },
   "outputs": [],
   "source": [
    "type(pau)"
   ]
  },
  {
   "cell_type": "code",
   "execution_count": null,
   "id": "b1442888",
   "metadata": {},
   "outputs": [],
   "source": [
    "print(dir(pau))"
   ]
  },
  {
   "cell_type": "markdown",
   "id": "bd8c2b87",
   "metadata": {
    "lang": "en"
   },
   "source": [
    "### Instance Attributes\n",
    "They contain data that is unique to each instance."
   ]
  },
  {
   "cell_type": "code",
   "execution_count": null,
   "id": "9bf5990f",
   "metadata": {},
   "outputs": [],
   "source": [
    "pau.name = \"pau\""
   ]
  },
  {
   "cell_type": "code",
   "execution_count": null,
   "id": "95780dce",
   "metadata": {},
   "outputs": [],
   "source": [
    "print(dir(pau))"
   ]
  },
  {
   "cell_type": "code",
   "execution_count": null,
   "id": "bcf9a824",
   "metadata": {},
   "outputs": [],
   "source": [
    "class Instructor ():\n",
    "    pass"
   ]
  },
  {
   "cell_type": "markdown",
   "id": "39ed3781",
   "metadata": {
    "lang": "en"
   },
   "source": [
    "Instead of doing it one by one, we can create these variables each time an object is instantiated with the special `__init__` method. This function defines all the actions that should be performed when we create a new object. The reason we have two underscores before and after the function name is to indicate that this function is internal to the object and should not be called from outside the object."
   ]
  },
  {
   "cell_type": "code",
   "execution_count": null,
   "id": "59bb3d8c",
   "metadata": {},
   "outputs": [],
   "source": [
    "pau.__dict__"
   ]
  },
  {
   "cell_type": "code",
   "execution_count": null,
   "id": "f5519683",
   "metadata": {},
   "outputs": [],
   "source": []
  },
  {
   "cell_type": "code",
   "execution_count": null,
   "id": "923ba2e8",
   "metadata": {},
   "outputs": [],
   "source": []
  },
  {
   "cell_type": "code",
   "execution_count": null,
   "id": "32197f99",
   "metadata": {},
   "outputs": [],
   "source": []
  },
  {
   "cell_type": "code",
   "execution_count": null,
   "id": "e80b01cb",
   "metadata": {},
   "outputs": [],
   "source": []
  },
  {
   "cell_type": "code",
   "execution_count": null,
   "id": "433527fc",
   "metadata": {},
   "outputs": [],
   "source": []
  },
  {
   "cell_type": "code",
   "execution_count": null,
   "id": "6b28d952",
   "metadata": {},
   "outputs": [],
   "source": []
  },
  {
   "cell_type": "code",
   "execution_count": null,
   "id": "280e9627",
   "metadata": {},
   "outputs": [],
   "source": []
  },
  {
   "cell_type": "code",
   "execution_count": 52,
   "id": "0f507599",
   "metadata": {},
   "outputs": [],
   "source": [
    "class Person ():\n",
    "    \n",
    "    def __init__(self, name, age, time_off):\n",
    "        self.name = name\n",
    "        self.age = age\n",
    "        self.time_off = time_off\n",
    "    \n",
    "    def saludo (self):\n",
    "        print(f\"Hello there! My name is {self.name}\")\n",
    "        \n",
    "    def work (self):\n",
    "        self.time_off -= 1\n",
    "        print(f\"{self.name} has now {self.time_off} days off available\")\n",
    "        return self.time_off     "
   ]
  },
  {
   "cell_type": "code",
   "execution_count": 71,
   "id": "63a09e0a",
   "metadata": {},
   "outputs": [],
   "source": [
    "a = \"a\"\n",
    "b = \"b\""
   ]
  },
  {
   "cell_type": "code",
   "execution_count": 77,
   "id": "a897bd15",
   "metadata": {},
   "outputs": [
    {
     "data": {
      "text/plain": [
       "'ab'"
      ]
     },
     "execution_count": 77,
     "metadata": {},
     "output_type": "execute_result"
    }
   ],
   "source": [
    "a + b"
   ]
  },
  {
   "cell_type": "code",
   "execution_count": null,
   "id": "0d4f9739",
   "metadata": {},
   "outputs": [],
   "source": []
  },
  {
   "cell_type": "code",
   "execution_count": null,
   "id": "4d8e6f7d",
   "metadata": {},
   "outputs": [],
   "source": []
  },
  {
   "cell_type": "code",
   "execution_count": 53,
   "id": "26f244af",
   "metadata": {},
   "outputs": [],
   "source": [
    "clara = Person(\"clara\", 28, 30)"
   ]
  },
  {
   "cell_type": "code",
   "execution_count": 54,
   "id": "462ba670",
   "metadata": {},
   "outputs": [
    {
     "data": {
      "text/plain": [
       "'clara'"
      ]
     },
     "execution_count": 54,
     "metadata": {},
     "output_type": "execute_result"
    }
   ],
   "source": [
    "clara.name"
   ]
  },
  {
   "cell_type": "code",
   "execution_count": 55,
   "id": "9ab3f85a",
   "metadata": {},
   "outputs": [
    {
     "data": {
      "text/plain": [
       "28"
      ]
     },
     "execution_count": 55,
     "metadata": {},
     "output_type": "execute_result"
    }
   ],
   "source": [
    "clara.age"
   ]
  },
  {
   "cell_type": "code",
   "execution_count": 56,
   "id": "b6e83371",
   "metadata": {},
   "outputs": [
    {
     "name": "stdout",
     "output_type": "stream",
     "text": [
      "Hello there! My name is clara\n"
     ]
    }
   ],
   "source": [
    "clara.saludo()"
   ]
  },
  {
   "cell_type": "code",
   "execution_count": 67,
   "id": "f864549e",
   "metadata": {},
   "outputs": [
    {
     "name": "stdout",
     "output_type": "stream",
     "text": [
      "clara has now 19 days off available\n"
     ]
    },
    {
     "data": {
      "text/plain": [
       "19"
      ]
     },
     "execution_count": 67,
     "metadata": {},
     "output_type": "execute_result"
    }
   ],
   "source": [
    "clara.work()"
   ]
  },
  {
   "cell_type": "code",
   "execution_count": 68,
   "id": "16ce1049",
   "metadata": {},
   "outputs": [
    {
     "data": {
      "text/plain": [
       "{'name': 'clara', 'age': 28, 'time_off': 19}"
      ]
     },
     "execution_count": 68,
     "metadata": {},
     "output_type": "execute_result"
    }
   ],
   "source": [
    "clara.__dict__"
   ]
  },
  {
   "cell_type": "code",
   "execution_count": 142,
   "id": "4769ce6a",
   "metadata": {},
   "outputs": [],
   "source": [
    " class Student ():\n",
    "        \n",
    "        def __init__ (self, age, grade, labs):\n",
    "            self.age = age\n",
    "            self.grade = grade\n",
    "            self.labs = 0\n",
    "            \n",
    "        def work (self):\n",
    "            print(f\"I'm working\")\n",
    "            \n",
    "        def labs (self, amount):\n",
    "            self.labs = self.labs + amount\n",
    "            return f\"{self.name} has delivered {self.labs} labs so far\"\n",
    "            "
   ]
  },
  {
   "cell_type": "code",
   "execution_count": 143,
   "id": "e429ba94",
   "metadata": {},
   "outputs": [],
   "source": [
    "dani = Student(20, 7, 80)"
   ]
  },
  {
   "cell_type": "code",
   "execution_count": 144,
   "id": "e6f1d72c",
   "metadata": {},
   "outputs": [
    {
     "data": {
      "text/plain": [
       "{'age': 20, 'grade': 7, 'labs': 0}"
      ]
     },
     "execution_count": 144,
     "metadata": {},
     "output_type": "execute_result"
    }
   ],
   "source": [
    "dani.__dict__"
   ]
  },
  {
   "cell_type": "code",
   "execution_count": 145,
   "id": "749ec1c9",
   "metadata": {},
   "outputs": [
    {
     "name": "stdout",
     "output_type": "stream",
     "text": [
      "I'm working\n"
     ]
    }
   ],
   "source": [
    "dani.work()"
   ]
  },
  {
   "cell_type": "code",
   "execution_count": 146,
   "id": "acb31b26",
   "metadata": {},
   "outputs": [
    {
     "ename": "TypeError",
     "evalue": "'int' object is not callable",
     "output_type": "error",
     "traceback": [
      "\u001b[0;31m---------------------------------------------------------------------------\u001b[0m",
      "\u001b[0;31mTypeError\u001b[0m                                 Traceback (most recent call last)",
      "Input \u001b[0;32mIn [146]\u001b[0m, in \u001b[0;36m<cell line: 1>\u001b[0;34m()\u001b[0m\n\u001b[0;32m----> 1\u001b[0m \u001b[43mdani\u001b[49m\u001b[38;5;241;43m.\u001b[39;49m\u001b[43mlabs\u001b[49m\u001b[43m(\u001b[49m\u001b[38;5;241;43m5\u001b[39;49m\u001b[43m)\u001b[49m\n",
      "\u001b[0;31mTypeError\u001b[0m: 'int' object is not callable"
     ]
    }
   ],
   "source": [
    "dani.labs(5)"
   ]
  },
  {
   "cell_type": "code",
   "execution_count": 147,
   "id": "02f4e958",
   "metadata": {},
   "outputs": [],
   "source": [
    " class Student2 ():\n",
    "        \n",
    "        def __init__ (hola, age, grade, labs):\n",
    "            hola.age = age\n",
    "            hola.grade = grade\n",
    "            hola.labs = 0\n",
    "            \n",
    "        def work (hola):\n",
    "            print(f\"I'm working\")\n",
    "            \n",
    "        def labs (hola, amount):\n",
    "            hola.labs = self.labs + amount\n",
    "            return f\"{hola.name} has delivered {hola.labs} labs so far\"\n",
    "            "
   ]
  },
  {
   "cell_type": "code",
   "execution_count": 148,
   "id": "d38f7fea",
   "metadata": {},
   "outputs": [],
   "source": [
    "fer = Student2(20, 20, 20)"
   ]
  },
  {
   "cell_type": "code",
   "execution_count": 150,
   "id": "8487ca74",
   "metadata": {},
   "outputs": [
    {
     "data": {
      "text/plain": [
       "{'age': 20, 'grade': 20, 'labs': 0}"
      ]
     },
     "execution_count": 150,
     "metadata": {},
     "output_type": "execute_result"
    }
   ],
   "source": [
    "fer.__dict__"
   ]
  },
  {
   "cell_type": "code",
   "execution_count": 152,
   "id": "4a5d27b7",
   "metadata": {
    "scrolled": true
   },
   "outputs": [
    {
     "data": {
      "text/plain": [
       "['__class__',\n",
       " '__delattr__',\n",
       " '__dict__',\n",
       " '__dir__',\n",
       " '__doc__',\n",
       " '__eq__',\n",
       " '__format__',\n",
       " '__ge__',\n",
       " '__getattribute__',\n",
       " '__gt__',\n",
       " '__hash__',\n",
       " '__init__',\n",
       " '__init_subclass__',\n",
       " '__le__',\n",
       " '__lt__',\n",
       " '__module__',\n",
       " '__ne__',\n",
       " '__new__',\n",
       " '__reduce__',\n",
       " '__reduce_ex__',\n",
       " '__repr__',\n",
       " '__setattr__',\n",
       " '__sizeof__',\n",
       " '__str__',\n",
       " '__subclasshook__',\n",
       " '__weakref__',\n",
       " 'age',\n",
       " 'grade',\n",
       " 'labs',\n",
       " 'work']"
      ]
     },
     "execution_count": 152,
     "metadata": {},
     "output_type": "execute_result"
    }
   ],
   "source": [
    "dir(fer)"
   ]
  },
  {
   "cell_type": "code",
   "execution_count": 153,
   "id": "4d80713c",
   "metadata": {},
   "outputs": [
    {
     "data": {
      "text/plain": [
       "['age', 'grade', 'labs', 'work']"
      ]
     },
     "execution_count": 153,
     "metadata": {},
     "output_type": "execute_result"
    }
   ],
   "source": [
    "[element for element in dir(fer) if \"_\" not in element]"
   ]
  },
  {
   "cell_type": "markdown",
   "id": "a9b11397",
   "metadata": {
    "lang": "en"
   },
   "source": [
    "What does self do? It indicates that the data we are entering is for the object we are creating."
   ]
  },
  {
   "cell_type": "code",
   "execution_count": null,
   "id": "ea2aef87",
   "metadata": {},
   "outputs": [],
   "source": []
  },
  {
   "cell_type": "markdown",
   "id": "8751e24c",
   "metadata": {
    "lang": "en"
   },
   "source": [
    "#### Default attributes\n",
    "\n",
    "We can initialize the attributes with a default value in case later, when creating the instances, the user or ourselves do not put anything in any of the attributes"
   ]
  },
  {
   "cell_type": "code",
   "execution_count": 160,
   "id": "446ad314",
   "metadata": {},
   "outputs": [],
   "source": [
    " class Student3 ():\n",
    "        \n",
    "        def __init__ (self, age=30):\n",
    "            self.age = 30\n",
    "            \n",
    "        def work (self):\n",
    "            print(f\"I'm working {self.age}\")\n",
    "            "
   ]
  },
  {
   "cell_type": "code",
   "execution_count": 161,
   "id": "88f07045",
   "metadata": {},
   "outputs": [],
   "source": [
    "hey = Student3()"
   ]
  },
  {
   "cell_type": "code",
   "execution_count": 162,
   "id": "28e8862c",
   "metadata": {
    "scrolled": true
   },
   "outputs": [
    {
     "data": {
      "text/plain": [
       "{'age': 30}"
      ]
     },
     "execution_count": 162,
     "metadata": {},
     "output_type": "execute_result"
    }
   ],
   "source": [
    "hey.__dict__"
   ]
  },
  {
   "cell_type": "code",
   "execution_count": 202,
   "id": "7516abc3",
   "metadata": {},
   "outputs": [],
   "source": [
    "class Instructor ():\n",
    "    \n",
    "    hola = \"hey\"\n",
    "    \n",
    "    def __init__ (self, age=30, *hobbies):\n",
    "        self.age = age\n",
    "        self.hobbies = []\n",
    "        \n",
    "    def hobby (self, *new_hobby):\n",
    "        a = lambda: f\"My hobbies are:  {', '.join([hobby for hobby in self.hobbies])}\"\n",
    "\n",
    "        if new_hobby:\n",
    "            self.hobbies.append(new_hobby[0])\n",
    "            print(self.__dict__)\n",
    "            print(f\"New hobby: {new_hobby[0]}, has been created\")\n",
    "            return a\n",
    "        if len(self.hobbies) == 0:\n",
    "            return f\"I don't have time for hobbies :(\"\n",
    "        else:\n",
    "            return a\n",
    "    \n",
    "    def pss (self):\n",
    "        return self.hola"
   ]
  },
  {
   "cell_type": "code",
   "execution_count": 203,
   "id": "6ce137aa",
   "metadata": {},
   "outputs": [],
   "source": [
    "fer_ = Instructor ()"
   ]
  },
  {
   "cell_type": "code",
   "execution_count": 204,
   "id": "15488107",
   "metadata": {},
   "outputs": [
    {
     "data": {
      "text/plain": [
       "\"I don't have time for hobbies :(\""
      ]
     },
     "execution_count": 204,
     "metadata": {},
     "output_type": "execute_result"
    }
   ],
   "source": [
    "fer_.hobby()"
   ]
  },
  {
   "cell_type": "code",
   "execution_count": 194,
   "id": "88bd0ee2",
   "metadata": {},
   "outputs": [
    {
     "data": {
      "text/plain": [
       "[]"
      ]
     },
     "execution_count": 194,
     "metadata": {},
     "output_type": "execute_result"
    }
   ],
   "source": [
    "fer_.hobbies"
   ]
  },
  {
   "cell_type": "code",
   "execution_count": 198,
   "id": "d89dd69b",
   "metadata": {},
   "outputs": [],
   "source": [
    "fer_.age = 23"
   ]
  },
  {
   "cell_type": "code",
   "execution_count": 201,
   "id": "86ea6f18",
   "metadata": {},
   "outputs": [
    {
     "data": {
      "text/plain": [
       "{'age': 23, 'hobbies': ['surf', 'reading', 'cooking']}"
      ]
     },
     "execution_count": 201,
     "metadata": {},
     "output_type": "execute_result"
    }
   ],
   "source": [
    "fer_.__dict__"
   ]
  },
  {
   "cell_type": "code",
   "execution_count": 190,
   "id": "74841db1",
   "metadata": {},
   "outputs": [
    {
     "ename": "AttributeError",
     "evalue": "'Teacher' object has no attribute 'pss'",
     "output_type": "error",
     "traceback": [
      "\u001b[0;31m---------------------------------------------------------------------------\u001b[0m",
      "\u001b[0;31mAttributeError\u001b[0m                            Traceback (most recent call last)",
      "Input \u001b[0;32mIn [190]\u001b[0m, in \u001b[0;36m<cell line: 1>\u001b[0;34m()\u001b[0m\n\u001b[0;32m----> 1\u001b[0m \u001b[43mnevan\u001b[49m\u001b[38;5;241;43m.\u001b[39;49m\u001b[43mpss\u001b[49m()\n",
      "\u001b[0;31mAttributeError\u001b[0m: 'Teacher' object has no attribute 'pss'"
     ]
    }
   ],
   "source": [
    "nevan.pss()"
   ]
  },
  {
   "cell_type": "code",
   "execution_count": 204,
   "id": "02a7f2c8",
   "metadata": {},
   "outputs": [],
   "source": [
    "nevan = Instructor()"
   ]
  },
  {
   "cell_type": "code",
   "execution_count": 207,
   "id": "79474270",
   "metadata": {},
   "outputs": [
    {
     "data": {
      "text/plain": [
       "'New hobby sightseeing has been created'"
      ]
     },
     "execution_count": 207,
     "metadata": {},
     "output_type": "execute_result"
    }
   ],
   "source": [
    "nevan.hobby(\"sightseeing\")"
   ]
  },
  {
   "cell_type": "code",
   "execution_count": 208,
   "id": "907f58a5",
   "metadata": {},
   "outputs": [
    {
     "data": {
      "text/plain": [
       "{'age': 30, 'hobbies': ['surfing', 'sightseeing']}"
      ]
     },
     "execution_count": 208,
     "metadata": {},
     "output_type": "execute_result"
    }
   ],
   "source": [
    "nevan.__dict__"
   ]
  },
  {
   "cell_type": "markdown",
   "id": "0ce1eb62",
   "metadata": {
    "lang": "en"
   },
   "source": [
    "### Instance Methods"
   ]
  },
  {
   "cell_type": "code",
   "execution_count": 213,
   "id": "painted-tribe",
   "metadata": {},
   "outputs": [
    {
     "data": {
      "text/plain": [
       "{'age': 30, 'hobbies': ['surfing', 'sightseeing']}"
      ]
     },
     "execution_count": 213,
     "metadata": {},
     "output_type": "execute_result"
    }
   ],
   "source": [
    "str_ = \"sd\"\n",
    "\n",
    "nevan.__dict__"
   ]
  },
  {
   "cell_type": "code",
   "execution_count": 214,
   "id": "002f3718",
   "metadata": {},
   "outputs": [
    {
     "ename": "AttributeError",
     "evalue": "'str' object has no attribute '__dict__'",
     "output_type": "error",
     "traceback": [
      "\u001b[0;31m---------------------------------------------------------------------------\u001b[0m",
      "\u001b[0;31mAttributeError\u001b[0m                            Traceback (most recent call last)",
      "Input \u001b[0;32mIn [214]\u001b[0m, in \u001b[0;36m<cell line: 1>\u001b[0;34m()\u001b[0m\n\u001b[0;32m----> 1\u001b[0m \u001b[43mstr_\u001b[49m\u001b[38;5;241;43m.\u001b[39;49m\u001b[38;5;18;43m__dict__\u001b[39;49m\n",
      "\u001b[0;31mAttributeError\u001b[0m: 'str' object has no attribute '__dict__'"
     ]
    }
   ],
   "source": [
    "str_.__dict__"
   ]
  },
  {
   "cell_type": "markdown",
   "id": "3b7de249",
   "metadata": {
    "lang": "en"
   },
   "source": [
    "They are functions within the classes that will save us a lot of time"
   ]
  },
  {
   "cell_type": "code",
   "execution_count": null,
   "id": "7003e67b",
   "metadata": {},
   "outputs": [],
   "source": []
  },
  {
   "cell_type": "markdown",
   "id": "c584762d",
   "metadata": {
    "lang": "en"
   },
   "source": [
    "**watch out** 👀\n",
    "If we modify a class and add attributes or methods, we have to recreate the object so that it is initialized with those attributes and has those methods."
   ]
  },
  {
   "cell_type": "markdown",
   "id": "b6c1dbd0",
   "metadata": {
    "lang": "en"
   },
   "source": [
    "#### Python is built with objects\n",
    "In Python primitive data types are also objects that have associated attributes and methods."
   ]
  },
  {
   "cell_type": "code",
   "execution_count": null,
   "id": "approved-transsexual",
   "metadata": {},
   "outputs": [],
   "source": []
  },
  {
   "cell_type": "markdown",
   "id": "e6af3733",
   "metadata": {
    "lang": "en"
   },
   "source": [
    "Whenever we do .something, it is because we are calling the methods of that class"
   ]
  },
  {
   "cell_type": "code",
   "execution_count": null,
   "id": "b629d802",
   "metadata": {},
   "outputs": [],
   "source": []
  },
  {
   "cell_type": "markdown",
   "id": "2b7c965f",
   "metadata": {
    "lang": "en"
   },
   "source": [
    "### Class variables"
   ]
  },
  {
   "cell_type": "code",
   "execution_count": null,
   "id": "e55d6664",
   "metadata": {},
   "outputs": [],
   "source": []
  },
  {
   "cell_type": "markdown",
   "id": "0f2e376c",
   "metadata": {
    "lang": "en"
   },
   "source": [
    "**Also watch out** <br>\n",
    "If I want to modify a class variable for all the objects already created and not have to go one by one.\n",
    "Although there is a but with this.... 🙃"
   ]
  },
  {
   "cell_type": "code",
   "execution_count": null,
   "id": "8933998b",
   "metadata": {},
   "outputs": [],
   "source": []
  },
  {
   "cell_type": "markdown",
   "id": "2a28ab69",
   "metadata": {
    "lang": "en"
   },
   "source": [
    "In general, class attributes should not be used, except to store constant values."
   ]
  },
  {
   "cell_type": "markdown",
   "id": "85eab9f4",
   "metadata": {
    "lang": "en"
   },
   "source": [
    "### Methods that can modify attributes"
   ]
  },
  {
   "cell_type": "code",
   "execution_count": null,
   "id": "reported-guyana",
   "metadata": {},
   "outputs": [],
   "source": []
  },
  {
   "cell_type": "markdown",
   "id": "9ad7387e",
   "metadata": {
    "lang": "en"
   },
   "source": [
    "**Exercise**\n",
    "\n",
    "Create a class `Circle` with:\n",
    "- radius as instance/object variable\n",
    "- pi (math.pi) as class variable\n",
    "- a compute_area(self) method that returns the area of ​​the \"circle\" object"
   ]
  },
  {
   "cell_type": "code",
   "execution_count": null,
   "id": "focused-invite",
   "metadata": {},
   "outputs": [],
   "source": [
    "import math"
   ]
  },
  {
   "cell_type": "code",
   "execution_count": null,
   "id": "655b7a4b",
   "metadata": {},
   "outputs": [],
   "source": []
  },
  {
   "cell_type": "markdown",
   "id": "87cccad5",
   "metadata": {
    "lang": "en"
   },
   "source": [
    "## Before continuing, let's take a breath and review vocabulary"
   ]
  },
  {
   "cell_type": "markdown",
   "id": "9170647e",
   "metadata": {
    "lang": "en"
   },
   "source": [
    "- **Class**: The cookie mold. With the class we can generate instances or objects.\n",
    "- **Object**: The cookie we generated. Each object has different characteristics but under the same pattern as the class.\n",
    "- **Instance**: Same as object, it's a synonym :) hehe\n",
    "- **Attribute**: The different ingredients of each object. They are defined as arguments in the __init__ function but are saved as data when we instantiate an object by calling the class"
   ]
  },
  {
   "cell_type": "markdown",
   "id": "b9edf159",
   "metadata": {},
   "source": [
    "```python\n",
    "pau = Instructor(\"Pau\", \"Peracaula\")\n",
    "```"
   ]
  },
  {
   "cell_type": "markdown",
   "id": "05499ca5",
   "metadata": {},
   "source": [
    "We can say that the attributes are the DATA, in this case \"Pau\" and \"Peracaula\".\n",
    "They are variables\n",
    "\n",
    "\n",
    "* **Class attribute**: Variables that belong to the class and that will be the same in all objects.\n",
    "* **Object/instance attribute**: The attributes explained above, specific to each object.\n",
    "* **Method**: Functions that do things"
   ]
  },
  {
   "cell_type": "code",
   "execution_count": null,
   "id": "dcddc710",
   "metadata": {},
   "outputs": [],
   "source": []
  },
  {
   "cell_type": "markdown",
   "id": "8772dea7",
   "metadata": {
    "lang": "en"
   },
   "source": [
    "#### Easy exercise\n",
    "Kata --> https://www.codewars.com/kata/53f0f358b9cb376eca001079/train/python\n",
    "\n",
    "You can ignore the \"object\" for now"
   ]
  },
  {
   "cell_type": "code",
   "execution_count": null,
   "id": "b45a2f58",
   "metadata": {},
   "outputs": [],
   "source": []
  },
  {
   "cell_type": "markdown",
   "id": "pressed-proof",
   "metadata": {},
   "source": [
    "## Inheritance"
   ]
  },
  {
   "cell_type": "markdown",
   "id": "1f62f02d",
   "metadata": {
    "lang": "en"
   },
   "source": [
    "Inheritance allows defining new classes from existing classes. The class from which it is inherited is called the \"parent class\"/\"superclass\"/\"parent\". The class that it inherits is called a \"child class\" or \"subclass.\"\n",
    "The child class \"inherits\" all the properties of the parent class and allows us to override methods and attributes or add new ones. The fundamental advantage that the inheritance mechanism brings to programming is the ability to reuse code. Thus, a set of classes that share attributes and methods can inherit from a superclass where those methods and attributes are defined."
   ]
  },
  {
   "cell_type": "markdown",
   "id": "wanted-works",
   "metadata": {},
   "source": [
    "\n",
    "![miniyoda](https://media.giphy.com/media/j0eRJzyW7XjMpu1Pqd/giphy.gif)"
   ]
  },
  {
   "cell_type": "code",
   "execution_count": 247,
   "id": "unsigned-butterfly",
   "metadata": {},
   "outputs": [],
   "source": []
  },
  {
   "cell_type": "code",
   "execution_count": 116,
   "id": "9ecaea8e",
   "metadata": {},
   "outputs": [],
   "source": [
    "class Ins ():\n",
    "        \n",
    "    def __init__ (self, holidays=30):\n",
    "        self.holidays = holidays\n",
    "    \n",
    "    def number_holidays (self):\n",
    "        return f\"I have {self.holidays} days off\"\n"
   ]
  },
  {
   "cell_type": "code",
   "execution_count": null,
   "id": "e4d2cbfb",
   "metadata": {},
   "outputs": [],
   "source": [
    "#if empty, copy"
   ]
  },
  {
   "cell_type": "code",
   "execution_count": 128,
   "id": "5eccf295",
   "metadata": {},
   "outputs": [],
   "source": [
    "class Teacher (Ins):\n",
    "    def __init__(self, *type_class):\n",
    "        self.type_class = type_class\n",
    "        super().__init__()\n",
    "        "
   ]
  },
  {
   "cell_type": "code",
   "execution_count": null,
   "id": "a61a8bfa",
   "metadata": {},
   "outputs": [],
   "source": [
    "#if specified, super covers for the ones you're not using"
   ]
  },
  {
   "cell_type": "code",
   "execution_count": 129,
   "id": "071512aa",
   "metadata": {},
   "outputs": [],
   "source": [
    "nevan = Teacher()"
   ]
  },
  {
   "cell_type": "code",
   "execution_count": 130,
   "id": "d5d40601",
   "metadata": {},
   "outputs": [
    {
     "data": {
      "text/plain": [
       "{'type_class': (), 'holidays': 30}"
      ]
     },
     "execution_count": 130,
     "metadata": {},
     "output_type": "execute_result"
    }
   ],
   "source": [
    "nevan.__dict__"
   ]
  },
  {
   "cell_type": "code",
   "execution_count": 131,
   "id": "427e0707",
   "metadata": {},
   "outputs": [
    {
     "data": {
      "text/plain": [
       "30"
      ]
     },
     "execution_count": 131,
     "metadata": {},
     "output_type": "execute_result"
    }
   ],
   "source": [
    "nevan.holidays"
   ]
  },
  {
   "cell_type": "code",
   "execution_count": 132,
   "id": "398b4d25",
   "metadata": {},
   "outputs": [
    {
     "data": {
      "text/plain": [
       "'I have 30 days off'"
      ]
     },
     "execution_count": 132,
     "metadata": {},
     "output_type": "execute_result"
    }
   ],
   "source": [
    "nevan.number_holidays()"
   ]
  },
  {
   "cell_type": "code",
   "execution_count": null,
   "id": "8537e5b9",
   "metadata": {},
   "outputs": [],
   "source": []
  },
  {
   "cell_type": "code",
   "execution_count": null,
   "id": "d31e9e04",
   "metadata": {},
   "outputs": [],
   "source": []
  },
  {
   "cell_type": "code",
   "execution_count": null,
   "id": "5adadec4",
   "metadata": {},
   "outputs": [],
   "source": []
  },
  {
   "cell_type": "code",
   "execution_count": 10,
   "id": "8d5616bc",
   "metadata": {},
   "outputs": [],
   "source": [
    "aleix = Ins()"
   ]
  },
  {
   "cell_type": "code",
   "execution_count": 11,
   "id": "d2834098",
   "metadata": {},
   "outputs": [
    {
     "data": {
      "text/plain": [
       "{'holidays': 30}"
      ]
     },
     "execution_count": 11,
     "metadata": {},
     "output_type": "execute_result"
    }
   ],
   "source": [
    "aleix.__dict__"
   ]
  },
  {
   "cell_type": "code",
   "execution_count": 2,
   "id": "41b454d0",
   "metadata": {},
   "outputs": [],
   "source": [
    "class Nueva2 (Instructor):\n",
    "    \n",
    "    def __init__(self, holidays=0):\n",
    "        #super().__init__()\n",
    "        self.holidays = holidays\n",
    "        \n",
    "    def greets (self):\n",
    "        print(f\"Hello I take no holidays, and my name is {self.holidays}\")"
   ]
  },
  {
   "cell_type": "code",
   "execution_count": 3,
   "id": "6ec61c3a",
   "metadata": {},
   "outputs": [
    {
     "data": {
      "text/plain": [
       "{'holidays': 0}"
      ]
     },
     "execution_count": 3,
     "metadata": {},
     "output_type": "execute_result"
    }
   ],
   "source": [
    "hey10 = Nueva2()\n",
    "hey10.__dict__"
   ]
  },
  {
   "cell_type": "code",
   "execution_count": 4,
   "id": "89ce12ff",
   "metadata": {},
   "outputs": [
    {
     "data": {
      "text/plain": [
       "'hey'"
      ]
     },
     "execution_count": 4,
     "metadata": {},
     "output_type": "execute_result"
    }
   ],
   "source": [
    "hey10.pss()"
   ]
  },
  {
   "cell_type": "code",
   "execution_count": 5,
   "id": "12a62449",
   "metadata": {},
   "outputs": [
    {
     "name": "stdout",
     "output_type": "stream",
     "text": [
      "Hello I take no holidays, and my name is 0\n"
     ]
    }
   ],
   "source": [
    "hey10.greets()"
   ]
  },
  {
   "cell_type": "markdown",
   "id": "37b8b77c",
   "metadata": {
    "lang": "en"
   },
   "source": [
    "- Method defined in the `parent`, but not in the `child`\n",
    "\n",
    "In this case, the child will inherit the parent's method, it will work exactly the same and there is no need to override it.\n",
    "\n",
    "- Method defined in `Child`, but not in Parent\n",
    "\n",
    "The method only belongs to the child. Inheritance is one way.\n",
    "\n",
    "- Method set to \"both\".\n",
    "\n",
    "\n",
    "However, if we want to use the original method and just add something else to it, we can always refer to the original (parent) method with `super()`. The `super()` function allows us to call any method of the parent class. Just remember to call it on the new define and make sure you get all the attributes it needs 😉 ."
   ]
  },
  {
   "cell_type": "markdown",
   "id": "willing-workshop",
   "metadata": {},
   "source": [
    "### super()"
   ]
  },
  {
   "cell_type": "code",
   "execution_count": null,
   "id": "dc954ca0",
   "metadata": {},
   "outputs": [],
   "source": []
  },
  {
   "cell_type": "markdown",
   "id": "2ca7486c",
   "metadata": {
    "lang": "en"
   },
   "source": [
    "### Method Resolution"
   ]
  },
  {
   "cell_type": "code",
   "execution_count": null,
   "id": "metallic-differential",
   "metadata": {},
   "outputs": [],
   "source": [
    "print(help(Lead))"
   ]
  },
  {
   "cell_type": "markdown",
   "id": "e26f2fec",
   "metadata": {
    "lang": "en"
   },
   "source": [
    "## Summary\n",
    "Now it's your turn: What have we learned? 🤯\n"
   ]
  },
  {
   "cell_type": "code",
   "execution_count": null,
   "id": "5ff2996d",
   "metadata": {},
   "outputs": [],
   "source": []
  },
  {
   "cell_type": "markdown",
   "id": "7d8865bd",
   "metadata": {
    "lang": "en"
   },
   "source": [
    "## Furthermaterials\n",
    "\n",
    "- Youtube Tutorial by [Corey Schafer](https://www.youtube.com/watch?v=ZDa-Z5JzLYM)\n",
    "- [Real Python](https://docs.hektorprofe.net/python/object-oriented-programming/classes-and-objects/)\n",
    "- [Interesting read](https://medium.com/@shaistha24/functional-programming-vs-object-oriented-programming-oop-which-is-better-82172e53a526) --> OOP vs Functional programming"
   ]
  },
  {
   "cell_type": "markdown",
   "id": "92bd3cce",
   "metadata": {
    "lang": "en"
   },
   "source": [
    "### Methods **ADVANCED** @classmethod@staticmethod\n",
    "* [Real Python - @classmethod/@stathicmethod](https://realpython.com/instance-class-and-static-methods-demystified/). Advanced Python with decorators (we'll mention them later)"
   ]
  }
 ],
 "metadata": {
  "kernelspec": {
   "display_name": "Python 3 (ipykernel)",
   "language": "python",
   "name": "python3"
  },
  "language_info": {
   "codemirror_mode": {
    "name": "ipython",
    "version": 3
   },
   "file_extension": ".py",
   "mimetype": "text/x-python",
   "name": "python",
   "nbconvert_exporter": "python",
   "pygments_lexer": "ipython3",
   "version": "3.9.12"
  },
  "nbTranslate": {
   "displayLangs": [
    "en",
    "es"
   ],
   "hotkey": "alt-a",
   "langInMainMenu": true,
   "sourceLang": "es",
   "targetLang": "en",
   "useGoogleTranslate": true
  },
  "toc": {
   "base_numbering": 1,
   "nav_menu": {},
   "number_sections": true,
   "sideBar": true,
   "skip_h1_title": true,
   "title_cell": "Table of Contents",
   "title_sidebar": "Contents",
   "toc_cell": true,
   "toc_position": {
    "height": "calc(100% - 180px)",
    "left": "10px",
    "top": "150px",
    "width": "288px"
   },
   "toc_section_display": true,
   "toc_window_display": true
  }
 },
 "nbformat": 4,
 "nbformat_minor": 5
}
