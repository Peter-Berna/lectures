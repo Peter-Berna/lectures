{
 "cells": [
  {
   "cell_type": "markdown",
   "id": "34ba5667",
   "metadata": {},
   "source": [
    "# Katas"
   ]
  },
  {
   "cell_type": "markdown",
   "id": "8f4aeee0",
   "metadata": {},
   "source": [
    "[Counting in the amazon](https://www.codewars.com/kata/55b95c76e08bd5eef100001e/train/python)"
   ]
  },
  {
   "cell_type": "code",
   "execution_count": null,
   "id": "b864d62f",
   "metadata": {},
   "outputs": [],
   "source": []
  }
 ],
 "metadata": {
  "kernelspec": {
   "display_name": "ironhack",
   "language": "python",
   "name": "ironhack"
  },
  "language_info": {
   "codemirror_mode": {
    "name": "ipython",
    "version": 3
   },
   "file_extension": ".py",
   "mimetype": "text/x-python",
   "name": "python",
   "nbconvert_exporter": "python",
   "pygments_lexer": "ipython3",
   "version": "3.8.13"
  },
  "nbTranslate": {
   "displayLangs": [
    "en",
    "es"
   ],
   "hotkey": "alt-a",
   "langInMainMenu": true,
   "sourceLang": "es",
   "targetLang": "en",
   "useGoogleTranslate": true
  },
  "toc": {
   "base_numbering": 1,
   "nav_menu": {},
   "number_sections": true,
   "sideBar": true,
   "skip_h1_title": false,
   "title_cell": "Table of Contents",
   "title_sidebar": "Contents",
   "toc_cell": false,
   "toc_position": {},
   "toc_section_display": true,
   "toc_window_display": true
  }
 },
 "nbformat": 4,
 "nbformat_minor": 5
}
